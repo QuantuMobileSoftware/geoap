{
 "cells": [
  {
   "cell_type": "code",
   "execution_count": 3,
   "metadata": {},
   "outputs": [],
   "source": [
    "import json\n",
    "import os\n",
    "import numpy as np\n",
    "# from osgeo import gdal, gdalconst, osr\n",
    "from pathlib import Path\n",
    "import time\n",
    "import rasterio\n",
    "import requests\n",
    "from requests.auth import HTTPBasicAuth\n",
    "import shutil\n",
    "import zipfile\n",
    "\n",
    "REQUEST_ID = 0\n",
    "ORDER_ID = None"
   ]
  },
  {
   "cell_type": "code",
   "execution_count": 4,
   "metadata": {},
   "outputs": [],
   "source": [
    "ORDER_ID = 'c3d06c17-bb29-49dd-be3a-a2616b2ecb26'"
   ]
  },
  {
   "cell_type": "code",
   "execution_count": 5,
   "metadata": {},
   "outputs": [],
   "source": [
    "NAME = \"Planet Downloader\"\n",
    "NB_USER = os.getenv('NB_USER')\n",
    "BASE = os.getcwd()\n",
    "DATA_DIR = Path(f\"/home/{NB_USER}/work\")\n",
    "\n",
    "API_KEY_DIR = DATA_DIR / \".secret/planet_api_key.json\"\n",
    "LOAD_DIR = DATA_DIR / \"satellite_imagery\"\n",
    "RESULTS_DIR = DATA_DIR / \"results/planet_downloader\"\n",
    "PBD_DIR = DATA_DIR / \"notebooks/planet_downloader\"\n",
    "\n",
    "# API_KEY = os.path.join(DATA_DIR, \".secret/planet_api_key.json\")\n",
    "# LOAD_DIR = os.path.join(DATA_DIR, \"satellite_imagery\")\n",
    "# RESULTS_DIR = os.path.join(DATA_DIR, \"results/planet_downloader\")\n",
    "# PBD_DIR = os.path.join(DATA_DIR, \"notebooks/planet_downloader\")\n",
    "\n",
    "RESULTS_DIR.mkdir(parents=True, exist_ok=True)\n",
    "# os.makedirs(RESULTS_DIR, exist_ok=True)"
   ]
  },
  {
   "cell_type": "code",
   "execution_count": 6,
   "metadata": {},
   "outputs": [],
   "source": [
    "orders_url = 'https://api.planet.com/compute/ops/orders/v2'"
   ]
  },
  {
   "cell_type": "code",
   "execution_count": 7,
   "metadata": {},
   "outputs": [],
   "source": [
    "# API Key stored in a planet_api_key.json file\n",
    "with open(API_KEY_DIR, 'r') as f:\n",
    "    PLANET_API_KEY = json.load(f)['api_key']"
   ]
  },
  {
   "cell_type": "code",
   "execution_count": 8,
   "metadata": {},
   "outputs": [],
   "source": [
    "auth = HTTPBasicAuth(PLANET_API_KEY, '')"
   ]
  },
  {
   "cell_type": "code",
   "execution_count": 9,
   "metadata": {},
   "outputs": [],
   "source": [
    "def get_order_url():\n",
    "    return f'{orders_url}/{ORDER_ID}'"
   ]
  },
  {
   "cell_type": "code",
   "execution_count": 10,
   "metadata": {},
   "outputs": [],
   "source": [
    "def poll_for_success(order_url, auth):\n",
    "    count = 0\n",
    "    while True:\n",
    "        r = requests.get(order_url, auth=auth)\n",
    "        response = r.json()\n",
    "        state = response['state']\n",
    "        print(state)\n",
    "        end_states = ['success', 'failed', 'partial']\n",
    "        if state in end_states:\n",
    "            break\n",
    "        time.sleep(10)"
   ]
  },
  {
   "cell_type": "code",
   "execution_count": 11,
   "metadata": {},
   "outputs": [],
   "source": [
    "def download_results(response, overwrite=False):\n",
    "    load_path = LOAD_DIR / response['name']\n",
    "    load_path.mkdir(parents=True, exist_ok=True)\n",
    "    \n",
    "    results_urls = [r['location'] for r in response['_links']['results']]\n",
    "    results_names = [r['name'] for r in results]\n",
    "    print('{} items to download'.format(len(results_urls)))\n",
    "    \n",
    "    for url, name in zip(results_urls, results_names):\n",
    "        path = load_path / name\n",
    "        \n",
    "        if overwrite or not path.exists():\n",
    "            print('downloading {} to {}'.format(name, path))\n",
    "            r = requests.get(url, allow_redirects=True)\n",
    "            path.parent.mkdir(parents=True, exist_ok=True)\n",
    "            open(path, 'wb').write(r.content)\n",
    "        else:\n",
    "            print('{} already exists, skipping {}'.format(path, name))"
   ]
  },
  {
   "cell_type": "code",
   "execution_count": 12,
   "metadata": {},
   "outputs": [],
   "source": [
    "def get_ziped_files_from_manifest(response):\n",
    "    load_path = LOAD_DIR / response['name'] / ORDER_ID\n",
    "    with open(load_path / 'manifest.json') as f:\n",
    "        files = json.load(f)['files']\n",
    "    ziped_files = []    \n",
    "    for file in files:\n",
    "        if file['media_type'] == 'application/zip':\n",
    "            file_path = load_path / file['path']\n",
    "            ziped_files.append(file_path)\n",
    "    return ziped_files"
   ]
  },
  {
   "cell_type": "code",
   "execution_count": 14,
   "metadata": {},
   "outputs": [],
   "source": [
    "def unzip_results(ziped_files):\n",
    "    for zip_file in ziped_files:\n",
    "        with zipfile.ZipFile(zip_file, 'r') as zip_ref:\n",
    "            zip_ref.extractall(path=LOAD_DIR / f'response[\"name\"]')"
   ]
  },
  {
   "cell_type": "code",
   "execution_count": 15,
   "metadata": {},
   "outputs": [],
   "source": [
    "def get_tif_files_list_from_manifest(response):\n",
    "    load_path = LOAD_DIR / response['name']\n",
    "    with open(load_path / 'manifest.json') as f:\n",
    "        files = json.load(f)['files']\n",
    "    tif_files = []\n",
    "    for file in files:\n",
    "        if file['path'].endswith('.tif'):\n",
    "            tif_files.append(load_path / file['path'])\n",
    "    return tif_files"
   ]
  },
  {
   "cell_type": "code",
   "execution_count": 16,
   "metadata": {},
   "outputs": [],
   "source": [
    "def copy_files_to_results(response, tif_files_list):\n",
    "    (RESULTS_DIR / str(REQUEST_ID)).mkdir(parents=True, exist_ok=True)\n",
    "    for file in tif_files_list:\n",
    "        dst_file = RESULTS_DIR / str(REQUEST_ID) / file.name\n",
    "        shutil.copy(file, dst_file)\n",
    "        print(f'{file.name} was copied to {dst_file}')\n",
    "    print('all images were copied')"
   ]
  },
  {
   "cell_type": "code",
   "execution_count": 17,
   "metadata": {},
   "outputs": [],
   "source": [
    "order_url = get_order_url()"
   ]
  },
  {
   "cell_type": "code",
   "execution_count": 18,
   "metadata": {},
   "outputs": [
    {
     "data": {
      "text/plain": [
       "'https://api.planet.com/compute/ops/orders/v2/c3d06c17-bb29-49dd-be3a-a2616b2ecb26'"
      ]
     },
     "execution_count": 18,
     "metadata": {},
     "output_type": "execute_result"
    }
   ],
   "source": [
    "order_url"
   ]
  },
  {
   "cell_type": "code",
   "execution_count": 19,
   "metadata": {},
   "outputs": [
    {
     "name": "stdout",
     "output_type": "stream",
     "text": [
      "success\n"
     ]
    }
   ],
   "source": [
    "poll_for_success(order_url, auth)"
   ]
  },
  {
   "cell_type": "code",
   "execution_count": 20,
   "metadata": {},
   "outputs": [],
   "source": [
    "r = requests.get(order_url, auth=auth)\n",
    "response = r.json()\n",
    "results = response['_links']['results']"
   ]
  },
  {
   "cell_type": "code",
   "execution_count": 21,
   "metadata": {},
   "outputs": [
    {
     "data": {
      "text/plain": [
       "{'_links': {'_self': 'https://api.planet.com/compute/ops/orders/v2/c3d06c17-bb29-49dd-be3a-a2616b2ecb26',\n",
       "  'results': [{'delivery': 'success',\n",
       "    'expires_at': '2022-04-11T09:26:26.487Z',\n",
       "    'location': 'https://api.planet.com/compute/ops/download/?token=eyJhbGciOiJIUzUxMiIsInR5cCI6IkpXVCJ9.eyJleHAiOjE2NDk2NjkxODYsInN1YiI6InpwM0RzRDRkWXpOVWE4Y0NxaFJpdmZNeW4rcGZnTkNaNG5NV0RXMk81dmhKTUFzZHUxRzYycEhBdmg3eW15L3BaWkw5aGUxU3hIVEtITGJ6SXRjUWtnPT0iLCJ0b2tlbl90eXBlIjoiZG93bmxvYWQtYXNzZXQtc3RhY2siLCJhb2kiOiIiLCJhc3NldHMiOlt7Iml0ZW1fdHlwZSI6IiIsImFzc2V0X3R5cGUiOiIiLCJpdGVtX2lkIjoiIn1dLCJ1cmwiOiJodHRwczovL3N0b3JhZ2UuZ29vZ2xlYXBpcy5jb20vY29tcHV0ZS1vcmRlcnMtbGl2ZS9jM2QwNmMxNy1iYjI5LTQ5ZGQtYmUzYS1hMjYxNmIyZWNiMjYvbWFuaWZlc3QuanNvbj9FeHBpcmVzPTE2NDk2NjkxODZcdTAwMjZHb29nbGVBY2Nlc3NJZD1jb21wdXRlLWdjcy1zdmNhY2MlNDBwbGFuZXQtY29tcHV0ZS1wcm9kLmlhbS5nc2VydmljZWFjY291bnQuY29tXHUwMDI2U2lnbmF0dXJlPUJFNVJSR0dVaTFYcmd1QTlkZno0TlhVbnR5QVhsRzdzaWg4NHBMSXVpdmtzdW16TGpYcTJmQ3luMWNCWkJ3eVNIR2pTTXJxV2ZTM1BiZWx5ejR1eDFMY0hPSlJRTHNwMkpOZ0dFc3FVJTJCcTRvME9ncEQwSkpEQlZHb3ZuNjcwcWxuMDNCS2Z4eHFZcXlTUXVQaCUyRnpudUdHSkhiRG1rN0J1WVd5akElMkJLZzdDZktkNXY2YUd5b1pqUUJzeExtUG5oQ3k4aDRUS3d5aG1xOXZmbktlVGUlMkZrQW5RYTBwZ1ZoeDZyRjF3MVJVT1NnZ1l4WWFBVzk5eVhJdHU5QlpFUHBoNUZMVHVFTHAlMkJ2U09WeUlqdm1ZdEZHWTRXN3d6ZGV0OUEyV09jMFpDTUczQVNYS21aJTJCZllHTnJUOGtxVVV4aFJtTXhNR2dsUDNwb1c0TWVyVmhodHAzZyUzRCUzRCIsInNvdXJjZSI6Ik9yZGVycyBTZXJ2aWNlIn0.prYxFJ42F3LFtL_2JgHNED5ylkDXLKPBl4gUiJs3OHFhleG5k61EVz9xHBhQcFtAIqCNoFpsDzK98CBthOM2_Q',\n",
       "    'name': 'c3d06c17-bb29-49dd-be3a-a2616b2ecb26/manifest.json'},\n",
       "   {'delivery': 'success',\n",
       "    'expires_at': '2022-04-11T09:26:26.490Z',\n",
       "    'location': 'https://api.planet.com/compute/ops/download/?token=eyJhbGciOiJIUzUxMiIsInR5cCI6IkpXVCJ9.eyJleHAiOjE2NDk2NjkxODYsInN1YiI6IkZVQXVlQ2hFMFRPUCtMaXY1bkhaRCtLbERmNnM2MFh0L3NrcTVEVGlOZUFrWk5kNGE3K2l2RDUvdEhIZGEzR0k2NEV2VEp6bzhCZXBJRlB6dWh5SlpnPT0iLCJ0b2tlbl90eXBlIjoiZG93bmxvYWQtYXNzZXQtc3RhY2siLCJhb2kiOiIiLCJhc3NldHMiOlt7Iml0ZW1fdHlwZSI6IiIsImFzc2V0X3R5cGUiOiIiLCJpdGVtX2lkIjoiIn1dLCJ1cmwiOiJodHRwczovL3N0b3JhZ2UuZ29vZ2xlYXBpcy5jb20vY29tcHV0ZS1vcmRlcnMtbGl2ZS9jM2QwNmMxNy1iYjI5LTQ5ZGQtYmUzYS1hMjYxNmIyZWNiMjYvTWFyaXVwb2xfMjEtMDMtMjAyMl9TU19za3lzYXRjb2xsZWN0X2FuYWx5dGljX3NyX3VkbTIuemlwP0V4cGlyZXM9MTY0OTY2OTE4Nlx1MDAyNkdvb2dsZUFjY2Vzc0lkPWNvbXB1dGUtZ2NzLXN2Y2FjYyU0MHBsYW5ldC1jb21wdXRlLXByb2QuaWFtLmdzZXJ2aWNlYWNjb3VudC5jb21cdTAwMjZTaWduYXR1cmU9TXZSVFFwM0MzSTklMkJFVjNsWFo0TnI5NFNCZU9EaGk1OWJJSSUyQjVnNzhsRlM5ODh6Umtid1JBdU1QczVubVdzTG5EN2NLWmJpYnBwUmdWUm92WG9INnJMRGhvUm1VZWxXV2ZhVE1wRXdDQlNNV2k2JTJGbyUyRjc3WUsxbFQ5U1FxN3hocjFCSDNLJTJGOGtSdVFhTGElMkZHQmlreU43R2JVZHpDVTNoa0hqalBHQkNWT0JzemJnYzVQZUlRRkVlbkxvc3VQN250VzN6QnhmdkhaM280NFpRUGFvNmZHdmhyTVA4VU5zJTJGMGR1Q1dqYVNRTFV0aHMwYjNmUmdaTWRwZnZOdmVpRCUyQmtxbFlzb3F1SE9zM3hxZHolMkZpUSUyRmRwWDBadHlLU1NrSGRYV3hnSjhGOWF6NXRkQ1R3UHFNalRzRk9OWXMwamlNWVJtc0FsMlBsNWtzT1JlcWx0RzJmJTJCdyUzRCUzRCIsInNvdXJjZSI6Ik9yZGVycyBTZXJ2aWNlIn0.gTrgNSwAf92S87MI5wbzVUlR9dyVWk3kbYlYRnsWlQni31BrosnHBHjKzTe-MQLuBKxyvah1H6R8JrhCWJnHUw',\n",
       "    'name': 'c3d06c17-bb29-49dd-be3a-a2616b2ecb26/Mariupol_21-03-2022_SS_skysatcollect_analytic_sr_udm2.zip'}]},\n",
       " 'created_on': '2022-03-22T08:53:46.799Z',\n",
       " 'delivery': {'archive_filename': '{{name}}_skysatcollect_analytic_sr_udm2.zip',\n",
       "  'archive_type': 'zip',\n",
       "  'single_archive': True},\n",
       " 'error_hints': [],\n",
       " 'id': 'c3d06c17-bb29-49dd-be3a-a2616b2ecb26',\n",
       " 'last_message': 'Manifest delivery completed',\n",
       " 'last_modified': '2022-03-22T09:46:52.695Z',\n",
       " 'name': 'Mariupol_21-03-2022_SS',\n",
       " 'notifications': {'email': True},\n",
       " 'order_type': 'partial',\n",
       " 'products': [{'item_ids': ['20220321_112949_ssc11_u0005',\n",
       "    '20220321_112949_ssc11_u0004'],\n",
       "   'item_type': 'SkySatCollect',\n",
       "   'product_bundle': 'analytic_sr_udm2'}],\n",
       " 'state': 'success'}"
      ]
     },
     "execution_count": 21,
     "metadata": {},
     "output_type": "execute_result"
    }
   ],
   "source": [
    "response"
   ]
  },
  {
   "cell_type": "code",
   "execution_count": 55,
   "metadata": {},
   "outputs": [],
   "source": [
    "order_name = response['name']"
   ]
  },
  {
   "cell_type": "code",
   "execution_count": 56,
   "metadata": {},
   "outputs": [
    {
     "data": {
      "text/plain": [
       "'Mariupol_21-03-2022_SS'"
      ]
     },
     "execution_count": 56,
     "metadata": {},
     "output_type": "execute_result"
    }
   ],
   "source": [
    "order_name"
   ]
  },
  {
   "cell_type": "code",
   "execution_count": 57,
   "metadata": {},
   "outputs": [
    {
     "data": {
      "text/plain": [
       "[{'delivery': 'success',\n",
       "  'expires_at': '2022-04-08T18:12:46.019Z',\n",
       "  'location': 'https://api.planet.com/compute/ops/download/?token=eyJhbGciOiJIUzUxMiIsInR5cCI6IkpXVCJ9.eyJleHAiOjE2NDk0NDE1NjYsInN1YiI6IjZjSHFFQVpFZHNDWTZ5UVoweld3b1BmaEZ4OGRlWlJxMnhkOWFpWExHRnE3MjhaVjhhU2tZTWkxdGwxQ3B6TEpyS3Q0MTNkRWQrVGpOT3htYnRNU1ZBPT0iLCJ0b2tlbl90eXBlIjoiZG93bmxvYWQtYXNzZXQtc3RhY2siLCJhb2kiOiIiLCJhc3NldHMiOlt7Iml0ZW1fdHlwZSI6IiIsImFzc2V0X3R5cGUiOiIiLCJpdGVtX2lkIjoiIn1dLCJ1cmwiOiJodHRwczovL3N0b3JhZ2UuZ29vZ2xlYXBpcy5jb20vY29tcHV0ZS1vcmRlcnMtbGl2ZS9jM2QwNmMxNy1iYjI5LTQ5ZGQtYmUzYS1hMjYxNmIyZWNiMjYvbWFuaWZlc3QuanNvbj9FeHBpcmVzPTE2NDk0NDE1NjZcdTAwMjZHb29nbGVBY2Nlc3NJZD1jb21wdXRlLWdjcy1zdmNhY2MlNDBwbGFuZXQtY29tcHV0ZS1wcm9kLmlhbS5nc2VydmljZWFjY291bnQuY29tXHUwMDI2U2lnbmF0dXJlPWpEeTZVOEE5SVRoOXpQVlJjVzlzdUFKNjFVR1BKdEZuOTN5cU4zMjQ1dGRSRGdoZzdMTTFDdkp3bUtQNERNZVFIZ1Vkd1RXNnZURVRCT2tHUVVzN2IlMkJPZ21nZE9ZTSUyRld0ZkJ6V084SHV6SW51WHJiSzh4dndzMVFDJTJGaURFeFF6JTJCUldXd01TdXc1TlV4aUhnSzlhMEkzM1J2TDhzT2g1UHd6cmQ2MiUyQkdEbVFLVGZtbmZwTk1teHVPTE94a0RITEZzT1MzR3FzSTBnV3NZOTBMTHVNVGRIJTJGZzklMkJYbnMlMkJFSEtEbkljUk45dHZsUFRkVzFYQTZkMk43UndVSVhXTUkxTUN6UTU5SVA0WmdvTU5Cb3EyaHdKbnNJRzhMOSUyQjR5bGhSdk9LS0tjV2UxQkpyams3T21FS2F6WnROdDU2emtOVXElMkZ5QXI5NGRhektwV2x0TGVLWWpnJTNEJTNEIiwic291cmNlIjoiT3JkZXJzIFNlcnZpY2UifQ.KdsjALcN06D-Vl5OeUJpXwEztyz8gTKZaTV9Pj2d-t57th0FybeS8nTcdYP5gMnlfzjtTCcAQSj2vCwia_6mxg',\n",
       "  'name': 'c3d06c17-bb29-49dd-be3a-a2616b2ecb26/manifest.json'},\n",
       " {'delivery': 'success',\n",
       "  'expires_at': '2022-04-08T18:12:46.022Z',\n",
       "  'location': 'https://api.planet.com/compute/ops/download/?token=eyJhbGciOiJIUzUxMiIsInR5cCI6IkpXVCJ9.eyJleHAiOjE2NDk0NDE1NjYsInN1YiI6IlAvNng2TStJQjdKOERyTkduYTh1aHJndjFhazNlZDFDZmtNcDNBaEVaeVc3NXBpc0lrbXVLbTV0dXN2dndObHNOdHhHd3p4MERERXh4MHhhemJTUU9RPT0iLCJ0b2tlbl90eXBlIjoiZG93bmxvYWQtYXNzZXQtc3RhY2siLCJhb2kiOiIiLCJhc3NldHMiOlt7Iml0ZW1fdHlwZSI6IiIsImFzc2V0X3R5cGUiOiIiLCJpdGVtX2lkIjoiIn1dLCJ1cmwiOiJodHRwczovL3N0b3JhZ2UuZ29vZ2xlYXBpcy5jb20vY29tcHV0ZS1vcmRlcnMtbGl2ZS9jM2QwNmMxNy1iYjI5LTQ5ZGQtYmUzYS1hMjYxNmIyZWNiMjYvTWFyaXVwb2xfMjEtMDMtMjAyMl9TU19za3lzYXRjb2xsZWN0X2FuYWx5dGljX3NyX3VkbTIuemlwP0V4cGlyZXM9MTY0OTQ0MTU2Nlx1MDAyNkdvb2dsZUFjY2Vzc0lkPWNvbXB1dGUtZ2NzLXN2Y2FjYyU0MHBsYW5ldC1jb21wdXRlLXByb2QuaWFtLmdzZXJ2aWNlYWNjb3VudC5jb21cdTAwMjZTaWduYXR1cmU9QkZtNzlKOFNVbUlWbFU0bEwlMkY2dzBmY0xveHc0JTJCOFpxSnppMSUyQlJoJTJGTFl6SGc0TGVZMFNzTFo5Z1ZMJTJCODlIR0RBTklUam1oVzRXdyUyQnBjdEx0MXlDYXZSMFpzNzJPMXQ3VUZTMmhWajkzMjhra29QR0dmTjlrR0NNaW1DYlU0SzhBJTJCWTlBWnZvUTVlbGtHQVpoSmh5RWo0dXVURzdHZEN1Z1hsWGslMkZiRkxnZE84UXl1cyUyRllQUFJ4YVlkZ0hvVFJzT1BrRUpOTzc4YVlxQVo1YVlqR1FHbU1vS3FoOGRWV2NndjlBY1E1RGsxSUVGTzJqZGl6ZG8wMzg4Rm4lMkZRZ0R3WG9vJTJCeHdlSVlXZU5rbGklMkI5ZCUyRk13V2ZVcUZpQyUyRlRETWkybnJpdks3d080SzJmcGUlMkZMR2g4Y21UdWFrWjhiYnMxNFRZdjZhWiUyQjhlRkFFVUJycyUyQlVYZyUzRCUzRCIsInNvdXJjZSI6Ik9yZGVycyBTZXJ2aWNlIn0.WWXAGJAh4rXJmlGklIMthqSyU_QnJ8RF6HmpnaQIzTBozy0VfB2jTI2Ib0HLPZr6rMW0kSLG9ggeLn8OJS1Xxg',\n",
       "  'name': 'c3d06c17-bb29-49dd-be3a-a2616b2ecb26/Mariupol_21-03-2022_SS_skysatcollect_analytic_sr_udm2.zip'}]"
      ]
     },
     "execution_count": 57,
     "metadata": {},
     "output_type": "execute_result"
    }
   ],
   "source": [
    "results"
   ]
  },
  {
   "cell_type": "code",
   "execution_count": null,
   "metadata": {},
   "outputs": [],
   "source": []
  },
  {
   "cell_type": "code",
   "execution_count": 58,
   "metadata": {},
   "outputs": [
    {
     "name": "stdout",
     "output_type": "stream",
     "text": [
      "2 items to download\n",
      "downloading c3d06c17-bb29-49dd-be3a-a2616b2ecb26/manifest.json to /home/jovyan/work/satellite_imagery/Mariupol_21-03-2022_SS/c3d06c17-bb29-49dd-be3a-a2616b2ecb26/manifest.json\n",
      "downloading c3d06c17-bb29-49dd-be3a-a2616b2ecb26/Mariupol_21-03-2022_SS_skysatcollect_analytic_sr_udm2.zip to /home/jovyan/work/satellite_imagery/Mariupol_21-03-2022_SS/c3d06c17-bb29-49dd-be3a-a2616b2ecb26/Mariupol_21-03-2022_SS_skysatcollect_analytic_sr_udm2.zip\n"
     ]
    }
   ],
   "source": [
    "download_results(response)"
   ]
  },
  {
   "cell_type": "code",
   "execution_count": 76,
   "metadata": {},
   "outputs": [],
   "source": [
    "ziped_files_list = get_ziped_files_from_manifest(response)"
   ]
  },
  {
   "cell_type": "code",
   "execution_count": 77,
   "metadata": {},
   "outputs": [
    {
     "data": {
      "text/plain": [
       "[PosixPath('/home/jovyan/work/satellite_imagery/Mariupol_21-03-2022_SS/c3d06c17-bb29-49dd-be3a-a2616b2ecb26/Mariupol_21-03-2022_SS_skysatcollect_analytic_sr_udm2.zip')]"
      ]
     },
     "execution_count": 77,
     "metadata": {},
     "output_type": "execute_result"
    }
   ],
   "source": [
    "ziped_files_list"
   ]
  },
  {
   "cell_type": "code",
   "execution_count": 79,
   "metadata": {},
   "outputs": [],
   "source": [
    "unzip_results(ziped_files_list)"
   ]
  },
  {
   "cell_type": "code",
   "execution_count": 89,
   "metadata": {},
   "outputs": [],
   "source": [
    "tif_files_list = get_tif_files_list_from_manifest(response)"
   ]
  },
  {
   "cell_type": "code",
   "execution_count": 90,
   "metadata": {},
   "outputs": [
    {
     "data": {
      "text/plain": [
       "[PosixPath('/home/jovyan/work/satellite_imagery/Mariupol_21-03-2022_SS/files/SkySatCollect/20220321_112949_ssc11_u0005/analytic_sr_udm2/20220321_112949_ssc11_u0005_analytic_SR.tif'),\n",
       " PosixPath('/home/jovyan/work/satellite_imagery/Mariupol_21-03-2022_SS/files/SkySatCollect/20220321_112949_ssc11_u0005/analytic_sr_udm2/20220321_112949_ssc11_u0005_analytic_udm.tif'),\n",
       " PosixPath('/home/jovyan/work/satellite_imagery/Mariupol_21-03-2022_SS/files/SkySatCollect/20220321_112949_ssc11_u0005/analytic_sr_udm2/20220321_112949_ssc11_u0005_udm2.tif'),\n",
       " PosixPath('/home/jovyan/work/satellite_imagery/Mariupol_21-03-2022_SS/files/SkySatCollect/20220321_112949_ssc11_u0004/analytic_sr_udm2/20220321_112949_ssc11_u0004_analytic_SR.tif'),\n",
       " PosixPath('/home/jovyan/work/satellite_imagery/Mariupol_21-03-2022_SS/files/SkySatCollect/20220321_112949_ssc11_u0004/analytic_sr_udm2/20220321_112949_ssc11_u0004_analytic_udm.tif'),\n",
       " PosixPath('/home/jovyan/work/satellite_imagery/Mariupol_21-03-2022_SS/files/SkySatCollect/20220321_112949_ssc11_u0004/analytic_sr_udm2/20220321_112949_ssc11_u0004_udm2.tif')]"
      ]
     },
     "execution_count": 90,
     "metadata": {},
     "output_type": "execute_result"
    }
   ],
   "source": [
    "tif_files_list"
   ]
  },
  {
   "cell_type": "code",
   "execution_count": 102,
   "metadata": {},
   "outputs": [
    {
     "name": "stdout",
     "output_type": "stream",
     "text": [
      "20220321_112949_ssc11_u0005_analytic_SR.tif was copied to /home/jovyan/work/results/planet_downloader/0/20220321_112949_ssc11_u0005_analytic_SR.tif\n",
      "20220321_112949_ssc11_u0005_analytic_udm.tif was copied to /home/jovyan/work/results/planet_downloader/0/20220321_112949_ssc11_u0005_analytic_udm.tif\n",
      "20220321_112949_ssc11_u0005_udm2.tif was copied to /home/jovyan/work/results/planet_downloader/0/20220321_112949_ssc11_u0005_udm2.tif\n",
      "20220321_112949_ssc11_u0004_analytic_SR.tif was copied to /home/jovyan/work/results/planet_downloader/0/20220321_112949_ssc11_u0004_analytic_SR.tif\n",
      "20220321_112949_ssc11_u0004_analytic_udm.tif was copied to /home/jovyan/work/results/planet_downloader/0/20220321_112949_ssc11_u0004_analytic_udm.tif\n",
      "20220321_112949_ssc11_u0004_udm2.tif was copied to /home/jovyan/work/results/planet_downloader/0/20220321_112949_ssc11_u0004_udm2.tif\n"
     ]
    }
   ],
   "source": [
    "copy_files_to_results(response, tif_files_list)"
   ]
  },
  {
   "cell_type": "code",
   "execution_count": 4,
   "metadata": {},
   "outputs": [],
   "source": [
    "raster_path = '/home/jovyan/work/satellite_imagery/Mariupol_21-03-2022_SS/files/SkySatCollect/20220321_112949_ssc11_u0005/analytic_sr_udm2/20220321_112949_ssc11_u0005_analytic_SR.tif'\n",
    "raster_dst = '/home/jovyan/work/satellite_imagery/Mariupol_21-03-2022_SS/files/SkySatCollect/20220321_112949_ssc11_u0005/rgb.tif'"
   ]
  },
  {
   "cell_type": "code",
   "execution_count": 13,
   "metadata": {},
   "outputs": [
    {
     "name": "stdout",
     "output_type": "stream",
     "text": [
      "{'driver': 'GTiff', 'dtype': 'uint16', 'nodata': 0.0, 'width': 13021, 'height': 13751, 'count': 4, 'crs': CRS.from_epsg(32637), 'transform': Affine(0.5, 0.0, 387392.5,\n",
      "       0.0, -0.5, 5216186.5), 'blockxsize': 512, 'blockysize': 512, 'tiled': True, 'compress': 'lzw', 'interleave': 'pixel', 'photometric': 'RGB'}\n"
     ]
    }
   ],
   "source": [
    "with rasterio.open(raster_path, \"r\") as src:\n",
    "#     bands, rows, columns =  array.shape\n",
    "#     for i in range(0, bands):\n",
    "#         color = src.colorinterp[i]\n",
    "#         print(color)\n",
    "#     array = src.read()\n",
    "#     print(array.shape)\n",
    "    profile = src.profile\n",
    "    profile['photometric'] = \"RGB\"\n",
    "    print(profile)\n",
    "    with rasterio.open(raster_dst, 'w', **profile) as dst:\n",
    "        dst.write(src.read())\n",
    "#     meta = src.meta\n",
    "#     print(meta)"
   ]
  },
  {
   "cell_type": "code",
   "execution_count": 4,
   "metadata": {},
   "outputs": [
    {
     "data": {
      "text/plain": [
       "(4, 13751, 13021)"
      ]
     },
     "execution_count": 4,
     "metadata": {},
     "output_type": "execute_result"
    }
   ],
   "source": []
  },
  {
   "cell_type": "code",
   "execution_count": null,
   "metadata": {},
   "outputs": [],
   "source": [
    "def image_normalization(raster_path):\n",
    "    with rasterio.open(raster_path, \"r\") as src:\n",
    "        array = src.read()\n",
    "        print(array.shape)"
   ]
  },
  {
   "cell_type": "code",
   "execution_count": 14,
   "metadata": {},
   "outputs": [
    {
     "ename": "NameError",
     "evalue": "name 'gdal' is not defined",
     "output_type": "error",
     "traceback": [
      "\u001B[0;31m---------------------------------------------------------------------------\u001B[0m",
      "\u001B[0;31mNameError\u001B[0m                                 Traceback (most recent call last)",
      "\u001B[0;32m<ipython-input-14-db1de274f2bf>\u001B[0m in \u001B[0;36m<module>\u001B[0;34m\u001B[0m\n\u001B[0;32m----> 1\u001B[0;31m \u001B[0mdataset\u001B[0m \u001B[0;34m=\u001B[0m \u001B[0mgdal\u001B[0m\u001B[0;34m.\u001B[0m\u001B[0mOpen\u001B[0m\u001B[0;34m(\u001B[0m\u001B[0mraster_path\u001B[0m\u001B[0;34m)\u001B[0m\u001B[0;34m\u001B[0m\u001B[0;34m\u001B[0m\u001B[0m\n\u001B[0m\u001B[1;32m      2\u001B[0m \u001B[0mproj\u001B[0m \u001B[0;34m=\u001B[0m \u001B[0mosr\u001B[0m\u001B[0;34m.\u001B[0m\u001B[0mSpatialReference\u001B[0m\u001B[0;34m(\u001B[0m\u001B[0mwkt\u001B[0m\u001B[0;34m=\u001B[0m\u001B[0mdataset\u001B[0m\u001B[0;34m.\u001B[0m\u001B[0mGetProjection\u001B[0m\u001B[0;34m(\u001B[0m\u001B[0;34m)\u001B[0m\u001B[0;34m)\u001B[0m\u001B[0;34m\u001B[0m\u001B[0;34m\u001B[0m\u001B[0m\n\u001B[1;32m      3\u001B[0m \u001B[0mprint\u001B[0m\u001B[0;34m(\u001B[0m\u001B[0mproj\u001B[0m\u001B[0;34m)\u001B[0m\u001B[0;34m\u001B[0m\u001B[0;34m\u001B[0m\u001B[0m\n\u001B[1;32m      4\u001B[0m \u001B[0mepsg\u001B[0m \u001B[0;34m=\u001B[0m \u001B[0mproj\u001B[0m\u001B[0;34m.\u001B[0m\u001B[0mGetAttrValue\u001B[0m\u001B[0;34m(\u001B[0m\u001B[0;34m\"AUTHORITY\"\u001B[0m\u001B[0;34m,\u001B[0m \u001B[0;36m1\u001B[0m\u001B[0;34m)\u001B[0m\u001B[0;34m\u001B[0m\u001B[0;34m\u001B[0m\u001B[0m\n\u001B[1;32m      5\u001B[0m \u001B[0;32mif\u001B[0m \u001B[0mepsg\u001B[0m \u001B[0;34m!=\u001B[0m \u001B[0;34m\"3857\"\u001B[0m\u001B[0;34m:\u001B[0m\u001B[0;34m\u001B[0m\u001B[0;34m\u001B[0m\u001B[0m\n",
      "\u001B[0;31mNameError\u001B[0m: name 'gdal' is not defined"
     ]
    }
   ],
   "source": [
    "dataset = gdal.Open(raster_path)\n",
    "proj = osr.SpatialReference(wkt=dataset.GetProjection())\n",
    "print(proj)\n",
    "epsg = proj.GetAttrValue(\"AUTHORITY\", 1)\n",
    "if epsg != \"3857\":\n",
    "    gdal.Warp(raster_dst,\n",
    "              dataset,\n",
    "              resampleAlg=gdalconst.GRIORA_Cubic,\n",
    "              outputType=gdal.GDT_Byte,\n",
    "              dstSRS=\"EPSG:3857\",\n",
    "              dstNodata=0\n",
    "              )"
   ]
  },
  {
   "cell_type": "code",
   "execution_count": 8,
   "metadata": {},
   "outputs": [],
   "source": [
    "def transform_raster(raster_path, new_raster_path, date=None, request_id=0):\n",
    "    with rasterio.open(raster_path, \"r\") as src:\n",
    "        updated_meta = src.profile.copy()\n",
    "        updated_meta.update({\"count\": 3,\n",
    "                             \"bands\": 3,\n",
    "                             \"nodata\": 0,\n",
    "                             \"dtype\": 'uint8'})\n",
    "        with rasterio.open(new_raster_path, \"w\", **updated_meta) as dst:\n",
    "            rgb = [3, 2, 1]\n",
    "            dst.update_tags(start_date=date, end_date=date, request_id=request_id)\n",
    "            for num, band in enumerate(range(1,4)):\n",
    "                cur_band = src.read(rgb[num])\n",
    "                max_ = np.percentile(cur_band, 98)\n",
    "                cur_band[cur_band > max_] = max_\n",
    "                cur_band = (cur_band / max_) * 255\n",
    "                cur_band = cur_band.astype(np.uint8)\n",
    "                dst.write(cur_band, band)"
   ]
  },
  {
   "cell_type": "code",
   "execution_count": 11,
   "metadata": {},
   "outputs": [],
   "source": [
    "transform_raster(raster_path, raster_dst)"
   ]
  },
  {
   "cell_type": "code",
   "execution_count": null,
   "metadata": {},
   "outputs": [],
   "source": []
  }
 ],
 "metadata": {
  "kernelspec": {
   "display_name": "Python 3",
   "language": "python",
   "name": "python3"
  },
  "language_info": {
   "codemirror_mode": {
    "name": "ipython",
    "version": 3
   },
   "file_extension": ".py",
   "mimetype": "text/x-python",
   "name": "python",
   "nbconvert_exporter": "python",
   "pygments_lexer": "ipython3",
   "version": "3.8.6"
  }
 },
 "nbformat": 4,
 "nbformat_minor": 4
}