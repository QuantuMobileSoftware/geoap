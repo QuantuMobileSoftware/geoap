{
 "cells": [
  {
   "cell_type": "code",
   "execution_count": null,
   "metadata": {},
   "outputs": [],
   "source": [
    "from pathlib import Path\n",
    "import os\n",
    "\n",
    "from planet_processing import PlanetOrderDownloader as PoD, PlanetVisualizer as Pv\n",
    "\n",
    "REQUEST_ID = 0\n",
    "ORDER_ID = None"
   ]
  },
  {
   "cell_type": "code",
   "execution_count": null,
   "metadata": {},
   "outputs": [],
   "source": [
    "NAME = \"Planet Downloader\"\n",
    "NB_USER = os.getenv('NB_USER')\n",
    "DATA_DIR = Path(f\"/home/{NB_USER}/work\")\n",
    "\n",
    "API_KEY_DIR = DATA_DIR / \".secret/planet_api_key.json\"\n",
    "LOAD_DIR = DATA_DIR / \"satellite_imagery\"\n",
    "RESULTS_DIR = DATA_DIR / \"results/planet_downloader\" / str(REQUEST_ID)\n",
    "TEMP_DATA_DIR = DATA_DIR / 'temp'\n",
    "\n",
    "TEMP_DIR = TEMP_DATA_DIR / ORDER_ID\n",
    "RESULTS_DIR.mkdir(parents=True, exist_ok=True)\n",
    "TEMP_DIR.mkdir(parents=True, exist_ok=True)"
   ]
  },
  {
   "cell_type": "code",
   "execution_count": null,
   "metadata": {},
   "outputs": [],
   "source": [
    "downloader = PoD(API_KEY_DIR, LOAD_DIR)\n",
    "downloader.set_order_id(ORDER_ID)\n",
    "downloader.poll_for_success()\n",
    "order_name, order_archive_name = downloader.get_order_info()\n",
    "downloader.download_order_archive()"
   ]
  },
  {
   "cell_type": "code",
   "execution_count": null,
   "metadata": {},
   "outputs": [],
   "source": [
    "archive_path = LOAD_DIR / ORDER_ID / order_archive_name"
   ]
  },
  {
   "cell_type": "code",
   "execution_count": null,
   "metadata": {},
   "outputs": [],
   "source": [
    "visualizer = Pv(archive_path, TEMP_DIR, RESULTS_DIR, delete_temp=False)\n",
    "visualizer.set_max_timeout_for_img_generation(2000)\n",
    "output_path = visualizer.run()"
   ]
  },
  {
   "cell_type": "code",
   "execution_count": null,
   "metadata": {},
   "outputs": [],
   "source": []
  }
 ],
 "metadata": {
  "kernelspec": {
   "display_name": "Python 3",
   "language": "python",
   "name": "python3"
  },
  "language_info": {
   "codemirror_mode": {
    "name": "ipython",
    "version": 3
   },
   "file_extension": ".py",
   "mimetype": "text/x-python",
   "name": "python",
   "nbconvert_exporter": "python",
   "pygments_lexer": "ipython3",
   "version": "3.8.6"
  }
 },
 "nbformat": 4,
 "nbformat_minor": 4
}
