{
 "cells": [
  {
   "cell_type": "markdown",
   "metadata": {},
   "source": [
    "### For selected ClearCut AOI prepare PlanetScope and Sentinel2 images. Show clearcuts on AOI. Compare quality"
   ]
  },
  {
   "cell_type": "code",
   "execution_count": 67,
   "metadata": {},
   "outputs": [],
   "source": [
    "import os\n",
    "import rasterio\n",
    "import pandas as pd\n",
    "import numpy as np\n",
    "import geopandas as gpd\n",
    "import rasterio.mask\n",
    "import tempfile\n",
    "import shapely\n",
    "import re\n",
    "\n",
    "from rasterio.features import rasterize, shapes\n",
    "from shapely.geometry import Polygon, shape, box\n",
    "from pathlib import Path\n",
    "from datetime import datetime, timedelta\n",
    "\n",
    "from sentinel2download.downloader import Sentinel2Downloader"
   ]
  },
  {
   "cell_type": "code",
   "execution_count": 68,
   "metadata": {},
   "outputs": [],
   "source": [
    "NB_USER = os.getenv('NB_USER')"
   ]
  },
  {
   "cell_type": "code",
   "execution_count": 69,
   "metadata": {},
   "outputs": [],
   "source": [
    "PATH = f\"/home/{NB_USER}/work/notebooks/planet\""
   ]
  },
  {
   "cell_type": "code",
   "execution_count": 70,
   "metadata": {},
   "outputs": [],
   "source": [
    "PLANET_METADATA = f\"{PATH}/planet_grid.geojson\""
   ]
  },
  {
   "cell_type": "code",
   "execution_count": 122,
   "metadata": {},
   "outputs": [
    {
     "data": {
      "text/html": [
       "<div>\n",
       "<style scoped>\n",
       "    .dataframe tbody tr th:only-of-type {\n",
       "        vertical-align: middle;\n",
       "    }\n",
       "\n",
       "    .dataframe tbody tr th {\n",
       "        vertical-align: top;\n",
       "    }\n",
       "\n",
       "    .dataframe thead th {\n",
       "        text-align: right;\n",
       "    }\n",
       "</style>\n",
       "<table border=\"1\" class=\"dataframe\">\n",
       "  <thead>\n",
       "    <tr style=\"text-align: right;\">\n",
       "      <th></th>\n",
       "      <th>id</th>\n",
       "      <th>acquired</th>\n",
       "      <th>anomalous_pixels</th>\n",
       "      <th>black_fill</th>\n",
       "      <th>cloud_cover</th>\n",
       "      <th>columns</th>\n",
       "      <th>epsg_code</th>\n",
       "      <th>grid_cell</th>\n",
       "      <th>ground_control</th>\n",
       "      <th>gsd</th>\n",
       "      <th>...</th>\n",
       "      <th>clear_percent</th>\n",
       "      <th>cloud_percent</th>\n",
       "      <th>heavy_haze_percent</th>\n",
       "      <th>light_haze_percent</th>\n",
       "      <th>shadow_percent</th>\n",
       "      <th>snow_ice_percent</th>\n",
       "      <th>visible_confidence_percent</th>\n",
       "      <th>visible_percent</th>\n",
       "      <th>year</th>\n",
       "      <th>geometry</th>\n",
       "    </tr>\n",
       "  </thead>\n",
       "  <tbody>\n",
       "    <tr>\n",
       "      <th>0</th>\n",
       "      <td>1336590_3761711_2018-04-08_1021</td>\n",
       "      <td>2018-04-08T07:51:44</td>\n",
       "      <td>0.01</td>\n",
       "      <td>0.34</td>\n",
       "      <td>0.006</td>\n",
       "      <td>8000</td>\n",
       "      <td>32637</td>\n",
       "      <td>3761711</td>\n",
       "      <td>1</td>\n",
       "      <td>3.9</td>\n",
       "      <td>...</td>\n",
       "      <td>NaN</td>\n",
       "      <td>NaN</td>\n",
       "      <td>NaN</td>\n",
       "      <td>NaN</td>\n",
       "      <td>NaN</td>\n",
       "      <td>NaN</td>\n",
       "      <td>NaN</td>\n",
       "      <td>NaN</td>\n",
       "      <td>2018</td>\n",
       "      <td>POLYGON ((37.68174 48.95690, 37.67582 49.18171...</td>\n",
       "    </tr>\n",
       "  </tbody>\n",
       "</table>\n",
       "<p>1 rows × 37 columns</p>\n",
       "</div>"
      ],
      "text/plain": [
       "                                id             acquired  anomalous_pixels  \\\n",
       "0  1336590_3761711_2018-04-08_1021  2018-04-08T07:51:44              0.01   \n",
       "\n",
       "   black_fill  cloud_cover  columns  epsg_code grid_cell ground_control  gsd  \\\n",
       "0        0.34        0.006     8000      32637   3761711              1  3.9   \n",
       "\n",
       "   ... clear_percent  cloud_percent  heavy_haze_percent  light_haze_percent  \\\n",
       "0  ...           NaN            NaN                 NaN                 NaN   \n",
       "\n",
       "  shadow_percent snow_ice_percent  visible_confidence_percent visible_percent  \\\n",
       "0            NaN              NaN                         NaN             NaN   \n",
       "\n",
       "   year                                           geometry  \n",
       "0  2018  POLYGON ((37.68174 48.95690, 37.67582 49.18171...  \n",
       "\n",
       "[1 rows x 37 columns]"
      ]
     },
     "execution_count": 122,
     "metadata": {},
     "output_type": "execute_result"
    }
   ],
   "source": [
    "planet_grid = gpd.read_file(PLANET_METADATA, driver=\"GeoJSON\")\n",
    "planet_grid.head(1)"
   ]
  },
  {
   "cell_type": "code",
   "execution_count": 106,
   "metadata": {},
   "outputs": [
    {
     "data": {
      "text/plain": [
       "'2018-04-08T07:51:44'"
      ]
     },
     "execution_count": 106,
     "metadata": {},
     "output_type": "execute_result"
    }
   ],
   "source": [
    "planet_grid.acquired[0]"
   ]
  },
  {
   "cell_type": "code",
   "execution_count": 107,
   "metadata": {},
   "outputs": [
    {
     "data": {
      "text/plain": [
       "array(['PSOrthoTile', 'PSScene4Band', 'PSScene3Band'], dtype=object)"
      ]
     },
     "execution_count": 107,
     "metadata": {},
     "output_type": "execute_result"
    }
   ],
   "source": [
    "planet_grid.item_type.unique()"
   ]
  },
  {
   "cell_type": "code",
   "execution_count": 123,
   "metadata": {},
   "outputs": [],
   "source": [
    "def filter_planet(grid, start_date='2019-08-01', end_date='2019-08-31'):\n",
    "    # grid.acquired = pd.to_datetime(grid.acquired)\n",
    "    grid = grid.loc[(grid.ground_control == \"1\") & \n",
    "                    (grid.item_type == \"PSScene4Band\") &\n",
    "                    (grid.quality_category == \"standard\") &\n",
    "                    (grid.cloud_cover == 0) &\n",
    "                    (grid.acquired >= start_date) &\n",
    "                    (grid.acquired <= end_date) &\n",
    "                    (grid.snow_ice_percent == 0) &\n",
    "                    (grid.clear_percent >= 95)].reset_index(drop=True)\n",
    "    return grid"
   ]
  },
  {
   "cell_type": "code",
   "execution_count": 124,
   "metadata": {},
   "outputs": [],
   "source": [
    "planet_grid = filter_planet(planet_grid)"
   ]
  },
  {
   "cell_type": "code",
   "execution_count": 128,
   "metadata": {},
   "outputs": [],
   "source": [
    "def epsg_code(longitude, latitude):\n",
    "    \"\"\"\n",
    "    Generates EPSG code from lon, lat\n",
    "    :param longitude: float\n",
    "    :param latitude: float\n",
    "    :return: int, EPSG code\n",
    "    \"\"\"\n",
    "\n",
    "    def _zone_number(lat, lon):\n",
    "        if 56 <= lat < 64 and 3 <= lon < 12:\n",
    "            return 32\n",
    "        if 72 <= lat <= 84 and lon >= 0:\n",
    "            if lon < 9:\n",
    "                return 31\n",
    "            elif lon < 21:\n",
    "                return 33\n",
    "            elif lon < 33:\n",
    "                return 35\n",
    "            elif lon < 42:\n",
    "                return 37\n",
    "\n",
    "        return int((lon + 180) / 6) + 1\n",
    "\n",
    "    zone = _zone_number(latitude, longitude)\n",
    "\n",
    "    if latitude > 0:\n",
    "        return 32600 + zone\n",
    "    else:\n",
    "        return 32700 + zone"
   ]
  },
  {
   "cell_type": "code",
   "execution_count": 129,
   "metadata": {},
   "outputs": [],
   "source": [
    "def _intersect(aoi, grid, limit=1):\n",
    "    \"\"\"\n",
    "    Find all tiles that intersects given region with area >= limit km2\n",
    "    :param limit: float, min intersection area in km2\n",
    "    :return: (GeoDataFrame, epsg), precised intersected tiles and UTM zone code\n",
    "    \"\"\"\n",
    "\n",
    "    \n",
    "    # Get the indices of the tiles that are likely to be inside the bounding box of the given Polygon\n",
    "    geometry = aoi.geometry[0]\n",
    "\n",
    "    tiles_indexes = list(grid.sindex.intersection(geometry.bounds))\n",
    "    intersected_grid = grid.loc[tiles_indexes]\n",
    "\n",
    "    # Make the precise tiles in Polygon query\n",
    "    intersected_grid = intersected_grid.loc[grid.intersects(geometry)]\n",
    "\n",
    "    # intersection area\n",
    "    epsg = epsg_code(geometry.centroid.x, geometry.centroid.y)\n",
    "\n",
    "    # to UTM projection in meters\n",
    "    aoi.to_crs(epsg=epsg, inplace=True)\n",
    "    intersected_grid.to_crs(epsg=epsg, inplace=True)\n",
    "\n",
    "    return intersected_grid, epsg"
   ]
  },
  {
   "cell_type": "code",
   "execution_count": 145,
   "metadata": {},
   "outputs": [],
   "source": [
    "def _overlap_aoi_row(aoi, bbox_intersected, crs):\n",
    "    \n",
    "    result = list()\n",
    "\n",
    "    intersected = bbox_intersected.copy()\n",
    "    rest_aoi = gpd.GeoDataFrame([aoi], crs=crs)\n",
    "    \n",
    "    try:\n",
    "        while rest_aoi.area.sum() > 0:\n",
    "       \n",
    "            res_intersection = gpd.overlay(rest_aoi, intersected, how=\"intersection\") # intersection area with tiles\n",
    "            biggest_area_id = res_intersection.area.argmax() # max intersected area\n",
    "\n",
    "            tile_id = res_intersection.loc[biggest_area_id, \"Name\"]\n",
    "            intersected_aoi = res_intersection.loc[biggest_area_id, \"geometry\"]\n",
    "        \n",
    "            # print(tile_id)\n",
    "        \n",
    "            result.append({\"Name\": tile_id, \"geometry\": intersected_aoi}) # store max intersected aoi and tile geometry\n",
    "            biggest_tile = intersected.loc[intersected.Name == tile_id]\n",
    "\n",
    "            rest_aoi = gpd.overlay(rest_aoi, biggest_tile, how=\"difference\") # aoi minus biggest tile\n",
    "            intersected = intersected[intersected.Name != tile_id] # remove used tile\n",
    "    except Exception as ex:\n",
    "        print(f\"Error: {str(ex)}\")\n",
    "        \n",
    "    return result"
   ]
  },
  {
   "cell_type": "code",
   "execution_count": 131,
   "metadata": {},
   "outputs": [],
   "source": [
    "sentinel_grid_path = \"sentinel2grid.geojson\""
   ]
  },
  {
   "cell_type": "code",
   "execution_count": 132,
   "metadata": {},
   "outputs": [
    {
     "data": {
      "text/html": [
       "<div>\n",
       "<style scoped>\n",
       "    .dataframe tbody tr th:only-of-type {\n",
       "        vertical-align: middle;\n",
       "    }\n",
       "\n",
       "    .dataframe tbody tr th {\n",
       "        vertical-align: top;\n",
       "    }\n",
       "\n",
       "    .dataframe thead th {\n",
       "        text-align: right;\n",
       "    }\n",
       "</style>\n",
       "<table border=\"1\" class=\"dataframe\">\n",
       "  <thead>\n",
       "    <tr style=\"text-align: right;\">\n",
       "      <th></th>\n",
       "      <th>Name</th>\n",
       "      <th>geometry</th>\n",
       "    </tr>\n",
       "  </thead>\n",
       "  <tbody>\n",
       "    <tr>\n",
       "      <th>0</th>\n",
       "      <td>01CCV</td>\n",
       "      <td>POLYGON Z ((180.000 -73.060 0.000, 176.865 -72...</td>\n",
       "    </tr>\n",
       "    <tr>\n",
       "      <th>1</th>\n",
       "      <td>01CCV</td>\n",
       "      <td>POLYGON Z ((-180.000 -72.073 0.000, -179.627 -...</td>\n",
       "    </tr>\n",
       "    <tr>\n",
       "      <th>2</th>\n",
       "      <td>01CDH</td>\n",
       "      <td>POLYGON Z ((180.000 -83.809 0.000, 174.713 -83...</td>\n",
       "    </tr>\n",
       "    <tr>\n",
       "      <th>3</th>\n",
       "      <td>01CDH</td>\n",
       "      <td>POLYGON Z ((-180.000 -82.826 0.000, -176.297 -...</td>\n",
       "    </tr>\n",
       "    <tr>\n",
       "      <th>4</th>\n",
       "      <td>01CDJ</td>\n",
       "      <td>POLYGON Z ((180.000 -82.913 0.000, 175.748 -82...</td>\n",
       "    </tr>\n",
       "  </tbody>\n",
       "</table>\n",
       "</div>"
      ],
      "text/plain": [
       "    Name                                           geometry\n",
       "0  01CCV  POLYGON Z ((180.000 -73.060 0.000, 176.865 -72...\n",
       "1  01CCV  POLYGON Z ((-180.000 -72.073 0.000, -179.627 -...\n",
       "2  01CDH  POLYGON Z ((180.000 -83.809 0.000, 174.713 -83...\n",
       "3  01CDH  POLYGON Z ((-180.000 -82.826 0.000, -176.297 -...\n",
       "4  01CDJ  POLYGON Z ((180.000 -82.913 0.000, 175.748 -82..."
      ]
     },
     "execution_count": 132,
     "metadata": {},
     "output_type": "execute_result"
    }
   ],
   "source": [
    "sentinel_grid = gpd.read_file(sentinel_grid_path)\n",
    "sentinel_grid.head()"
   ]
  },
  {
   "cell_type": "code",
   "execution_count": 133,
   "metadata": {},
   "outputs": [],
   "source": [
    "def read_aoi(path, crs=\"epsg:4326\"):\n",
    "    df = gpd.read_file(path) \n",
    "    if str(df.crs) != crs:\n",
    "        print(f\"{path}: {df.crs}. Transform to {crs}\")\n",
    "    df.to_crs(crs, inplace=True)\n",
    "    return df"
   ]
  },
  {
   "cell_type": "code",
   "execution_count": 134,
   "metadata": {},
   "outputs": [],
   "source": [
    "aoi = read_aoi(\"AOI.geojson\") "
   ]
  },
  {
   "cell_type": "code",
   "execution_count": 135,
   "metadata": {},
   "outputs": [],
   "source": [
    "def overlap(aoi, grid):\n",
    "    # first, find bbox intersection\n",
    "    bbox = box(*aoi.total_bounds)\n",
    "    bbox = gpd.GeoDataFrame(geometry=[box(*aoi.total_bounds)], crs=aoi.crs)\n",
    "    \n",
    "    bbox_intersected, epsg = _intersect(bbox, grid)\n",
    "    # print(bbox_intersected)\n",
    "    \n",
    "    # precise intersection\n",
    "    projected_aoi = aoi.copy().to_crs(epsg=epsg)\n",
    "    \n",
    "    results = list()\n",
    "    for row in projected_aoi.itertuples():\n",
    "        result = _overlap_aoi_row(row, bbox_intersected, projected_aoi.crs)\n",
    "        results.extend(result)\n",
    "        \n",
    "    return gpd.GeoDataFrame(results, crs=epsg)"
   ]
  },
  {
   "cell_type": "code",
   "execution_count": null,
   "metadata": {},
   "outputs": [],
   "source": []
  },
  {
   "cell_type": "code",
   "execution_count": 136,
   "metadata": {},
   "outputs": [
    {
     "data": {
      "text/html": [
       "<div>\n",
       "<style scoped>\n",
       "    .dataframe tbody tr th:only-of-type {\n",
       "        vertical-align: middle;\n",
       "    }\n",
       "\n",
       "    .dataframe tbody tr th {\n",
       "        vertical-align: top;\n",
       "    }\n",
       "\n",
       "    .dataframe thead th {\n",
       "        text-align: right;\n",
       "    }\n",
       "</style>\n",
       "<table border=\"1\" class=\"dataframe\">\n",
       "  <thead>\n",
       "    <tr style=\"text-align: right;\">\n",
       "      <th></th>\n",
       "      <th>id</th>\n",
       "      <th>geometry</th>\n",
       "    </tr>\n",
       "  </thead>\n",
       "  <tbody>\n",
       "    <tr>\n",
       "      <th>0</th>\n",
       "      <td>36UXA</td>\n",
       "      <td>POLYGON Z ((670757.703 5556520.838 0.000, 6709...</td>\n",
       "    </tr>\n",
       "  </tbody>\n",
       "</table>\n",
       "</div>"
      ],
      "text/plain": [
       "      id                                           geometry\n",
       "0  36UXA  POLYGON Z ((670757.703 5556520.838 0.000, 6709..."
      ]
     },
     "execution_count": 136,
     "metadata": {},
     "output_type": "execute_result"
    }
   ],
   "source": [
    "sentinel_tiles = overlap(aoi, sentinel_grid)\n",
    "sentinel_tiles "
   ]
  },
  {
   "cell_type": "code",
   "execution_count": 138,
   "metadata": {},
   "outputs": [],
   "source": [
    "planet_grid = planet_grid[['id', 'acquired', 'geometry']].copy()\n",
    "planet_grid.rename(columns={\"id\": \"Name\"}, inplace=True)"
   ]
  },
  {
   "cell_type": "code",
   "execution_count": 146,
   "metadata": {},
   "outputs": [
    {
     "data": {
      "text/html": [
       "<div>\n",
       "<style scoped>\n",
       "    .dataframe tbody tr th:only-of-type {\n",
       "        vertical-align: middle;\n",
       "    }\n",
       "\n",
       "    .dataframe tbody tr th {\n",
       "        vertical-align: top;\n",
       "    }\n",
       "\n",
       "    .dataframe thead th {\n",
       "        text-align: right;\n",
       "    }\n",
       "</style>\n",
       "<table border=\"1\" class=\"dataframe\">\n",
       "  <thead>\n",
       "    <tr style=\"text-align: right;\">\n",
       "      <th></th>\n",
       "      <th>Name</th>\n",
       "      <th>acquired</th>\n",
       "      <th>geometry</th>\n",
       "    </tr>\n",
       "  </thead>\n",
       "  <tbody>\n",
       "    <tr>\n",
       "      <th>0</th>\n",
       "      <td>20190806_063544_1054</td>\n",
       "      <td>2019-08-06T06:35:44</td>\n",
       "      <td>POLYGON ((36.42032 49.87990, 36.73462 49.92998...</td>\n",
       "    </tr>\n",
       "    <tr>\n",
       "      <th>1</th>\n",
       "      <td>20190806_063545_1054</td>\n",
       "      <td>2019-08-06T06:35:45</td>\n",
       "      <td>POLYGON ((36.39828 49.93910, 36.71387 49.98935...</td>\n",
       "    </tr>\n",
       "    <tr>\n",
       "      <th>2</th>\n",
       "      <td>20190807_064359_1052</td>\n",
       "      <td>2019-08-07T06:43:59</td>\n",
       "      <td>POLYGON ((34.97524 50.02231, 35.29419 50.06928...</td>\n",
       "    </tr>\n",
       "    <tr>\n",
       "      <th>3</th>\n",
       "      <td>20190807_064400_1052</td>\n",
       "      <td>2019-08-07T06:44:00</td>\n",
       "      <td>POLYGON ((34.97594 50.02039, 34.95445 50.08166...</td>\n",
       "    </tr>\n",
       "    <tr>\n",
       "      <th>4</th>\n",
       "      <td>20190807_064401_1052</td>\n",
       "      <td>2019-08-07T06:44:01</td>\n",
       "      <td>POLYGON ((35.27686 50.12113, 34.95649 50.07442...</td>\n",
       "    </tr>\n",
       "    <tr>\n",
       "      <th>...</th>\n",
       "      <td>...</td>\n",
       "      <td>...</td>\n",
       "      <td>...</td>\n",
       "    </tr>\n",
       "    <tr>\n",
       "      <th>80</th>\n",
       "      <td>20190830_081516_100c</td>\n",
       "      <td>2019-08-30T08:15:16</td>\n",
       "      <td>POLYGON ((34.65574 50.00294, 35.00808 49.94858...</td>\n",
       "    </tr>\n",
       "    <tr>\n",
       "      <th>81</th>\n",
       "      <td>20190830_081707_1021</td>\n",
       "      <td>2019-08-30T08:17:07</td>\n",
       "      <td>POLYGON ((35.62945 50.05654, 35.27845 50.11381...</td>\n",
       "    </tr>\n",
       "    <tr>\n",
       "      <th>82</th>\n",
       "      <td>20190830_081708_1021</td>\n",
       "      <td>2019-08-30T08:17:08</td>\n",
       "      <td>POLYGON ((35.60376 49.99066, 35.25423 50.04774...</td>\n",
       "    </tr>\n",
       "    <tr>\n",
       "      <th>83</th>\n",
       "      <td>20190830_081709_1021</td>\n",
       "      <td>2019-08-30T08:17:09</td>\n",
       "      <td>POLYGON ((35.57930 49.92516, 35.22936 49.98234...</td>\n",
       "    </tr>\n",
       "    <tr>\n",
       "      <th>84</th>\n",
       "      <td>20190830_081710_1021</td>\n",
       "      <td>2019-08-30T08:17:10</td>\n",
       "      <td>POLYGON ((35.55415 49.86005, 35.20563 49.91706...</td>\n",
       "    </tr>\n",
       "  </tbody>\n",
       "</table>\n",
       "<p>85 rows × 3 columns</p>\n",
       "</div>"
      ],
      "text/plain": [
       "                    Name             acquired  \\\n",
       "0   20190806_063544_1054  2019-08-06T06:35:44   \n",
       "1   20190806_063545_1054  2019-08-06T06:35:45   \n",
       "2   20190807_064359_1052  2019-08-07T06:43:59   \n",
       "3   20190807_064400_1052  2019-08-07T06:44:00   \n",
       "4   20190807_064401_1052  2019-08-07T06:44:01   \n",
       "..                   ...                  ...   \n",
       "80  20190830_081516_100c  2019-08-30T08:15:16   \n",
       "81  20190830_081707_1021  2019-08-30T08:17:07   \n",
       "82  20190830_081708_1021  2019-08-30T08:17:08   \n",
       "83  20190830_081709_1021  2019-08-30T08:17:09   \n",
       "84  20190830_081710_1021  2019-08-30T08:17:10   \n",
       "\n",
       "                                             geometry  \n",
       "0   POLYGON ((36.42032 49.87990, 36.73462 49.92998...  \n",
       "1   POLYGON ((36.39828 49.93910, 36.71387 49.98935...  \n",
       "2   POLYGON ((34.97524 50.02231, 35.29419 50.06928...  \n",
       "3   POLYGON ((34.97594 50.02039, 34.95445 50.08166...  \n",
       "4   POLYGON ((35.27686 50.12113, 34.95649 50.07442...  \n",
       "..                                                ...  \n",
       "80  POLYGON ((34.65574 50.00294, 35.00808 49.94858...  \n",
       "81  POLYGON ((35.62945 50.05654, 35.27845 50.11381...  \n",
       "82  POLYGON ((35.60376 49.99066, 35.25423 50.04774...  \n",
       "83  POLYGON ((35.57930 49.92516, 35.22936 49.98234...  \n",
       "84  POLYGON ((35.55415 49.86005, 35.20563 49.91706...  \n",
       "\n",
       "[85 rows x 3 columns]"
      ]
     },
     "execution_count": 146,
     "metadata": {},
     "output_type": "execute_result"
    }
   ],
   "source": [
    "planet_grid"
   ]
  },
  {
   "cell_type": "code",
   "execution_count": 147,
   "metadata": {},
   "outputs": [],
   "source": [
    "planet_tiles = overlap(aoi, planet_grid)"
   ]
  },
  {
   "cell_type": "code",
   "execution_count": 148,
   "metadata": {},
   "outputs": [
    {
     "data": {
      "text/html": [
       "<div>\n",
       "<style scoped>\n",
       "    .dataframe tbody tr th:only-of-type {\n",
       "        vertical-align: middle;\n",
       "    }\n",
       "\n",
       "    .dataframe tbody tr th {\n",
       "        vertical-align: top;\n",
       "    }\n",
       "\n",
       "    .dataframe thead th {\n",
       "        text-align: right;\n",
       "    }\n",
       "</style>\n",
       "<table border=\"1\" class=\"dataframe\">\n",
       "  <thead>\n",
       "    <tr style=\"text-align: right;\">\n",
       "      <th></th>\n",
       "      <th>Name</th>\n",
       "      <th>geometry</th>\n",
       "    </tr>\n",
       "  </thead>\n",
       "  <tbody>\n",
       "    <tr>\n",
       "      <th>0</th>\n",
       "      <td>20190830_063752_1020</td>\n",
       "      <td>POLYGON ((670544.984 5552183.164, 670223.701 5...</td>\n",
       "    </tr>\n",
       "    <tr>\n",
       "      <th>1</th>\n",
       "      <td>20190830_081707_1021</td>\n",
       "      <td>POLYGON ((670757.703 5556520.838, 670989.183 5...</td>\n",
       "    </tr>\n",
       "  </tbody>\n",
       "</table>\n",
       "</div>"
      ],
      "text/plain": [
       "                   Name                                           geometry\n",
       "0  20190830_063752_1020  POLYGON ((670544.984 5552183.164, 670223.701 5...\n",
       "1  20190830_081707_1021  POLYGON ((670757.703 5556520.838, 670989.183 5..."
      ]
     },
     "execution_count": 148,
     "metadata": {},
     "output_type": "execute_result"
    }
   ],
   "source": [
    "planet_tiles"
   ]
  },
  {
   "cell_type": "code",
   "execution_count": 149,
   "metadata": {},
   "outputs": [
    {
     "data": {
      "text/html": [
       "<div>\n",
       "<style scoped>\n",
       "    .dataframe tbody tr th:only-of-type {\n",
       "        vertical-align: middle;\n",
       "    }\n",
       "\n",
       "    .dataframe tbody tr th {\n",
       "        vertical-align: top;\n",
       "    }\n",
       "\n",
       "    .dataframe thead th {\n",
       "        text-align: right;\n",
       "    }\n",
       "</style>\n",
       "<table border=\"1\" class=\"dataframe\">\n",
       "  <thead>\n",
       "    <tr style=\"text-align: right;\">\n",
       "      <th></th>\n",
       "      <th>Name</th>\n",
       "      <th>acquired</th>\n",
       "      <th>geometry</th>\n",
       "    </tr>\n",
       "  </thead>\n",
       "  <tbody>\n",
       "    <tr>\n",
       "      <th>0</th>\n",
       "      <td>20190806_063544_1054</td>\n",
       "      <td>2019-08-06T06:35:44</td>\n",
       "      <td>POLYGON ((36.42032 49.87990, 36.73462 49.92998...</td>\n",
       "    </tr>\n",
       "    <tr>\n",
       "      <th>1</th>\n",
       "      <td>20190806_063545_1054</td>\n",
       "      <td>2019-08-06T06:35:45</td>\n",
       "      <td>POLYGON ((36.39828 49.93910, 36.71387 49.98935...</td>\n",
       "    </tr>\n",
       "    <tr>\n",
       "      <th>2</th>\n",
       "      <td>20190807_064359_1052</td>\n",
       "      <td>2019-08-07T06:43:59</td>\n",
       "      <td>POLYGON ((34.97524 50.02231, 35.29419 50.06928...</td>\n",
       "    </tr>\n",
       "    <tr>\n",
       "      <th>3</th>\n",
       "      <td>20190807_064400_1052</td>\n",
       "      <td>2019-08-07T06:44:00</td>\n",
       "      <td>POLYGON ((34.97594 50.02039, 34.95445 50.08166...</td>\n",
       "    </tr>\n",
       "    <tr>\n",
       "      <th>4</th>\n",
       "      <td>20190807_064401_1052</td>\n",
       "      <td>2019-08-07T06:44:01</td>\n",
       "      <td>POLYGON ((35.27686 50.12113, 34.95649 50.07442...</td>\n",
       "    </tr>\n",
       "    <tr>\n",
       "      <th>...</th>\n",
       "      <td>...</td>\n",
       "      <td>...</td>\n",
       "      <td>...</td>\n",
       "    </tr>\n",
       "    <tr>\n",
       "      <th>80</th>\n",
       "      <td>20190830_081516_100c</td>\n",
       "      <td>2019-08-30T08:15:16</td>\n",
       "      <td>POLYGON ((34.65574 50.00294, 35.00808 49.94858...</td>\n",
       "    </tr>\n",
       "    <tr>\n",
       "      <th>81</th>\n",
       "      <td>20190830_081707_1021</td>\n",
       "      <td>2019-08-30T08:17:07</td>\n",
       "      <td>POLYGON ((35.62945 50.05654, 35.27845 50.11381...</td>\n",
       "    </tr>\n",
       "    <tr>\n",
       "      <th>82</th>\n",
       "      <td>20190830_081708_1021</td>\n",
       "      <td>2019-08-30T08:17:08</td>\n",
       "      <td>POLYGON ((35.60376 49.99066, 35.25423 50.04774...</td>\n",
       "    </tr>\n",
       "    <tr>\n",
       "      <th>83</th>\n",
       "      <td>20190830_081709_1021</td>\n",
       "      <td>2019-08-30T08:17:09</td>\n",
       "      <td>POLYGON ((35.57930 49.92516, 35.22936 49.98234...</td>\n",
       "    </tr>\n",
       "    <tr>\n",
       "      <th>84</th>\n",
       "      <td>20190830_081710_1021</td>\n",
       "      <td>2019-08-30T08:17:10</td>\n",
       "      <td>POLYGON ((35.55415 49.86005, 35.20563 49.91706...</td>\n",
       "    </tr>\n",
       "  </tbody>\n",
       "</table>\n",
       "<p>85 rows × 3 columns</p>\n",
       "</div>"
      ],
      "text/plain": [
       "                    Name             acquired  \\\n",
       "0   20190806_063544_1054  2019-08-06T06:35:44   \n",
       "1   20190806_063545_1054  2019-08-06T06:35:45   \n",
       "2   20190807_064359_1052  2019-08-07T06:43:59   \n",
       "3   20190807_064400_1052  2019-08-07T06:44:00   \n",
       "4   20190807_064401_1052  2019-08-07T06:44:01   \n",
       "..                   ...                  ...   \n",
       "80  20190830_081516_100c  2019-08-30T08:15:16   \n",
       "81  20190830_081707_1021  2019-08-30T08:17:07   \n",
       "82  20190830_081708_1021  2019-08-30T08:17:08   \n",
       "83  20190830_081709_1021  2019-08-30T08:17:09   \n",
       "84  20190830_081710_1021  2019-08-30T08:17:10   \n",
       "\n",
       "                                             geometry  \n",
       "0   POLYGON ((36.42032 49.87990, 36.73462 49.92998...  \n",
       "1   POLYGON ((36.39828 49.93910, 36.71387 49.98935...  \n",
       "2   POLYGON ((34.97524 50.02231, 35.29419 50.06928...  \n",
       "3   POLYGON ((34.97594 50.02039, 34.95445 50.08166...  \n",
       "4   POLYGON ((35.27686 50.12113, 34.95649 50.07442...  \n",
       "..                                                ...  \n",
       "80  POLYGON ((34.65574 50.00294, 35.00808 49.94858...  \n",
       "81  POLYGON ((35.62945 50.05654, 35.27845 50.11381...  \n",
       "82  POLYGON ((35.60376 49.99066, 35.25423 50.04774...  \n",
       "83  POLYGON ((35.57930 49.92516, 35.22936 49.98234...  \n",
       "84  POLYGON ((35.55415 49.86005, 35.20563 49.91706...  \n",
       "\n",
       "[85 rows x 3 columns]"
      ]
     },
     "execution_count": 149,
     "metadata": {},
     "output_type": "execute_result"
    }
   ],
   "source": [
    "planet_grid"
   ]
  },
  {
   "cell_type": "code",
   "execution_count": 151,
   "metadata": {},
   "outputs": [],
   "source": [
    "planet_tiles = planet_tiles.merge(planet_grid[['Name', 'acquired']], on='Name')"
   ]
  },
  {
   "cell_type": "code",
   "execution_count": 152,
   "metadata": {},
   "outputs": [
    {
     "data": {
      "text/html": [
       "<div>\n",
       "<style scoped>\n",
       "    .dataframe tbody tr th:only-of-type {\n",
       "        vertical-align: middle;\n",
       "    }\n",
       "\n",
       "    .dataframe tbody tr th {\n",
       "        vertical-align: top;\n",
       "    }\n",
       "\n",
       "    .dataframe thead th {\n",
       "        text-align: right;\n",
       "    }\n",
       "</style>\n",
       "<table border=\"1\" class=\"dataframe\">\n",
       "  <thead>\n",
       "    <tr style=\"text-align: right;\">\n",
       "      <th></th>\n",
       "      <th>Name</th>\n",
       "      <th>geometry</th>\n",
       "      <th>acquired</th>\n",
       "    </tr>\n",
       "  </thead>\n",
       "  <tbody>\n",
       "    <tr>\n",
       "      <th>0</th>\n",
       "      <td>20190830_063752_1020</td>\n",
       "      <td>POLYGON ((670544.984 5552183.164, 670223.701 5...</td>\n",
       "      <td>2019-08-30T06:37:52</td>\n",
       "    </tr>\n",
       "    <tr>\n",
       "      <th>1</th>\n",
       "      <td>20190830_081707_1021</td>\n",
       "      <td>POLYGON ((670757.703 5556520.838, 670989.183 5...</td>\n",
       "      <td>2019-08-30T08:17:07</td>\n",
       "    </tr>\n",
       "  </tbody>\n",
       "</table>\n",
       "</div>"
      ],
      "text/plain": [
       "                   Name                                           geometry  \\\n",
       "0  20190830_063752_1020  POLYGON ((670544.984 5552183.164, 670223.701 5...   \n",
       "1  20190830_081707_1021  POLYGON ((670757.703 5556520.838, 670989.183 5...   \n",
       "\n",
       "              acquired  \n",
       "0  2019-08-30T06:37:52  \n",
       "1  2019-08-30T08:17:07  "
      ]
     },
     "execution_count": 152,
     "metadata": {},
     "output_type": "execute_result"
    }
   ],
   "source": [
    "planet_tiles"
   ]
  },
  {
   "cell_type": "code",
   "execution_count": null,
   "metadata": {},
   "outputs": [],
   "source": [
    "def extract_tci(raster_path, temp_save_path, results_dir): \n",
    "    \"\"\"\n",
    "    Extracting from cropped image TCI bands to show in Results\n",
    "    \"\"\"\n",
    "    \n",
    "    with rasterio.open(raster_path) as src:\n",
    "        meta = src.meta        \n",
    "        meta.update({\n",
    "            'count': 3, \n",
    "            'nodata': 0,\n",
    "        })\n",
    "        tci = src.read((1, 2, 3))        \n",
    "        with rasterio.open(temp_save_path, \"w\", **meta) as dest:\n",
    "            dest.write(tci)\n",
    "            \n",
    "    os.makedirs(results_dir, exist_ok=True)\n",
    "    try:\n",
    "        shutil.move(temp_save_path, os.path.join(results_dir, os.path.basename(temp_save_path)))\n",
    "    except Exception as ex:\n",
    "        print(f\"Error while moving: {str(ex)}\")"
   ]
  },
  {
   "cell_type": "code",
   "execution_count": 153,
   "metadata": {},
   "outputs": [],
   "source": [
    "planet_path = os.path.join(PATH , '20190830_081707_1021_3B_AnalyticMS.tif')"
   ]
  },
  {
   "cell_type": "code",
   "execution_count": 154,
   "metadata": {},
   "outputs": [],
   "source": [
    "def crop(input_path, output_path, polygon, name, date):\n",
    "    with rasterio.open(input_path) as src:\n",
    "        out_image, out_transform = rasterio.mask.mask(src, [polygon], crop=True)\n",
    "        print(out_transform)\n",
    "        out_meta = src.meta\n",
    "        print(out_image)\n",
    "        print(out_image.shape)\n",
    "        \n",
    "        out_meta.update({\"driver\": \"GTiff\",\n",
    "                 \"height\": out_image.shape[1],\n",
    "                 \"width\": out_image.shape[2],\n",
    "                 \"transform\": out_transform,\n",
    "                 \"nodata\": 0,\n",
    "                        })\n",
    "\n",
    "    with rasterio.open(output_path, \"w\", **out_meta) as dest:\n",
    "        dest.update_tags(name=name, start_date=date, end_date=date)\n",
    "        dest.write(out_image)"
   ]
  },
  {
   "cell_type": "code",
   "execution_count": 160,
   "metadata": {},
   "outputs": [
    {
     "data": {
      "image/svg+xml": [
       "<svg xmlns=\"http://www.w3.org/2000/svg\" xmlns:xlink=\"http://www.w3.org/1999/xlink\" width=\"300\" height=\"300\" viewBox=\"669321.5857517688 5552007.401532078 1843.3604116954375 4745.596785816364\" preserveAspectRatio=\"xMinYMin meet\"><g transform=\"matrix(1,0,0,-1,0,11108760.399849974)\"><path fill-rule=\"evenodd\" fill=\"#66cc99\" stroke=\"#555555\" stroke-width=\"31.637311905442427\" opacity=\"0.6\" d=\"M 670757.7033640292,5556520.83840505 L 670989.1833195451,5556577.235473976 L 670544.9844694512,5552183.164375997 L 669497.3485956879,5556084.585459755 L 670757.7033640292,5556520.83840505 z\" /></g></svg>"
      ],
      "text/plain": [
       "<shapely.geometry.polygon.Polygon at 0x7fccc0ba6550>"
      ]
     },
     "execution_count": 160,
     "metadata": {},
     "output_type": "execute_result"
    }
   ],
   "source": [
    "planet_tiles.iloc[1].geometry"
   ]
  },
  {
   "cell_type": "code",
   "execution_count": 161,
   "metadata": {
    "collapsed": true,
    "jupyter": {
     "outputs_hidden": true
    }
   },
   "outputs": [
    {
     "name": "stdout",
     "output_type": "stream",
     "text": [
      "| 3.00, 0.00, 664317.00|\n",
      "| 0.00,-3.00, 5556087.00|\n",
      "| 0.00, 0.00, 1.00|\n",
      "[[[0 0 0 ... 0 0 0]\n",
      "  [0 0 0 ... 0 0 0]\n",
      "  [0 0 0 ... 0 0 0]\n",
      "  ...\n",
      "  [0 0 0 ... 0 0 0]\n",
      "  [0 0 0 ... 0 0 0]\n",
      "  [0 0 0 ... 0 0 0]]\n",
      "\n",
      " [[0 0 0 ... 0 0 0]\n",
      "  [0 0 0 ... 0 0 0]\n",
      "  [0 0 0 ... 0 0 0]\n",
      "  ...\n",
      "  [0 0 0 ... 0 0 0]\n",
      "  [0 0 0 ... 0 0 0]\n",
      "  [0 0 0 ... 0 0 0]]\n",
      "\n",
      " [[0 0 0 ... 0 0 0]\n",
      "  [0 0 0 ... 0 0 0]\n",
      "  [0 0 0 ... 0 0 0]\n",
      "  ...\n",
      "  [0 0 0 ... 0 0 0]\n",
      "  [0 0 0 ... 0 0 0]\n",
      "  [0 0 0 ... 0 0 0]]\n",
      "\n",
      " [[0 0 0 ... 0 0 0]\n",
      "  [0 0 0 ... 0 0 0]\n",
      "  [0 0 0 ... 0 0 0]\n",
      "  ...\n",
      "  [0 0 0 ... 0 0 0]\n",
      "  [0 0 0 ... 0 0 0]\n",
      "  [0 0 0 ... 0 0 0]]]\n",
      "(4, 2361, 2076)\n"
     ]
    }
   ],
   "source": [
    "crop(os.path.join(PATH , '20190830_063752_1020_3B_AnalyticMS.tif'), \n",
    "     os.path.join(PATH , '20190830_063752_1020_3B_AnalyticMS_cropped.tif'), planet_tiles.iloc[0].geometry, \n",
    "    \"name\", \"2019-08-30\")"
   ]
  },
  {
   "cell_type": "code",
   "execution_count": 162,
   "metadata": {
    "collapsed": true,
    "jupyter": {
     "outputs_hidden": true
    }
   },
   "outputs": [
    {
     "name": "stdout",
     "output_type": "stream",
     "text": [
      "| 3.00, 0.00, 669495.00|\n",
      "| 0.00,-3.00, 5556579.00|\n",
      "| 0.00, 0.00, 1.00|\n",
      "[[[   0    0    0 ...    0    0    0]\n",
      "  [   0    0    0 ... 3974 3939    0]\n",
      "  [   0    0    0 ... 3998 4033    0]\n",
      "  ...\n",
      "  [   0    0    0 ...    0    0    0]\n",
      "  [   0    0    0 ...    0    0    0]\n",
      "  [   0    0    0 ...    0    0    0]]\n",
      "\n",
      " [[   0    0    0 ...    0    0    0]\n",
      "  [   0    0    0 ... 3412 3376    0]\n",
      "  [   0    0    0 ... 3391 3407    0]\n",
      "  ...\n",
      "  [   0    0    0 ...    0    0    0]\n",
      "  [   0    0    0 ...    0    0    0]\n",
      "  [   0    0    0 ...    0    0    0]]\n",
      "\n",
      " [[   0    0    0 ...    0    0    0]\n",
      "  [   0    0    0 ... 2520 2487    0]\n",
      "  [   0    0    0 ... 2487 2521    0]\n",
      "  ...\n",
      "  [   0    0    0 ...    0    0    0]\n",
      "  [   0    0    0 ...    0    0    0]\n",
      "  [   0    0    0 ...    0    0    0]]\n",
      "\n",
      " [[   0    0    0 ...    0    0    0]\n",
      "  [   0    0    0 ... 4329 4278    0]\n",
      "  [   0    0    0 ... 4223 4181    0]\n",
      "  ...\n",
      "  [   0    0    0 ...    0    0    0]\n",
      "  [   0    0    0 ...    0    0    0]\n",
      "  [   0    0    0 ...    0    0    0]]]\n",
      "(4, 1466, 499)\n"
     ]
    }
   ],
   "source": [
    "crop(os.path.join(PATH , '20190830_081707_1021_3B_AnalyticMS.tif'), \n",
    "     os.path.join(PATH , '20190830_081707_1021_3B_AnalyticMS_cropped.tif'), planet_tiles.iloc[1].geometry, \n",
    "    \"name\", \"2019-08-30\")"
   ]
  },
  {
   "cell_type": "code",
   "execution_count": null,
   "metadata": {},
   "outputs": [],
   "source": []
  },
  {
   "cell_type": "code",
   "execution_count": null,
   "metadata": {},
   "outputs": [],
   "source": []
  },
  {
   "cell_type": "code",
   "execution_count": 29,
   "metadata": {},
   "outputs": [],
   "source": [
    "date = planet_tiles.acquired.iloc[0]"
   ]
  },
  {
   "cell_type": "code",
   "execution_count": 30,
   "metadata": {},
   "outputs": [
    {
     "data": {
      "text/plain": [
       "'2019-10-31T08:12:27'"
      ]
     },
     "execution_count": 30,
     "metadata": {},
     "output_type": "execute_result"
    }
   ],
   "source": [
    "date"
   ]
  },
  {
   "cell_type": "code",
   "execution_count": 31,
   "metadata": {},
   "outputs": [],
   "source": [
    "date = datetime.strptime(date, '%Y-%m-%dT%H:%M:%S')\n",
    "date = datetime(date.year, date.month, date.day)\n",
    " \n",
    "delta = 2\n",
    "start_date = date - timedelta(days=delta)\n",
    "end_date = date + timedelta(days=delta)"
   ]
  },
  {
   "cell_type": "code",
   "execution_count": 32,
   "metadata": {},
   "outputs": [
    {
     "data": {
      "text/plain": [
       "datetime.datetime(2019, 10, 29, 0, 0)"
      ]
     },
     "execution_count": 32,
     "metadata": {},
     "output_type": "execute_result"
    }
   ],
   "source": [
    "start_date"
   ]
  },
  {
   "cell_type": "code",
   "execution_count": 33,
   "metadata": {},
   "outputs": [
    {
     "data": {
      "text/plain": [
       "datetime.datetime(2019, 11, 2, 0, 0)"
      ]
     },
     "execution_count": 33,
     "metadata": {},
     "output_type": "execute_result"
    }
   ],
   "source": [
    "end_date"
   ]
  },
  {
   "cell_type": "code",
   "execution_count": 34,
   "metadata": {},
   "outputs": [
    {
     "data": {
      "text/plain": [
       "<Projected CRS: EPSG:32636>\n",
       "Name: WGS 84 / UTM zone 36N\n",
       "Axis Info [cartesian]:\n",
       "- E[east]: Easting (metre)\n",
       "- N[north]: Northing (metre)\n",
       "Area of Use:\n",
       "- name: World - N hemisphere - 30°E to 36°E - by country\n",
       "- bounds: (30.0, 0.0, 36.0, 84.0)\n",
       "Coordinate Operation:\n",
       "- name: UTM zone 36N\n",
       "- method: Transverse Mercator\n",
       "Datum: World Geodetic System 1984\n",
       "- Ellipsoid: WGS 84\n",
       "- Prime Meridian: Greenwich"
      ]
     },
     "execution_count": 34,
     "metadata": {},
     "output_type": "execute_result"
    }
   ],
   "source": [
    "planet_tiles.crs"
   ]
  },
  {
   "cell_type": "code",
   "execution_count": 64,
   "metadata": {},
   "outputs": [],
   "source": [
    "clearcuts = gpd.read_file(\"markup.geojson\")"
   ]
  },
  {
   "cell_type": "code",
   "execution_count": 65,
   "metadata": {},
   "outputs": [],
   "source": [
    "clearcuts = clearcuts.loc[(clearcuts.img_date >= '2019-08-01') & (clearcuts.img_date <= '2019-08-30')]"
   ]
  },
  {
   "cell_type": "code",
   "execution_count": 66,
   "metadata": {},
   "outputs": [],
   "source": [
    "clearcuts.to_crs(planet_tiles.crs, inplace=True)"
   ]
  },
  {
   "cell_type": "code",
   "execution_count": 45,
   "metadata": {
    "collapsed": true,
    "jupyter": {
     "outputs_hidden": true
    }
   },
   "outputs": [
    {
     "data": {
      "text/html": [
       "<div>\n",
       "<style scoped>\n",
       "    .dataframe tbody tr th:only-of-type {\n",
       "        vertical-align: middle;\n",
       "    }\n",
       "\n",
       "    .dataframe tbody tr th {\n",
       "        vertical-align: top;\n",
       "    }\n",
       "\n",
       "    .dataframe thead th {\n",
       "        text-align: right;\n",
       "    }\n",
       "</style>\n",
       "<table border=\"1\" class=\"dataframe\">\n",
       "  <thead>\n",
       "    <tr style=\"text-align: right;\">\n",
       "      <th></th>\n",
       "      <th>img_date</th>\n",
       "      <th>tileID</th>\n",
       "      <th>geometry</th>\n",
       "    </tr>\n",
       "  </thead>\n",
       "  <tbody>\n",
       "    <tr>\n",
       "      <th>44</th>\n",
       "      <td>2019-07-18</td>\n",
       "      <td>20190718_080402_1011</td>\n",
       "      <td>POLYGON ((37.78731 49.90965, 37.78768 49.90945...</td>\n",
       "    </tr>\n",
       "    <tr>\n",
       "      <th>56</th>\n",
       "      <td>2019-07-18</td>\n",
       "      <td>20190718_080401_1011</td>\n",
       "      <td>POLYGON ((37.88566 49.97284, 37.88572 49.97292...</td>\n",
       "    </tr>\n",
       "    <tr>\n",
       "      <th>57</th>\n",
       "      <td>2019-07-18</td>\n",
       "      <td>20190718_080400_1011</td>\n",
       "      <td>POLYGON ((37.92223 49.98962, 37.92314 49.98906...</td>\n",
       "    </tr>\n",
       "    <tr>\n",
       "      <th>58</th>\n",
       "      <td>2019-07-18</td>\n",
       "      <td>20190718_080400_1011</td>\n",
       "      <td>POLYGON ((37.92374 49.99875, 37.92462 49.99867...</td>\n",
       "    </tr>\n",
       "    <tr>\n",
       "      <th>59</th>\n",
       "      <td>2019-07-28</td>\n",
       "      <td>20190728_063110_1053</td>\n",
       "      <td>POLYGON ((37.83647 49.94496, 37.83636 49.94429...</td>\n",
       "    </tr>\n",
       "    <tr>\n",
       "      <th>60</th>\n",
       "      <td>2019-08-15</td>\n",
       "      <td>20190815_081851_45_1057</td>\n",
       "      <td>POLYGON ((37.87459 49.97228, 37.87484 49.97228...</td>\n",
       "    </tr>\n",
       "    <tr>\n",
       "      <th>63</th>\n",
       "      <td>2019-07-03</td>\n",
       "      <td>20190703_081251_0f31</td>\n",
       "      <td>POLYGON ((36.20619 49.59016, 36.20605 49.59011...</td>\n",
       "    </tr>\n",
       "    <tr>\n",
       "      <th>64</th>\n",
       "      <td>2019-08-08</td>\n",
       "      <td>20190808_080211_0e3a</td>\n",
       "      <td>POLYGON ((36.20619 49.59016, 36.20685 49.59017...</td>\n",
       "    </tr>\n",
       "    <tr>\n",
       "      <th>65</th>\n",
       "      <td>2019-08-08</td>\n",
       "      <td>20190808_080211_0e3a</td>\n",
       "      <td>POLYGON ((36.20539 49.59016, 36.20541 49.59009...</td>\n",
       "    </tr>\n",
       "    <tr>\n",
       "      <th>83</th>\n",
       "      <td>2019-06-06</td>\n",
       "      <td>20190606_081242_1024</td>\n",
       "      <td>POLYGON ((36.05466 50.06156, 36.05522 50.06138...</td>\n",
       "    </tr>\n",
       "    <tr>\n",
       "      <th>84</th>\n",
       "      <td>2019-06-06</td>\n",
       "      <td>20190606_081242_1024</td>\n",
       "      <td>POLYGON ((36.05536 50.05942, 36.05574 50.05944...</td>\n",
       "    </tr>\n",
       "    <tr>\n",
       "      <th>85</th>\n",
       "      <td>2019-06-18</td>\n",
       "      <td>20190618_080907_101f</td>\n",
       "      <td>POLYGON ((36.05563 50.05896, 36.05567 50.05851...</td>\n",
       "    </tr>\n",
       "    <tr>\n",
       "      <th>86</th>\n",
       "      <td>2019-06-18</td>\n",
       "      <td>20190618_080907_101f</td>\n",
       "      <td>POLYGON ((36.05459 50.06055, 36.05506 50.06052...</td>\n",
       "    </tr>\n",
       "    <tr>\n",
       "      <th>87</th>\n",
       "      <td>2019-07-28</td>\n",
       "      <td>20190728_082626_34_1059</td>\n",
       "      <td>POLYGON ((36.29481 50.11272, 36.29475 50.11245...</td>\n",
       "    </tr>\n",
       "    <tr>\n",
       "      <th>88</th>\n",
       "      <td>2019-08-07</td>\n",
       "      <td>20190807_081334_1011</td>\n",
       "      <td>POLYGON ((36.05466 50.06006, 36.05509 50.06008...</td>\n",
       "    </tr>\n",
       "    <tr>\n",
       "      <th>118</th>\n",
       "      <td>2019-06-14</td>\n",
       "      <td>20190614_081716_1024</td>\n",
       "      <td>POLYGON ((34.92358 49.94301, 34.92346 49.94168...</td>\n",
       "    </tr>\n",
       "    <tr>\n",
       "      <th>125</th>\n",
       "      <td>2019-06-14</td>\n",
       "      <td>20190614_081715_1024</td>\n",
       "      <td>POLYGON ((35.04218 49.97956, 35.04277 49.97961...</td>\n",
       "    </tr>\n",
       "    <tr>\n",
       "      <th>126</th>\n",
       "      <td>2019-06-14</td>\n",
       "      <td>20190614_081715_1024</td>\n",
       "      <td>POLYGON ((35.04873 49.97951, 35.04907 49.97950...</td>\n",
       "    </tr>\n",
       "    <tr>\n",
       "      <th>127</th>\n",
       "      <td>2019-06-26</td>\n",
       "      <td>20190626_083827_00_105c</td>\n",
       "      <td>POLYGON ((35.04098 49.97821, 35.04107 49.97794...</td>\n",
       "    </tr>\n",
       "    <tr>\n",
       "      <th>128</th>\n",
       "      <td>2019-06-26</td>\n",
       "      <td>20190626_083827_00_105c</td>\n",
       "      <td>POLYGON ((35.04073 49.97984, 35.04078 49.97966...</td>\n",
       "    </tr>\n",
       "    <tr>\n",
       "      <th>141</th>\n",
       "      <td>2019-06-14</td>\n",
       "      <td>20190614_081551_1025</td>\n",
       "      <td>POLYGON ((35.45416 50.04997, 35.45424 50.04997...</td>\n",
       "    </tr>\n",
       "    <tr>\n",
       "      <th>142</th>\n",
       "      <td>2019-08-13</td>\n",
       "      <td>20190813_064117_1043</td>\n",
       "      <td>POLYGON ((35.37690 50.07067, 35.37713 50.07048...</td>\n",
       "    </tr>\n",
       "    <tr>\n",
       "      <th>143</th>\n",
       "      <td>2019-08-13</td>\n",
       "      <td>20190813_064117_1043</td>\n",
       "      <td>POLYGON ((35.36966 50.07017, 35.36957 50.06977...</td>\n",
       "    </tr>\n",
       "    <tr>\n",
       "      <th>144</th>\n",
       "      <td>2019-08-13</td>\n",
       "      <td>20190813_064117_1043</td>\n",
       "      <td>POLYGON ((35.37170 50.07487, 35.37205 50.07487...</td>\n",
       "    </tr>\n",
       "    <tr>\n",
       "      <th>145</th>\n",
       "      <td>2019-08-13</td>\n",
       "      <td>20190813_064117_1043</td>\n",
       "      <td>POLYGON ((35.36889 50.07604, 35.36928 50.07584...</td>\n",
       "    </tr>\n",
       "    <tr>\n",
       "      <th>146</th>\n",
       "      <td>2019-08-30</td>\n",
       "      <td>20190830_081708_1021</td>\n",
       "      <td>POLYGON ((35.46197 50.04747, 35.46210 50.04751...</td>\n",
       "    </tr>\n",
       "    <tr>\n",
       "      <th>147</th>\n",
       "      <td>2019-08-30</td>\n",
       "      <td>20190830_081708_1021</td>\n",
       "      <td>POLYGON ((35.46136 50.04894, 35.46145 50.04887...</td>\n",
       "    </tr>\n",
       "    <tr>\n",
       "      <th>148</th>\n",
       "      <td>2019-08-30</td>\n",
       "      <td>20190830_081708_1021</td>\n",
       "      <td>POLYGON ((35.45711 50.06483, 35.45696 50.06485...</td>\n",
       "    </tr>\n",
       "    <tr>\n",
       "      <th>179</th>\n",
       "      <td>2019-08-13</td>\n",
       "      <td>20190813_064118_1043</td>\n",
       "      <td>POLYGON ((35.34043 50.11410, 35.34086 50.11411...</td>\n",
       "    </tr>\n",
       "    <tr>\n",
       "      <th>180</th>\n",
       "      <td>2019-08-13</td>\n",
       "      <td>20190813_064117_1043</td>\n",
       "      <td>POLYGON ((35.33676 50.10278, 35.33738 50.10280...</td>\n",
       "    </tr>\n",
       "    <tr>\n",
       "      <th>181</th>\n",
       "      <td>2019-08-13</td>\n",
       "      <td>20190813_064117_1043</td>\n",
       "      <td>POLYGON ((35.30276 50.07963, 35.30278 50.07945...</td>\n",
       "    </tr>\n",
       "    <tr>\n",
       "      <th>182</th>\n",
       "      <td>2019-08-13</td>\n",
       "      <td>20190813_064118_1043</td>\n",
       "      <td>POLYGON ((35.37935 50.12025, 35.37965 50.12027...</td>\n",
       "    </tr>\n",
       "    <tr>\n",
       "      <th>183</th>\n",
       "      <td>2019-08-13</td>\n",
       "      <td>20190813_064118_1043</td>\n",
       "      <td>POLYGON ((35.38515 50.12253, 35.38529 50.12234...</td>\n",
       "    </tr>\n",
       "    <tr>\n",
       "      <th>184</th>\n",
       "      <td>2019-08-25</td>\n",
       "      <td>20190825_083010_43_105d</td>\n",
       "      <td>POLYGON ((35.31339 50.08655, 35.31357 50.08647...</td>\n",
       "    </tr>\n",
       "    <tr>\n",
       "      <th>185</th>\n",
       "      <td>2019-08-25</td>\n",
       "      <td>20190825_083010_43_105d</td>\n",
       "      <td>POLYGON ((35.35108 50.08345, 35.35112 50.08337...</td>\n",
       "    </tr>\n",
       "    <tr>\n",
       "      <th>186</th>\n",
       "      <td>2019-08-25</td>\n",
       "      <td>20190825_083010_43_105d</td>\n",
       "      <td>POLYGON ((35.35177 50.08179, 35.35204 50.08180...</td>\n",
       "    </tr>\n",
       "    <tr>\n",
       "      <th>187</th>\n",
       "      <td>2019-08-25</td>\n",
       "      <td>20190825_083010_43_105d</td>\n",
       "      <td>POLYGON ((35.34374 50.08652, 35.34390 50.08657...</td>\n",
       "    </tr>\n",
       "    <tr>\n",
       "      <th>188</th>\n",
       "      <td>2019-08-25</td>\n",
       "      <td>20190825_083010_43_105d</td>\n",
       "      <td>POLYGON ((35.34293 50.08637, 35.34286 50.08635...</td>\n",
       "    </tr>\n",
       "    <tr>\n",
       "      <th>189</th>\n",
       "      <td>2019-08-25</td>\n",
       "      <td>20190825_083010_43_105d</td>\n",
       "      <td>POLYGON ((35.33780 50.10290, 35.33770 50.10298...</td>\n",
       "    </tr>\n",
       "    <tr>\n",
       "      <th>190</th>\n",
       "      <td>2019-08-30</td>\n",
       "      <td>20190830_081707_1021</td>\n",
       "      <td>POLYGON ((35.41443 50.12672, 35.41444 50.12662...</td>\n",
       "    </tr>\n",
       "  </tbody>\n",
       "</table>\n",
       "</div>"
      ],
      "text/plain": [
       "       img_date                   tileID  \\\n",
       "44   2019-07-18     20190718_080402_1011   \n",
       "56   2019-07-18     20190718_080401_1011   \n",
       "57   2019-07-18     20190718_080400_1011   \n",
       "58   2019-07-18     20190718_080400_1011   \n",
       "59   2019-07-28     20190728_063110_1053   \n",
       "60   2019-08-15  20190815_081851_45_1057   \n",
       "63   2019-07-03     20190703_081251_0f31   \n",
       "64   2019-08-08     20190808_080211_0e3a   \n",
       "65   2019-08-08     20190808_080211_0e3a   \n",
       "83   2019-06-06     20190606_081242_1024   \n",
       "84   2019-06-06     20190606_081242_1024   \n",
       "85   2019-06-18     20190618_080907_101f   \n",
       "86   2019-06-18     20190618_080907_101f   \n",
       "87   2019-07-28  20190728_082626_34_1059   \n",
       "88   2019-08-07     20190807_081334_1011   \n",
       "118  2019-06-14     20190614_081716_1024   \n",
       "125  2019-06-14     20190614_081715_1024   \n",
       "126  2019-06-14     20190614_081715_1024   \n",
       "127  2019-06-26  20190626_083827_00_105c   \n",
       "128  2019-06-26  20190626_083827_00_105c   \n",
       "141  2019-06-14     20190614_081551_1025   \n",
       "142  2019-08-13     20190813_064117_1043   \n",
       "143  2019-08-13     20190813_064117_1043   \n",
       "144  2019-08-13     20190813_064117_1043   \n",
       "145  2019-08-13     20190813_064117_1043   \n",
       "146  2019-08-30     20190830_081708_1021   \n",
       "147  2019-08-30     20190830_081708_1021   \n",
       "148  2019-08-30     20190830_081708_1021   \n",
       "179  2019-08-13     20190813_064118_1043   \n",
       "180  2019-08-13     20190813_064117_1043   \n",
       "181  2019-08-13     20190813_064117_1043   \n",
       "182  2019-08-13     20190813_064118_1043   \n",
       "183  2019-08-13     20190813_064118_1043   \n",
       "184  2019-08-25  20190825_083010_43_105d   \n",
       "185  2019-08-25  20190825_083010_43_105d   \n",
       "186  2019-08-25  20190825_083010_43_105d   \n",
       "187  2019-08-25  20190825_083010_43_105d   \n",
       "188  2019-08-25  20190825_083010_43_105d   \n",
       "189  2019-08-25  20190825_083010_43_105d   \n",
       "190  2019-08-30     20190830_081707_1021   \n",
       "\n",
       "                                              geometry  \n",
       "44   POLYGON ((37.78731 49.90965, 37.78768 49.90945...  \n",
       "56   POLYGON ((37.88566 49.97284, 37.88572 49.97292...  \n",
       "57   POLYGON ((37.92223 49.98962, 37.92314 49.98906...  \n",
       "58   POLYGON ((37.92374 49.99875, 37.92462 49.99867...  \n",
       "59   POLYGON ((37.83647 49.94496, 37.83636 49.94429...  \n",
       "60   POLYGON ((37.87459 49.97228, 37.87484 49.97228...  \n",
       "63   POLYGON ((36.20619 49.59016, 36.20605 49.59011...  \n",
       "64   POLYGON ((36.20619 49.59016, 36.20685 49.59017...  \n",
       "65   POLYGON ((36.20539 49.59016, 36.20541 49.59009...  \n",
       "83   POLYGON ((36.05466 50.06156, 36.05522 50.06138...  \n",
       "84   POLYGON ((36.05536 50.05942, 36.05574 50.05944...  \n",
       "85   POLYGON ((36.05563 50.05896, 36.05567 50.05851...  \n",
       "86   POLYGON ((36.05459 50.06055, 36.05506 50.06052...  \n",
       "87   POLYGON ((36.29481 50.11272, 36.29475 50.11245...  \n",
       "88   POLYGON ((36.05466 50.06006, 36.05509 50.06008...  \n",
       "118  POLYGON ((34.92358 49.94301, 34.92346 49.94168...  \n",
       "125  POLYGON ((35.04218 49.97956, 35.04277 49.97961...  \n",
       "126  POLYGON ((35.04873 49.97951, 35.04907 49.97950...  \n",
       "127  POLYGON ((35.04098 49.97821, 35.04107 49.97794...  \n",
       "128  POLYGON ((35.04073 49.97984, 35.04078 49.97966...  \n",
       "141  POLYGON ((35.45416 50.04997, 35.45424 50.04997...  \n",
       "142  POLYGON ((35.37690 50.07067, 35.37713 50.07048...  \n",
       "143  POLYGON ((35.36966 50.07017, 35.36957 50.06977...  \n",
       "144  POLYGON ((35.37170 50.07487, 35.37205 50.07487...  \n",
       "145  POLYGON ((35.36889 50.07604, 35.36928 50.07584...  \n",
       "146  POLYGON ((35.46197 50.04747, 35.46210 50.04751...  \n",
       "147  POLYGON ((35.46136 50.04894, 35.46145 50.04887...  \n",
       "148  POLYGON ((35.45711 50.06483, 35.45696 50.06485...  \n",
       "179  POLYGON ((35.34043 50.11410, 35.34086 50.11411...  \n",
       "180  POLYGON ((35.33676 50.10278, 35.33738 50.10280...  \n",
       "181  POLYGON ((35.30276 50.07963, 35.30278 50.07945...  \n",
       "182  POLYGON ((35.37935 50.12025, 35.37965 50.12027...  \n",
       "183  POLYGON ((35.38515 50.12253, 35.38529 50.12234...  \n",
       "184  POLYGON ((35.31339 50.08655, 35.31357 50.08647...  \n",
       "185  POLYGON ((35.35108 50.08345, 35.35112 50.08337...  \n",
       "186  POLYGON ((35.35177 50.08179, 35.35204 50.08180...  \n",
       "187  POLYGON ((35.34374 50.08652, 35.34390 50.08657...  \n",
       "188  POLYGON ((35.34293 50.08637, 35.34286 50.08635...  \n",
       "189  POLYGON ((35.33780 50.10290, 35.33770 50.10298...  \n",
       "190  POLYGON ((35.41443 50.12672, 35.41444 50.12662...  "
      ]
     },
     "execution_count": 45,
     "metadata": {},
     "output_type": "execute_result"
    }
   ],
   "source": [
    "clearcuts"
   ]
  },
  {
   "cell_type": "code",
   "execution_count": 63,
   "metadata": {},
   "outputs": [],
   "source": [
    "clearcuts.to_file(f\"/home/{NB_USER}/work/notebooks/planet/clearcuts.geojson\", driver='GeoJSON')"
   ]
  },
  {
   "cell_type": "code",
   "execution_count": null,
   "metadata": {},
   "outputs": [],
   "source": []
  },
  {
   "cell_type": "code",
   "execution_count": null,
   "metadata": {},
   "outputs": [],
   "source": []
  },
  {
   "cell_type": "code",
   "execution_count": null,
   "metadata": {},
   "outputs": [],
   "source": []
  },
  {
   "cell_type": "code",
   "execution_count": null,
   "metadata": {},
   "outputs": [],
   "source": []
  },
  {
   "cell_type": "code",
   "execution_count": null,
   "metadata": {},
   "outputs": [],
   "source": [
    "BASE = f\"/home/{os.getenv('NB_USER')}/work\"\n",
    "\n",
    "API_KEY = os.path.join(BASE, \".secret/sentinel2_google_api_key.json\")\n",
    "LOAD_DIR = os.path.join(BASE, \"satellite_imagery\")\n",
    "RESULTS_DIR = os.path.join(BASE, \"results/pbd\")\n",
    "\n",
    "PLANET_DIR = os.path.join(BASE, \"notebooks/planet\")\n",
    "\n",
    "BANDS = {'TCI', }\n",
    "\n",
    "CONSTRAINTS = {'NODATA_PIXEL_PERCENTAGE': 10.0, 'CLOUDY_PIXEL_PERCENTAGE': 5.0, }\n",
    "\n",
    "PRODUCT_TYPE = 'L2A'"
   ]
  },
  {
   "cell_type": "code",
   "execution_count": null,
   "metadata": {},
   "outputs": [],
   "source": [
    "def load_images(api_key, tiles, start_date, end_date, output_dir, product_type=\"L2A\"):\n",
    "    loader = Sentinel2Downloader(api_key)\n",
    "    loadings = dict()\n",
    "    for tile in tiles:\n",
    "        print(f\"Loading images for tile: {tile}...\")\n",
    "        loaded = loader.download(product_type,\n",
    "                                 [tile],\n",
    "                                 start_date=start_date,\n",
    "                                 end_date=end_date,\n",
    "                                 output_dir=output_dir,                       \n",
    "                                 bands=BANDS,\n",
    "                                constraints=CONSTRAINTS)\n",
    "        \n",
    "        print(f\"Loading images for tile {tile} finished\")\n",
    "        loadings[tile] = loaded\n",
    "    \n",
    "    tile_folders = dict()\n",
    "    for tile, tile_paths in loadings.items():\n",
    "        tile_folders[tile] = {str(Path(tile_path[0]).parent) for tile_path in tile_paths}\n",
    "    return tile_folders"
   ]
  },
  {
   "cell_type": "code",
   "execution_count": null,
   "metadata": {},
   "outputs": [],
   "source": [
    "loadings = load_images(API_KEY, date_tile_info.tileID.values, START_DATE, END_DATE, LOAD_DIR, PRODUCT_TYPE)"
   ]
  },
  {
   "cell_type": "code",
   "execution_count": null,
   "metadata": {},
   "outputs": [],
   "source": []
  },
  {
   "cell_type": "code",
   "execution_count": null,
   "metadata": {},
   "outputs": [],
   "source": []
  },
  {
   "cell_type": "code",
   "execution_count": null,
   "metadata": {},
   "outputs": [],
   "source": []
  },
  {
   "cell_type": "code",
   "execution_count": null,
   "metadata": {},
   "outputs": [],
   "source": []
  }
 ],
 "metadata": {
  "kernelspec": {
   "display_name": "python37",
   "language": "python",
   "name": "python37"
  },
  "language_info": {
   "codemirror_mode": {
    "name": "ipython",
    "version": 3
   },
   "file_extension": ".py",
   "mimetype": "text/x-python",
   "name": "python",
   "nbconvert_exporter": "python",
   "pygments_lexer": "ipython3",
   "version": "3.7.9"
  }
 },
 "nbformat": 4,
 "nbformat_minor": 4
}
