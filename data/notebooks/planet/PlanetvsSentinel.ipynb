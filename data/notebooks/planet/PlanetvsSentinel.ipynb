{
 "cells": [
  {
   "cell_type": "markdown",
   "metadata": {},
   "source": [
    "### For selected ClearCut AOI prepare PlanetScope and Sentinel2 images. Show clearcuts on AOI. Compare quality"
   ]
  },
  {
   "cell_type": "code",
   "execution_count": 1,
   "metadata": {},
   "outputs": [],
   "source": [
    "import os\n",
    "import rasterio\n",
    "import pandas as pd\n",
    "import numpy as np\n",
    "import geopandas as gpd\n",
    "import rasterio.mask\n",
    "import tempfile\n",
    "import shapely\n",
    "import re\n",
    "\n",
    "from rasterio.features import rasterize, shapes\n",
    "from shapely.geometry import Polygon, shape, box\n",
    "from pathlib import Path\n",
    "from datetime import datetime\n",
    "\n",
    "from sentinel2download.downloader import Sentinel2Downloader"
   ]
  },
  {
   "cell_type": "code",
   "execution_count": 2,
   "metadata": {},
   "outputs": [],
   "source": [
    "NB_USER = os.getenv('NB_USER')"
   ]
  },
  {
   "cell_type": "code",
   "execution_count": 3,
   "metadata": {},
   "outputs": [],
   "source": [
    "PATH = f\"/home/{NB_USER}/work/notebooks/planet\""
   ]
  },
  {
   "cell_type": "code",
   "execution_count": 9,
   "metadata": {},
   "outputs": [],
   "source": [
    "PLANET_METADATA = f\"{PATH}/global_meta.geojson\""
   ]
  },
  {
   "cell_type": "code",
   "execution_count": 11,
   "metadata": {},
   "outputs": [
    {
     "data": {
      "text/html": [
       "<div>\n",
       "<style scoped>\n",
       "    .dataframe tbody tr th:only-of-type {\n",
       "        vertical-align: middle;\n",
       "    }\n",
       "\n",
       "    .dataframe tbody tr th {\n",
       "        vertical-align: top;\n",
       "    }\n",
       "\n",
       "    .dataframe thead th {\n",
       "        text-align: right;\n",
       "    }\n",
       "</style>\n",
       "<table border=\"1\" class=\"dataframe\">\n",
       "  <thead>\n",
       "    <tr style=\"text-align: right;\">\n",
       "      <th></th>\n",
       "      <th>id</th>\n",
       "      <th>acquired</th>\n",
       "      <th>anomalous_pixels</th>\n",
       "      <th>black_fill</th>\n",
       "      <th>cloud_cover</th>\n",
       "      <th>columns</th>\n",
       "      <th>epsg_code</th>\n",
       "      <th>grid_cell</th>\n",
       "      <th>ground_control</th>\n",
       "      <th>gsd</th>\n",
       "      <th>...</th>\n",
       "      <th>clear_percent</th>\n",
       "      <th>cloud_percent</th>\n",
       "      <th>heavy_haze_percent</th>\n",
       "      <th>light_haze_percent</th>\n",
       "      <th>shadow_percent</th>\n",
       "      <th>snow_ice_percent</th>\n",
       "      <th>visible_confidence_percent</th>\n",
       "      <th>visible_percent</th>\n",
       "      <th>year</th>\n",
       "      <th>geometry</th>\n",
       "    </tr>\n",
       "  </thead>\n",
       "  <tbody>\n",
       "    <tr>\n",
       "      <th>0</th>\n",
       "      <td>1336590_3761711_2018-04-08_1021</td>\n",
       "      <td>2018-04-08T07:51:44</td>\n",
       "      <td>0.01</td>\n",
       "      <td>0.34</td>\n",
       "      <td>0.006</td>\n",
       "      <td>8000</td>\n",
       "      <td>32637</td>\n",
       "      <td>3761711</td>\n",
       "      <td>1</td>\n",
       "      <td>3.9</td>\n",
       "      <td>...</td>\n",
       "      <td>NaN</td>\n",
       "      <td>NaN</td>\n",
       "      <td>NaN</td>\n",
       "      <td>NaN</td>\n",
       "      <td>NaN</td>\n",
       "      <td>NaN</td>\n",
       "      <td>NaN</td>\n",
       "      <td>NaN</td>\n",
       "      <td>2018</td>\n",
       "      <td>POLYGON ((37.68174 48.95690, 37.67582 49.18171...</td>\n",
       "    </tr>\n",
       "  </tbody>\n",
       "</table>\n",
       "<p>1 rows × 37 columns</p>\n",
       "</div>"
      ],
      "text/plain": [
       "                                id             acquired  anomalous_pixels  \\\n",
       "0  1336590_3761711_2018-04-08_1021  2018-04-08T07:51:44              0.01   \n",
       "\n",
       "   black_fill  cloud_cover  columns  epsg_code grid_cell ground_control  gsd  \\\n",
       "0        0.34        0.006     8000      32637   3761711              1  3.9   \n",
       "\n",
       "   ... clear_percent  cloud_percent  heavy_haze_percent  light_haze_percent  \\\n",
       "0  ...           NaN            NaN                 NaN                 NaN   \n",
       "\n",
       "  shadow_percent snow_ice_percent  visible_confidence_percent visible_percent  \\\n",
       "0            NaN              NaN                         NaN             NaN   \n",
       "\n",
       "   year                                           geometry  \n",
       "0  2018  POLYGON ((37.68174 48.95690, 37.67582 49.18171...  \n",
       "\n",
       "[1 rows x 37 columns]"
      ]
     },
     "execution_count": 11,
     "metadata": {},
     "output_type": "execute_result"
    }
   ],
   "source": [
    "planet_tiles = gpd.read_file(PLANET_METADATA, driver=\"GeoJSON\")\n",
    "planet_tiles.head(1)"
   ]
  },
  {
   "cell_type": "code",
   "execution_count": 12,
   "metadata": {},
   "outputs": [],
   "source": [
    "sentinel_tiles_path = \"sentinel2grid.geojson\""
   ]
  },
  {
   "cell_type": "code",
   "execution_count": 13,
   "metadata": {},
   "outputs": [
    {
     "data": {
      "text/html": [
       "<div>\n",
       "<style scoped>\n",
       "    .dataframe tbody tr th:only-of-type {\n",
       "        vertical-align: middle;\n",
       "    }\n",
       "\n",
       "    .dataframe tbody tr th {\n",
       "        vertical-align: top;\n",
       "    }\n",
       "\n",
       "    .dataframe thead th {\n",
       "        text-align: right;\n",
       "    }\n",
       "</style>\n",
       "<table border=\"1\" class=\"dataframe\">\n",
       "  <thead>\n",
       "    <tr style=\"text-align: right;\">\n",
       "      <th></th>\n",
       "      <th>Name</th>\n",
       "      <th>geometry</th>\n",
       "    </tr>\n",
       "  </thead>\n",
       "  <tbody>\n",
       "    <tr>\n",
       "      <th>0</th>\n",
       "      <td>01CCV</td>\n",
       "      <td>POLYGON Z ((180.000 -73.060 0.000, 176.865 -72...</td>\n",
       "    </tr>\n",
       "    <tr>\n",
       "      <th>1</th>\n",
       "      <td>01CCV</td>\n",
       "      <td>POLYGON Z ((-180.000 -72.073 0.000, -179.627 -...</td>\n",
       "    </tr>\n",
       "    <tr>\n",
       "      <th>2</th>\n",
       "      <td>01CDH</td>\n",
       "      <td>POLYGON Z ((180.000 -83.809 0.000, 174.713 -83...</td>\n",
       "    </tr>\n",
       "    <tr>\n",
       "      <th>3</th>\n",
       "      <td>01CDH</td>\n",
       "      <td>POLYGON Z ((-180.000 -82.826 0.000, -176.297 -...</td>\n",
       "    </tr>\n",
       "    <tr>\n",
       "      <th>4</th>\n",
       "      <td>01CDJ</td>\n",
       "      <td>POLYGON Z ((180.000 -82.913 0.000, 175.748 -82...</td>\n",
       "    </tr>\n",
       "  </tbody>\n",
       "</table>\n",
       "</div>"
      ],
      "text/plain": [
       "    Name                                           geometry\n",
       "0  01CCV  POLYGON Z ((180.000 -73.060 0.000, 176.865 -72...\n",
       "1  01CCV  POLYGON Z ((-180.000 -72.073 0.000, -179.627 -...\n",
       "2  01CDH  POLYGON Z ((180.000 -83.809 0.000, 174.713 -83...\n",
       "3  01CDH  POLYGON Z ((-180.000 -82.826 0.000, -176.297 -...\n",
       "4  01CDJ  POLYGON Z ((180.000 -82.913 0.000, 175.748 -82..."
      ]
     },
     "execution_count": 13,
     "metadata": {},
     "output_type": "execute_result"
    }
   ],
   "source": [
    "sentinel_tiles = gpd.read_file(sentinel_tiles_path)\n",
    "sentinel_tiles.head()"
   ]
  },
  {
   "cell_type": "code",
   "execution_count": 209,
   "metadata": {},
   "outputs": [],
   "source": [
    "aoi = gpd.read_file(\"selected_AoI.geojson\") "
   ]
  },
  {
   "cell_type": "code",
   "execution_count": 210,
   "metadata": {},
   "outputs": [
    {
     "data": {
      "text/html": [
       "<div>\n",
       "<style scoped>\n",
       "    .dataframe tbody tr th:only-of-type {\n",
       "        vertical-align: middle;\n",
       "    }\n",
       "\n",
       "    .dataframe tbody tr th {\n",
       "        vertical-align: top;\n",
       "    }\n",
       "\n",
       "    .dataframe thead th {\n",
       "        text-align: right;\n",
       "    }\n",
       "</style>\n",
       "<table border=\"1\" class=\"dataframe\">\n",
       "  <thead>\n",
       "    <tr style=\"text-align: right;\">\n",
       "      <th></th>\n",
       "      <th>id</th>\n",
       "      <th>geometry</th>\n",
       "    </tr>\n",
       "  </thead>\n",
       "  <tbody>\n",
       "    <tr>\n",
       "      <th>0</th>\n",
       "      <td>None</td>\n",
       "      <td>MULTIPOLYGON (((35.27423 50.12803, 35.41354 50...</td>\n",
       "    </tr>\n",
       "    <tr>\n",
       "      <th>1</th>\n",
       "      <td>None</td>\n",
       "      <td>MULTIPOLYGON (((35.08580 50.17168, 35.18946 50...</td>\n",
       "    </tr>\n",
       "    <tr>\n",
       "      <th>2</th>\n",
       "      <td>None</td>\n",
       "      <td>MULTIPOLYGON (((37.62633 50.06614, 38.03014 50...</td>\n",
       "    </tr>\n",
       "  </tbody>\n",
       "</table>\n",
       "</div>"
      ],
      "text/plain": [
       "     id                                           geometry\n",
       "0  None  MULTIPOLYGON (((35.27423 50.12803, 35.41354 50...\n",
       "1  None  MULTIPOLYGON (((35.08580 50.17168, 35.18946 50...\n",
       "2  None  MULTIPOLYGON (((37.62633 50.06614, 38.03014 50..."
      ]
     },
     "execution_count": 210,
     "metadata": {},
     "output_type": "execute_result"
    }
   ],
   "source": [
    "aoi"
   ]
  },
  {
   "cell_type": "code",
   "execution_count": 16,
   "metadata": {},
   "outputs": [],
   "source": [
    "def filter_planet(grid):\n",
    "    grid = grid.loc[(grid.ground_control == \"1\") & \n",
    "                    (grid.item_type == \"PSScene4Band\") &\n",
    "                    (grid.quality_category == \"standard\") &\n",
    "                    (grid.cloud_cover == 0) &\n",
    "                    (grid.year.astype(int) >= 2018)&\n",
    "                    (grid.snow_ice_percent == 0) &\n",
    "                    (grid.clear_percent >= 95)].reset_index(drop=True)\n",
    "    return grid"
   ]
  },
  {
   "cell_type": "code",
   "execution_count": 17,
   "metadata": {},
   "outputs": [],
   "source": [
    "planet_grid = filter_planet(planet_tiles)"
   ]
  },
  {
   "cell_type": "code",
   "execution_count": 18,
   "metadata": {},
   "outputs": [
    {
     "data": {
      "text/html": [
       "<div>\n",
       "<style scoped>\n",
       "    .dataframe tbody tr th:only-of-type {\n",
       "        vertical-align: middle;\n",
       "    }\n",
       "\n",
       "    .dataframe tbody tr th {\n",
       "        vertical-align: top;\n",
       "    }\n",
       "\n",
       "    .dataframe thead th {\n",
       "        text-align: right;\n",
       "    }\n",
       "</style>\n",
       "<table border=\"1\" class=\"dataframe\">\n",
       "  <thead>\n",
       "    <tr style=\"text-align: right;\">\n",
       "      <th></th>\n",
       "      <th>id</th>\n",
       "      <th>acquired</th>\n",
       "      <th>anomalous_pixels</th>\n",
       "      <th>black_fill</th>\n",
       "      <th>cloud_cover</th>\n",
       "      <th>columns</th>\n",
       "      <th>epsg_code</th>\n",
       "      <th>grid_cell</th>\n",
       "      <th>ground_control</th>\n",
       "      <th>gsd</th>\n",
       "      <th>...</th>\n",
       "      <th>clear_percent</th>\n",
       "      <th>cloud_percent</th>\n",
       "      <th>heavy_haze_percent</th>\n",
       "      <th>light_haze_percent</th>\n",
       "      <th>shadow_percent</th>\n",
       "      <th>snow_ice_percent</th>\n",
       "      <th>visible_confidence_percent</th>\n",
       "      <th>visible_percent</th>\n",
       "      <th>year</th>\n",
       "      <th>geometry</th>\n",
       "    </tr>\n",
       "  </thead>\n",
       "  <tbody>\n",
       "    <tr>\n",
       "      <th>0</th>\n",
       "      <td>20180618_074503_104e</td>\n",
       "      <td>2018-06-18T07:45:03</td>\n",
       "      <td>0.0</td>\n",
       "      <td>NaN</td>\n",
       "      <td>0.0</td>\n",
       "      <td>8364</td>\n",
       "      <td>32636</td>\n",
       "      <td>None</td>\n",
       "      <td>1</td>\n",
       "      <td>3.6</td>\n",
       "      <td>...</td>\n",
       "      <td>100.0</td>\n",
       "      <td>0.0</td>\n",
       "      <td>0.0</td>\n",
       "      <td>0.0</td>\n",
       "      <td>0.0</td>\n",
       "      <td>0.0</td>\n",
       "      <td>75.0</td>\n",
       "      <td>100.0</td>\n",
       "      <td>2018</td>\n",
       "      <td>POLYGON ((34.67585 49.86933, 34.66087 49.91075...</td>\n",
       "    </tr>\n",
       "  </tbody>\n",
       "</table>\n",
       "<p>1 rows × 37 columns</p>\n",
       "</div>"
      ],
      "text/plain": [
       "                     id             acquired  anomalous_pixels  black_fill  \\\n",
       "0  20180618_074503_104e  2018-06-18T07:45:03               0.0         NaN   \n",
       "\n",
       "   cloud_cover  columns  epsg_code grid_cell ground_control  gsd  ...  \\\n",
       "0          0.0     8364      32636      None              1  3.6  ...   \n",
       "\n",
       "  clear_percent  cloud_percent  heavy_haze_percent  light_haze_percent  \\\n",
       "0         100.0            0.0                 0.0                 0.0   \n",
       "\n",
       "  shadow_percent snow_ice_percent  visible_confidence_percent visible_percent  \\\n",
       "0            0.0              0.0                        75.0           100.0   \n",
       "\n",
       "   year                                           geometry  \n",
       "0  2018  POLYGON ((34.67585 49.86933, 34.66087 49.91075...  \n",
       "\n",
       "[1 rows x 37 columns]"
      ]
     },
     "execution_count": 18,
     "metadata": {},
     "output_type": "execute_result"
    }
   ],
   "source": [
    "planet_grid.head(1)"
   ]
  },
  {
   "cell_type": "code",
   "execution_count": 19,
   "metadata": {},
   "outputs": [],
   "source": [
    "def epsg_code(longitude, latitude):\n",
    "    \"\"\"\n",
    "    Generates EPSG code from lon, lat\n",
    "    :param longitude: float\n",
    "    :param latitude: float\n",
    "    :return: int, EPSG code\n",
    "    \"\"\"\n",
    "\n",
    "    def _zone_number(lat, lon):\n",
    "        if 56 <= lat < 64 and 3 <= lon < 12:\n",
    "            return 32\n",
    "        if 72 <= lat <= 84 and lon >= 0:\n",
    "            if lon < 9:\n",
    "                return 31\n",
    "            elif lon < 21:\n",
    "                return 33\n",
    "            elif lon < 33:\n",
    "                return 35\n",
    "            elif lon < 42:\n",
    "                return 37\n",
    "\n",
    "        return int((lon + 180) / 6) + 1\n",
    "\n",
    "    zone = _zone_number(latitude, longitude)\n",
    "\n",
    "    if latitude > 0:\n",
    "        return 32600 + zone\n",
    "    else:\n",
    "        return 32700 + zone"
   ]
  },
  {
   "cell_type": "code",
   "execution_count": 182,
   "metadata": {},
   "outputs": [],
   "source": [
    "def _intersect(aoi, grid, limit=1):\n",
    "    \"\"\"\n",
    "    Find all tiles that intersects given region with area >= limit km2\n",
    "    :param limit: float, min intersection area in km2\n",
    "    :return: (GeoDataFrame, epsg), precised intersected tiles and UTM zone code\n",
    "    \"\"\"\n",
    "\n",
    "    \n",
    "    # Get the indices of the tiles that are likely to be inside the bounding box of the given Polygon\n",
    "    geometry = aoi.geometry[0]\n",
    "\n",
    "    tiles_indexes = list(grid.sindex.intersection(geometry.bounds))\n",
    "    intersected_grid = grid.loc[tiles_indexes]\n",
    "\n",
    "    # Make the precise tiles in Polygon query\n",
    "    intersected_grid = intersected_grid.loc[grid.intersects(geometry)]\n",
    "\n",
    "    # intersection area\n",
    "    epsg = epsg_code(geometry.centroid.x, geometry.centroid.y)\n",
    "\n",
    "    # to UTM projection in meters\n",
    "    aoi['geometry'] = aoi.geometry.to_crs(epsg=epsg)\n",
    "    intersected_grid['geometry'] = intersected_grid.geometry.to_crs(epsg=epsg)\n",
    "\n",
    "    intersected_grid['area'] = intersected_grid.geometry.apply(lambda g: g.intersection(aoi.geometry[0]).area / 1e6)\n",
    "\n",
    "    intersected_grid = intersected_grid.loc[intersected_grid['area'] >= limit]\n",
    "    intersected_grid = intersected_grid.sort_values(by='area', ascending=False)\n",
    "\n",
    "    return intersected_grid, epsg"
   ]
  },
  {
   "cell_type": "code",
   "execution_count": null,
   "metadata": {},
   "outputs": [],
   "source": []
  },
  {
   "cell_type": "code",
   "execution_count": 198,
   "metadata": {},
   "outputs": [],
   "source": [
    "bbox = box(*aoi.total_bounds)\n",
    "bbox = gpd.GeoDataFrame(geometry=[bbox], crs=\"epsg:4326\")"
   ]
  },
  {
   "cell_type": "code",
   "execution_count": 192,
   "metadata": {},
   "outputs": [
    {
     "data": {
      "text/html": [
       "<div>\n",
       "<style scoped>\n",
       "    .dataframe tbody tr th:only-of-type {\n",
       "        vertical-align: middle;\n",
       "    }\n",
       "\n",
       "    .dataframe tbody tr th {\n",
       "        vertical-align: top;\n",
       "    }\n",
       "\n",
       "    .dataframe thead th {\n",
       "        text-align: right;\n",
       "    }\n",
       "</style>\n",
       "<table border=\"1\" class=\"dataframe\">\n",
       "  <thead>\n",
       "    <tr style=\"text-align: right;\">\n",
       "      <th></th>\n",
       "      <th>geometry</th>\n",
       "    </tr>\n",
       "  </thead>\n",
       "  <tbody>\n",
       "    <tr>\n",
       "      <th>0</th>\n",
       "      <td>POLYGON ((430904.371 5513198.558, 431484.158 5...</td>\n",
       "    </tr>\n",
       "  </tbody>\n",
       "</table>\n",
       "</div>"
      ],
      "text/plain": [
       "                                            geometry\n",
       "0  POLYGON ((430904.371 5513198.558, 431484.158 5..."
      ]
     },
     "execution_count": 192,
     "metadata": {},
     "output_type": "execute_result"
    }
   ],
   "source": [
    "bbox"
   ]
  },
  {
   "cell_type": "code",
   "execution_count": 185,
   "metadata": {},
   "outputs": [],
   "source": [
    "planet_intersected, epsg = _intersect(bbox, planet_grid)"
   ]
  },
  {
   "cell_type": "code",
   "execution_count": 189,
   "metadata": {},
   "outputs": [],
   "source": [
    "sin, epsg = _intersect(bbox, sentinel_tiles)"
   ]
  },
  {
   "cell_type": "code",
   "execution_count": 190,
   "metadata": {},
   "outputs": [
    {
     "data": {
      "text/html": [
       "<div>\n",
       "<style scoped>\n",
       "    .dataframe tbody tr th:only-of-type {\n",
       "        vertical-align: middle;\n",
       "    }\n",
       "\n",
       "    .dataframe tbody tr th {\n",
       "        vertical-align: top;\n",
       "    }\n",
       "\n",
       "    .dataframe thead th {\n",
       "        text-align: right;\n",
       "    }\n",
       "</style>\n",
       "<table border=\"1\" class=\"dataframe\">\n",
       "  <thead>\n",
       "    <tr style=\"text-align: right;\">\n",
       "      <th></th>\n",
       "      <th>Name</th>\n",
       "      <th>geometry</th>\n",
       "      <th>area</th>\n",
       "    </tr>\n",
       "  </thead>\n",
       "  <tbody>\n",
       "    <tr>\n",
       "      <th>34230</th>\n",
       "      <td>36UYA</td>\n",
       "      <td>POLYGON Z ((274633.875 5601067.675 0.000, 3840...</td>\n",
       "      <td>4969.360030</td>\n",
       "    </tr>\n",
       "    <tr>\n",
       "      <th>35116</th>\n",
       "      <td>37UCR</td>\n",
       "      <td>POLYGON Z ((300000.000 5600040.000 0.000, 4098...</td>\n",
       "      <td>4967.793448</td>\n",
       "    </tr>\n",
       "    <tr>\n",
       "      <th>34221</th>\n",
       "      <td>36UXA</td>\n",
       "      <td>POLYGON Z ((174935.494 5609149.063 0.000, 2844...</td>\n",
       "      <td>2730.416141</td>\n",
       "    </tr>\n",
       "    <tr>\n",
       "      <th>35125</th>\n",
       "      <td>37UDR</td>\n",
       "      <td>POLYGON Z ((399960.000 5600040.000 0.000, 5097...</td>\n",
       "      <td>1412.795662</td>\n",
       "    </tr>\n",
       "  </tbody>\n",
       "</table>\n",
       "</div>"
      ],
      "text/plain": [
       "        Name                                           geometry         area\n",
       "34230  36UYA  POLYGON Z ((274633.875 5601067.675 0.000, 3840...  4969.360030\n",
       "35116  37UCR  POLYGON Z ((300000.000 5600040.000 0.000, 4098...  4967.793448\n",
       "34221  36UXA  POLYGON Z ((174935.494 5609149.063 0.000, 2844...  2730.416141\n",
       "35125  37UDR  POLYGON Z ((399960.000 5600040.000 0.000, 5097...  1412.795662"
      ]
     },
     "execution_count": 190,
     "metadata": {},
     "output_type": "execute_result"
    }
   ],
   "source": [
    "sin.to_file(f\"/home/{NB_USER}/work/notebooks/planet/37UDR.geojson\", driver='GeoJSON')"
   ]
  },
  {
   "cell_type": "code",
   "execution_count": 127,
   "metadata": {},
   "outputs": [
    {
     "data": {
      "text/html": [
       "<div>\n",
       "<style scoped>\n",
       "    .dataframe tbody tr th:only-of-type {\n",
       "        vertical-align: middle;\n",
       "    }\n",
       "\n",
       "    .dataframe tbody tr th {\n",
       "        vertical-align: top;\n",
       "    }\n",
       "\n",
       "    .dataframe thead th {\n",
       "        text-align: right;\n",
       "    }\n",
       "</style>\n",
       "<table border=\"1\" class=\"dataframe\">\n",
       "  <thead>\n",
       "    <tr style=\"text-align: right;\">\n",
       "      <th></th>\n",
       "      <th>id</th>\n",
       "      <th>acquired</th>\n",
       "      <th>anomalous_pixels</th>\n",
       "      <th>black_fill</th>\n",
       "      <th>cloud_cover</th>\n",
       "      <th>columns</th>\n",
       "      <th>epsg_code</th>\n",
       "      <th>grid_cell</th>\n",
       "      <th>ground_control</th>\n",
       "      <th>gsd</th>\n",
       "      <th>...</th>\n",
       "      <th>cloud_percent</th>\n",
       "      <th>heavy_haze_percent</th>\n",
       "      <th>light_haze_percent</th>\n",
       "      <th>shadow_percent</th>\n",
       "      <th>snow_ice_percent</th>\n",
       "      <th>visible_confidence_percent</th>\n",
       "      <th>visible_percent</th>\n",
       "      <th>year</th>\n",
       "      <th>geometry</th>\n",
       "      <th>area</th>\n",
       "    </tr>\n",
       "  </thead>\n",
       "  <tbody>\n",
       "    <tr>\n",
       "      <th>35</th>\n",
       "      <td>20180824_073455_1020</td>\n",
       "      <td>2018-08-24T07:34:55</td>\n",
       "      <td>0.0</td>\n",
       "      <td>NaN</td>\n",
       "      <td>0.0</td>\n",
       "      <td>8455</td>\n",
       "      <td>32636</td>\n",
       "      <td>None</td>\n",
       "      <td>1</td>\n",
       "      <td>3.7</td>\n",
       "      <td>...</td>\n",
       "      <td>0.0</td>\n",
       "      <td>0.0</td>\n",
       "      <td>0.0</td>\n",
       "      <td>0.0</td>\n",
       "      <td>0.0</td>\n",
       "      <td>68.0</td>\n",
       "      <td>100.0</td>\n",
       "      <td>2018</td>\n",
       "      <td>POLYGON ((195249.089 5535690.663, 194700.261 5...</td>\n",
       "      <td>1.001674</td>\n",
       "    </tr>\n",
       "  </tbody>\n",
       "</table>\n",
       "<p>1 rows × 38 columns</p>\n",
       "</div>"
      ],
      "text/plain": [
       "                      id             acquired  anomalous_pixels  black_fill  \\\n",
       "35  20180824_073455_1020  2018-08-24T07:34:55               0.0         NaN   \n",
       "\n",
       "    cloud_cover  columns  epsg_code grid_cell ground_control  gsd  ...  \\\n",
       "35          0.0     8455      32636      None              1  3.7  ...   \n",
       "\n",
       "   cloud_percent  heavy_haze_percent  light_haze_percent  shadow_percent  \\\n",
       "35           0.0                 0.0                 0.0             0.0   \n",
       "\n",
       "   snow_ice_percent visible_confidence_percent  visible_percent  year  \\\n",
       "35              0.0                       68.0            100.0  2018   \n",
       "\n",
       "                                             geometry      area  \n",
       "35  POLYGON ((195249.089 5535690.663, 194700.261 5...  1.001674  \n",
       "\n",
       "[1 rows x 38 columns]"
      ]
     },
     "execution_count": 127,
     "metadata": {},
     "output_type": "execute_result"
    }
   ],
   "source": [
    "planet_intersected.tail(1)"
   ]
  },
  {
   "cell_type": "code",
   "execution_count": 62,
   "metadata": {},
   "outputs": [],
   "source": [
    "planet = planet_intersected[['id', 'acquired', 'geometry', 'area']]"
   ]
  },
  {
   "cell_type": "code",
   "execution_count": 63,
   "metadata": {},
   "outputs": [
    {
     "data": {
      "text/html": [
       "<div>\n",
       "<style scoped>\n",
       "    .dataframe tbody tr th:only-of-type {\n",
       "        vertical-align: middle;\n",
       "    }\n",
       "\n",
       "    .dataframe tbody tr th {\n",
       "        vertical-align: top;\n",
       "    }\n",
       "\n",
       "    .dataframe thead th {\n",
       "        text-align: right;\n",
       "    }\n",
       "</style>\n",
       "<table border=\"1\" class=\"dataframe\">\n",
       "  <thead>\n",
       "    <tr style=\"text-align: right;\">\n",
       "      <th></th>\n",
       "      <th>id</th>\n",
       "      <th>acquired</th>\n",
       "      <th>geometry</th>\n",
       "      <th>area</th>\n",
       "    </tr>\n",
       "  </thead>\n",
       "  <tbody>\n",
       "    <tr>\n",
       "      <th>35</th>\n",
       "      <td>20180824_073455_1020</td>\n",
       "      <td>2018-08-24T07:34:55</td>\n",
       "      <td>POLYGON ((195249.089 5535690.663, 194700.261 5...</td>\n",
       "      <td>1.001674</td>\n",
       "    </tr>\n",
       "  </tbody>\n",
       "</table>\n",
       "</div>"
      ],
      "text/plain": [
       "                      id             acquired  \\\n",
       "35  20180824_073455_1020  2018-08-24T07:34:55   \n",
       "\n",
       "                                             geometry      area  \n",
       "35  POLYGON ((195249.089 5535690.663, 194700.261 5...  1.001674  "
      ]
     },
     "execution_count": 63,
     "metadata": {},
     "output_type": "execute_result"
    }
   ],
   "source": [
    "planet.tail(1)"
   ]
  },
  {
   "cell_type": "code",
   "execution_count": 137,
   "metadata": {},
   "outputs": [],
   "source": [
    "def overlap(bound_box, grid, *, limit: float = 0.001):\n",
    "    \"\"\"\n",
    "    Find unique tiles that intersects given aoi, area\n",
    "    :param limit: float, min intersection area in km2\n",
    "    :return: list, list of tiles\n",
    "    \"\"\"\n",
    "\n",
    "    intersected_grid, epsg = _intersect(bound_box, grid)\n",
    "    print(intersected_grid)\n",
    "    print(bound_box)\n",
    "\n",
    "    aoi = bound_box.copy()\n",
    "    overlap_tiles = list()\n",
    "    for row in intersected_grid.itertuples():\n",
    "        start_area = aoi.geometry[0].area\n",
    "        instersection_geometry = aoi.geometry[0].intersection(row.geometry)\n",
    "        aoi.geometry[0] = aoi.geometry[0].difference(row.geometry)\n",
    "        print(\"START AREA\", start_area)\n",
    "        print(\"END AREA\", aoi.geometry[0].area)\n",
    "        \n",
    "        print(\"INTERSECTION GEOMETRY\", instersection_geometry)\n",
    "        if start_area != aoi.geometry[0].area:\n",
    "            overlap_tiles.append(dict(Name=row.Name, geometry=instersection_geometry))\n",
    "\n",
    "    if not overlap_tiles:\n",
    "        return\n",
    "\n",
    "    tiles = gpd.GeoDataFrame(overlap_tiles, crs=epsg)\n",
    "    tiles = tiles.to_crs(\"epsg:4326\")\n",
    "\n",
    "    \n",
    "    return tiles"
   ]
  },
  {
   "cell_type": "code",
   "execution_count": 144,
   "metadata": {},
   "outputs": [],
   "source": [
    "b = bbox.copy()"
   ]
  },
  {
   "cell_type": "code",
   "execution_count": 145,
   "metadata": {},
   "outputs": [
    {
     "data": {
      "text/html": [
       "<div>\n",
       "<style scoped>\n",
       "    .dataframe tbody tr th:only-of-type {\n",
       "        vertical-align: middle;\n",
       "    }\n",
       "\n",
       "    .dataframe tbody tr th {\n",
       "        vertical-align: top;\n",
       "    }\n",
       "\n",
       "    .dataframe thead th {\n",
       "        text-align: right;\n",
       "    }\n",
       "</style>\n",
       "<table border=\"1\" class=\"dataframe\">\n",
       "  <thead>\n",
       "    <tr style=\"text-align: right;\">\n",
       "      <th></th>\n",
       "      <th>geometry</th>\n",
       "    </tr>\n",
       "  </thead>\n",
       "  <tbody>\n",
       "    <tr>\n",
       "      <th>0</th>\n",
       "      <td>POLYGON ((38.04050 49.76728, 38.04050 50.17392...</td>\n",
       "    </tr>\n",
       "  </tbody>\n",
       "</table>\n",
       "</div>"
      ],
      "text/plain": [
       "                                            geometry\n",
       "0  POLYGON ((38.04050 49.76728, 38.04050 50.17392..."
      ]
     },
     "execution_count": 145,
     "metadata": {},
     "output_type": "execute_result"
    }
   ],
   "source": [
    "b"
   ]
  },
  {
   "cell_type": "code",
   "execution_count": 146,
   "metadata": {},
   "outputs": [
    {
     "name": "stdout",
     "output_type": "stream",
     "text": [
      "        Name                                           geometry         area\n",
      "34230  36UYA  POLYGON Z ((274633.875 5601067.675 0.000, 3840...  4969.360030\n",
      "35116  37UCR  POLYGON Z ((300000.000 5600040.000 0.000, 4098...  4967.793448\n",
      "34221  36UXA  POLYGON Z ((174935.494 5609149.063 0.000, 2844...  2730.416141\n",
      "35125  37UDR  POLYGON Z ((399960.000 5600040.000 0.000, 5097...  1412.795662\n",
      "                                            geometry\n",
      "0  POLYGON ((430904.371 5513198.558, 431484.158 5...\n",
      "START AREA 9586715289.184702\n",
      "END AREA 4617355259.048197\n",
      "INTERSECTION GEOMETRY POLYGON Z ((271622.32592192 5563634.889476194 0, 381441.0127221352 5560044.819316789 0, 377812.6482019669 5514923.862967169 0, 267990.5404006586 5518492.717384906 0, 271622.32592192 5563634.889476194 0))\n",
      "START AREA 4617355259.048197\n",
      "END AREA 3252433371.6243362\n",
      "INTERSECTION GEOMETRY POLYGON Z ((381441.0127221352 5560044.819316789 0, 409800.0000023523 5559117.738899493 0, 409800.0000082137 5513884.38007897 0, 377812.6482019669 5514923.862967169 0, 381441.0127221352 5560044.819316789 0))\n",
      "START AREA 3252433371.6243362\n",
      "END AREA 967690010.1734679\n",
      "INTERSECTION GEOMETRY POLYGON Z ((267990.5404006586 5518492.717384906 0, 218148.1490089701 5520112.429866026 0, 220516.0539010092 5565305.598783386 0, 271622.32592192 5563634.889476194 0, 267990.5404006586 5518492.717384906 0))\n",
      "START AREA 967690010.1734679\n",
      "END AREA 0.0\n",
      "INTERSECTION GEOMETRY POLYGON Z ((409800.0000023523 5559117.738899493 0, 431484.1578174647 5558408.864570614 0, 430904.371349153 5513198.557976284 0, 409800.0000082137 5513884.38007897 0, 409800.0000023523 5559117.738899493 0))\n"
     ]
    }
   ],
   "source": [
    "stiles = overlap(b, sentinel_tiles)"
   ]
  },
  {
   "cell_type": "code",
   "execution_count": 147,
   "metadata": {},
   "outputs": [
    {
     "data": {
      "text/html": [
       "<div>\n",
       "<style scoped>\n",
       "    .dataframe tbody tr th:only-of-type {\n",
       "        vertical-align: middle;\n",
       "    }\n",
       "\n",
       "    .dataframe tbody tr th {\n",
       "        vertical-align: top;\n",
       "    }\n",
       "\n",
       "    .dataframe thead th {\n",
       "        text-align: right;\n",
       "    }\n",
       "</style>\n",
       "<table border=\"1\" class=\"dataframe\">\n",
       "  <thead>\n",
       "    <tr style=\"text-align: right;\">\n",
       "      <th></th>\n",
       "      <th>Name</th>\n",
       "      <th>geometry</th>\n",
       "    </tr>\n",
       "  </thead>\n",
       "  <tbody>\n",
       "    <tr>\n",
       "      <th>0</th>\n",
       "      <td>36UYA</td>\n",
       "      <td>POLYGON Z ((35.80104 50.18082 0.00000, 37.3394...</td>\n",
       "    </tr>\n",
       "    <tr>\n",
       "      <th>1</th>\n",
       "      <td>37UCR</td>\n",
       "      <td>POLYGON Z ((37.33942 50.18073 0.00000, 37.7367...</td>\n",
       "    </tr>\n",
       "    <tr>\n",
       "      <th>2</th>\n",
       "      <td>36UXA</td>\n",
       "      <td>POLYGON Z ((35.77747 49.77405 0.00000, 35.0855...</td>\n",
       "    </tr>\n",
       "    <tr>\n",
       "      <th>3</th>\n",
       "      <td>37UDR</td>\n",
       "      <td>POLYGON Z ((37.73673 50.17739 0.00000, 38.0405...</td>\n",
       "    </tr>\n",
       "  </tbody>\n",
       "</table>\n",
       "</div>"
      ],
      "text/plain": [
       "    Name                                           geometry\n",
       "0  36UYA  POLYGON Z ((35.80104 50.18082 0.00000, 37.3394...\n",
       "1  37UCR  POLYGON Z ((37.33942 50.18073 0.00000, 37.7367...\n",
       "2  36UXA  POLYGON Z ((35.77747 49.77405 0.00000, 35.0855...\n",
       "3  37UDR  POLYGON Z ((37.73673 50.17739 0.00000, 38.0405..."
      ]
     },
     "execution_count": 147,
     "metadata": {},
     "output_type": "execute_result"
    }
   ],
   "source": [
    "stiles"
   ]
  },
  {
   "cell_type": "code",
   "execution_count": 66,
   "metadata": {},
   "outputs": [
    {
     "data": {
      "text/html": [
       "<div>\n",
       "<style scoped>\n",
       "    .dataframe tbody tr th:only-of-type {\n",
       "        vertical-align: middle;\n",
       "    }\n",
       "\n",
       "    .dataframe tbody tr th {\n",
       "        vertical-align: top;\n",
       "    }\n",
       "\n",
       "    .dataframe thead th {\n",
       "        text-align: right;\n",
       "    }\n",
       "</style>\n",
       "<table border=\"1\" class=\"dataframe\">\n",
       "  <thead>\n",
       "    <tr style=\"text-align: right;\">\n",
       "      <th></th>\n",
       "      <th>id</th>\n",
       "      <th>geometry</th>\n",
       "    </tr>\n",
       "  </thead>\n",
       "  <tbody>\n",
       "    <tr>\n",
       "      <th>0</th>\n",
       "      <td>None</td>\n",
       "      <td>MULTIPOLYGON (((35.27423 50.12803, 35.41354 50...</td>\n",
       "    </tr>\n",
       "    <tr>\n",
       "      <th>1</th>\n",
       "      <td>None</td>\n",
       "      <td>MULTIPOLYGON (((35.08580 50.17168, 35.18946 50...</td>\n",
       "    </tr>\n",
       "    <tr>\n",
       "      <th>2</th>\n",
       "      <td>None</td>\n",
       "      <td>MULTIPOLYGON (((37.62633 50.06614, 38.03014 50...</td>\n",
       "    </tr>\n",
       "  </tbody>\n",
       "</table>\n",
       "</div>"
      ],
      "text/plain": [
       "     id                                           geometry\n",
       "0  None  MULTIPOLYGON (((35.27423 50.12803, 35.41354 50...\n",
       "1  None  MULTIPOLYGON (((35.08580 50.17168, 35.18946 50...\n",
       "2  None  MULTIPOLYGON (((37.62633 50.06614, 38.03014 50..."
      ]
     },
     "execution_count": 66,
     "metadata": {},
     "output_type": "execute_result"
    }
   ],
   "source": [
    "aoi"
   ]
  },
  {
   "cell_type": "code",
   "execution_count": 67,
   "metadata": {},
   "outputs": [],
   "source": [
    "start_area = bbox.geometry[0].area"
   ]
  },
  {
   "cell_type": "code",
   "execution_count": 73,
   "metadata": {},
   "outputs": [
    {
     "data": {
      "text/plain": [
       "9586715289.184702"
      ]
     },
     "execution_count": 73,
     "metadata": {},
     "output_type": "execute_result"
    }
   ],
   "source": [
    "start_area"
   ]
  },
  {
   "cell_type": "code",
   "execution_count": 77,
   "metadata": {},
   "outputs": [
    {
     "name": "stdout",
     "output_type": "stream",
     "text": [
      "POLYGON ((284448.64255735 5551523.353719053, 287794.1144414392 5534581.319095265, 313284.2648012205 5539584.88111339, 309939.2510644832 5556574.093072873, 284448.64255735 5551523.353719053))\n"
     ]
    }
   ],
   "source": [
    "print(planet.iloc[0].geometry)"
   ]
  },
  {
   "cell_type": "code",
   "execution_count": 75,
   "metadata": {},
   "outputs": [
    {
     "data": {
      "text/html": [
       "<div>\n",
       "<style scoped>\n",
       "    .dataframe tbody tr th:only-of-type {\n",
       "        vertical-align: middle;\n",
       "    }\n",
       "\n",
       "    .dataframe tbody tr th {\n",
       "        vertical-align: top;\n",
       "    }\n",
       "\n",
       "    .dataframe thead th {\n",
       "        text-align: right;\n",
       "    }\n",
       "</style>\n",
       "<table border=\"1\" class=\"dataframe\">\n",
       "  <thead>\n",
       "    <tr style=\"text-align: right;\">\n",
       "      <th></th>\n",
       "      <th>id</th>\n",
       "      <th>acquired</th>\n",
       "      <th>geometry</th>\n",
       "      <th>area</th>\n",
       "    </tr>\n",
       "  </thead>\n",
       "  <tbody>\n",
       "    <tr>\n",
       "      <th>299</th>\n",
       "      <td>20191008_080906_11_1065</td>\n",
       "      <td>2019-10-08T08:09:06</td>\n",
       "      <td>POLYGON ((284448.643 5551523.354, 287794.114 5...</td>\n",
       "      <td>449.277215</td>\n",
       "    </tr>\n",
       "  </tbody>\n",
       "</table>\n",
       "</div>"
      ],
      "text/plain": [
       "                          id             acquired  \\\n",
       "299  20191008_080906_11_1065  2019-10-08T08:09:06   \n",
       "\n",
       "                                              geometry        area  \n",
       "299  POLYGON ((284448.643 5551523.354, 287794.114 5...  449.277215  "
      ]
     },
     "execution_count": 75,
     "metadata": {},
     "output_type": "execute_result"
    }
   ],
   "source": [
    "planet.head(1)"
   ]
  },
  {
   "cell_type": "code",
   "execution_count": 85,
   "metadata": {},
   "outputs": [],
   "source": []
  },
  {
   "cell_type": "code",
   "execution_count": 88,
   "metadata": {},
   "outputs": [
    {
     "data": {
      "text/html": [
       "<div>\n",
       "<style scoped>\n",
       "    .dataframe tbody tr th:only-of-type {\n",
       "        vertical-align: middle;\n",
       "    }\n",
       "\n",
       "    .dataframe tbody tr th {\n",
       "        vertical-align: top;\n",
       "    }\n",
       "\n",
       "    .dataframe thead th {\n",
       "        text-align: right;\n",
       "    }\n",
       "</style>\n",
       "<table border=\"1\" class=\"dataframe\">\n",
       "  <thead>\n",
       "    <tr style=\"text-align: right;\">\n",
       "      <th></th>\n",
       "      <th>geometry</th>\n",
       "    </tr>\n",
       "  </thead>\n",
       "  <tbody>\n",
       "    <tr>\n",
       "      <th>0</th>\n",
       "      <td>POLYGON ((430904.371 5513198.558, 218148.149 5...</td>\n",
       "    </tr>\n",
       "  </tbody>\n",
       "</table>\n",
       "</div>"
      ],
      "text/plain": [
       "                                            geometry\n",
       "0  POLYGON ((430904.371 5513198.558, 218148.149 5..."
      ]
     },
     "execution_count": 88,
     "metadata": {},
     "output_type": "execute_result"
    }
   ],
   "source": [
    "b.geometry[0] = b.geometry[0].difference(planet.iloc[1].geometry)\n",
    "b"
   ]
  },
  {
   "cell_type": "code",
   "execution_count": 93,
   "metadata": {},
   "outputs": [
    {
     "data": {
      "image/svg+xml": [
       "<svg xmlns=\"http://www.w3.org/2000/svg\" xmlns:xlink=\"http://www.w3.org/1999/xlink\" width=\"300\" height=\"300\" viewBox=\"393762.48882007843 5521327.8498238 30947.902775258815 24510.303323104978\" preserveAspectRatio=\"xMinYMin meet\"><g transform=\"matrix(1,0,0,-1,0,11067166.002970705)\"><path fill-rule=\"evenodd\" fill=\"#66cc99\" stroke=\"#555555\" stroke-width=\"206.31935183505877\" opacity=\"0.6\" d=\"M 394908.7074413843,5539082.494914407 L 419819.84335115715,5544691.934525599 L 423564.17297403136,5528081.9451701995 L 398652.2241685532,5522474.068445106 L 394908.7074413843,5539082.494914407 z\" /></g></svg>"
      ],
      "text/plain": [
       "<shapely.geometry.polygon.Polygon at 0x7f2e8006f510>"
      ]
     },
     "execution_count": 93,
     "metadata": {},
     "output_type": "execute_result"
    }
   ],
   "source": [
    "b.geometry[0].intersection(planet.iloc[2].geometry)"
   ]
  },
  {
   "cell_type": "code",
   "execution_count": 89,
   "metadata": {},
   "outputs": [
    {
     "data": {
      "image/svg+xml": [
       "<svg xmlns=\"http://www.w3.org/2000/svg\" xmlns:xlink=\"http://www.w3.org/1999/xlink\" width=\"300\" height=\"300\" viewBox=\"209614.70865663028 5504665.117623944 230402.88951317422 69173.92151178233\" preserveAspectRatio=\"xMinYMin meet\"><g transform=\"matrix(1,0,0,-1,0,11078504.15675967)\"><path fill-rule=\"evenodd\" fill=\"#66cc99\" stroke=\"#555555\" stroke-width=\"1536.0192634211614\" opacity=\"0.6\" d=\"M 430904.371349153,5513198.557976284 L 218148.14900897007,5520112.429866026 L 219025.46178640283,5536856.57557778 L 245279.30666050612,5541563.265049733 L 242106.55149577576,5559117.157203198 L 219980.4858341974,5555083.896808977 L 220516.0539010092,5565305.598783386 L 431484.15781746473,5558408.864570614 L 430904.371349153,5513198.557976284 z M 284448.64255735,5551523.353719053 L 287794.1144414392,5534581.319095265 L 313284.2648012205,5539584.88111339 L 309939.2510644832,5556574.093072873 L 284448.64255735,5551523.353719053 z\" /></g></svg>"
      ],
      "text/plain": [
       "<shapely.geometry.polygon.Polygon at 0x7f2ea0ae68d0>"
      ]
     },
     "execution_count": 89,
     "metadata": {},
     "output_type": "execute_result"
    }
   ],
   "source": [
    "b.geometry[0] "
   ]
  },
  {
   "cell_type": "code",
   "execution_count": 87,
   "metadata": {},
   "outputs": [
    {
     "data": {
      "image/svg+xml": [
       "<svg xmlns=\"http://www.w3.org/2000/svg\" xmlns:xlink=\"http://www.w3.org/1999/xlink\" width=\"300\" height=\"300\" viewBox=\"209614.70865663028 5504665.117623944 230402.88951317422 69173.92151178233\" preserveAspectRatio=\"xMinYMin meet\"><g transform=\"matrix(1,0,0,-1,0,11078504.15675967)\"><path fill-rule=\"evenodd\" fill=\"#66cc99\" stroke=\"#555555\" stroke-width=\"1536.0192634211614\" opacity=\"0.6\" d=\"M 430904.371349153,5513198.557976284 L 218148.14900897007,5520112.429866026 L 220516.0539010092,5565305.598783386 L 431484.15781746473,5558408.864570614 L 430904.371349153,5513198.557976284 z M 284448.64255735,5551523.353719053 L 287794.1144414392,5534581.319095265 L 313284.2648012205,5539584.88111339 L 309939.2510644832,5556574.093072873 L 284448.64255735,5551523.353719053 z\" /></g></svg>"
      ],
      "text/plain": [
       "<shapely.geometry.polygon.Polygon at 0x7f2e813c1790>"
      ]
     },
     "execution_count": 87,
     "metadata": {},
     "output_type": "execute_result"
    }
   ],
   "source": [
    "b.geometry[0] "
   ]
  },
  {
   "cell_type": "code",
   "execution_count": null,
   "metadata": {},
   "outputs": [],
   "source": [
    "intersected_grid = intersected_grid.loc[grid.intersects(geometry)]"
   ]
  },
  {
   "cell_type": "code",
   "execution_count": null,
   "metadata": {},
   "outputs": [],
   "source": []
  },
  {
   "cell_type": "code",
   "execution_count": null,
   "metadata": {},
   "outputs": [],
   "source": []
  },
  {
   "cell_type": "code",
   "execution_count": 90,
   "metadata": {},
   "outputs": [
    {
     "data": {
      "text/html": [
       "<div>\n",
       "<style scoped>\n",
       "    .dataframe tbody tr th:only-of-type {\n",
       "        vertical-align: middle;\n",
       "    }\n",
       "\n",
       "    .dataframe tbody tr th {\n",
       "        vertical-align: top;\n",
       "    }\n",
       "\n",
       "    .dataframe thead th {\n",
       "        text-align: right;\n",
       "    }\n",
       "</style>\n",
       "<table border=\"1\" class=\"dataframe\">\n",
       "  <thead>\n",
       "    <tr style=\"text-align: right;\">\n",
       "      <th></th>\n",
       "      <th>Name</th>\n",
       "      <th>geometry</th>\n",
       "    </tr>\n",
       "  </thead>\n",
       "  <tbody>\n",
       "    <tr>\n",
       "      <th>33263</th>\n",
       "      <td>35UQP</td>\n",
       "      <td>POLYGON Z ((29.71882 48.72093 0.00000, 31.2082...</td>\n",
       "    </tr>\n",
       "  </tbody>\n",
       "</table>\n",
       "</div>"
      ],
      "text/plain": [
       "        Name                                           geometry\n",
       "33263  35UQP  POLYGON Z ((29.71882 48.72093 0.00000, 31.2082..."
      ]
     },
     "execution_count": 90,
     "metadata": {},
     "output_type": "execute_result"
    }
   ],
   "source": [
    "sentinel_tiles.loc[sentinel_tiles.Name == '35UQP']"
   ]
  },
  {
   "cell_type": "code",
   "execution_count": null,
   "metadata": {},
   "outputs": [],
   "source": []
  },
  {
   "cell_type": "code",
   "execution_count": 196,
   "metadata": {},
   "outputs": [],
   "source": [
    "def get_tiles(bbox, sentinel_tiles_path):\n",
    "    '''\n",
    "    Returns Sentinel-2 tiles that intersects with specified AoI.\n",
    "\n",
    "    '''\n",
    "    aoi_file = bbox #gpd.read_file(aoi_path)\n",
    "    sentinel_tiles = gpd.read_file(sentinel_tiles_path)\n",
    "    sentinel_tiles.set_index(\"Name\", drop=False, inplace=True)\n",
    "\n",
    "    best_interseciton = {\"tileID\": [], \"geometry\": []}\n",
    "    rest_aoi = aoi_file.copy()\n",
    "\n",
    "    while rest_aoi.area.sum() > 0:\n",
    "        res_intersection = gpd.overlay(rest_aoi, sentinel_tiles, how=\"intersection\")\n",
    "        biggest_area_idx = res_intersection.area.argmax()\n",
    "\n",
    "        tileID = res_intersection.loc[biggest_area_idx, \"Name\"]\n",
    "        this_aoi = res_intersection.loc[biggest_area_idx, \"geometry\"]\n",
    "\n",
    "        best_interseciton[\"tileID\"].append(tileID)\n",
    "        best_interseciton[\"geometry\"].append(this_aoi)\n",
    "\n",
    "        biggest_intersection = sentinel_tiles.loc[[tileID]]\n",
    "        rest_aoi = gpd.overlay(rest_aoi, biggest_intersection, how=\"difference\")\n",
    "        sentinel_tiles = sentinel_tiles.loc[res_intersection[\"Name\"]]\n",
    "\n",
    "    date_tile_info = gpd.GeoDataFrame(best_interseciton)\n",
    "    date_tile_info.crs = aoi_file.crs\n",
    "    \n",
    "    return date_tile_info\n"
   ]
  },
  {
   "cell_type": "code",
   "execution_count": 228,
   "metadata": {},
   "outputs": [],
   "source": [
    "def get_tiles(sin, bbox):\n",
    "    '''\n",
    "    Returns Sentinel-2 tiles that intersects with specified AoI.\n",
    "\n",
    "    '''\n",
    "    aoi_file = bbox\n",
    "    sentinel_tiles = sin\n",
    "    sentinel_tiles.set_index(\"id\", drop=False, inplace=True)\n",
    "    # print(sentinel_tiles)\n",
    "\n",
    "    best_interseciton = {\"tileID\": [], \"geometry\": []}\n",
    "    rest_aoi = aoi_file.copy()\n",
    "\n",
    "    while rest_aoi.area.sum() > 0:\n",
    "        res_intersection = gpd.overlay(rest_aoi, sentinel_tiles, how=\"intersection\")\n",
    "        biggest_area_idx = res_intersection.area.argmax()\n",
    "\n",
    "        tileID = res_intersection.loc[biggest_area_idx, \"id\"]\n",
    "        this_aoi = res_intersection.loc[biggest_area_idx, \"geometry\"]\n",
    "\n",
    "        best_interseciton[\"tileID\"].append(tileID)\n",
    "        best_interseciton[\"geometry\"].append(this_aoi)\n",
    "\n",
    "        biggest_intersection = sentinel_tiles.loc[[tileID]]\n",
    "        rest_aoi = gpd.overlay(rest_aoi, biggest_intersection, how=\"difference\")\n",
    "        sentinel_tiles = sentinel_tiles.loc[res_intersection[\"id\"]]\n",
    "\n",
    "    date_tile_info = gpd.GeoDataFrame(best_interseciton)\n",
    "    date_tile_info.crs = aoi_file.crs\n",
    "    \n",
    "    return date_tile_info"
   ]
  },
  {
   "cell_type": "code",
   "execution_count": 223,
   "metadata": {
    "collapsed": true,
    "jupyter": {
     "outputs_hidden": true
    }
   },
   "outputs": [
    {
     "data": {
      "text/html": [
       "<div>\n",
       "<style scoped>\n",
       "    .dataframe tbody tr th:only-of-type {\n",
       "        vertical-align: middle;\n",
       "    }\n",
       "\n",
       "    .dataframe tbody tr th {\n",
       "        vertical-align: top;\n",
       "    }\n",
       "\n",
       "    .dataframe thead th {\n",
       "        text-align: right;\n",
       "    }\n",
       "</style>\n",
       "<table border=\"1\" class=\"dataframe\">\n",
       "  <thead>\n",
       "    <tr style=\"text-align: right;\">\n",
       "      <th></th>\n",
       "      <th>id</th>\n",
       "      <th>acquired</th>\n",
       "      <th>anomalous_pixels</th>\n",
       "      <th>black_fill</th>\n",
       "      <th>cloud_cover</th>\n",
       "      <th>columns</th>\n",
       "      <th>epsg_code</th>\n",
       "      <th>grid_cell</th>\n",
       "      <th>ground_control</th>\n",
       "      <th>gsd</th>\n",
       "      <th>...</th>\n",
       "      <th>clear_percent</th>\n",
       "      <th>cloud_percent</th>\n",
       "      <th>heavy_haze_percent</th>\n",
       "      <th>light_haze_percent</th>\n",
       "      <th>shadow_percent</th>\n",
       "      <th>snow_ice_percent</th>\n",
       "      <th>visible_confidence_percent</th>\n",
       "      <th>visible_percent</th>\n",
       "      <th>year</th>\n",
       "      <th>geometry</th>\n",
       "    </tr>\n",
       "  </thead>\n",
       "  <tbody>\n",
       "    <tr>\n",
       "      <th>0</th>\n",
       "      <td>1336590_3761711_2018-04-08_1021</td>\n",
       "      <td>2018-04-08T07:51:44</td>\n",
       "      <td>0.01</td>\n",
       "      <td>0.34</td>\n",
       "      <td>0.006</td>\n",
       "      <td>8000</td>\n",
       "      <td>32637</td>\n",
       "      <td>3761711</td>\n",
       "      <td>1</td>\n",
       "      <td>3.9</td>\n",
       "      <td>...</td>\n",
       "      <td>NaN</td>\n",
       "      <td>NaN</td>\n",
       "      <td>NaN</td>\n",
       "      <td>NaN</td>\n",
       "      <td>NaN</td>\n",
       "      <td>NaN</td>\n",
       "      <td>NaN</td>\n",
       "      <td>NaN</td>\n",
       "      <td>2018</td>\n",
       "      <td>POLYGON ((37.68174 48.95690, 37.67582 49.18171...</td>\n",
       "    </tr>\n",
       "    <tr>\n",
       "      <th>1</th>\n",
       "      <td>1336590_3761811_2018-04-08_1021</td>\n",
       "      <td>2018-04-08T07:51:41</td>\n",
       "      <td>0.01</td>\n",
       "      <td>0.10</td>\n",
       "      <td>0.012</td>\n",
       "      <td>8000</td>\n",
       "      <td>32637</td>\n",
       "      <td>3761811</td>\n",
       "      <td>1</td>\n",
       "      <td>3.9</td>\n",
       "      <td>...</td>\n",
       "      <td>NaN</td>\n",
       "      <td>NaN</td>\n",
       "      <td>NaN</td>\n",
       "      <td>NaN</td>\n",
       "      <td>NaN</td>\n",
       "      <td>NaN</td>\n",
       "      <td>NaN</td>\n",
       "      <td>NaN</td>\n",
       "      <td>2018</td>\n",
       "      <td>POLYGON ((37.67603 49.17274, 37.67002 49.39752...</td>\n",
       "    </tr>\n",
       "    <tr>\n",
       "      <th>2</th>\n",
       "      <td>1336590_3761911_2018-04-08_1021</td>\n",
       "      <td>2018-04-08T07:51:38</td>\n",
       "      <td>0.01</td>\n",
       "      <td>0.14</td>\n",
       "      <td>0.007</td>\n",
       "      <td>8000</td>\n",
       "      <td>32637</td>\n",
       "      <td>3761911</td>\n",
       "      <td>1</td>\n",
       "      <td>3.9</td>\n",
       "      <td>...</td>\n",
       "      <td>NaN</td>\n",
       "      <td>NaN</td>\n",
       "      <td>NaN</td>\n",
       "      <td>NaN</td>\n",
       "      <td>NaN</td>\n",
       "      <td>NaN</td>\n",
       "      <td>NaN</td>\n",
       "      <td>NaN</td>\n",
       "      <td>2018</td>\n",
       "      <td>POLYGON ((37.67025 49.38852, 37.66974 49.40701...</td>\n",
       "    </tr>\n",
       "    <tr>\n",
       "      <th>3</th>\n",
       "      <td>1336590_3761912_2018-04-08_1021</td>\n",
       "      <td>2018-04-08T07:51:37</td>\n",
       "      <td>0.00</td>\n",
       "      <td>0.78</td>\n",
       "      <td>0.002</td>\n",
       "      <td>8000</td>\n",
       "      <td>32637</td>\n",
       "      <td>3761912</td>\n",
       "      <td>1</td>\n",
       "      <td>3.9</td>\n",
       "      <td>...</td>\n",
       "      <td>NaN</td>\n",
       "      <td>NaN</td>\n",
       "      <td>NaN</td>\n",
       "      <td>NaN</td>\n",
       "      <td>NaN</td>\n",
       "      <td>NaN</td>\n",
       "      <td>NaN</td>\n",
       "      <td>NaN</td>\n",
       "      <td>2018</td>\n",
       "      <td>POLYGON ((38.00088 49.39190, 37.99633 49.61669...</td>\n",
       "    </tr>\n",
       "    <tr>\n",
       "      <th>4</th>\n",
       "      <td>1336590_3762011_2018-04-08_1021</td>\n",
       "      <td>2018-04-08T07:51:35</td>\n",
       "      <td>0.01</td>\n",
       "      <td>0.38</td>\n",
       "      <td>0.011</td>\n",
       "      <td>8000</td>\n",
       "      <td>32637</td>\n",
       "      <td>3762011</td>\n",
       "      <td>1</td>\n",
       "      <td>3.9</td>\n",
       "      <td>...</td>\n",
       "      <td>NaN</td>\n",
       "      <td>NaN</td>\n",
       "      <td>NaN</td>\n",
       "      <td>NaN</td>\n",
       "      <td>NaN</td>\n",
       "      <td>NaN</td>\n",
       "      <td>NaN</td>\n",
       "      <td>NaN</td>\n",
       "      <td>2018</td>\n",
       "      <td>POLYGON ((37.74534 49.60515, 37.82808 49.83089...</td>\n",
       "    </tr>\n",
       "    <tr>\n",
       "      <th>...</th>\n",
       "      <td>...</td>\n",
       "      <td>...</td>\n",
       "      <td>...</td>\n",
       "      <td>...</td>\n",
       "      <td>...</td>\n",
       "      <td>...</td>\n",
       "      <td>...</td>\n",
       "      <td>...</td>\n",
       "      <td>...</td>\n",
       "      <td>...</td>\n",
       "      <td>...</td>\n",
       "      <td>...</td>\n",
       "      <td>...</td>\n",
       "      <td>...</td>\n",
       "      <td>...</td>\n",
       "      <td>...</td>\n",
       "      <td>...</td>\n",
       "      <td>...</td>\n",
       "      <td>...</td>\n",
       "      <td>...</td>\n",
       "      <td>...</td>\n",
       "    </tr>\n",
       "    <tr>\n",
       "      <th>5441</th>\n",
       "      <td>764087_3761816_2017-09-17_0f38</td>\n",
       "      <td>2017-09-17T07:35:24</td>\n",
       "      <td>0.00</td>\n",
       "      <td>0.12</td>\n",
       "      <td>0.001</td>\n",
       "      <td>8000</td>\n",
       "      <td>32637</td>\n",
       "      <td>3761816</td>\n",
       "      <td>1</td>\n",
       "      <td>4.0</td>\n",
       "      <td>...</td>\n",
       "      <td>NaN</td>\n",
       "      <td>NaN</td>\n",
       "      <td>NaN</td>\n",
       "      <td>NaN</td>\n",
       "      <td>NaN</td>\n",
       "      <td>NaN</td>\n",
       "      <td>NaN</td>\n",
       "      <td>NaN</td>\n",
       "      <td>2017</td>\n",
       "      <td>POLYGON ((39.57334 49.17874, 39.32245 49.17987...</td>\n",
       "    </tr>\n",
       "    <tr>\n",
       "      <th>5442</th>\n",
       "      <td>764087_3761915_2017-09-17_0f38</td>\n",
       "      <td>2017-09-17T07:35:22</td>\n",
       "      <td>0.00</td>\n",
       "      <td>0.96</td>\n",
       "      <td>0.000</td>\n",
       "      <td>8000</td>\n",
       "      <td>32637</td>\n",
       "      <td>3761915</td>\n",
       "      <td>1</td>\n",
       "      <td>4.0</td>\n",
       "      <td>...</td>\n",
       "      <td>NaN</td>\n",
       "      <td>NaN</td>\n",
       "      <td>NaN</td>\n",
       "      <td>NaN</td>\n",
       "      <td>NaN</td>\n",
       "      <td>NaN</td>\n",
       "      <td>NaN</td>\n",
       "      <td>NaN</td>\n",
       "      <td>2017</td>\n",
       "      <td>POLYGON ((39.32507 49.39568, 39.29348 49.39601...</td>\n",
       "    </tr>\n",
       "    <tr>\n",
       "      <th>5443</th>\n",
       "      <td>764087_3761916_2017-09-17_0f38</td>\n",
       "      <td>2017-09-17T07:35:21</td>\n",
       "      <td>0.00</td>\n",
       "      <td>0.06</td>\n",
       "      <td>0.000</td>\n",
       "      <td>8000</td>\n",
       "      <td>32637</td>\n",
       "      <td>3761916</td>\n",
       "      <td>1</td>\n",
       "      <td>4.0</td>\n",
       "      <td>...</td>\n",
       "      <td>NaN</td>\n",
       "      <td>NaN</td>\n",
       "      <td>NaN</td>\n",
       "      <td>NaN</td>\n",
       "      <td>NaN</td>\n",
       "      <td>NaN</td>\n",
       "      <td>NaN</td>\n",
       "      <td>NaN</td>\n",
       "      <td>2017</td>\n",
       "      <td>POLYGON ((39.65878 49.39427, 39.32386 49.39572...</td>\n",
       "    </tr>\n",
       "    <tr>\n",
       "      <th>5444</th>\n",
       "      <td>764087_3761917_2017-09-17_0f38</td>\n",
       "      <td>2017-09-17T07:35:20</td>\n",
       "      <td>0.00</td>\n",
       "      <td>0.85</td>\n",
       "      <td>0.000</td>\n",
       "      <td>8000</td>\n",
       "      <td>32637</td>\n",
       "      <td>3761917</td>\n",
       "      <td>1</td>\n",
       "      <td>4.0</td>\n",
       "      <td>...</td>\n",
       "      <td>NaN</td>\n",
       "      <td>NaN</td>\n",
       "      <td>NaN</td>\n",
       "      <td>NaN</td>\n",
       "      <td>NaN</td>\n",
       "      <td>NaN</td>\n",
       "      <td>NaN</td>\n",
       "      <td>NaN</td>\n",
       "      <td>2017</td>\n",
       "      <td>POLYGON ((39.66190 49.39425, 39.65460 49.39436...</td>\n",
       "    </tr>\n",
       "    <tr>\n",
       "      <th>5445</th>\n",
       "      <td>764087_3762016_2017-09-17_0f38</td>\n",
       "      <td>2017-09-17T07:35:17</td>\n",
       "      <td>0.00</td>\n",
       "      <td>0.26</td>\n",
       "      <td>0.000</td>\n",
       "      <td>8000</td>\n",
       "      <td>32637</td>\n",
       "      <td>3762016</td>\n",
       "      <td>1</td>\n",
       "      <td>4.0</td>\n",
       "      <td>...</td>\n",
       "      <td>NaN</td>\n",
       "      <td>NaN</td>\n",
       "      <td>NaN</td>\n",
       "      <td>NaN</td>\n",
       "      <td>NaN</td>\n",
       "      <td>NaN</td>\n",
       "      <td>NaN</td>\n",
       "      <td>NaN</td>\n",
       "      <td>2017</td>\n",
       "      <td>POLYGON ((39.65969 49.61013, 39.37147 49.61141...</td>\n",
       "    </tr>\n",
       "  </tbody>\n",
       "</table>\n",
       "<p>5446 rows × 37 columns</p>\n",
       "</div>"
      ],
      "text/plain": [
       "                                   id             acquired  anomalous_pixels  \\\n",
       "0     1336590_3761711_2018-04-08_1021  2018-04-08T07:51:44              0.01   \n",
       "1     1336590_3761811_2018-04-08_1021  2018-04-08T07:51:41              0.01   \n",
       "2     1336590_3761911_2018-04-08_1021  2018-04-08T07:51:38              0.01   \n",
       "3     1336590_3761912_2018-04-08_1021  2018-04-08T07:51:37              0.00   \n",
       "4     1336590_3762011_2018-04-08_1021  2018-04-08T07:51:35              0.01   \n",
       "...                               ...                  ...               ...   \n",
       "5441   764087_3761816_2017-09-17_0f38  2017-09-17T07:35:24              0.00   \n",
       "5442   764087_3761915_2017-09-17_0f38  2017-09-17T07:35:22              0.00   \n",
       "5443   764087_3761916_2017-09-17_0f38  2017-09-17T07:35:21              0.00   \n",
       "5444   764087_3761917_2017-09-17_0f38  2017-09-17T07:35:20              0.00   \n",
       "5445   764087_3762016_2017-09-17_0f38  2017-09-17T07:35:17              0.00   \n",
       "\n",
       "      black_fill  cloud_cover  columns  epsg_code grid_cell ground_control  \\\n",
       "0           0.34        0.006     8000      32637   3761711              1   \n",
       "1           0.10        0.012     8000      32637   3761811              1   \n",
       "2           0.14        0.007     8000      32637   3761911              1   \n",
       "3           0.78        0.002     8000      32637   3761912              1   \n",
       "4           0.38        0.011     8000      32637   3762011              1   \n",
       "...          ...          ...      ...        ...       ...            ...   \n",
       "5441        0.12        0.001     8000      32637   3761816              1   \n",
       "5442        0.96        0.000     8000      32637   3761915              1   \n",
       "5443        0.06        0.000     8000      32637   3761916              1   \n",
       "5444        0.85        0.000     8000      32637   3761917              1   \n",
       "5445        0.26        0.000     8000      32637   3762016              1   \n",
       "\n",
       "      gsd  ... clear_percent  cloud_percent  heavy_haze_percent  \\\n",
       "0     3.9  ...           NaN            NaN                 NaN   \n",
       "1     3.9  ...           NaN            NaN                 NaN   \n",
       "2     3.9  ...           NaN            NaN                 NaN   \n",
       "3     3.9  ...           NaN            NaN                 NaN   \n",
       "4     3.9  ...           NaN            NaN                 NaN   \n",
       "...   ...  ...           ...            ...                 ...   \n",
       "5441  4.0  ...           NaN            NaN                 NaN   \n",
       "5442  4.0  ...           NaN            NaN                 NaN   \n",
       "5443  4.0  ...           NaN            NaN                 NaN   \n",
       "5444  4.0  ...           NaN            NaN                 NaN   \n",
       "5445  4.0  ...           NaN            NaN                 NaN   \n",
       "\n",
       "      light_haze_percent shadow_percent snow_ice_percent  \\\n",
       "0                    NaN            NaN              NaN   \n",
       "1                    NaN            NaN              NaN   \n",
       "2                    NaN            NaN              NaN   \n",
       "3                    NaN            NaN              NaN   \n",
       "4                    NaN            NaN              NaN   \n",
       "...                  ...            ...              ...   \n",
       "5441                 NaN            NaN              NaN   \n",
       "5442                 NaN            NaN              NaN   \n",
       "5443                 NaN            NaN              NaN   \n",
       "5444                 NaN            NaN              NaN   \n",
       "5445                 NaN            NaN              NaN   \n",
       "\n",
       "      visible_confidence_percent visible_percent  year  \\\n",
       "0                            NaN             NaN  2018   \n",
       "1                            NaN             NaN  2018   \n",
       "2                            NaN             NaN  2018   \n",
       "3                            NaN             NaN  2018   \n",
       "4                            NaN             NaN  2018   \n",
       "...                          ...             ...   ...   \n",
       "5441                         NaN             NaN  2017   \n",
       "5442                         NaN             NaN  2017   \n",
       "5443                         NaN             NaN  2017   \n",
       "5444                         NaN             NaN  2017   \n",
       "5445                         NaN             NaN  2017   \n",
       "\n",
       "                                               geometry  \n",
       "0     POLYGON ((37.68174 48.95690, 37.67582 49.18171...  \n",
       "1     POLYGON ((37.67603 49.17274, 37.67002 49.39752...  \n",
       "2     POLYGON ((37.67025 49.38852, 37.66974 49.40701...  \n",
       "3     POLYGON ((38.00088 49.39190, 37.99633 49.61669...  \n",
       "4     POLYGON ((37.74534 49.60515, 37.82808 49.83089...  \n",
       "...                                                 ...  \n",
       "5441  POLYGON ((39.57334 49.17874, 39.32245 49.17987...  \n",
       "5442  POLYGON ((39.32507 49.39568, 39.29348 49.39601...  \n",
       "5443  POLYGON ((39.65878 49.39427, 39.32386 49.39572...  \n",
       "5444  POLYGON ((39.66190 49.39425, 39.65460 49.39436...  \n",
       "5445  POLYGON ((39.65969 49.61013, 39.37147 49.61141...  \n",
       "\n",
       "[5446 rows x 37 columns]"
      ]
     },
     "execution_count": 223,
     "metadata": {},
     "output_type": "execute_result"
    }
   ],
   "source": [
    "planet_tiles"
   ]
  },
  {
   "cell_type": "code",
   "execution_count": 208,
   "metadata": {},
   "outputs": [
    {
     "data": {
      "text/html": [
       "<div>\n",
       "<style scoped>\n",
       "    .dataframe tbody tr th:only-of-type {\n",
       "        vertical-align: middle;\n",
       "    }\n",
       "\n",
       "    .dataframe tbody tr th {\n",
       "        vertical-align: top;\n",
       "    }\n",
       "\n",
       "    .dataframe thead th {\n",
       "        text-align: right;\n",
       "    }\n",
       "</style>\n",
       "<table border=\"1\" class=\"dataframe\">\n",
       "  <thead>\n",
       "    <tr style=\"text-align: right;\">\n",
       "      <th></th>\n",
       "      <th>id</th>\n",
       "      <th>geometry</th>\n",
       "    </tr>\n",
       "  </thead>\n",
       "  <tbody>\n",
       "    <tr>\n",
       "      <th>0</th>\n",
       "      <td>None</td>\n",
       "      <td>MULTIPOLYGON (((35.27423 50.12803, 35.41354 50...</td>\n",
       "    </tr>\n",
       "    <tr>\n",
       "      <th>1</th>\n",
       "      <td>None</td>\n",
       "      <td>MULTIPOLYGON (((35.08580 50.17168, 35.18946 50...</td>\n",
       "    </tr>\n",
       "    <tr>\n",
       "      <th>2</th>\n",
       "      <td>None</td>\n",
       "      <td>MULTIPOLYGON (((37.62633 50.06614, 38.03014 50...</td>\n",
       "    </tr>\n",
       "  </tbody>\n",
       "</table>\n",
       "</div>"
      ],
      "text/plain": [
       "     id                                           geometry\n",
       "0  None  MULTIPOLYGON (((35.27423 50.12803, 35.41354 50...\n",
       "1  None  MULTIPOLYGON (((35.08580 50.17168, 35.18946 50...\n",
       "2  None  MULTIPOLYGON (((37.62633 50.06614, 38.03014 50..."
      ]
     },
     "execution_count": 208,
     "metadata": {},
     "output_type": "execute_result"
    }
   ],
   "source": [
    "aoi"
   ]
  },
  {
   "cell_type": "code",
   "execution_count": 212,
   "metadata": {},
   "outputs": [],
   "source": [
    "r = gpd.overlay(aoi, sentinel_tiles, how=\"intersection\")"
   ]
  },
  {
   "cell_type": "code",
   "execution_count": 217,
   "metadata": {},
   "outputs": [
    {
     "data": {
      "text/html": [
       "<div>\n",
       "<style scoped>\n",
       "    .dataframe tbody tr th:only-of-type {\n",
       "        vertical-align: middle;\n",
       "    }\n",
       "\n",
       "    .dataframe tbody tr th {\n",
       "        vertical-align: top;\n",
       "    }\n",
       "\n",
       "    .dataframe thead th {\n",
       "        text-align: right;\n",
       "    }\n",
       "</style>\n",
       "<table border=\"1\" class=\"dataframe\">\n",
       "  <thead>\n",
       "    <tr style=\"text-align: right;\">\n",
       "      <th></th>\n",
       "      <th>id</th>\n",
       "      <th>Name</th>\n",
       "      <th>geometry</th>\n",
       "    </tr>\n",
       "  </thead>\n",
       "  <tbody>\n",
       "    <tr>\n",
       "      <th>0</th>\n",
       "      <td>None</td>\n",
       "      <td>36UXA</td>\n",
       "      <td>POLYGON Z ((35.27423 50.12803 0.00000, 35.4135...</td>\n",
       "    </tr>\n",
       "    <tr>\n",
       "      <th>1</th>\n",
       "      <td>None</td>\n",
       "      <td>36UXA</td>\n",
       "      <td>POLYGON Z ((35.08580 50.17168 0.00000, 35.1894...</td>\n",
       "    </tr>\n",
       "    <tr>\n",
       "      <th>2</th>\n",
       "      <td>None</td>\n",
       "      <td>37UCR</td>\n",
       "      <td>POLYGON Z ((37.62633 50.06614 0.00000, 37.7395...</td>\n",
       "    </tr>\n",
       "    <tr>\n",
       "      <th>3</th>\n",
       "      <td>None</td>\n",
       "      <td>37UDR</td>\n",
       "      <td>POLYGON Z ((37.62633 50.06614 0.00000, 38.0301...</td>\n",
       "    </tr>\n",
       "  </tbody>\n",
       "</table>\n",
       "</div>"
      ],
      "text/plain": [
       "     id   Name                                           geometry\n",
       "0  None  36UXA  POLYGON Z ((35.27423 50.12803 0.00000, 35.4135...\n",
       "1  None  36UXA  POLYGON Z ((35.08580 50.17168 0.00000, 35.1894...\n",
       "2  None  37UCR  POLYGON Z ((37.62633 50.06614 0.00000, 37.7395...\n",
       "3  None  37UDR  POLYGON Z ((37.62633 50.06614 0.00000, 38.0301..."
      ]
     },
     "execution_count": 217,
     "metadata": {},
     "output_type": "execute_result"
    }
   ],
   "source": [
    "r"
   ]
  },
  {
   "cell_type": "code",
   "execution_count": 213,
   "metadata": {},
   "outputs": [
    {
     "name": "stderr",
     "output_type": "stream",
     "text": [
      "/opt/conda/envs/python37/lib/python3.7/site-packages/ipykernel_launcher.py:1: UserWarning: Geometry is in a geographic CRS. Results from 'area' are likely incorrect. Use 'GeoSeries.to_crs()' to re-project geometries to a projected CRS before this operation.\n",
      "\n",
      "  \"\"\"Entry point for launching an IPython kernel.\n"
     ]
    },
    {
     "data": {
      "text/plain": [
       "0    0.010529\n",
       "1    0.007017\n",
       "2    0.034495\n",
       "3    0.119918\n",
       "dtype: float64"
      ]
     },
     "execution_count": 213,
     "metadata": {},
     "output_type": "execute_result"
    }
   ],
   "source": [
    "r.area"
   ]
  },
  {
   "cell_type": "code",
   "execution_count": 216,
   "metadata": {},
   "outputs": [
    {
     "name": "stderr",
     "output_type": "stream",
     "text": [
      "/opt/conda/envs/python37/lib/python3.7/site-packages/ipykernel_launcher.py:1: UserWarning: Geometry is in a geographic CRS. Results from 'area' are likely incorrect. Use 'GeoSeries.to_crs()' to re-project geometries to a projected CRS before this operation.\n",
      "\n",
      "  \"\"\"Entry point for launching an IPython kernel.\n"
     ]
    },
    {
     "data": {
      "text/plain": [
       "'37UDR'"
      ]
     },
     "execution_count": 216,
     "metadata": {},
     "output_type": "execute_result"
    }
   ],
   "source": [
    "biggest_area_idx = r.area.argmax()\n",
    "tileID = r.loc[biggest_area_idx, \"Name\"]\n",
    "tileID"
   ]
  },
  {
   "cell_type": "code",
   "execution_count": null,
   "metadata": {},
   "outputs": [],
   "source": []
  },
  {
   "cell_type": "code",
   "execution_count": null,
   "metadata": {},
   "outputs": [],
   "source": []
  },
  {
   "cell_type": "code",
   "execution_count": null,
   "metadata": {},
   "outputs": [],
   "source": []
  },
  {
   "cell_type": "code",
   "execution_count": null,
   "metadata": {},
   "outputs": [],
   "source": []
  },
  {
   "cell_type": "code",
   "execution_count": 195,
   "metadata": {},
   "outputs": [
    {
     "name": "stderr",
     "output_type": "stream",
     "text": [
      "/opt/conda/envs/python37/lib/python3.7/site-packages/geopandas/tools/overlay.py:60: FutureWarning: CRS mismatch between CRS of the passed geometries and 'crs'. Use 'GeoDataFrame.set_crs(crs, allow_override=True)' to overwrite CRS or 'GeoDataFrame.to_crs(crs)' to reproject geometries. CRS mismatch will raise an error in the future versions of GeoPandas.\n",
      "  return GeoDataFrame(dfinter, geometry=geom_intersect, crs=df1.crs)\n",
      "/opt/conda/envs/python37/lib/python3.7/site-packages/ipykernel_launcher.py:13: UserWarning: Geometry is in a geographic CRS. Results from 'area' are likely incorrect. Use 'GeoSeries.to_crs()' to re-project geometries to a projected CRS before this operation.\n",
      "\n",
      "  del sys.path[0]\n",
      "/opt/conda/envs/python37/lib/python3.7/site-packages/ipykernel_launcher.py:15: UserWarning: Geometry is in a geographic CRS. Results from 'area' are likely incorrect. Use 'GeoSeries.to_crs()' to re-project geometries to a projected CRS before this operation.\n",
      "\n",
      "  from ipykernel import kernelapp as app\n",
      "/opt/conda/envs/python37/lib/python3.7/site-packages/ipykernel_launcher.py:13: UserWarning: Geometry is in a geographic CRS. Results from 'area' are likely incorrect. Use 'GeoSeries.to_crs()' to re-project geometries to a projected CRS before this operation.\n",
      "\n",
      "  del sys.path[0]\n",
      "/opt/conda/envs/python37/lib/python3.7/site-packages/ipykernel_launcher.py:15: UserWarning: Geometry is in a geographic CRS. Results from 'area' are likely incorrect. Use 'GeoSeries.to_crs()' to re-project geometries to a projected CRS before this operation.\n",
      "\n",
      "  from ipykernel import kernelapp as app\n",
      "/opt/conda/envs/python37/lib/python3.7/site-packages/ipykernel_launcher.py:13: UserWarning: Geometry is in a geographic CRS. Results from 'area' are likely incorrect. Use 'GeoSeries.to_crs()' to re-project geometries to a projected CRS before this operation.\n",
      "\n",
      "  del sys.path[0]\n",
      "/opt/conda/envs/python37/lib/python3.7/site-packages/ipykernel_launcher.py:15: UserWarning: Geometry is in a geographic CRS. Results from 'area' are likely incorrect. Use 'GeoSeries.to_crs()' to re-project geometries to a projected CRS before this operation.\n",
      "\n",
      "  from ipykernel import kernelapp as app\n",
      "/opt/conda/envs/python37/lib/python3.7/site-packages/ipykernel_launcher.py:13: UserWarning: Geometry is in a geographic CRS. Results from 'area' are likely incorrect. Use 'GeoSeries.to_crs()' to re-project geometries to a projected CRS before this operation.\n",
      "\n",
      "  del sys.path[0]\n"
     ]
    },
    {
     "data": {
      "text/html": [
       "<div>\n",
       "<style scoped>\n",
       "    .dataframe tbody tr th:only-of-type {\n",
       "        vertical-align: middle;\n",
       "    }\n",
       "\n",
       "    .dataframe tbody tr th {\n",
       "        vertical-align: top;\n",
       "    }\n",
       "\n",
       "    .dataframe thead th {\n",
       "        text-align: right;\n",
       "    }\n",
       "</style>\n",
       "<table border=\"1\" class=\"dataframe\">\n",
       "  <thead>\n",
       "    <tr style=\"text-align: right;\">\n",
       "      <th></th>\n",
       "      <th>tileID</th>\n",
       "      <th>geometry</th>\n",
       "    </tr>\n",
       "  </thead>\n",
       "  <tbody>\n",
       "    <tr>\n",
       "      <th>0</th>\n",
       "      <td>36UYA</td>\n",
       "      <td>POLYGON Z ((377812.648 5514923.863 0.000, 2679...</td>\n",
       "    </tr>\n",
       "    <tr>\n",
       "      <th>1</th>\n",
       "      <td>36UXA</td>\n",
       "      <td>POLYGON Z ((267990.540 5518492.717 0.000, 2181...</td>\n",
       "    </tr>\n",
       "    <tr>\n",
       "      <th>2</th>\n",
       "      <td>37UDR</td>\n",
       "      <td>POLYGON Z ((430904.371 5513198.558 0.000, 3999...</td>\n",
       "    </tr>\n",
       "    <tr>\n",
       "      <th>3</th>\n",
       "      <td>37UCR</td>\n",
       "      <td>POLYGON Z ((399960.000 5514204.147 0.000, 3778...</td>\n",
       "    </tr>\n",
       "  </tbody>\n",
       "</table>\n",
       "</div>"
      ],
      "text/plain": [
       "  tileID                                           geometry\n",
       "0  36UYA  POLYGON Z ((377812.648 5514923.863 0.000, 2679...\n",
       "1  36UXA  POLYGON Z ((267990.540 5518492.717 0.000, 2181...\n",
       "2  37UDR  POLYGON Z ((430904.371 5513198.558 0.000, 3999...\n",
       "3  37UCR  POLYGON Z ((399960.000 5514204.147 0.000, 3778..."
      ]
     },
     "execution_count": 195,
     "metadata": {},
     "output_type": "execute_result"
    }
   ],
   "source": [
    "get_tiles(sin, bbox)"
   ]
  },
  {
   "cell_type": "code",
   "execution_count": 199,
   "metadata": {},
   "outputs": [
    {
     "data": {
      "text/html": [
       "<div>\n",
       "<style scoped>\n",
       "    .dataframe tbody tr th:only-of-type {\n",
       "        vertical-align: middle;\n",
       "    }\n",
       "\n",
       "    .dataframe tbody tr th {\n",
       "        vertical-align: top;\n",
       "    }\n",
       "\n",
       "    .dataframe thead th {\n",
       "        text-align: right;\n",
       "    }\n",
       "</style>\n",
       "<table border=\"1\" class=\"dataframe\">\n",
       "  <thead>\n",
       "    <tr style=\"text-align: right;\">\n",
       "      <th></th>\n",
       "      <th>geometry</th>\n",
       "    </tr>\n",
       "  </thead>\n",
       "  <tbody>\n",
       "    <tr>\n",
       "      <th>0</th>\n",
       "      <td>POLYGON ((38.04050 49.76728, 38.04050 50.17392...</td>\n",
       "    </tr>\n",
       "  </tbody>\n",
       "</table>\n",
       "</div>"
      ],
      "text/plain": [
       "                                            geometry\n",
       "0  POLYGON ((38.04050 49.76728, 38.04050 50.17392..."
      ]
     },
     "execution_count": 199,
     "metadata": {},
     "output_type": "execute_result"
    }
   ],
   "source": [
    "bbox"
   ]
  },
  {
   "cell_type": "code",
   "execution_count": null,
   "metadata": {},
   "outputs": [],
   "source": [
    "stiles"
   ]
  },
  {
   "cell_type": "code",
   "execution_count": 200,
   "metadata": {},
   "outputs": [
    {
     "name": "stderr",
     "output_type": "stream",
     "text": [
      "/opt/conda/envs/python37/lib/python3.7/site-packages/ipykernel_launcher.py:13: UserWarning: Geometry is in a geographic CRS. Results from 'area' are likely incorrect. Use 'GeoSeries.to_crs()' to re-project geometries to a projected CRS before this operation.\n",
      "\n",
      "  del sys.path[0]\n",
      "/opt/conda/envs/python37/lib/python3.7/site-packages/ipykernel_launcher.py:15: UserWarning: Geometry is in a geographic CRS. Results from 'area' are likely incorrect. Use 'GeoSeries.to_crs()' to re-project geometries to a projected CRS before this operation.\n",
      "\n",
      "  from ipykernel import kernelapp as app\n",
      "/opt/conda/envs/python37/lib/python3.7/site-packages/ipykernel_launcher.py:13: UserWarning: Geometry is in a geographic CRS. Results from 'area' are likely incorrect. Use 'GeoSeries.to_crs()' to re-project geometries to a projected CRS before this operation.\n",
      "\n",
      "  del sys.path[0]\n",
      "/opt/conda/envs/python37/lib/python3.7/site-packages/ipykernel_launcher.py:15: UserWarning: Geometry is in a geographic CRS. Results from 'area' are likely incorrect. Use 'GeoSeries.to_crs()' to re-project geometries to a projected CRS before this operation.\n",
      "\n",
      "  from ipykernel import kernelapp as app\n",
      "/opt/conda/envs/python37/lib/python3.7/site-packages/ipykernel_launcher.py:13: UserWarning: Geometry is in a geographic CRS. Results from 'area' are likely incorrect. Use 'GeoSeries.to_crs()' to re-project geometries to a projected CRS before this operation.\n",
      "\n",
      "  del sys.path[0]\n",
      "/opt/conda/envs/python37/lib/python3.7/site-packages/ipykernel_launcher.py:15: UserWarning: Geometry is in a geographic CRS. Results from 'area' are likely incorrect. Use 'GeoSeries.to_crs()' to re-project geometries to a projected CRS before this operation.\n",
      "\n",
      "  from ipykernel import kernelapp as app\n",
      "/opt/conda/envs/python37/lib/python3.7/site-packages/ipykernel_launcher.py:13: UserWarning: Geometry is in a geographic CRS. Results from 'area' are likely incorrect. Use 'GeoSeries.to_crs()' to re-project geometries to a projected CRS before this operation.\n",
      "\n",
      "  del sys.path[0]\n",
      "/opt/conda/envs/python37/lib/python3.7/site-packages/ipykernel_launcher.py:15: UserWarning: Geometry is in a geographic CRS. Results from 'area' are likely incorrect. Use 'GeoSeries.to_crs()' to re-project geometries to a projected CRS before this operation.\n",
      "\n",
      "  from ipykernel import kernelapp as app\n",
      "/opt/conda/envs/python37/lib/python3.7/site-packages/ipykernel_launcher.py:13: UserWarning: Geometry is in a geographic CRS. Results from 'area' are likely incorrect. Use 'GeoSeries.to_crs()' to re-project geometries to a projected CRS before this operation.\n",
      "\n",
      "  del sys.path[0]\n"
     ]
    }
   ],
   "source": [
    "st = get_tiles(bbox, \"sentinel2grid.geojson\")"
   ]
  },
  {
   "cell_type": "code",
   "execution_count": 201,
   "metadata": {},
   "outputs": [
    {
     "data": {
      "text/html": [
       "<div>\n",
       "<style scoped>\n",
       "    .dataframe tbody tr th:only-of-type {\n",
       "        vertical-align: middle;\n",
       "    }\n",
       "\n",
       "    .dataframe tbody tr th {\n",
       "        vertical-align: top;\n",
       "    }\n",
       "\n",
       "    .dataframe thead th {\n",
       "        text-align: right;\n",
       "    }\n",
       "</style>\n",
       "<table border=\"1\" class=\"dataframe\">\n",
       "  <thead>\n",
       "    <tr style=\"text-align: right;\">\n",
       "      <th></th>\n",
       "      <th>tileID</th>\n",
       "      <th>geometry</th>\n",
       "    </tr>\n",
       "  </thead>\n",
       "  <tbody>\n",
       "    <tr>\n",
       "      <th>0</th>\n",
       "      <td>36UYA</td>\n",
       "      <td>POLYGON Z ((37.30265 49.76728 0.00000, 35.7772...</td>\n",
       "    </tr>\n",
       "    <tr>\n",
       "      <th>1</th>\n",
       "      <td>36UXA</td>\n",
       "      <td>POLYGON Z ((35.77721 49.76728 0.00000, 35.0855...</td>\n",
       "    </tr>\n",
       "    <tr>\n",
       "      <th>2</th>\n",
       "      <td>37UDR</td>\n",
       "      <td>POLYGON Z ((38.04050 49.76728 0.00000, 37.6106...</td>\n",
       "    </tr>\n",
       "    <tr>\n",
       "      <th>3</th>\n",
       "      <td>37UCR</td>\n",
       "      <td>POLYGON Z ((37.61064 49.76728 0.00000, 37.3026...</td>\n",
       "    </tr>\n",
       "  </tbody>\n",
       "</table>\n",
       "</div>"
      ],
      "text/plain": [
       "  tileID                                           geometry\n",
       "0  36UYA  POLYGON Z ((37.30265 49.76728 0.00000, 35.7772...\n",
       "1  36UXA  POLYGON Z ((35.77721 49.76728 0.00000, 35.0855...\n",
       "2  37UDR  POLYGON Z ((38.04050 49.76728 0.00000, 37.6106...\n",
       "3  37UCR  POLYGON Z ((37.61064 49.76728 0.00000, 37.3026..."
      ]
     },
     "execution_count": 201,
     "metadata": {},
     "output_type": "execute_result"
    }
   ],
   "source": [
    "st"
   ]
  },
  {
   "cell_type": "code",
   "execution_count": 204,
   "metadata": {},
   "outputs": [
    {
     "data": {
      "text/html": [
       "<div>\n",
       "<style scoped>\n",
       "    .dataframe tbody tr th:only-of-type {\n",
       "        vertical-align: middle;\n",
       "    }\n",
       "\n",
       "    .dataframe tbody tr th {\n",
       "        vertical-align: top;\n",
       "    }\n",
       "\n",
       "    .dataframe thead th {\n",
       "        text-align: right;\n",
       "    }\n",
       "</style>\n",
       "<table border=\"1\" class=\"dataframe\">\n",
       "  <thead>\n",
       "    <tr style=\"text-align: right;\">\n",
       "      <th></th>\n",
       "      <th>Name</th>\n",
       "      <th>geometry</th>\n",
       "    </tr>\n",
       "  </thead>\n",
       "  <tbody>\n",
       "    <tr>\n",
       "      <th>34230</th>\n",
       "      <td>36UYA</td>\n",
       "      <td>POLYGON Z ((35.82077 50.51811 0.00000, 37.3657...</td>\n",
       "    </tr>\n",
       "  </tbody>\n",
       "</table>\n",
       "</div>"
      ],
      "text/plain": [
       "        Name                                           geometry\n",
       "34230  36UYA  POLYGON Z ((35.82077 50.51811 0.00000, 37.3657..."
      ]
     },
     "execution_count": 204,
     "metadata": {},
     "output_type": "execute_result"
    }
   ],
   "source": [
    "sentinel_tiles.loc[sentinel_tiles.Name == '36UYA']"
   ]
  },
  {
   "cell_type": "code",
   "execution_count": 150,
   "metadata": {},
   "outputs": [
    {
     "data": {
      "text/html": [
       "<div>\n",
       "<style scoped>\n",
       "    .dataframe tbody tr th:only-of-type {\n",
       "        vertical-align: middle;\n",
       "    }\n",
       "\n",
       "    .dataframe tbody tr th {\n",
       "        vertical-align: top;\n",
       "    }\n",
       "\n",
       "    .dataframe thead th {\n",
       "        text-align: right;\n",
       "    }\n",
       "</style>\n",
       "<table border=\"1\" class=\"dataframe\">\n",
       "  <thead>\n",
       "    <tr style=\"text-align: right;\">\n",
       "      <th></th>\n",
       "      <th>tileID</th>\n",
       "      <th>geometry</th>\n",
       "    </tr>\n",
       "  </thead>\n",
       "  <tbody>\n",
       "    <tr>\n",
       "      <th>0</th>\n",
       "      <td>37UDR</td>\n",
       "      <td>POLYGON Z ((37.62633 50.06614 0.00000, 38.0301...</td>\n",
       "    </tr>\n",
       "    <tr>\n",
       "      <th>1</th>\n",
       "      <td>36UXA</td>\n",
       "      <td>POLYGON Z ((35.27423 50.12803 0.00000, 35.4135...</td>\n",
       "    </tr>\n",
       "  </tbody>\n",
       "</table>\n",
       "</div>"
      ],
      "text/plain": [
       "  tileID                                           geometry\n",
       "0  37UDR  POLYGON Z ((37.62633 50.06614 0.00000, 38.0301...\n",
       "1  36UXA  POLYGON Z ((35.27423 50.12803 0.00000, 35.4135..."
      ]
     },
     "execution_count": 150,
     "metadata": {},
     "output_type": "execute_result"
    }
   ],
   "source": [
    "st"
   ]
  },
  {
   "cell_type": "code",
   "execution_count": 232,
   "metadata": {},
   "outputs": [
    {
     "data": {
      "text/html": [
       "<div>\n",
       "<style scoped>\n",
       "    .dataframe tbody tr th:only-of-type {\n",
       "        vertical-align: middle;\n",
       "    }\n",
       "\n",
       "    .dataframe tbody tr th {\n",
       "        vertical-align: top;\n",
       "    }\n",
       "\n",
       "    .dataframe thead th {\n",
       "        text-align: right;\n",
       "    }\n",
       "</style>\n",
       "<table border=\"1\" class=\"dataframe\">\n",
       "  <thead>\n",
       "    <tr style=\"text-align: right;\">\n",
       "      <th></th>\n",
       "      <th>Name</th>\n",
       "      <th>geometry</th>\n",
       "    </tr>\n",
       "  </thead>\n",
       "  <tbody>\n",
       "    <tr>\n",
       "      <th>0</th>\n",
       "      <td>36UYA</td>\n",
       "      <td>POLYGON Z ((35.80104 50.18082 0.00000, 37.3394...</td>\n",
       "    </tr>\n",
       "    <tr>\n",
       "      <th>1</th>\n",
       "      <td>37UCR</td>\n",
       "      <td>POLYGON Z ((37.33942 50.18073 0.00000, 37.7367...</td>\n",
       "    </tr>\n",
       "    <tr>\n",
       "      <th>2</th>\n",
       "      <td>36UXA</td>\n",
       "      <td>POLYGON Z ((35.77747 49.77405 0.00000, 35.0855...</td>\n",
       "    </tr>\n",
       "    <tr>\n",
       "      <th>3</th>\n",
       "      <td>37UDR</td>\n",
       "      <td>POLYGON Z ((37.73673 50.17739 0.00000, 38.0405...</td>\n",
       "    </tr>\n",
       "  </tbody>\n",
       "</table>\n",
       "</div>"
      ],
      "text/plain": [
       "    Name                                           geometry\n",
       "0  36UYA  POLYGON Z ((35.80104 50.18082 0.00000, 37.3394...\n",
       "1  37UCR  POLYGON Z ((37.33942 50.18073 0.00000, 37.7367...\n",
       "2  36UXA  POLYGON Z ((35.77747 49.77405 0.00000, 35.0855...\n",
       "3  37UDR  POLYGON Z ((37.73673 50.17739 0.00000, 38.0405..."
      ]
     },
     "execution_count": 232,
     "metadata": {},
     "output_type": "execute_result"
    }
   ],
   "source": [
    "stiles"
   ]
  },
  {
   "cell_type": "code",
   "execution_count": 231,
   "metadata": {},
   "outputs": [
    {
     "data": {
      "text/html": [
       "<div>\n",
       "<style scoped>\n",
       "    .dataframe tbody tr th:only-of-type {\n",
       "        vertical-align: middle;\n",
       "    }\n",
       "\n",
       "    .dataframe tbody tr th {\n",
       "        vertical-align: top;\n",
       "    }\n",
       "\n",
       "    .dataframe thead th {\n",
       "        text-align: right;\n",
       "    }\n",
       "</style>\n",
       "<table border=\"1\" class=\"dataframe\">\n",
       "  <thead>\n",
       "    <tr style=\"text-align: right;\">\n",
       "      <th></th>\n",
       "      <th>id</th>\n",
       "      <th>Name</th>\n",
       "      <th>geometry</th>\n",
       "    </tr>\n",
       "  </thead>\n",
       "  <tbody>\n",
       "    <tr>\n",
       "      <th>0</th>\n",
       "      <td>None</td>\n",
       "      <td>36UXA</td>\n",
       "      <td>POLYGON Z ((35.27423 50.12803 0.00000, 35.4135...</td>\n",
       "    </tr>\n",
       "    <tr>\n",
       "      <th>1</th>\n",
       "      <td>None</td>\n",
       "      <td>36UXA</td>\n",
       "      <td>POLYGON Z ((35.08580 50.17168 0.00000, 35.1894...</td>\n",
       "    </tr>\n",
       "    <tr>\n",
       "      <th>2</th>\n",
       "      <td>None</td>\n",
       "      <td>37UCR</td>\n",
       "      <td>POLYGON Z ((37.62633 50.06614 0.00000, 37.7396...</td>\n",
       "    </tr>\n",
       "    <tr>\n",
       "      <th>3</th>\n",
       "      <td>None</td>\n",
       "      <td>37UDR</td>\n",
       "      <td>POLYGON Z ((37.73969 50.06390 0.00000, 38.0301...</td>\n",
       "    </tr>\n",
       "  </tbody>\n",
       "</table>\n",
       "</div>"
      ],
      "text/plain": [
       "     id   Name                                           geometry\n",
       "0  None  36UXA  POLYGON Z ((35.27423 50.12803 0.00000, 35.4135...\n",
       "1  None  36UXA  POLYGON Z ((35.08580 50.17168 0.00000, 35.1894...\n",
       "2  None  37UCR  POLYGON Z ((37.62633 50.06614 0.00000, 37.7396...\n",
       "3  None  37UDR  POLYGON Z ((37.73969 50.06390 0.00000, 38.0301..."
      ]
     },
     "execution_count": 231,
     "metadata": {},
     "output_type": "execute_result"
    }
   ],
   "source": [
    "gpd.overlay(aoi, stiles, how=\"intersection\")"
   ]
  },
  {
   "cell_type": "code",
   "execution_count": null,
   "metadata": {},
   "outputs": [],
   "source": []
  },
  {
   "cell_type": "code",
   "execution_count": null,
   "metadata": {},
   "outputs": [],
   "source": [
    "['36UXA', '36UYA', '37UCR', '37UDR']"
   ]
  },
  {
   "cell_type": "code",
   "execution_count": 157,
   "metadata": {},
   "outputs": [],
   "source": [
    "s = sentinel_tiles.loc[sentinel_tiles.Name.isin(['36UXA', '36UYA', '37UCR', '37UDR'])]"
   ]
  },
  {
   "cell_type": "code",
   "execution_count": 159,
   "metadata": {},
   "outputs": [],
   "source": [
    "s.to_file(f\"/home/{NB_USER}/work/notebooks/planet/tiles.geojson\", driver='GeoJSON')"
   ]
  },
  {
   "cell_type": "code",
   "execution_count": 162,
   "metadata": {},
   "outputs": [
    {
     "name": "stdout",
     "output_type": "stream",
     "text": [
      "Object `to_file` not found.\n"
     ]
    }
   ],
   "source": [
    "s.iloc[0].to_file?"
   ]
  },
  {
   "cell_type": "code",
   "execution_count": 169,
   "metadata": {},
   "outputs": [
    {
     "data": {
      "text/html": [
       "<div>\n",
       "<style scoped>\n",
       "    .dataframe tbody tr th:only-of-type {\n",
       "        vertical-align: middle;\n",
       "    }\n",
       "\n",
       "    .dataframe tbody tr th {\n",
       "        vertical-align: top;\n",
       "    }\n",
       "\n",
       "    .dataframe thead th {\n",
       "        text-align: right;\n",
       "    }\n",
       "</style>\n",
       "<table border=\"1\" class=\"dataframe\">\n",
       "  <thead>\n",
       "    <tr style=\"text-align: right;\">\n",
       "      <th></th>\n",
       "      <th>Name</th>\n",
       "      <th>geometry</th>\n",
       "    </tr>\n",
       "  </thead>\n",
       "  <tbody>\n",
       "    <tr>\n",
       "      <th>34221</th>\n",
       "      <td>36UXA</td>\n",
       "      <td>POLYGON Z ((34.41135 50.54374 0.00000, 35.9593...</td>\n",
       "    </tr>\n",
       "    <tr>\n",
       "      <th>34230</th>\n",
       "      <td>36UYA</td>\n",
       "      <td>POLYGON Z ((35.82077 50.51811 0.00000, 37.3657...</td>\n",
       "    </tr>\n",
       "  </tbody>\n",
       "</table>\n",
       "</div>"
      ],
      "text/plain": [
       "        Name                                           geometry\n",
       "34221  36UXA  POLYGON Z ((34.41135 50.54374 0.00000, 35.9593...\n",
       "34230  36UYA  POLYGON Z ((35.82077 50.51811 0.00000, 37.3657..."
      ]
     },
     "execution_count": 169,
     "metadata": {},
     "output_type": "execute_result"
    }
   ],
   "source": [
    "s1 = s.head(2)\n",
    "s1"
   ]
  },
  {
   "cell_type": "code",
   "execution_count": 177,
   "metadata": {},
   "outputs": [
    {
     "data": {
      "text/html": [
       "<div>\n",
       "<style scoped>\n",
       "    .dataframe tbody tr th:only-of-type {\n",
       "        vertical-align: middle;\n",
       "    }\n",
       "\n",
       "    .dataframe tbody tr th {\n",
       "        vertical-align: top;\n",
       "    }\n",
       "\n",
       "    .dataframe thead th {\n",
       "        text-align: right;\n",
       "    }\n",
       "</style>\n",
       "<table border=\"1\" class=\"dataframe\">\n",
       "  <thead>\n",
       "    <tr style=\"text-align: right;\">\n",
       "      <th></th>\n",
       "      <th>Name</th>\n",
       "      <th>geometry</th>\n",
       "    </tr>\n",
       "  </thead>\n",
       "  <tbody>\n",
       "    <tr>\n",
       "      <th>34221</th>\n",
       "      <td>36UXA</td>\n",
       "      <td>POLYGON Z ((34.41135 50.54374 0.00000, 35.9593...</td>\n",
       "    </tr>\n",
       "    <tr>\n",
       "      <th>34230</th>\n",
       "      <td>36UYA</td>\n",
       "      <td>POLYGON Z ((35.82077 50.51811 0.00000, 37.3657...</td>\n",
       "    </tr>\n",
       "  </tbody>\n",
       "</table>\n",
       "</div>"
      ],
      "text/plain": [
       "        Name                                           geometry\n",
       "34221  36UXA  POLYGON Z ((34.41135 50.54374 0.00000, 35.9593...\n",
       "34230  36UYA  POLYGON Z ((35.82077 50.51811 0.00000, 37.3657..."
      ]
     },
     "execution_count": 177,
     "metadata": {},
     "output_type": "execute_result"
    }
   ],
   "source": [
    "s1"
   ]
  },
  {
   "cell_type": "code",
   "execution_count": 180,
   "metadata": {},
   "outputs": [
    {
     "data": {
      "text/html": [
       "<div>\n",
       "<style scoped>\n",
       "    .dataframe tbody tr th:only-of-type {\n",
       "        vertical-align: middle;\n",
       "    }\n",
       "\n",
       "    .dataframe tbody tr th {\n",
       "        vertical-align: top;\n",
       "    }\n",
       "\n",
       "    .dataframe thead th {\n",
       "        text-align: right;\n",
       "    }\n",
       "</style>\n",
       "<table border=\"1\" class=\"dataframe\">\n",
       "  <thead>\n",
       "    <tr style=\"text-align: right;\">\n",
       "      <th></th>\n",
       "      <th>Name</th>\n",
       "      <th>geometry</th>\n",
       "    </tr>\n",
       "  </thead>\n",
       "  <tbody>\n",
       "    <tr>\n",
       "      <th>35125</th>\n",
       "      <td>37UDR</td>\n",
       "      <td>POLYGON Z ((37.58809 50.54373 0.00000, 39.1377...</td>\n",
       "    </tr>\n",
       "  </tbody>\n",
       "</table>\n",
       "</div>"
      ],
      "text/plain": [
       "        Name                                           geometry\n",
       "35125  37UDR  POLYGON Z ((37.58809 50.54373 0.00000, 39.1377..."
      ]
     },
     "execution_count": 180,
     "metadata": {},
     "output_type": "execute_result"
    }
   ],
   "source": [
    "s[3:4]"
   ]
  },
  {
   "cell_type": "code",
   "execution_count": 173,
   "metadata": {},
   "outputs": [
    {
     "data": {
      "text/html": [
       "<div>\n",
       "<style scoped>\n",
       "    .dataframe tbody tr th:only-of-type {\n",
       "        vertical-align: middle;\n",
       "    }\n",
       "\n",
       "    .dataframe tbody tr th {\n",
       "        vertical-align: top;\n",
       "    }\n",
       "\n",
       "    .dataframe thead th {\n",
       "        text-align: right;\n",
       "    }\n",
       "</style>\n",
       "<table border=\"1\" class=\"dataframe\">\n",
       "  <thead>\n",
       "    <tr style=\"text-align: right;\">\n",
       "      <th></th>\n",
       "      <th>Name</th>\n",
       "      <th>geometry</th>\n",
       "    </tr>\n",
       "  </thead>\n",
       "  <tbody>\n",
       "    <tr>\n",
       "      <th>34221</th>\n",
       "      <td>36UXA</td>\n",
       "      <td>POLYGON Z ((34.41135 50.54374 0.00000, 35.9593...</td>\n",
       "    </tr>\n",
       "  </tbody>\n",
       "</table>\n",
       "</div>"
      ],
      "text/plain": [
       "        Name                                           geometry\n",
       "34221  36UXA  POLYGON Z ((34.41135 50.54374 0.00000, 35.9593..."
      ]
     },
     "execution_count": 173,
     "metadata": {},
     "output_type": "execute_result"
    }
   ],
   "source": [
    "s1[:1]"
   ]
  },
  {
   "cell_type": "code",
   "execution_count": 181,
   "metadata": {},
   "outputs": [],
   "source": [
    "s[2:3].to_file(f\"/home/{NB_USER}/work/notebooks/planet/37UDR.geojson\", driver='GeoJSON')"
   ]
  },
  {
   "cell_type": "code",
   "execution_count": null,
   "metadata": {},
   "outputs": [],
   "source": []
  },
  {
   "cell_type": "code",
   "execution_count": null,
   "metadata": {},
   "outputs": [],
   "source": [
    "class PlanetTilesSelection:\n",
    "    def __init__(self):\n",
    "        gpd.io.file.fiona.drvsupport.supported_drivers['KML'] = 'rw'\n",
    "        self.planet = gpd.read_file(META_INFO, driver=\"GeoJSON\")\n",
    "        self.sentinel_meta = gpd.read_file(SENTINEL_TILES, driver=\"kml\")\n",
    "    def planet_quality_filter(self):\n",
    "        self.planet = self.planet[self.planet[\"ground_control\"] == \"1\"]\n",
    "        self.planet = self.planet[self.planet[\"item_type\"] == \"PSScene4Band\"]\n",
    "        self.planet = self.planet[self.planet['quality_category'] == \"standard\"]\n",
    "        self.planet = self.planet[self.planet['cloud_cover'] == 0]\n",
    "        self.planet = self.planet[self.planet['year'].astype(int) >= 2018]\n",
    "        \n",
    "        \n",
    "    def match_planet_sentinel(self, planet_tile_id):\n",
    "        selected_tile = self.planet[self.planet['id'] == planet_tile_id]\n",
    "        planet_bounds = get_box(selected_tile)\n",
    "        self.sentinel_meta = self.sentinel_meta[self.sentinel_meta['geometry'].intersects(planet_bounds)]\n",
    "        matched_tiles = self.sentinel_meta['Name'].unique()\n",
    "        print(matched_tiles)\n",
    "        # self.sentinel_meta.to_file(\"./data/matched_tiles.geojson\", driver='GeoJSON')\n",
    "        return matched_tiles"
   ]
  },
  {
   "cell_type": "code",
   "execution_count": null,
   "metadata": {},
   "outputs": [],
   "source": []
  },
  {
   "cell_type": "code",
   "execution_count": null,
   "metadata": {},
   "outputs": [],
   "source": []
  },
  {
   "cell_type": "code",
   "execution_count": null,
   "metadata": {},
   "outputs": [],
   "source": []
  },
  {
   "cell_type": "code",
   "execution_count": null,
   "metadata": {},
   "outputs": [],
   "source": []
  },
  {
   "cell_type": "code",
   "execution_count": null,
   "metadata": {},
   "outputs": [],
   "source": []
  },
  {
   "cell_type": "code",
   "execution_count": null,
   "metadata": {},
   "outputs": [],
   "source": []
  }
 ],
 "metadata": {
  "kernelspec": {
   "display_name": "python37",
   "language": "python",
   "name": "python37"
  },
  "language_info": {
   "codemirror_mode": {
    "name": "ipython",
    "version": 3
   },
   "file_extension": ".py",
   "mimetype": "text/x-python",
   "name": "python",
   "nbconvert_exporter": "python",
   "pygments_lexer": "ipython3",
   "version": "3.7.9"
  }
 },
 "nbformat": 4,
 "nbformat_minor": 4
}
