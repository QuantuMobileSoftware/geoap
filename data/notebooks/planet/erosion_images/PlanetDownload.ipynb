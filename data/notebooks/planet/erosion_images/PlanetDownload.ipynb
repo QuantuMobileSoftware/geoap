{
 "cells": [
  {
   "cell_type": "markdown",
   "metadata": {},
   "source": [
    "### Check Planet images size needed to be downloaded for erosion AOI. "
   ]
  },
  {
   "cell_type": "markdown",
   "metadata": {},
   "source": [
    "#### From markup prepare one polygon/bbox "
   ]
  },
  {
   "cell_type": "code",
   "execution_count": 10,
   "metadata": {},
   "outputs": [],
   "source": [
    "import os\n",
    "import geopandas as gpd\n",
    "import shapely\n",
    "import pandas as pd\n",
    "import shapely.wkt\n",
    "import pyproj\n",
    "\n",
    "from shapely.ops import transform\n",
    "from shapely import geometry\n",
    "from shapely.geometry import Polygon, box"
   ]
  },
  {
   "cell_type": "code",
   "execution_count": 11,
   "metadata": {},
   "outputs": [],
   "source": [
    "BASE = f\"/home/{os.getenv('NB_USER')}/work\"\n",
    "\n",
    "WORKDIR = os.path.join(BASE, \"notebooks/planet/erosion_images\")"
   ]
  },
  {
   "cell_type": "code",
   "execution_count": 12,
   "metadata": {},
   "outputs": [],
   "source": [
    "def read_aoi(path, crs=\"epsg:4326\"):\n",
    "    df = gpd.read_file(path) \n",
    "    if str(df.crs) != crs:\n",
    "        print(f\"{path}: {df.crs}. Transform to {crs}\")\n",
    "    df.to_crs(crs, inplace=True)\n",
    "    return df"
   ]
  },
  {
   "cell_type": "code",
   "execution_count": 21,
   "metadata": {},
   "outputs": [],
   "source": [
    "def to_crs(poly, target, current='EPSG:4326'):\n",
    "    # print(f\"TARGET CRS: {target}\")\n",
    "    project = pyproj.Transformer.from_crs(pyproj.CRS(current), pyproj.CRS(target), always_xy=True).transform\n",
    "    transformed_poly = transform(project, poly)\n",
    "    return transformed_poly"
   ]
  },
  {
   "cell_type": "markdown",
   "metadata": {},
   "source": [
    "#### soil2 aoi"
   ]
  },
  {
   "cell_type": "code",
   "execution_count": 13,
   "metadata": {},
   "outputs": [
    {
     "name": "stdout",
     "output_type": "stream",
     "text": [
      "/home/jovyan/work/notebooks/planet/erosion_images/soil2\n"
     ]
    }
   ],
   "source": [
    "aoi_folder = os.path.join(WORKDIR, \"soil2\")\n",
    "print(aoi_folder)"
   ]
  },
  {
   "cell_type": "code",
   "execution_count": 14,
   "metadata": {},
   "outputs": [],
   "source": [
    "aoi_list = list()\n",
    "for f in os.listdir(aoi_folder):\n",
    "    aoi_list.append(read_aoi(os.path.join(aoi_folder, f)))"
   ]
  },
  {
   "cell_type": "code",
   "execution_count": 15,
   "metadata": {},
   "outputs": [],
   "source": [
    "aoi = gpd.GeoDataFrame(pd.concat(aoi_list, ignore_index=True))"
   ]
  },
  {
   "cell_type": "code",
   "execution_count": 16,
   "metadata": {},
   "outputs": [
    {
     "data": {
      "text/html": [
       "<div>\n",
       "<style scoped>\n",
       "    .dataframe tbody tr th:only-of-type {\n",
       "        vertical-align: middle;\n",
       "    }\n",
       "\n",
       "    .dataframe tbody tr th {\n",
       "        vertical-align: top;\n",
       "    }\n",
       "\n",
       "    .dataframe thead th {\n",
       "        text-align: right;\n",
       "    }\n",
       "</style>\n",
       "<table border=\"1\" class=\"dataframe\">\n",
       "  <thead>\n",
       "    <tr style=\"text-align: right;\">\n",
       "      <th></th>\n",
       "      <th>Name</th>\n",
       "      <th>description</th>\n",
       "      <th>timestamp</th>\n",
       "      <th>begin</th>\n",
       "      <th>end</th>\n",
       "      <th>altitudeMode</th>\n",
       "      <th>tessellate</th>\n",
       "      <th>extrude</th>\n",
       "      <th>visibility</th>\n",
       "      <th>drawOrder</th>\n",
       "      <th>icon</th>\n",
       "      <th>geometry</th>\n",
       "    </tr>\n",
       "  </thead>\n",
       "  <tbody>\n",
       "    <tr>\n",
       "      <th>0</th>\n",
       "      <td>9.21.2017</td>\n",
       "      <td>2</td>\n",
       "      <td>None</td>\n",
       "      <td>None</td>\n",
       "      <td>None</td>\n",
       "      <td>None</td>\n",
       "      <td>1</td>\n",
       "      <td>0</td>\n",
       "      <td>-1</td>\n",
       "      <td>None</td>\n",
       "      <td>None</td>\n",
       "      <td>POLYGON Z ((36.09433 49.51111 0.00000, 36.0944...</td>\n",
       "    </tr>\n",
       "    <tr>\n",
       "      <th>1</th>\n",
       "      <td>9.21.2017</td>\n",
       "      <td>1</td>\n",
       "      <td>None</td>\n",
       "      <td>None</td>\n",
       "      <td>None</td>\n",
       "      <td>None</td>\n",
       "      <td>1</td>\n",
       "      <td>0</td>\n",
       "      <td>-1</td>\n",
       "      <td>None</td>\n",
       "      <td>None</td>\n",
       "      <td>POLYGON Z ((36.09231 49.51109 0.00000, 36.0924...</td>\n",
       "    </tr>\n",
       "    <tr>\n",
       "      <th>2</th>\n",
       "      <td>9.21.2017</td>\n",
       "      <td>4</td>\n",
       "      <td>None</td>\n",
       "      <td>None</td>\n",
       "      <td>None</td>\n",
       "      <td>None</td>\n",
       "      <td>1</td>\n",
       "      <td>0</td>\n",
       "      <td>-1</td>\n",
       "      <td>None</td>\n",
       "      <td>None</td>\n",
       "      <td>POLYGON Z ((36.12441 49.51583 0.00000, 36.1245...</td>\n",
       "    </tr>\n",
       "    <tr>\n",
       "      <th>3</th>\n",
       "      <td>9.21.2017</td>\n",
       "      <td>1</td>\n",
       "      <td>None</td>\n",
       "      <td>None</td>\n",
       "      <td>None</td>\n",
       "      <td>None</td>\n",
       "      <td>1</td>\n",
       "      <td>0</td>\n",
       "      <td>-1</td>\n",
       "      <td>None</td>\n",
       "      <td>None</td>\n",
       "      <td>POLYGON Z ((36.12583 49.51585 0.00000, 36.1260...</td>\n",
       "    </tr>\n",
       "    <tr>\n",
       "      <th>4</th>\n",
       "      <td>9.21.2017</td>\n",
       "      <td>1</td>\n",
       "      <td>None</td>\n",
       "      <td>None</td>\n",
       "      <td>None</td>\n",
       "      <td>None</td>\n",
       "      <td>1</td>\n",
       "      <td>0</td>\n",
       "      <td>-1</td>\n",
       "      <td>None</td>\n",
       "      <td>None</td>\n",
       "      <td>POLYGON Z ((36.13788 49.51812 0.00000, 36.1380...</td>\n",
       "    </tr>\n",
       "    <tr>\n",
       "      <th>...</th>\n",
       "      <td>...</td>\n",
       "      <td>...</td>\n",
       "      <td>...</td>\n",
       "      <td>...</td>\n",
       "      <td>...</td>\n",
       "      <td>...</td>\n",
       "      <td>...</td>\n",
       "      <td>...</td>\n",
       "      <td>...</td>\n",
       "      <td>...</td>\n",
       "      <td>...</td>\n",
       "      <td>...</td>\n",
       "    </tr>\n",
       "    <tr>\n",
       "      <th>823</th>\n",
       "      <td>4.15.2018</td>\n",
       "      <td>1</td>\n",
       "      <td>None</td>\n",
       "      <td>None</td>\n",
       "      <td>None</td>\n",
       "      <td>None</td>\n",
       "      <td>1</td>\n",
       "      <td>0</td>\n",
       "      <td>-1</td>\n",
       "      <td>None</td>\n",
       "      <td>None</td>\n",
       "      <td>POLYGON Z ((35.62024 50.19011 0.00000, 35.6202...</td>\n",
       "    </tr>\n",
       "    <tr>\n",
       "      <th>824</th>\n",
       "      <td>6.9.2010</td>\n",
       "      <td>1</td>\n",
       "      <td>None</td>\n",
       "      <td>None</td>\n",
       "      <td>None</td>\n",
       "      <td>None</td>\n",
       "      <td>1</td>\n",
       "      <td>0</td>\n",
       "      <td>-1</td>\n",
       "      <td>None</td>\n",
       "      <td>None</td>\n",
       "      <td>POLYGON Z ((35.64868 50.07251 0.00000, 35.6486...</td>\n",
       "    </tr>\n",
       "    <tr>\n",
       "      <th>825</th>\n",
       "      <td>6.9.2010</td>\n",
       "      <td>1</td>\n",
       "      <td>None</td>\n",
       "      <td>None</td>\n",
       "      <td>None</td>\n",
       "      <td>None</td>\n",
       "      <td>1</td>\n",
       "      <td>0</td>\n",
       "      <td>-1</td>\n",
       "      <td>None</td>\n",
       "      <td>None</td>\n",
       "      <td>POLYGON Z ((35.62729 50.06507 0.00000, 35.6273...</td>\n",
       "    </tr>\n",
       "    <tr>\n",
       "      <th>826</th>\n",
       "      <td>6.9.2010</td>\n",
       "      <td>1</td>\n",
       "      <td>None</td>\n",
       "      <td>None</td>\n",
       "      <td>None</td>\n",
       "      <td>None</td>\n",
       "      <td>1</td>\n",
       "      <td>0</td>\n",
       "      <td>-1</td>\n",
       "      <td>None</td>\n",
       "      <td>None</td>\n",
       "      <td>POLYGON Z ((35.62697 50.06321 0.00000, 35.6269...</td>\n",
       "    </tr>\n",
       "    <tr>\n",
       "      <th>827</th>\n",
       "      <td>5.8.2014</td>\n",
       "      <td>1</td>\n",
       "      <td>None</td>\n",
       "      <td>None</td>\n",
       "      <td>None</td>\n",
       "      <td>None</td>\n",
       "      <td>1</td>\n",
       "      <td>0</td>\n",
       "      <td>-1</td>\n",
       "      <td>None</td>\n",
       "      <td>None</td>\n",
       "      <td>POLYGON Z ((35.74051 50.04945 0.00000, 35.7405...</td>\n",
       "    </tr>\n",
       "  </tbody>\n",
       "</table>\n",
       "<p>828 rows × 12 columns</p>\n",
       "</div>"
      ],
      "text/plain": [
       "          Name description timestamp begin   end altitudeMode  tessellate  \\\n",
       "0    9.21.2017           2      None  None  None         None           1   \n",
       "1    9.21.2017           1      None  None  None         None           1   \n",
       "2    9.21.2017           4      None  None  None         None           1   \n",
       "3    9.21.2017           1      None  None  None         None           1   \n",
       "4    9.21.2017           1      None  None  None         None           1   \n",
       "..         ...         ...       ...   ...   ...          ...         ...   \n",
       "823  4.15.2018           1      None  None  None         None           1   \n",
       "824   6.9.2010           1      None  None  None         None           1   \n",
       "825   6.9.2010           1      None  None  None         None           1   \n",
       "826   6.9.2010           1      None  None  None         None           1   \n",
       "827   5.8.2014           1      None  None  None         None           1   \n",
       "\n",
       "     extrude  visibility drawOrder  icon  \\\n",
       "0          0          -1      None  None   \n",
       "1          0          -1      None  None   \n",
       "2          0          -1      None  None   \n",
       "3          0          -1      None  None   \n",
       "4          0          -1      None  None   \n",
       "..       ...         ...       ...   ...   \n",
       "823        0          -1      None  None   \n",
       "824        0          -1      None  None   \n",
       "825        0          -1      None  None   \n",
       "826        0          -1      None  None   \n",
       "827        0          -1      None  None   \n",
       "\n",
       "                                              geometry  \n",
       "0    POLYGON Z ((36.09433 49.51111 0.00000, 36.0944...  \n",
       "1    POLYGON Z ((36.09231 49.51109 0.00000, 36.0924...  \n",
       "2    POLYGON Z ((36.12441 49.51583 0.00000, 36.1245...  \n",
       "3    POLYGON Z ((36.12583 49.51585 0.00000, 36.1260...  \n",
       "4    POLYGON Z ((36.13788 49.51812 0.00000, 36.1380...  \n",
       "..                                                 ...  \n",
       "823  POLYGON Z ((35.62024 50.19011 0.00000, 35.6202...  \n",
       "824  POLYGON Z ((35.64868 50.07251 0.00000, 35.6486...  \n",
       "825  POLYGON Z ((35.62729 50.06507 0.00000, 35.6273...  \n",
       "826  POLYGON Z ((35.62697 50.06321 0.00000, 35.6269...  \n",
       "827  POLYGON Z ((35.74051 50.04945 0.00000, 35.7405...  \n",
       "\n",
       "[828 rows x 12 columns]"
      ]
     },
     "execution_count": 16,
     "metadata": {},
     "output_type": "execute_result"
    }
   ],
   "source": [
    "aoi"
   ]
  },
  {
   "cell_type": "code",
   "execution_count": 17,
   "metadata": {},
   "outputs": [],
   "source": [
    "aoi.to_file(os.path.join(WORKDIR, \"soil2_aoi.geojson\"), driver='GeoJSON')"
   ]
  },
  {
   "cell_type": "code",
   "execution_count": 24,
   "metadata": {},
   "outputs": [],
   "source": [
    "bbox = box(*aoi.total_bounds)\n",
    "bbox = gpd.GeoDataFrame(geometry=[box(*aoi.total_bounds)], crs=aoi.crs)"
   ]
  },
  {
   "cell_type": "code",
   "execution_count": null,
   "metadata": {},
   "outputs": [],
   "source": [
    "bbox.to_file(os.path.join(WORKDIR, \"soil2_aoi_bbox.geojson\"), driver='GeoJSON')"
   ]
  },
  {
   "cell_type": "code",
   "execution_count": 26,
   "metadata": {},
   "outputs": [
    {
     "data": {
      "text/plain": [
       "22470.307865970626"
      ]
     },
     "execution_count": 26,
     "metadata": {},
     "output_type": "execute_result"
    }
   ],
   "source": [
    "transformed_bbox = to_crs(bbox.iloc[0].geometry, 'EPSG:32636')\n",
    "transformed_bbox.area / 1e6"
   ]
  },
  {
   "cell_type": "markdown",
   "metadata": {},
   "source": [
    "#### markup1 aoi"
   ]
  },
  {
   "cell_type": "code",
   "execution_count": 27,
   "metadata": {},
   "outputs": [
    {
     "name": "stdout",
     "output_type": "stream",
     "text": [
      "/home/jovyan/work/notebooks/planet/erosion_images/markup1\n"
     ]
    }
   ],
   "source": [
    "aoi_folder = os.path.join(WORKDIR, \"markup1\")\n",
    "print(aoi_folder)"
   ]
  },
  {
   "cell_type": "code",
   "execution_count": 28,
   "metadata": {},
   "outputs": [],
   "source": [
    "aoi_list = list()\n",
    "for f in os.listdir(aoi_folder):\n",
    "    if f.endswith(\".shp\"):\n",
    "        aoi_list.append(read_aoi(os.path.join(aoi_folder, f)))"
   ]
  },
  {
   "cell_type": "code",
   "execution_count": 29,
   "metadata": {},
   "outputs": [],
   "source": [
    "aoi = gpd.GeoDataFrame(pd.concat(aoi_list, ignore_index=True))"
   ]
  },
  {
   "cell_type": "code",
   "execution_count": 30,
   "metadata": {},
   "outputs": [
    {
     "data": {
      "text/html": [
       "<div>\n",
       "<style scoped>\n",
       "    .dataframe tbody tr th:only-of-type {\n",
       "        vertical-align: middle;\n",
       "    }\n",
       "\n",
       "    .dataframe tbody tr th {\n",
       "        vertical-align: top;\n",
       "    }\n",
       "\n",
       "    .dataframe thead th {\n",
       "        text-align: right;\n",
       "    }\n",
       "</style>\n",
       "<table border=\"1\" class=\"dataframe\">\n",
       "  <thead>\n",
       "    <tr style=\"text-align: right;\">\n",
       "      <th></th>\n",
       "      <th>id</th>\n",
       "      <th>Data</th>\n",
       "      <th>Code</th>\n",
       "      <th>Descriptio</th>\n",
       "      <th>Comments</th>\n",
       "      <th>Image</th>\n",
       "      <th>geometry</th>\n",
       "    </tr>\n",
       "  </thead>\n",
       "  <tbody>\n",
       "    <tr>\n",
       "      <th>0</th>\n",
       "      <td>None</td>\n",
       "      <td>None</td>\n",
       "      <td>2.0</td>\n",
       "      <td>branch of tree</td>\n",
       "      <td>None</td>\n",
       "      <td>T36UXV_20190427T083601</td>\n",
       "      <td>POLYGON ((35.62916 49.60293, 35.63015 49.60163...</td>\n",
       "    </tr>\n",
       "    <tr>\n",
       "      <th>1</th>\n",
       "      <td>None</td>\n",
       "      <td>None</td>\n",
       "      <td>1.0</td>\n",
       "      <td>color+ feathers</td>\n",
       "      <td>None</td>\n",
       "      <td>T36UXV_20190427T083601</td>\n",
       "      <td>POLYGON ((35.65070 49.60254, 35.65248 49.60301...</td>\n",
       "    </tr>\n",
       "    <tr>\n",
       "      <th>2</th>\n",
       "      <td>None</td>\n",
       "      <td>None</td>\n",
       "      <td>2.0</td>\n",
       "      <td>brahch of tree</td>\n",
       "      <td>None</td>\n",
       "      <td>T36UXV_20190427T083601</td>\n",
       "      <td>POLYGON ((35.63023 49.60826, 35.62960 49.60920...</td>\n",
       "    </tr>\n",
       "    <tr>\n",
       "      <th>3</th>\n",
       "      <td>None</td>\n",
       "      <td>None</td>\n",
       "      <td>1.0</td>\n",
       "      <td>color+ feathers</td>\n",
       "      <td>None</td>\n",
       "      <td>T36UXV_20190427T083601</td>\n",
       "      <td>POLYGON ((35.62033 49.60905, 35.62064 49.60968...</td>\n",
       "    </tr>\n",
       "    <tr>\n",
       "      <th>4</th>\n",
       "      <td>None</td>\n",
       "      <td>None</td>\n",
       "      <td>1.0</td>\n",
       "      <td>color+ feathers</td>\n",
       "      <td>None</td>\n",
       "      <td>T36UXV_20190427T083601</td>\n",
       "      <td>POLYGON ((35.60455 49.61078, 35.60597 49.61228...</td>\n",
       "    </tr>\n",
       "    <tr>\n",
       "      <th>...</th>\n",
       "      <td>...</td>\n",
       "      <td>...</td>\n",
       "      <td>...</td>\n",
       "      <td>...</td>\n",
       "      <td>...</td>\n",
       "      <td>...</td>\n",
       "      <td>...</td>\n",
       "    </tr>\n",
       "    <tr>\n",
       "      <th>1057</th>\n",
       "      <td>None</td>\n",
       "      <td>None</td>\n",
       "      <td>NaN</td>\n",
       "      <td>None</td>\n",
       "      <td>None</td>\n",
       "      <td>None</td>\n",
       "      <td>POLYGON ((34.25062 49.57794, 34.25084 49.57798...</td>\n",
       "    </tr>\n",
       "    <tr>\n",
       "      <th>1058</th>\n",
       "      <td>None</td>\n",
       "      <td>None</td>\n",
       "      <td>NaN</td>\n",
       "      <td>None</td>\n",
       "      <td>None</td>\n",
       "      <td>None</td>\n",
       "      <td>POLYGON ((34.21808 49.16749, 34.22399 49.16750...</td>\n",
       "    </tr>\n",
       "    <tr>\n",
       "      <th>1059</th>\n",
       "      <td>None</td>\n",
       "      <td>None</td>\n",
       "      <td>NaN</td>\n",
       "      <td>None</td>\n",
       "      <td>None</td>\n",
       "      <td>None</td>\n",
       "      <td>POLYGON ((34.20082 49.16734, 34.20511 49.16737...</td>\n",
       "    </tr>\n",
       "    <tr>\n",
       "      <th>1060</th>\n",
       "      <td>None</td>\n",
       "      <td>None</td>\n",
       "      <td>NaN</td>\n",
       "      <td>None</td>\n",
       "      <td>None</td>\n",
       "      <td>None</td>\n",
       "      <td>POLYGON ((34.20653 49.16749, 34.20954 49.16757...</td>\n",
       "    </tr>\n",
       "    <tr>\n",
       "      <th>1061</th>\n",
       "      <td>None</td>\n",
       "      <td>None</td>\n",
       "      <td>NaN</td>\n",
       "      <td>None</td>\n",
       "      <td>None</td>\n",
       "      <td>None</td>\n",
       "      <td>POLYGON ((35.23632 48.89546, 35.23687 48.89533...</td>\n",
       "    </tr>\n",
       "  </tbody>\n",
       "</table>\n",
       "<p>1062 rows × 7 columns</p>\n",
       "</div>"
      ],
      "text/plain": [
       "        id  Data  Code       Descriptio Comments                   Image  \\\n",
       "0     None  None   2.0   branch of tree     None  T36UXV_20190427T083601   \n",
       "1     None  None   1.0  color+ feathers     None  T36UXV_20190427T083601   \n",
       "2     None  None   2.0   brahch of tree     None  T36UXV_20190427T083601   \n",
       "3     None  None   1.0  color+ feathers     None  T36UXV_20190427T083601   \n",
       "4     None  None   1.0  color+ feathers     None  T36UXV_20190427T083601   \n",
       "...    ...   ...   ...              ...      ...                     ...   \n",
       "1057  None  None   NaN             None     None                    None   \n",
       "1058  None  None   NaN             None     None                    None   \n",
       "1059  None  None   NaN             None     None                    None   \n",
       "1060  None  None   NaN             None     None                    None   \n",
       "1061  None  None   NaN             None     None                    None   \n",
       "\n",
       "                                               geometry  \n",
       "0     POLYGON ((35.62916 49.60293, 35.63015 49.60163...  \n",
       "1     POLYGON ((35.65070 49.60254, 35.65248 49.60301...  \n",
       "2     POLYGON ((35.63023 49.60826, 35.62960 49.60920...  \n",
       "3     POLYGON ((35.62033 49.60905, 35.62064 49.60968...  \n",
       "4     POLYGON ((35.60455 49.61078, 35.60597 49.61228...  \n",
       "...                                                 ...  \n",
       "1057  POLYGON ((34.25062 49.57794, 34.25084 49.57798...  \n",
       "1058  POLYGON ((34.21808 49.16749, 34.22399 49.16750...  \n",
       "1059  POLYGON ((34.20082 49.16734, 34.20511 49.16737...  \n",
       "1060  POLYGON ((34.20653 49.16749, 34.20954 49.16757...  \n",
       "1061  POLYGON ((35.23632 48.89546, 35.23687 48.89533...  \n",
       "\n",
       "[1062 rows x 7 columns]"
      ]
     },
     "execution_count": 30,
     "metadata": {},
     "output_type": "execute_result"
    }
   ],
   "source": [
    "aoi"
   ]
  },
  {
   "cell_type": "code",
   "execution_count": 31,
   "metadata": {},
   "outputs": [],
   "source": [
    "aoi.to_file(os.path.join(WORKDIR, \"markup1_aoi.geojson\"), driver='GeoJSON')"
   ]
  },
  {
   "cell_type": "code",
   "execution_count": 32,
   "metadata": {},
   "outputs": [],
   "source": [
    "bbox = box(*aoi.total_bounds)\n",
    "bbox = gpd.GeoDataFrame(geometry=[box(*aoi.total_bounds)], crs=aoi.crs)"
   ]
  },
  {
   "cell_type": "code",
   "execution_count": 33,
   "metadata": {},
   "outputs": [],
   "source": [
    "bbox.to_file(os.path.join(WORKDIR, \"markup1_aoi_bbox.geojson\"), driver='GeoJSON')"
   ]
  },
  {
   "cell_type": "code",
   "execution_count": 34,
   "metadata": {},
   "outputs": [
    {
     "data": {
      "text/plain": [
       "17939.75747932019"
      ]
     },
     "execution_count": 34,
     "metadata": {},
     "output_type": "execute_result"
    }
   ],
   "source": [
    "transformed_bbox = to_crs(bbox.iloc[0].geometry, 'EPSG:32636')\n",
    "transformed_bbox.area / 1e6"
   ]
  },
  {
   "cell_type": "markdown",
   "metadata": {},
   "source": [
    "#### calculate image size"
   ]
  },
  {
   "cell_type": "code",
   "execution_count": 97,
   "metadata": {},
   "outputs": [],
   "source": [
    "# id \"3693161_3762007_2020-09-01_2304\"\n",
    "\n",
    "points = [\n",
    "   [\n",
    "    36.3245550026778,\n",
    "    49.8060607710868\n",
    "   ],\n",
    "   [\n",
    "    36.6717398932232,\n",
    "    49.81353826301563\n",
    "   ],\n",
    "   [\n",
    "    36.68238289516968,\n",
    "    49.58887772166663\n",
    "   ],\n",
    "   [\n",
    "    36.33682878208244,\n",
    "    49.581421227612765\n",
    "   ],\n",
    "   [\n",
    "    36.3245550026778,\n",
    "    49.8060607710868\n",
    "   ]\n",
    "  ]"
   ]
  },
  {
   "cell_type": "code",
   "execution_count": 98,
   "metadata": {},
   "outputs": [],
   "source": [
    "polygon = geometry.Polygon([p for p in points])"
   ]
  },
  {
   "cell_type": "code",
   "execution_count": 99,
   "metadata": {},
   "outputs": [
    {
     "data": {
      "image/svg+xml": [
       "<svg xmlns=\"http://www.w3.org/2000/svg\" xmlns:xlink=\"http://www.w3.org/1999/xlink\" width=\"100.0\" height=\"100.0\" viewBox=\"36.31024188697812 49.567108111913086 0.3864541238912409 0.2607432668022227\" preserveAspectRatio=\"xMinYMin meet\"><g transform=\"matrix(1,0,0,-1,0,99.3949594906284)\"><path fill-rule=\"evenodd\" fill=\"#66cc99\" stroke=\"#555555\" stroke-width=\"0.007729082477824818\" opacity=\"0.6\" d=\"M 36.3245550026778,49.8060607710868 L 36.6717398932232,49.81353826301563 L 36.68238289516968,49.58887772166663 L 36.33682878208244,49.581421227612765 L 36.3245550026778,49.8060607710868 z\" /></g></svg>"
      ],
      "text/plain": [
       "<shapely.geometry.polygon.Polygon at 0x7f53454a5250>"
      ]
     },
     "execution_count": 99,
     "metadata": {},
     "output_type": "execute_result"
    }
   ],
   "source": [
    "polygon"
   ]
  },
  {
   "cell_type": "code",
   "execution_count": 105,
   "metadata": {},
   "outputs": [],
   "source": [
    "transformed = to_crs(polygon, 'EPSG:32636')"
   ]
  },
  {
   "cell_type": "code",
   "execution_count": 109,
   "metadata": {},
   "outputs": [
    {
     "data": {
      "text/plain": [
       "625.5403540007851"
      ]
     },
     "execution_count": 109,
     "metadata": {},
     "output_type": "execute_result"
    }
   ],
   "source": [
    "km2 = transformed.area / 1e6\n",
    "km2"
   ]
  },
  {
   "cell_type": "markdown",
   "metadata": {},
   "source": [
    "#### PSOrthotiles goes with 25x25 km2 = 625"
   ]
  },
  {
   "cell_type": "code",
   "execution_count": 111,
   "metadata": {},
   "outputs": [
    {
     "data": {
      "text/plain": [
       "0.6953987815779732"
      ]
     },
     "execution_count": 111,
     "metadata": {},
     "output_type": "execute_result"
    }
   ],
   "source": [
    "img_size = 435\n",
    "\n",
    "# 1 km2 - 100 mb\n",
    "mb = img_size / km2\n",
    "mb"
   ]
  },
  {
   "cell_type": "code",
   "execution_count": null,
   "metadata": {},
   "outputs": [],
   "source": []
  },
  {
   "cell_type": "code",
   "execution_count": null,
   "metadata": {},
   "outputs": [],
   "source": []
  },
  {
   "cell_type": "code",
   "execution_count": null,
   "metadata": {},
   "outputs": [],
   "source": []
  },
  {
   "cell_type": "code",
   "execution_count": null,
   "metadata": {},
   "outputs": [],
   "source": []
  },
  {
   "cell_type": "code",
   "execution_count": null,
   "metadata": {},
   "outputs": [],
   "source": []
  },
  {
   "cell_type": "code",
   "execution_count": null,
   "metadata": {},
   "outputs": [],
   "source": []
  },
  {
   "cell_type": "code",
   "execution_count": null,
   "metadata": {},
   "outputs": [],
   "source": []
  }
 ],
 "metadata": {
  "kernelspec": {
   "display_name": "python37",
   "language": "python",
   "name": "python37"
  },
  "language_info": {
   "codemirror_mode": {
    "name": "ipython",
    "version": 3
   },
   "file_extension": ".py",
   "mimetype": "text/x-python",
   "name": "python",
   "nbconvert_exporter": "python",
   "pygments_lexer": "ipython3",
   "version": "3.7.9"
  }
 },
 "nbformat": 4,
 "nbformat_minor": 4
}
