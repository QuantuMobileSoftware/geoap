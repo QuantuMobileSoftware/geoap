{
 "cells": [
  {
   "cell_type": "markdown",
   "metadata": {},
   "source": [
    "### Get a GeoJSON with Crop types, style and prepare it"
   ]
  },
  {
   "cell_type": "code",
   "execution_count": 1,
   "metadata": {},
   "outputs": [],
   "source": [
    "import os\n",
    "import geopandas as gp\n",
    "\n",
    "from pathlib import Path"
   ]
  },
  {
   "cell_type": "code",
   "execution_count": 25,
   "metadata": {},
   "outputs": [],
   "source": [
    "BASE = f\"/home/{os.getenv('NB_USER')}/work\"\n",
    "\n",
    "WORKDIR = os.path.join(BASE, \"notebooks/pw\")\n",
    "RESULTSDIR = os.path.join(BASE, \"results/pw\")"
   ]
  },
  {
   "cell_type": "code",
   "execution_count": 3,
   "metadata": {},
   "outputs": [
    {
     "data": {
      "text/plain": [
       "'/home/jovyan/work/notebooks/pw/clu_predictions_2020_reformatted.geojson'"
      ]
     },
     "execution_count": 3,
     "metadata": {},
     "output_type": "execute_result"
    }
   ],
   "source": [
    "predictions_path = os.getenv(\"PREDICTIONS\", os.path.join(WORKDIR, \"clu_predictions_2020_reformatted.geojson\")) \n",
    "\n",
    "if not predictions_path:\n",
    "    raise RuntimeError(\"Add PREDICTIONS env var for calculations\") \n",
    "predictions_path"
   ]
  },
  {
   "cell_type": "code",
   "execution_count": 12,
   "metadata": {},
   "outputs": [],
   "source": [
    "def read_geojson(path, crs=\"epsg:4326\"):\n",
    "    df = gp.read_file(predictions_path)\n",
    "    if str(df.crs) != crs:\n",
    "        df.to_crs(crs, inplace=True)\n",
    "    return df"
   ]
  },
  {
   "cell_type": "code",
   "execution_count": 13,
   "metadata": {},
   "outputs": [],
   "source": [
    "preds = read_geojson(predictions_path)"
   ]
  },
  {
   "cell_type": "code",
   "execution_count": 14,
   "metadata": {},
   "outputs": [
    {
     "data": {
      "text/html": [
       "<div>\n",
       "<style scoped>\n",
       "    .dataframe tbody tr th:only-of-type {\n",
       "        vertical-align: middle;\n",
       "    }\n",
       "\n",
       "    .dataframe tbody tr th {\n",
       "        vertical-align: top;\n",
       "    }\n",
       "\n",
       "    .dataframe thead th {\n",
       "        text-align: right;\n",
       "    }\n",
       "</style>\n",
       "<table border=\"1\" class=\"dataframe\">\n",
       "  <thead>\n",
       "    <tr style=\"text-align: right;\">\n",
       "      <th></th>\n",
       "      <th>class</th>\n",
       "      <th>CLU_ID</th>\n",
       "      <th>geometry</th>\n",
       "    </tr>\n",
       "  </thead>\n",
       "  <tbody>\n",
       "    <tr>\n",
       "      <th>0</th>\n",
       "      <td>Other</td>\n",
       "      <td>6884CB75-57C8-45BB-9882-545420C97AFF</td>\n",
       "      <td>MULTIPOLYGON (((-80.92192 40.63885, -80.92126 ...</td>\n",
       "    </tr>\n",
       "    <tr>\n",
       "      <th>1</th>\n",
       "      <td>Corn</td>\n",
       "      <td>1FAFE575-B9E7-4922-930F-5A6C4C5C5D2D</td>\n",
       "      <td>MULTIPOLYGON (((-80.93056 40.69504, -80.92921 ...</td>\n",
       "    </tr>\n",
       "    <tr>\n",
       "      <th>2</th>\n",
       "      <td>Soybeans</td>\n",
       "      <td>53764DAD-4477-489F-BD6E-9E5D4043FB12</td>\n",
       "      <td>MULTIPOLYGON (((-80.89612 40.63810, -80.89616 ...</td>\n",
       "    </tr>\n",
       "    <tr>\n",
       "      <th>3</th>\n",
       "      <td>Corn</td>\n",
       "      <td>b1eda639-8d2e-49f8-84be-e42cf4efbf82</td>\n",
       "      <td>MULTIPOLYGON (((-80.93498 40.69577, -80.93520 ...</td>\n",
       "    </tr>\n",
       "    <tr>\n",
       "      <th>4</th>\n",
       "      <td>Other</td>\n",
       "      <td>4DD49095-57D8-4075-AA42-34D6B53364CA</td>\n",
       "      <td>MULTIPOLYGON (((-80.89639 40.64179, -80.89650 ...</td>\n",
       "    </tr>\n",
       "  </tbody>\n",
       "</table>\n",
       "</div>"
      ],
      "text/plain": [
       "      class                                CLU_ID  \\\n",
       "0     Other  6884CB75-57C8-45BB-9882-545420C97AFF   \n",
       "1      Corn  1FAFE575-B9E7-4922-930F-5A6C4C5C5D2D   \n",
       "2  Soybeans  53764DAD-4477-489F-BD6E-9E5D4043FB12   \n",
       "3      Corn  b1eda639-8d2e-49f8-84be-e42cf4efbf82   \n",
       "4     Other  4DD49095-57D8-4075-AA42-34D6B53364CA   \n",
       "\n",
       "                                            geometry  \n",
       "0  MULTIPOLYGON (((-80.92192 40.63885, -80.92126 ...  \n",
       "1  MULTIPOLYGON (((-80.93056 40.69504, -80.92921 ...  \n",
       "2  MULTIPOLYGON (((-80.89612 40.63810, -80.89616 ...  \n",
       "3  MULTIPOLYGON (((-80.93498 40.69577, -80.93520 ...  \n",
       "4  MULTIPOLYGON (((-80.89639 40.64179, -80.89650 ...  "
      ]
     },
     "execution_count": 14,
     "metadata": {},
     "output_type": "execute_result"
    }
   ],
   "source": [
    "preds.head()"
   ]
  },
  {
   "cell_type": "code",
   "execution_count": 19,
   "metadata": {},
   "outputs": [],
   "source": [
    "def create_style(class_):\n",
    "    colors = dict(soybeans='#6F634B',\n",
    "                  corn='#fbec5d')\n",
    "    \n",
    "    style = dict(color=colors.get(class_.lower(), '#C0C0C0'), \n",
    "                 popup_text=class_.lower(), \n",
    "                )    \n",
    "    return str(style)"
   ]
  },
  {
   "cell_type": "code",
   "execution_count": 20,
   "metadata": {},
   "outputs": [],
   "source": [
    "preds['style'] = preds['class'].apply(lambda cl: create_style(cl))"
   ]
  },
  {
   "cell_type": "code",
   "execution_count": 21,
   "metadata": {},
   "outputs": [
    {
     "data": {
      "text/html": [
       "<div>\n",
       "<style scoped>\n",
       "    .dataframe tbody tr th:only-of-type {\n",
       "        vertical-align: middle;\n",
       "    }\n",
       "\n",
       "    .dataframe tbody tr th {\n",
       "        vertical-align: top;\n",
       "    }\n",
       "\n",
       "    .dataframe thead th {\n",
       "        text-align: right;\n",
       "    }\n",
       "</style>\n",
       "<table border=\"1\" class=\"dataframe\">\n",
       "  <thead>\n",
       "    <tr style=\"text-align: right;\">\n",
       "      <th></th>\n",
       "      <th>class</th>\n",
       "      <th>CLU_ID</th>\n",
       "      <th>geometry</th>\n",
       "      <th>style</th>\n",
       "    </tr>\n",
       "  </thead>\n",
       "  <tbody>\n",
       "    <tr>\n",
       "      <th>0</th>\n",
       "      <td>Other</td>\n",
       "      <td>6884CB75-57C8-45BB-9882-545420C97AFF</td>\n",
       "      <td>MULTIPOLYGON (((-80.92192 40.63885, -80.92126 ...</td>\n",
       "      <td>{'color': '#C0C0C0', 'popup_text': 'other'}</td>\n",
       "    </tr>\n",
       "    <tr>\n",
       "      <th>1</th>\n",
       "      <td>Corn</td>\n",
       "      <td>1FAFE575-B9E7-4922-930F-5A6C4C5C5D2D</td>\n",
       "      <td>MULTIPOLYGON (((-80.93056 40.69504, -80.92921 ...</td>\n",
       "      <td>{'color': '#fbec5d', 'popup_text': 'corn'}</td>\n",
       "    </tr>\n",
       "    <tr>\n",
       "      <th>2</th>\n",
       "      <td>Soybeans</td>\n",
       "      <td>53764DAD-4477-489F-BD6E-9E5D4043FB12</td>\n",
       "      <td>MULTIPOLYGON (((-80.89612 40.63810, -80.89616 ...</td>\n",
       "      <td>{'color': '#6F634B', 'popup_text': 'soybeans'}</td>\n",
       "    </tr>\n",
       "  </tbody>\n",
       "</table>\n",
       "</div>"
      ],
      "text/plain": [
       "      class                                CLU_ID  \\\n",
       "0     Other  6884CB75-57C8-45BB-9882-545420C97AFF   \n",
       "1      Corn  1FAFE575-B9E7-4922-930F-5A6C4C5C5D2D   \n",
       "2  Soybeans  53764DAD-4477-489F-BD6E-9E5D4043FB12   \n",
       "\n",
       "                                            geometry  \\\n",
       "0  MULTIPOLYGON (((-80.92192 40.63885, -80.92126 ...   \n",
       "1  MULTIPOLYGON (((-80.93056 40.69504, -80.92921 ...   \n",
       "2  MULTIPOLYGON (((-80.89612 40.63810, -80.89616 ...   \n",
       "\n",
       "                                            style  \n",
       "0     {'color': '#C0C0C0', 'popup_text': 'other'}  \n",
       "1      {'color': '#fbec5d', 'popup_text': 'corn'}  \n",
       "2  {'color': '#6F634B', 'popup_text': 'soybeans'}  "
      ]
     },
     "execution_count": 21,
     "metadata": {},
     "output_type": "execute_result"
    }
   ],
   "source": [
    "preds.head(3)"
   ]
  },
  {
   "cell_type": "code",
   "execution_count": 26,
   "metadata": {},
   "outputs": [
    {
     "name": "stdout",
     "output_type": "stream",
     "text": [
      "Generating styled result .geojson file...\n",
      "Generated temp file: /home/jovyan/work/results/pw/clu_predictions_2020_reformatted.geojson.temp\n",
      "Rename temp file: /home/jovyan/work/results/pw/clu_predictions_2020_reformatted.geojson.temp to /home/jovyan/work/results/pw/clu_predictions_2020_reformatted.geojson\n",
      "Execution finished\n"
     ]
    }
   ],
   "source": [
    "print(\"Generating styled result .geojson file...\")\n",
    "\n",
    "stem = Path(predictions_path).stem\n",
    "temp_path = os.path.join(BASE, f\"{RESULTSDIR}/{stem}.geojson.temp\") \n",
    "os.makedirs(os.path.dirname(temp_path), exist_ok=True)\n",
    "\n",
    "preds.to_file(temp_path, driver='GeoJSON')\n",
    "    \n",
    "print(f\"Generated temp file: {temp_path}\")\n",
    "output_path = temp_path[:-5]\n",
    "print(f\"Rename temp file: {temp_path} to {output_path}\")\n",
    "os.rename(temp_path, output_path)\n",
    "\n",
    "print(\"Execution finished\")"
   ]
  },
  {
   "cell_type": "code",
   "execution_count": null,
   "metadata": {},
   "outputs": [],
   "source": []
  }
 ],
 "metadata": {
  "kernelspec": {
   "display_name": "python37",
   "language": "python",
   "name": "python37"
  },
  "language_info": {
   "codemirror_mode": {
    "name": "ipython",
    "version": 3
   },
   "file_extension": ".py",
   "mimetype": "text/x-python",
   "name": "python",
   "nbconvert_exporter": "python",
   "pygments_lexer": "ipython3",
   "version": "3.7.9"
  }
 },
 "nbformat": 4,
 "nbformat_minor": 4
}
