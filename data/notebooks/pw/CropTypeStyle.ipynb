{
 "cells": [
  {
   "cell_type": "markdown",
   "metadata": {},
   "source": [
    "### Get a GeoJSON with Crop types, style and prepare it"
   ]
  },
  {
   "cell_type": "code",
   "execution_count": 1,
   "metadata": {},
   "outputs": [],
   "source": [
    "import os\n",
    "import geopandas as gp"
   ]
  },
  {
   "cell_type": "code",
   "execution_count": 2,
   "metadata": {},
   "outputs": [],
   "source": [
    "BASE = f\"/home/{os.getenv('NB_USER')}/work\"\n",
    "\n",
    "WORKDIR = os.path.join(BASE, \"notebooks/pw\")"
   ]
  },
  {
   "cell_type": "code",
   "execution_count": 3,
   "metadata": {},
   "outputs": [
    {
     "data": {
      "text/plain": [
       "'/home/jovyan/work/notebooks/pw/ohio_CLUs_2020_with_labels.geojson'"
      ]
     },
     "execution_count": 3,
     "metadata": {},
     "output_type": "execute_result"
    }
   ],
   "source": [
    "aoi_path = os.getenv(\"AOI\", os.path.join(WORKDIR, \"ohio_CLUs_2020_with_labels.geojson\")) \n",
    "\n",
    "if not aoi_path:\n",
    "    raise RuntimeError(\"Add AOI env var for calculations\") \n",
    "aoi_path"
   ]
  },
  {
   "cell_type": "code",
   "execution_count": 4,
   "metadata": {},
   "outputs": [],
   "source": [
    "aoi = gp.read_file(aoi_path)"
   ]
  },
  {
   "cell_type": "code",
   "execution_count": 5,
   "metadata": {},
   "outputs": [
    {
     "data": {
      "text/html": [
       "<div>\n",
       "<style scoped>\n",
       "    .dataframe tbody tr th:only-of-type {\n",
       "        vertical-align: middle;\n",
       "    }\n",
       "\n",
       "    .dataframe tbody tr th {\n",
       "        vertical-align: top;\n",
       "    }\n",
       "\n",
       "    .dataframe thead th {\n",
       "        text-align: right;\n",
       "    }\n",
       "</style>\n",
       "<table border=\"1\" class=\"dataframe\">\n",
       "  <thead>\n",
       "    <tr style=\"text-align: right;\">\n",
       "      <th></th>\n",
       "      <th>class</th>\n",
       "      <th>CLU_ID</th>\n",
       "      <th>geometry</th>\n",
       "    </tr>\n",
       "  </thead>\n",
       "  <tbody>\n",
       "    <tr>\n",
       "      <th>0</th>\n",
       "      <td>SOYBEANS</td>\n",
       "      <td>371A09A0-4704-47A8-91CA-C2DCB0003B7A</td>\n",
       "      <td>MULTIPOLYGON (((-80.92750 40.64728, -80.92749 ...</td>\n",
       "    </tr>\n",
       "    <tr>\n",
       "      <th>1</th>\n",
       "      <td>SOYBEANS</td>\n",
       "      <td>E1DC8DF4-DE03-42C8-9C2C-7F5FDEE5611F</td>\n",
       "      <td>MULTIPOLYGON (((-80.92468 40.64614, -80.92504 ...</td>\n",
       "    </tr>\n",
       "    <tr>\n",
       "      <th>2</th>\n",
       "      <td>SOYBEANS</td>\n",
       "      <td>57AF79E6-1D2C-41D9-A103-B6F9391A4E61</td>\n",
       "      <td>MULTIPOLYGON (((-80.91080 40.63989, -80.91093 ...</td>\n",
       "    </tr>\n",
       "    <tr>\n",
       "      <th>3</th>\n",
       "      <td>SOYBEANS</td>\n",
       "      <td>7091dcd3-af88-405a-b2d5-837a2bc6a86e</td>\n",
       "      <td>MULTIPOLYGON (((-80.92218 40.64609, -80.92237 ...</td>\n",
       "    </tr>\n",
       "    <tr>\n",
       "      <th>4</th>\n",
       "      <td>SOYBEANS</td>\n",
       "      <td>73599807-ED17-40E2-AB75-B7D1BB6777D5</td>\n",
       "      <td>MULTIPOLYGON (((-80.91428 40.63666, -80.91441 ...</td>\n",
       "    </tr>\n",
       "  </tbody>\n",
       "</table>\n",
       "</div>"
      ],
      "text/plain": [
       "      class                                CLU_ID  \\\n",
       "0  SOYBEANS  371A09A0-4704-47A8-91CA-C2DCB0003B7A   \n",
       "1  SOYBEANS  E1DC8DF4-DE03-42C8-9C2C-7F5FDEE5611F   \n",
       "2  SOYBEANS  57AF79E6-1D2C-41D9-A103-B6F9391A4E61   \n",
       "3  SOYBEANS  7091dcd3-af88-405a-b2d5-837a2bc6a86e   \n",
       "4  SOYBEANS  73599807-ED17-40E2-AB75-B7D1BB6777D5   \n",
       "\n",
       "                                            geometry  \n",
       "0  MULTIPOLYGON (((-80.92750 40.64728, -80.92749 ...  \n",
       "1  MULTIPOLYGON (((-80.92468 40.64614, -80.92504 ...  \n",
       "2  MULTIPOLYGON (((-80.91080 40.63989, -80.91093 ...  \n",
       "3  MULTIPOLYGON (((-80.92218 40.64609, -80.92237 ...  \n",
       "4  MULTIPOLYGON (((-80.91428 40.63666, -80.91441 ...  "
      ]
     },
     "execution_count": 5,
     "metadata": {},
     "output_type": "execute_result"
    }
   ],
   "source": [
    "aoi.head()"
   ]
  },
  {
   "cell_type": "code",
   "execution_count": 6,
   "metadata": {},
   "outputs": [
    {
     "data": {
      "text/plain": [
       "array(['SOYBEANS', 'WHEAT', 'CORN'], dtype=object)"
      ]
     },
     "execution_count": 6,
     "metadata": {},
     "output_type": "execute_result"
    }
   ],
   "source": [
    "aoi['class'].unique()"
   ]
  },
  {
   "cell_type": "code",
   "execution_count": 7,
   "metadata": {},
   "outputs": [
    {
     "data": {
      "text/plain": [
       "{'soybeans': '#6F634B', 'wheat': '#f5deb3', 'corn': '#fbec5d'}"
      ]
     },
     "execution_count": 7,
     "metadata": {},
     "output_type": "execute_result"
    }
   ],
   "source": []
  },
  {
   "cell_type": "code",
   "execution_count": 20,
   "metadata": {},
   "outputs": [],
   "source": [
    "def create_style(class_):\n",
    "    colors = dict(soybeans='#6F634B',\n",
    "                  wheat='#f5deb3',\n",
    "                  corn='#fbec5d')\n",
    "    \n",
    "    style = dict(color=colors[class_.lower()], \n",
    "                 text=class_.lower(), )    \n",
    "    return str(style)"
   ]
  },
  {
   "cell_type": "code",
   "execution_count": 21,
   "metadata": {},
   "outputs": [],
   "source": [
    "aoi['style'] = aoi['class'].apply(lambda cl: create_style(cl))"
   ]
  },
  {
   "cell_type": "code",
   "execution_count": 22,
   "metadata": {},
   "outputs": [
    {
     "data": {
      "text/html": [
       "<div>\n",
       "<style scoped>\n",
       "    .dataframe tbody tr th:only-of-type {\n",
       "        vertical-align: middle;\n",
       "    }\n",
       "\n",
       "    .dataframe tbody tr th {\n",
       "        vertical-align: top;\n",
       "    }\n",
       "\n",
       "    .dataframe thead th {\n",
       "        text-align: right;\n",
       "    }\n",
       "</style>\n",
       "<table border=\"1\" class=\"dataframe\">\n",
       "  <thead>\n",
       "    <tr style=\"text-align: right;\">\n",
       "      <th></th>\n",
       "      <th>class</th>\n",
       "      <th>CLU_ID</th>\n",
       "      <th>geometry</th>\n",
       "      <th>style</th>\n",
       "    </tr>\n",
       "  </thead>\n",
       "  <tbody>\n",
       "    <tr>\n",
       "      <th>0</th>\n",
       "      <td>SOYBEANS</td>\n",
       "      <td>371A09A0-4704-47A8-91CA-C2DCB0003B7A</td>\n",
       "      <td>MULTIPOLYGON (((-80.92750 40.64728, -80.92749 ...</td>\n",
       "      <td>{'color': '#6F634B', 'text': 'soybeans', 'fill...</td>\n",
       "    </tr>\n",
       "    <tr>\n",
       "      <th>1</th>\n",
       "      <td>SOYBEANS</td>\n",
       "      <td>E1DC8DF4-DE03-42C8-9C2C-7F5FDEE5611F</td>\n",
       "      <td>MULTIPOLYGON (((-80.92468 40.64614, -80.92504 ...</td>\n",
       "      <td>{'color': '#6F634B', 'text': 'soybeans', 'fill...</td>\n",
       "    </tr>\n",
       "    <tr>\n",
       "      <th>2</th>\n",
       "      <td>SOYBEANS</td>\n",
       "      <td>57AF79E6-1D2C-41D9-A103-B6F9391A4E61</td>\n",
       "      <td>MULTIPOLYGON (((-80.91080 40.63989, -80.91093 ...</td>\n",
       "      <td>{'color': '#6F634B', 'text': 'soybeans', 'fill...</td>\n",
       "    </tr>\n",
       "    <tr>\n",
       "      <th>3</th>\n",
       "      <td>SOYBEANS</td>\n",
       "      <td>7091dcd3-af88-405a-b2d5-837a2bc6a86e</td>\n",
       "      <td>MULTIPOLYGON (((-80.92218 40.64609, -80.92237 ...</td>\n",
       "      <td>{'color': '#6F634B', 'text': 'soybeans', 'fill...</td>\n",
       "    </tr>\n",
       "    <tr>\n",
       "      <th>4</th>\n",
       "      <td>SOYBEANS</td>\n",
       "      <td>73599807-ED17-40E2-AB75-B7D1BB6777D5</td>\n",
       "      <td>MULTIPOLYGON (((-80.91428 40.63666, -80.91441 ...</td>\n",
       "      <td>{'color': '#6F634B', 'text': 'soybeans', 'fill...</td>\n",
       "    </tr>\n",
       "    <tr>\n",
       "      <th>...</th>\n",
       "      <td>...</td>\n",
       "      <td>...</td>\n",
       "      <td>...</td>\n",
       "      <td>...</td>\n",
       "    </tr>\n",
       "    <tr>\n",
       "      <th>229</th>\n",
       "      <td>CORN</td>\n",
       "      <td>6204BEA1-C2BA-4B06-A214-0B9E12F63F5C</td>\n",
       "      <td>MULTIPOLYGON (((-83.60941 39.83538, -83.60945 ...</td>\n",
       "      <td>{'color': '#fbec5d', 'text': 'corn', 'fill-opa...</td>\n",
       "    </tr>\n",
       "    <tr>\n",
       "      <th>230</th>\n",
       "      <td>CORN</td>\n",
       "      <td>62EDC32F-3AEF-4213-AE2F-4DA39DC4915F</td>\n",
       "      <td>MULTIPOLYGON (((-83.77386 39.89772, -83.77353 ...</td>\n",
       "      <td>{'color': '#fbec5d', 'text': 'corn', 'fill-opa...</td>\n",
       "    </tr>\n",
       "    <tr>\n",
       "      <th>231</th>\n",
       "      <td>CORN</td>\n",
       "      <td>d1e22ad4-55da-40a1-977d-19faf574f6e6</td>\n",
       "      <td>MULTIPOLYGON (((-83.73172 39.79389, -83.73196 ...</td>\n",
       "      <td>{'color': '#fbec5d', 'text': 'corn', 'fill-opa...</td>\n",
       "    </tr>\n",
       "    <tr>\n",
       "      <th>232</th>\n",
       "      <td>SOYBEANS</td>\n",
       "      <td>644207de-df2e-4cd7-af81-94b97c36fa4e</td>\n",
       "      <td>MULTIPOLYGON (((-83.91607 40.00377, -83.91589 ...</td>\n",
       "      <td>{'color': '#6F634B', 'text': 'soybeans', 'fill...</td>\n",
       "    </tr>\n",
       "    <tr>\n",
       "      <th>233</th>\n",
       "      <td>SOYBEANS</td>\n",
       "      <td>8A476A03-F698-4F2E-8C78-D96AC4BE431B</td>\n",
       "      <td>MULTIPOLYGON (((-83.67913 39.92328, -83.67990 ...</td>\n",
       "      <td>{'color': '#6F634B', 'text': 'soybeans', 'fill...</td>\n",
       "    </tr>\n",
       "  </tbody>\n",
       "</table>\n",
       "<p>234 rows × 4 columns</p>\n",
       "</div>"
      ],
      "text/plain": [
       "        class                                CLU_ID  \\\n",
       "0    SOYBEANS  371A09A0-4704-47A8-91CA-C2DCB0003B7A   \n",
       "1    SOYBEANS  E1DC8DF4-DE03-42C8-9C2C-7F5FDEE5611F   \n",
       "2    SOYBEANS  57AF79E6-1D2C-41D9-A103-B6F9391A4E61   \n",
       "3    SOYBEANS  7091dcd3-af88-405a-b2d5-837a2bc6a86e   \n",
       "4    SOYBEANS  73599807-ED17-40E2-AB75-B7D1BB6777D5   \n",
       "..        ...                                   ...   \n",
       "229      CORN  6204BEA1-C2BA-4B06-A214-0B9E12F63F5C   \n",
       "230      CORN  62EDC32F-3AEF-4213-AE2F-4DA39DC4915F   \n",
       "231      CORN  d1e22ad4-55da-40a1-977d-19faf574f6e6   \n",
       "232  SOYBEANS  644207de-df2e-4cd7-af81-94b97c36fa4e   \n",
       "233  SOYBEANS  8A476A03-F698-4F2E-8C78-D96AC4BE431B   \n",
       "\n",
       "                                              geometry  \\\n",
       "0    MULTIPOLYGON (((-80.92750 40.64728, -80.92749 ...   \n",
       "1    MULTIPOLYGON (((-80.92468 40.64614, -80.92504 ...   \n",
       "2    MULTIPOLYGON (((-80.91080 40.63989, -80.91093 ...   \n",
       "3    MULTIPOLYGON (((-80.92218 40.64609, -80.92237 ...   \n",
       "4    MULTIPOLYGON (((-80.91428 40.63666, -80.91441 ...   \n",
       "..                                                 ...   \n",
       "229  MULTIPOLYGON (((-83.60941 39.83538, -83.60945 ...   \n",
       "230  MULTIPOLYGON (((-83.77386 39.89772, -83.77353 ...   \n",
       "231  MULTIPOLYGON (((-83.73172 39.79389, -83.73196 ...   \n",
       "232  MULTIPOLYGON (((-83.91607 40.00377, -83.91589 ...   \n",
       "233  MULTIPOLYGON (((-83.67913 39.92328, -83.67990 ...   \n",
       "\n",
       "                                                 style  \n",
       "0    {'color': '#6F634B', 'text': 'soybeans', 'fill...  \n",
       "1    {'color': '#6F634B', 'text': 'soybeans', 'fill...  \n",
       "2    {'color': '#6F634B', 'text': 'soybeans', 'fill...  \n",
       "3    {'color': '#6F634B', 'text': 'soybeans', 'fill...  \n",
       "4    {'color': '#6F634B', 'text': 'soybeans', 'fill...  \n",
       "..                                                 ...  \n",
       "229  {'color': '#fbec5d', 'text': 'corn', 'fill-opa...  \n",
       "230  {'color': '#fbec5d', 'text': 'corn', 'fill-opa...  \n",
       "231  {'color': '#fbec5d', 'text': 'corn', 'fill-opa...  \n",
       "232  {'color': '#6F634B', 'text': 'soybeans', 'fill...  \n",
       "233  {'color': '#6F634B', 'text': 'soybeans', 'fill...  \n",
       "\n",
       "[234 rows x 4 columns]"
      ]
     },
     "execution_count": 22,
     "metadata": {},
     "output_type": "execute_result"
    }
   ],
   "source": [
    "aoi"
   ]
  },
  {
   "cell_type": "code",
   "execution_count": 23,
   "metadata": {},
   "outputs": [],
   "source": [
    "temp_path = os.path.join(BASE, \"results/pw/styled.geojson.temp\") "
   ]
  },
  {
   "cell_type": "code",
   "execution_count": 24,
   "metadata": {},
   "outputs": [
    {
     "name": "stdout",
     "output_type": "stream",
     "text": [
      "Generating .geojson file...\n",
      "Generated temp file: /home/jovyan/work/results/pw/styled.geojson.temp\n",
      "Rename temp file: /home/jovyan/work/results/pw/styled.geojson.temp to /home/jovyan/work/results/pw/styled.geojson\n",
      "Execution finished\n"
     ]
    }
   ],
   "source": [
    "print(\"Generating .geojson file...\")\n",
    "\n",
    "os.makedirs(os.path.dirname(temp_path), exist_ok=True)\n",
    "\n",
    "aoi.to_file(temp_path, driver='GeoJSON')\n",
    "    \n",
    "print(f\"Generated temp file: {temp_path}\")\n",
    "output_path = temp_path[:-5]\n",
    "print(f\"Rename temp file: {temp_path} to {output_path}\")\n",
    "os.rename(temp_path, output_path)\n",
    "\n",
    "print(\"Execution finished\")"
   ]
  },
  {
   "cell_type": "code",
   "execution_count": null,
   "metadata": {},
   "outputs": [],
   "source": []
  },
  {
   "cell_type": "code",
   "execution_count": null,
   "metadata": {},
   "outputs": [],
   "source": []
  },
  {
   "cell_type": "code",
   "execution_count": null,
   "metadata": {},
   "outputs": [],
   "source": []
  }
 ],
 "metadata": {
  "kernelspec": {
   "display_name": "python37",
   "language": "python",
   "name": "python37"
  },
  "language_info": {
   "codemirror_mode": {
    "name": "ipython",
    "version": 3
   },
   "file_extension": ".py",
   "mimetype": "text/x-python",
   "name": "python",
   "nbconvert_exporter": "python",
   "pygments_lexer": "ipython3",
   "version": "3.7.9"
  }
 },
 "nbformat": 4,
 "nbformat_minor": 4
}
