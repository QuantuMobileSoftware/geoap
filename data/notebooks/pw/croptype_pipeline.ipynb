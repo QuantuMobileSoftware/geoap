{
 "cells": [
  {
   "cell_type": "code",
   "execution_count": null,
   "metadata": {},
   "outputs": [],
   "source": [
    "REQUEST_ID = 0\n",
    "AOI = 'POLYGON ((-85.483932 40.367801, -85.64349199999999 40.367801, -85.64349199999999 40.226597, -85.483932 40.226597, -85.483932 40.367801))'\n",
    "START_DATE = '2020-04-01'\n",
    "END_DATE = '2020-09-01'"
   ]
  },
  {
   "cell_type": "code",
   "execution_count": null,
   "metadata": {},
   "outputs": [],
   "source": [
    "import shapely.wkt\n",
    "import time\n",
    "import os\n",
    "import shutil\n",
    "import sys\n",
    "import yaml\n",
    "import json\n",
    "import rasterio\n",
    "import geopandas as gpd\n",
    "import numpy as np\n",
    "import matplotlib.pyplot as plt\n",
    "from datetime import datetime\n",
    "\n",
    "os.environ[\"CUDA_VISIBLE_DEVICES\"] = \"0\"\n",
    "from prediction_pipeline.run import run"
   ]
  },
  {
   "cell_type": "code",
   "execution_count": null,
   "metadata": {},
   "outputs": [],
   "source": [
    "USER = os.getenv('NB_USER')\n",
    "NAME = 'Crop map'\n",
    "BASE = os.getcwd()\n",
    "DATA_DIR = f\"/home/{USER}/work\"\n",
    "RESULTS_DIR = os.path.join(DATA_DIR, \"results/pw/\")"
   ]
  },
  {
   "cell_type": "code",
   "execution_count": null,
   "metadata": {},
   "outputs": [],
   "source": [
    "polygon = shapely.wkt.loads(AOI)\n",
    "aoi_filename = f\"{time.time()}_aoi.geojson\"\n",
    "gpd.GeoDataFrame(gpd.GeoSeries([polygon]), columns=[\"geometry\"]).to_file(aoi_filename, driver=\"GeoJSON\")\n",
    "start_date = datetime.strptime(START_DATE, '%Y-%m-%d')\n",
    "end_date = datetime.strptime(END_DATE, '%Y-%m-%d')"
   ]
  },
  {
   "cell_type": "code",
   "execution_count": null,
   "metadata": {
    "scrolled": true
   },
   "outputs": [],
   "source": [
    "CONFIG_PATH = f\"prediction_pipeline/config.yml\"\n",
    "with open(CONFIG_PATH) as f:\n",
    "    config = yaml.safe_load(f)\n",
    "    \n",
    "config['input']['data_dir'] = os.path.join(DATA_DIR, 'notebooks/pw/data/predictions')\n",
    "config['sentinel1']['download']['scihub_creds'] = os.path.join(BASE, '.secret/scihub_creds.json')\n",
    "config['sentinel2']['download']['google_api_key'] = os.path.join(BASE, '.secret/sentinel2_google_api_key.json')\n",
    "config['predict']['model_weights_path'] = os.path.join(BASE, 'data/experiments/mi_clstm_192_mask_64_crop_s1_s2_5_months_10m/logs/checkpoints/best.pth')\n",
    "config['predict']['experiments_dir'] = os.path.join(BASE, 'data/experiments/')\n",
    "config['predict']['class_names_json'] = os.path.join(BASE, 'data/labels/ohio/cropscape_labels/merged_classes/final_classes.json')\n",
    "\n",
    "with open(CONFIG_PATH, 'w') as f:\n",
    "    f.write(yaml.dump(config))"
   ]
  },
  {
   "cell_type": "code",
   "execution_count": null,
   "metadata": {},
   "outputs": [],
   "source": [
    "prediction_file = run(CONFIG_PATH, aoi_filename, start_date, end_date, REQUEST_ID)\n",
    "os.remove(aoi_filename)"
   ]
  },
  {
   "cell_type": "code",
   "execution_count": null,
   "metadata": {},
   "outputs": [],
   "source": [
    "config"
   ]
  },
  {
   "cell_type": "markdown",
   "metadata": {},
   "source": [
    "### Read prediction raster and mask with valid pixels "
   ]
  },
  {
   "cell_type": "code",
   "execution_count": null,
   "metadata": {},
   "outputs": [],
   "source": [
    "with rasterio.open(prediction_file) as src:\n",
    "    img = src.read(1)\n",
    "    mask = src.read_masks(1)\n",
    "    profile = src.profile"
   ]
  },
  {
   "cell_type": "markdown",
   "metadata": {},
   "source": [
    "## Creating metadata to be displayed on the frontend: legend and area calculation"
   ]
  },
  {
   "cell_type": "code",
   "execution_count": null,
   "metadata": {},
   "outputs": [],
   "source": [
    "with open(CONFIG_PATH) as f:\n",
    "    config = yaml.load(f)\n",
    "    path_to_class_names = config['predict']['class_names_json']\n",
    "\n",
    "if os.path.exists(path_to_class_names):\n",
    "    with open(path_to_class_names) as f:\n",
    "        class_names = json.load(f)\n",
    "        class_names = ['Urban areas' if class_name == 'Developed' else class_name for class_name in class_names]\n",
    "else:\n",
    "    raise FileNotFoundError()\n",
    "\n",
    "NUM_CLASSES = len(class_names)\n",
    "arr = np.array(range(0, NUM_CLASSES)) / NUM_CLASSES\n",
    "colors = plt.cm.jet(arr)\n",
    "colors[0] = (0,0,0,1)\n",
    "\n",
    "labels = []\n",
    "\n",
    "for label, name in enumerate(class_names):\n",
    "    class_area = len(img[img == label]) / 10 ** 4\n",
    "    # convert list of float values into string representing color\n",
    "    class_color = \",\".join(list(map(lambda x: str(int(x)), colors[label][:-1] * 255)))\n",
    "    if class_area != 0:\n",
    "        labels.append({\n",
    "            \"color\": class_color, \n",
    "            \"name\": name,\n",
    "            \"area\": class_area\n",
    "        })\n",
    "    else:\n",
    "        labels.append({\n",
    "            \"color\": class_color, \n",
    "            \"name\": name\n",
    "        })\n",
    "labels = json.dumps(labels)\n",
    "labels"
   ]
  },
  {
   "cell_type": "markdown",
   "metadata": {},
   "source": [
    "### Scale class prediction raster and make it colored"
   ]
  },
  {
   "cell_type": "code",
   "execution_count": null,
   "metadata": {},
   "outputs": [],
   "source": [
    "NUM_CLASSES = len(class_names)\n",
    "nodata = 0\n",
    "mask = mask.astype(bool)\n",
    "scaled = img.astype(np.float32) / NUM_CLASSES\n",
    "scaled = (plt.cm.jet(scaled)[:,:,:-1] * 255)\n",
    "scaled[mask[:,:,np.newaxis] & (scaled==0)] += 1\n",
    "scaled = np.clip(scaled, 0, 255).astype(np.uint8)\n",
    "# Set pixels with invalid pixels to new nodata value\n",
    "scaled[~mask] = nodata\n",
    "# Set pixels with background class(0) to new nodata value\n",
    "scaled[img==0] = nodata"
   ]
  },
  {
   "cell_type": "markdown",
   "metadata": {},
   "source": [
    "### Update raster profile and save results"
   ]
  },
  {
   "cell_type": "code",
   "execution_count": null,
   "metadata": {},
   "outputs": [],
   "source": [
    "prediction_dir = os.path.dirname(prediction_file)\n",
    "\n",
    "profile.update(\n",
    "    count=3,\n",
    "    nodata=nodata,\n",
    "    compress='lzw'\n",
    ")\n",
    "colored_tif = os.path.join(prediction_dir, \"colored_prediction.tif\")\n",
    "with rasterio.open(colored_tif, 'w', **profile) as dst:\n",
    "    dst.update_tags(start_date=START_DATE, \n",
    "                    end_date=END_DATE, \n",
    "                    request_id=REQUEST_ID,\n",
    "                    labels=labels,\n",
    "                    name=NAME)\n",
    "    for i in range(scaled.shape[-1]):\n",
    "        dst.write(scaled[:,:,i], indexes=i+1)"
   ]
  },
  {
   "cell_type": "code",
   "execution_count": null,
   "metadata": {},
   "outputs": [],
   "source": [
    "result_name = f\"{REQUEST_ID}_{START_DATE}_{END_DATE}.tif\"\n",
    "os.makedirs(RESULTS_DIR, exist_ok=True)\n",
    "dst_file = os.path.join(RESULTS_DIR, result_name)\n",
    "os.rename(colored_tif, dst_file)"
   ]
  }
 ],
 "metadata": {
  "kernelspec": {
   "display_name": "PW",
   "language": "python",
   "name": "pw"
  },
  "language_info": {
   "codemirror_mode": {
    "name": "ipython",
    "version": 3
   },
   "file_extension": ".py",
   "mimetype": "text/x-python",
   "name": "python",
   "nbconvert_exporter": "python",
   "pygments_lexer": "ipython3",
   "version": "3.7.8"
  }
 },
 "nbformat": 4,
 "nbformat_minor": 4
}
