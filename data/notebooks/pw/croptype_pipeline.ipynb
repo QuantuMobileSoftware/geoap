{
 "cells": [
  {
   "cell_type": "code",
   "execution_count": null,
   "metadata": {},
   "outputs": [],
   "source": [
    "AOI = 'POLYGON ((-85.95552469759967 40.59907889076951, -85.8719838031499 39.71944241391614, -84.68029751467536 39.69732864773826, -84.7011827382878 40.61013577385845, -85.95552469759967 40.59907889076951))'\n",
    "START_DATE = \"2020-05-01\"\n",
    "END_DATE = \"2020-08-30\""
   ]
  },
  {
   "cell_type": "code",
   "execution_count": null,
   "metadata": {},
   "outputs": [],
   "source": [
    "import shapely.wkt\n",
    "import time\n",
    "import os\n",
    "import shutil\n",
    "import sys\n",
    "import rasterio\n",
    "import geopandas as gpd\n",
    "import numpy as np\n",
    "import matplotlib.pyplot as plt\n",
    "from datetime import datetime\n",
    "\n",
    "os.environ[\"CUDA_VISIBLE_DEVICES\"] = \"1\"\n",
    "sys.path.append(\"code/\")\n",
    "from code.prediction_pipeline.run import run"
   ]
  },
  {
   "cell_type": "code",
   "execution_count": null,
   "metadata": {},
   "outputs": [],
   "source": [
    "user = os.getenv('NB_USER')"
   ]
  },
  {
   "cell_type": "code",
   "execution_count": null,
   "metadata": {},
   "outputs": [],
   "source": [
    "polygon = shapely.wkt.loads(AOI)\n",
    "aoi_filename = f\"{time.time()}_aoi.geojson\"\n",
    "gpd.GeoDataFrame(gpd.GeoSeries([polygon]), columns=[\"geometry\"]).to_file(aoi_filename, driver=\"GeoJSON\")\n",
    "start_date = datetime.strptime(START_DATE, '%Y-%m-%d')\n",
    "end_date = datetime.strptime(END_DATE, '%Y-%m-%d')"
   ]
  },
  {
   "cell_type": "code",
   "execution_count": null,
   "metadata": {
    "scrolled": true
   },
   "outputs": [],
   "source": [
    "CONFIG_PATH = f\"/home/{user}/work/notebooks/pw/code/prediction_pipeline/config.yml\"\n",
    "prediction_file = run(CONFIG_PATH, aoi_filename, start_date, end_date)\n",
    "os.remove(aoi_filename)"
   ]
  },
  {
   "cell_type": "markdown",
   "metadata": {},
   "source": [
    "### Read prediction raster and mask with valid pixels "
   ]
  },
  {
   "cell_type": "code",
   "execution_count": null,
   "metadata": {},
   "outputs": [],
   "source": [
    "with rasterio.open(prediction_file) as src:\n",
    "    img = src.read(1)\n",
    "    mask = src.read_masks(1)\n",
    "    profile = src.profile"
   ]
  },
  {
   "cell_type": "markdown",
   "metadata": {},
   "source": [
    "### Scale class prediction raster and make it colored"
   ]
  },
  {
   "cell_type": "code",
   "execution_count": null,
   "metadata": {},
   "outputs": [],
   "source": [
    "NUM_CLASSES = 6\n",
    "mask = mask.astype(bool)\n",
    "scaled = img.astype(np.float32) / NUM_CLASSES\n",
    "scaled = (plt.cm.jet(scaled)[:,:,:-1] * 255)\n",
    "scaled[mask[:,:,np.newaxis] & (scaled==0)] +=1\n",
    "scaled = scaled.astype(np.uint8)\n",
    "scaled[~mask] = 0"
   ]
  },
  {
   "cell_type": "markdown",
   "metadata": {},
   "source": [
    "### Update raster profile and save results"
   ]
  },
  {
   "cell_type": "code",
   "execution_count": null,
   "metadata": {},
   "outputs": [],
   "source": [
    "prediction_dir = os.path.dirname(prediction_file)\n",
    "\n",
    "profile.update(\n",
    "    count=3,\n",
    "    compress='lzw'\n",
    ")\n",
    "colored_tif = os.path.join(prediction_dir, \"colored_prediction.tif\")\n",
    "with rasterio.open(colored_tif, 'w', **profile) as dst:\n",
    "    dst.update_tags(start_date=START_DATE, \n",
    "                    end_date=END_DATE, \n",
    "                    request_id=REQUEST_ID)\n",
    "    for i in range(scaled.shape[-1]):\n",
    "        dst.write(scaled[:,:,i], indexes=i+1)"
   ]
  },
  {
   "cell_type": "code",
   "execution_count": null,
   "metadata": {},
   "outputs": [],
   "source": [
    "RESULTS_DIR = f\"/home/{user}/work/results/pw/\"\n",
    "result_name = f\"{REQUEST_ID}_{START_DATE}_{END_DATE}.tif\"\n",
    "os.makedirs(RESULTS_DIR, exist_ok=True)\n",
    "dst_file = os.path.join(RESULTS_DIR, result_name)\n",
    "os.rename(colored_tif, dst_file)"
   ]
  },
  {
   "cell_type": "code",
   "execution_count": null,
   "metadata": {},
   "outputs": [],
   "source": []
  }
 ],
 "metadata": {
  "kernelspec": {
   "display_name": "PW",
   "language": "python",
   "name": "pw"
  },
  "language_info": {
   "codemirror_mode": {
    "name": "ipython",
    "version": 3
   },
   "file_extension": ".py",
   "mimetype": "text/x-python",
   "name": "python",
   "nbconvert_exporter": "python",
   "pygments_lexer": "ipython3",
   "version": "3.7.8"
  }
 },
 "nbformat": 4,
 "nbformat_minor": 4
}
