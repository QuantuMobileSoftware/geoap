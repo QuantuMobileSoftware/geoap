{
 "cells": [
  {
   "cell_type": "code",
   "execution_count": 8,
   "metadata": {},
   "outputs": [],
   "source": [
    "import os\n",
    "import pandas as pd\n",
    "import geopandas as gp\n",
    "import rasterio"
   ]
  },
  {
   "cell_type": "code",
   "execution_count": 2,
   "metadata": {},
   "outputs": [
    {
     "name": "stdout",
     "output_type": "stream",
     "text": [
      "jovyan\n"
     ]
    }
   ],
   "source": [
    "NB_USER = os.getenv('NB_USER')\n",
    "print(NB_USER)"
   ]
  },
  {
   "cell_type": "code",
   "execution_count": 3,
   "metadata": {},
   "outputs": [
    {
     "data": {
      "text/plain": [
       "'/home/jovyan/work/notebooks/aoi.geojson'"
      ]
     },
     "execution_count": 3,
     "metadata": {},
     "output_type": "execute_result"
    }
   ],
   "source": [
    "aoi_path = os.getenv('AOI')\n",
    "aoi_path"
   ]
  },
  {
   "cell_type": "code",
   "execution_count": 6,
   "metadata": {},
   "outputs": [],
   "source": [
    "aoi = gp.read_file(aoi_path)"
   ]
  },
  {
   "cell_type": "code",
   "execution_count": 7,
   "metadata": {},
   "outputs": [
    {
     "data": {
      "text/html": [
       "<div>\n",
       "<style scoped>\n",
       "    .dataframe tbody tr th:only-of-type {\n",
       "        vertical-align: middle;\n",
       "    }\n",
       "\n",
       "    .dataframe tbody tr th {\n",
       "        vertical-align: top;\n",
       "    }\n",
       "\n",
       "    .dataframe thead th {\n",
       "        text-align: right;\n",
       "    }\n",
       "</style>\n",
       "<table border=\"1\" class=\"dataframe\">\n",
       "  <thead>\n",
       "    <tr style=\"text-align: right;\">\n",
       "      <th></th>\n",
       "      <th>geometry</th>\n",
       "    </tr>\n",
       "  </thead>\n",
       "  <tbody>\n",
       "    <tr>\n",
       "      <th>0</th>\n",
       "      <td>POLYGON ((35.46387 50.43652, 34.66187 50.02892...</td>\n",
       "    </tr>\n",
       "  </tbody>\n",
       "</table>\n",
       "</div>"
      ],
      "text/plain": [
       "                                            geometry\n",
       "0  POLYGON ((35.46387 50.43652, 34.66187 50.02892..."
      ]
     },
     "execution_count": 7,
     "metadata": {},
     "output_type": "execute_result"
    }
   ],
   "source": [
    "aoi"
   ]
  },
  {
   "cell_type": "code",
   "execution_count": null,
   "metadata": {},
   "outputs": [],
   "source": [
    "def create_ndvi(self, window_size_pixels=5120):\n",
    "    np.seterr(divide='ignore', invalid='ignore')\n",
    "    with rasterio.open(self.raster_list['rasters']['red']['path'], 'r') as red_ds:\n",
    "        with rasterio.open(self.raster_list['rasters']['nir']['path'], 'r') as nir_ds:\n",
    "            if red_ds.shape != nir_ds.shape:\n",
    "                raise ValueError(\"Shape of 'red'and 'nir' files nonequal. \"\n",
    "                                 \"They shoud have equal height and width \")\n",
    "            ndvi_path = os.path.join(os.path.dirname(self.raster_list['rasters']['red']['path']),\n",
    "                                     'project_index_ndvi.tif')\n",
    "            metadata, bounds, xres, yres = self.rasterMetaData_masked(red_ds.profile)\n",
    "            ndvi_meta = metadata.copy()\n",
    "            ndvi_meta.update({\"dtype\": \"float32\",\n",
    "                              \"nodata\": -10000,\n",
    "                              \"count\": 1})\n",
    "            with rasterio.open(ndvi_path, 'w+', BIGTIFF='IF_NEEDED', **ndvi_meta) as output_file:\n",
    "                # if not window_size_pixels:\n",
    "                #     window_size_pixels = np.ceil(window_size / xres)\n",
    "                window_config = tiles_with_overlap_shape(red_ds.meta['height'], red_ds.meta['width'],\n",
    "                                                         window_size_pixels, 1)\n",
    "                window_config = np.array(window_config)\n",
    "                windows_coordinates = [pt for pt in window_config]\n",
    "                progress_bar = tqdm()\n",
    "                for window in windows_coordinates:\n",
    "                    progress_bar.set_postfix(Row='{}'.format(window[0]), Col='{}'.format(window[2]))\n",
    "                    img_window = ((int(window[0]), int(window[1])), (int(window[2]), int(window[3])))\n",
    "                    res_red = red_ds.read(window=img_window).astype(np.float32)\n",
    "                    res_nir = nir_ds.read(window=img_window).astype(np.float32)\n",
    "                    if res_nir.max() > 256:\n",
    "                        logging.error(\"Raster is not scaled properly max_value- {}\".format(res_nir.max()))\n",
    "                        res_nir[res_nir < 0] = 0\n",
    "                        res_red[res_red < 0] = 0\n",
    "                        res_nir = self.raster_values_normalization(res_nir, image_array_min=0,\n",
    "                                                                   image_array_max=65536)\n",
    "                        res_red = self.raster_values_normalization(res_red, image_array_min=0,\n",
    "                                                                   image_array_max=65536)\n",
    "                    window_raster = ((res_nir[0] - res_red[0]) / (res_nir[0] + res_red[0])).astype(np.float32)\n",
    "                    # masking nans\n",
    "                    nan_mask = np.isnan(window_raster)\n",
    "                    window_raster[nan_mask] = -10000\n",
    "                    output_file.write(window_raster, window=img_window, indexes=1)\n",
    "                    progress_bar.update(1)\n",
    "    ndvi_descr = {'file_name': ndvi_path.split(\"/\")[-1],\n",
    "                  'path': ndvi_path}\n",
    "    return ndvi_descr, ndvi_meta"
   ]
  },
  {
   "cell_type": "code",
   "execution_count": null,
   "metadata": {},
   "outputs": [],
   "source": [
    "def rasterMetaData_masked(self, profile):\n",
    "    transform = profile['transform']\n",
    "    blockxsize = profile.get('blockxsize', 512)\n",
    "    blockysize = profile.get('blockysize', 512)\n",
    "    tiled = profile.get('tiled', False) or self.tiled\n",
    "    width = profile['width']\n",
    "    height = profile['height']\n",
    "    crs = profile['crs']\n",
    "    bounds = namedtuple('bounds', ['left', 'bottom', 'right', 'top'])\n",
    "    bounds.left = profile['transform'][2]\n",
    "    bounds.top = profile['transform'][5]\n",
    "    bounds.right, bounds.bottom = (profile['transform'] * [profile['width'], profile['height']])\n",
    "    # bounds = meta['bounds']\n",
    "    profile = {\n",
    "        'count': 1,\n",
    "        'crs': crs,\n",
    "        'dtype': rasterio.float32,\n",
    "        'driver': \"GTiff\",\n",
    "        'height': height,\n",
    "        'width': width,\n",
    "        'nodata': -10000,\n",
    "        'transform': transform,\n",
    "        'blockxsize': blockxsize,\n",
    "        'blockysize': blockysize,\n",
    "        'tiled': tiled\n",
    "    }\n",
    "    xres = transform.a\n",
    "    yres = abs(transform.e)\n",
    "    return profile, bounds, xres, yres"
   ]
  },
  {
   "cell_type": "code",
   "execution_count": 9,
   "metadata": {},
   "outputs": [
    {
     "data": {
      "text/plain": [
       "\u001b[0;31mSignature:\u001b[0m \u001b[0mrasterio\u001b[0m\u001b[0;34m.\u001b[0m\u001b[0mopen\u001b[0m\u001b[0;34m(\u001b[0m\u001b[0mfp\u001b[0m\u001b[0;34m,\u001b[0m \u001b[0mmode\u001b[0m\u001b[0;34m=\u001b[0m\u001b[0;34m'r'\u001b[0m\u001b[0;34m,\u001b[0m \u001b[0mdriver\u001b[0m\u001b[0;34m=\u001b[0m\u001b[0;32mNone\u001b[0m\u001b[0;34m,\u001b[0m \u001b[0mwidth\u001b[0m\u001b[0;34m=\u001b[0m\u001b[0;32mNone\u001b[0m\u001b[0;34m,\u001b[0m \u001b[0mheight\u001b[0m\u001b[0;34m=\u001b[0m\u001b[0;32mNone\u001b[0m\u001b[0;34m,\u001b[0m \u001b[0mcount\u001b[0m\u001b[0;34m=\u001b[0m\u001b[0;32mNone\u001b[0m\u001b[0;34m,\u001b[0m \u001b[0mcrs\u001b[0m\u001b[0;34m=\u001b[0m\u001b[0;32mNone\u001b[0m\u001b[0;34m,\u001b[0m \u001b[0mtransform\u001b[0m\u001b[0;34m=\u001b[0m\u001b[0;32mNone\u001b[0m\u001b[0;34m,\u001b[0m \u001b[0mdtype\u001b[0m\u001b[0;34m=\u001b[0m\u001b[0;32mNone\u001b[0m\u001b[0;34m,\u001b[0m \u001b[0mnodata\u001b[0m\u001b[0;34m=\u001b[0m\u001b[0;32mNone\u001b[0m\u001b[0;34m,\u001b[0m \u001b[0msharing\u001b[0m\u001b[0;34m=\u001b[0m\u001b[0;32mFalse\u001b[0m\u001b[0;34m,\u001b[0m \u001b[0;34m**\u001b[0m\u001b[0mkwargs\u001b[0m\u001b[0;34m)\u001b[0m\u001b[0;34m\u001b[0m\u001b[0;34m\u001b[0m\u001b[0m\n",
       "\u001b[0;31mDocstring:\u001b[0m\n",
       "Open a dataset for reading or writing.\n",
       "\n",
       "The dataset may be located in a local file, in a resource located by\n",
       "a URL, or contained within a stream of bytes.\n",
       "\n",
       "In read ('r') or read/write ('r+') mode, no keyword arguments are\n",
       "required: these attributes are supplied by the opened dataset.\n",
       "\n",
       "In write ('w' or 'w+') mode, the driver, width, height, count, and dtype\n",
       "keywords are strictly required.\n",
       "\n",
       "Parameters\n",
       "----------\n",
       "fp : str, file object or pathlib.Path object\n",
       "    A filename or URL, a file object opened in binary ('rb') mode,\n",
       "    or a Path object.\n",
       "mode : str, optional\n",
       "    'r' (read, the default), 'r+' (read/write), 'w' (write), or\n",
       "    'w+' (write/read).\n",
       "driver : str, optional\n",
       "    A short format driver name (e.g. \"GTiff\" or \"JPEG\") or a list of\n",
       "    such names (see GDAL docs at\n",
       "    http://www.gdal.org/formats_list.html). In 'w' or 'w+' modes\n",
       "    a single name is required. In 'r' or 'r+' modes the driver can\n",
       "    usually be omitted. Registered drivers will be tried\n",
       "    sequentially until a match is found. When multiple drivers are\n",
       "    available for a format such as JPEG2000, one of them can be\n",
       "    selected by using this keyword argument.\n",
       "width : int, optional\n",
       "    The number of columns of the raster dataset. Required in 'w' or\n",
       "    'w+' modes, it is ignored in 'r' or 'r+' modes.\n",
       "height : int, optional\n",
       "    The number of rows of the raster dataset. Required in 'w' or\n",
       "    'w+' modes, it is ignored in 'r' or 'r+' modes.\n",
       "count : int, optional\n",
       "    The count of dataset bands. Required in 'w' or 'w+' modes, it is\n",
       "    ignored in 'r' or 'r+' modes.\n",
       "crs : str, dict, or CRS; optional\n",
       "    The coordinate reference system. Required in 'w' or 'w+' modes,\n",
       "    it is ignored in 'r' or 'r+' modes.\n",
       "transform : Affine instance, optional\n",
       "    Affine transformation mapping the pixel space to geographic\n",
       "    space. Required in 'w' or 'w+' modes, it is ignored in 'r' or\n",
       "    'r+' modes.\n",
       "dtype : str or numpy dtype\n",
       "    The data type for bands. For example: 'uint8' or\n",
       "    ``rasterio.uint16``. Required in 'w' or 'w+' modes, it is\n",
       "    ignored in 'r' or 'r+' modes.\n",
       "nodata : int, float, or nan; optional\n",
       "    Defines the pixel value to be interpreted as not valid data.\n",
       "    Required in 'w' or 'w+' modes, it is ignored in 'r' or 'r+'\n",
       "    modes.\n",
       "sharing : bool; optional\n",
       "    To reduce overhead and prevent programs from running out of file\n",
       "    descriptors, rasterio maintains a pool of shared low level\n",
       "    dataset handles. When `True` this function will use a shared\n",
       "    handle if one is available. Multithreaded programs must avoid\n",
       "    sharing and should set *sharing* to `False`.\n",
       "kwargs : optional\n",
       "    These are passed to format drivers as directives for creating or\n",
       "    interpreting datasets. For example: in 'w' or 'w+' modes\n",
       "    a `tiled=True` keyword argument will direct the GeoTIFF format\n",
       "    driver to create a tiled, rather than striped, TIFF.\n",
       "\n",
       "Returns\n",
       "-------\n",
       "A ``DatasetReader`` or ``DatasetWriter`` object.\n",
       "\n",
       "Examples\n",
       "--------\n",
       "\n",
       "To open a GeoTIFF for reading using standard driver discovery and\n",
       "no directives:\n",
       "\n",
       ">>> import rasterio\n",
       ">>> with rasterio.open('example.tif') as dataset:\n",
       "...     print(dataset.profile)\n",
       "\n",
       "To open a JPEG2000 using only the JP2OpenJPEG driver:\n",
       "\n",
       ">>> with rasterio.open(\n",
       "...         'example.jp2', driver='JP2OpenJPEG') as dataset:\n",
       "...     print(dataset.profile)\n",
       "\n",
       "To create a new 8-band, 16-bit unsigned, tiled, and LZW-compressed\n",
       "GeoTIFF with a global extent and 0.5 degree resolution:\n",
       "\n",
       ">>> from rasterio.transform import from_origin\n",
       ">>> with rasterio.open(\n",
       "...         'example.tif', 'w', driver='GTiff', dtype='uint16',\n",
       "...         width=720, height=360, count=8, crs='EPSG:4326',\n",
       "...         transform=from_origin(-180.0, 90.0, 0.5, 0.5),\n",
       "...         nodata=0, tiled=True, compress='lzw') as dataset:\n",
       "...     dataset.write(...)\n",
       "\u001b[0;31mFile:\u001b[0m      /opt/conda/envs/python37/lib/python3.7/site-packages/rasterio/__init__.py\n",
       "\u001b[0;31mType:\u001b[0m      function\n"
      ]
     },
     "metadata": {},
     "output_type": "display_data"
    }
   ],
   "source": [
    "rasterio.open?"
   ]
  },
  {
   "cell_type": "code",
   "execution_count": null,
   "metadata": {},
   "outputs": [],
   "source": []
  },
  {
   "cell_type": "code",
   "execution_count": null,
   "metadata": {},
   "outputs": [],
   "source": []
  }
 ],
 "metadata": {
  "kernelspec": {
   "display_name": "python37",
   "language": "python",
   "name": "python37"
  },
  "language_info": {
   "codemirror_mode": {
    "name": "ipython",
    "version": 3
   },
   "file_extension": ".py",
   "mimetype": "text/x-python",
   "name": "python",
   "nbconvert_exporter": "python",
   "pygments_lexer": "ipython3",
   "version": "3.7.8"
  }
 },
 "nbformat": 4,
 "nbformat_minor": 4
}
