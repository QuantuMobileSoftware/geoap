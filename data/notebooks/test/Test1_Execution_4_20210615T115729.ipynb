{
 "cells": [
  {
   "cell_type": "markdown",
   "metadata": {},
   "source": [
    "### First cell is reserved for input variables"
   ]
  },
  {
   "cell_type": "code",
   "execution_count": 1,
   "metadata": {
    "execution": {
     "iopub.execute_input": "2021-06-15T11:57:33.546005Z",
     "iopub.status.busy": "2021-06-15T11:57:33.540965Z",
     "iopub.status.idle": "2021-06-15T11:57:33.559495Z",
     "shell.execute_reply": "2021-06-15T11:57:33.561952Z"
    }
   },
   "outputs": [],
   "source": [
    "START_DATE = \"start_date\"\n",
    "ENV = \"env_var\"\n",
    "LIST = [1, 2, 3, 4, 5, ]\n",
    "\n",
    "# added by backend notebook_executor.py script:\n",
    "REQUEST_ID = 4\n",
    "AOI = 'POLYGON ((36.34723663330078 49.64762521193305, 36.23977661132812 49.63183957281089, 36.20613098144531 49.57087235829555, 36.22535705566406 49.50314067814833, 36.29299163818359 49.50224884609353, 36.35341644287109 49.51250393334809, 36.4141845703125 49.54013737456904, 36.42757415771484 49.57398931952284, 36.39873504638672 49.62183194062826, 36.34723663330078 49.64762521193305))'\n",
    "START_DATE = '2020-12-01'\n",
    "END_DATE = '2021-01-26'"
   ]
  },
  {
   "cell_type": "code",
   "execution_count": 2,
   "metadata": {
    "execution": {
     "iopub.execute_input": "2021-06-15T11:57:33.573914Z",
     "iopub.status.busy": "2021-06-15T11:57:33.571509Z",
     "iopub.status.idle": "2021-06-15T11:57:33.582069Z",
     "shell.execute_reply": "2021-06-15T11:57:33.580596Z"
    }
   },
   "outputs": [],
   "source": [
    "import time\n",
    "import random"
   ]
  },
  {
   "cell_type": "code",
   "execution_count": 3,
   "metadata": {
    "execution": {
     "iopub.execute_input": "2021-06-15T11:57:33.597049Z",
     "iopub.status.busy": "2021-06-15T11:57:33.590184Z",
     "iopub.status.idle": "2021-06-15T11:57:42.622556Z",
     "shell.execute_reply": "2021-06-15T11:57:42.621012Z"
    }
   },
   "outputs": [
    {
     "name": "stdout",
     "output_type": "stream",
     "text": [
      "START executing notebook Test1_Execution.ipynb...\n",
      "Sleeping 9 sec\n"
     ]
    }
   ],
   "source": [
    "print(\"START executing notebook Test1_Execution.ipynb...\")\n",
    "sleep = random.randint(2, 10)\n",
    "print(f\"Sleeping {sleep} sec\")\n",
    "time.sleep(sleep)"
   ]
  },
  {
   "cell_type": "code",
   "execution_count": 4,
   "metadata": {
    "execution": {
     "iopub.execute_input": "2021-06-15T11:57:42.653795Z",
     "iopub.status.busy": "2021-06-15T11:57:42.646249Z",
     "iopub.status.idle": "2021-06-15T11:57:42.660367Z",
     "shell.execute_reply": "2021-06-15T11:57:42.662493Z"
    }
   },
   "outputs": [
    {
     "name": "stdout",
     "output_type": "stream",
     "text": [
      "FINISHED executing notebook Test1_Execution.ipynb...\n"
     ]
    }
   ],
   "source": [
    "print(\"FINISHED executing notebook Test1_Execution.ipynb...\")"
   ]
  }
 ],
 "metadata": {
  "kernelspec": {
   "display_name": "python37",
   "language": "python",
   "name": "python37"
  },
  "language_info": {
   "codemirror_mode": {
    "name": "ipython",
    "version": 3
   },
   "file_extension": ".py",
   "mimetype": "text/x-python",
   "name": "python",
   "nbconvert_exporter": "python",
   "pygments_lexer": "ipython3",
   "version": "3.7.9"
  }
 },
 "nbformat": 4,
 "nbformat_minor": 4
}
