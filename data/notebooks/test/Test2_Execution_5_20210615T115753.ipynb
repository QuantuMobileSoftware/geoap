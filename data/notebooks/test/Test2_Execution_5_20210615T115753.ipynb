{
 "cells": [
  {
   "cell_type": "markdown",
   "metadata": {},
   "source": [
    "### First cell is reserved for input variables"
   ]
  },
  {
   "cell_type": "code",
   "execution_count": 1,
   "metadata": {
    "execution": {
     "iopub.execute_input": "2021-06-15T11:57:56.895930Z",
     "iopub.status.busy": "2021-06-15T11:57:56.892001Z",
     "iopub.status.idle": "2021-06-15T11:57:56.903955Z",
     "shell.execute_reply": "2021-06-15T11:57:56.902618Z"
    }
   },
   "outputs": [],
   "source": [
    "import time\n",
    "import random\n",
    "\n",
    "AOI = \"aoi\"\n",
    "START_DATE = None\n",
    "END_DATE = \"2020-01-01\"\n",
    "\n",
    "# added by backend notebook_executor.py script:\n",
    "REQUEST_ID = 5\n",
    "AOI = 'POLYGON ((35.26233673095703 50.09988143925776, 35.21152496337891 50.08336173197496, 35.18234252929688 50.05669793151598, 35.21358489990234 50.02649044288891, 35.26851654052734 50.03839931378149, 35.28671264648438 50.06705670574863, 35.28396606445312 50.08644584297188, 35.26233673095703 50.09988143925776))'\n",
    "START_DATE = None\n",
    "END_DATE = None"
   ]
  },
  {
   "cell_type": "code",
   "execution_count": 2,
   "metadata": {
    "execution": {
     "iopub.execute_input": "2021-06-15T11:57:56.913189Z",
     "iopub.status.busy": "2021-06-15T11:57:56.910534Z",
     "iopub.status.idle": "2021-06-15T11:58:02.927760Z",
     "shell.execute_reply": "2021-06-15T11:58:02.925289Z"
    }
   },
   "outputs": [
    {
     "name": "stdout",
     "output_type": "stream",
     "text": [
      "START executing notebook Test2_Execution.ipynb...\n",
      "Sleeping 6 sec\n"
     ]
    }
   ],
   "source": [
    "print(\"START executing notebook Test2_Execution.ipynb...\")\n",
    "sleep = random.randint(6, 10)\n",
    "print(f\"Sleeping {sleep} sec\")\n",
    "time.sleep(sleep)"
   ]
  },
  {
   "cell_type": "code",
   "execution_count": 3,
   "metadata": {
    "execution": {
     "iopub.execute_input": "2021-06-15T11:58:02.953805Z",
     "iopub.status.busy": "2021-06-15T11:58:02.942458Z",
     "iopub.status.idle": "2021-06-15T11:58:03.027577Z",
     "shell.execute_reply": "2021-06-15T11:58:03.028727Z"
    }
   },
   "outputs": [
    {
     "ename": "TypeError",
     "evalue": "'method' object is not subscriptable",
     "output_type": "error",
     "traceback": [
      "\u001b[0;31m---------------------------------------------------------------------------\u001b[0m",
      "\u001b[0;31mTypeError\u001b[0m                                 Traceback (most recent call last)",
      "\u001b[0;32m<ipython-input-1-ff9dfaf03227>\u001b[0m in \u001b[0;36m<module>\u001b[0;34m\u001b[0m\n\u001b[0;32m----> 1\u001b[0;31m \u001b[0;32mif\u001b[0m \u001b[0mrandom\u001b[0m\u001b[0;34m.\u001b[0m\u001b[0mchoice\u001b[0m\u001b[0;34m[\u001b[0m\u001b[0;32mTrue\u001b[0m\u001b[0;34m,\u001b[0m \u001b[0;32mFalse\u001b[0m\u001b[0;34m]\u001b[0m\u001b[0;34m:\u001b[0m\u001b[0;34m\u001b[0m\u001b[0;34m\u001b[0m\u001b[0m\n\u001b[0m\u001b[1;32m      2\u001b[0m     \u001b[0;32mraise\u001b[0m \u001b[0mValueError\u001b[0m\u001b[0;34m(\u001b[0m\u001b[0;34m\"Notebook finished execution with error!\"\u001b[0m\u001b[0;34m)\u001b[0m\u001b[0;34m\u001b[0m\u001b[0;34m\u001b[0m\u001b[0m\n",
      "\u001b[0;31mTypeError\u001b[0m: 'method' object is not subscriptable"
     ]
    }
   ],
   "source": [
    "if random.choice[True, False]:\n",
    "    raise ValueError(\"Notebook finished execution with error!\")"
   ]
  },
  {
   "cell_type": "code",
   "execution_count": 4,
   "metadata": {
    "execution": {
     "iopub.execute_input": "2021-06-15T11:58:03.039539Z",
     "iopub.status.busy": "2021-06-15T11:58:03.037584Z",
     "iopub.status.idle": "2021-06-15T11:58:03.041281Z",
     "shell.execute_reply": "2021-06-15T11:58:03.041909Z"
    }
   },
   "outputs": [
    {
     "name": "stdout",
     "output_type": "stream",
     "text": [
      "FINISHED executing notebook Test1_Execution.ipynb...\n"
     ]
    }
   ],
   "source": [
    "print(\"FINISHED executing notebook Test1_Execution.ipynb...\")"
   ]
  }
 ],
 "metadata": {
  "kernelspec": {
   "display_name": "python37",
   "language": "python",
   "name": "python37"
  },
  "language_info": {
   "codemirror_mode": {
    "name": "ipython",
    "version": 3
   },
   "file_extension": ".py",
   "mimetype": "text/x-python",
   "name": "python",
   "nbconvert_exporter": "python",
   "pygments_lexer": "ipython3",
   "version": "3.7.9"
  }
 },
 "nbformat": 4,
 "nbformat_minor": 4
}
