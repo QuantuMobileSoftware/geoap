{
 "cells": [
  {
   "cell_type": "markdown",
   "metadata": {},
   "source": [
    "#### Test notebook that generates .tif files and stores in /results folder. Use **python37** kernel."
   ]
  },
  {
   "cell_type": "code",
   "execution_count": 1,
   "metadata": {},
   "outputs": [],
   "source": [
    "import os\n",
    "import sys\n",
    "import rasterio\n",
    "import pyproj\n",
    "import zipfile\n",
    "import tempfile\n",
    "import random\n",
    "import requests\n",
    "import time\n",
    "\n",
    "from rasterio.windows import Window\n",
    "from rasterio import Affine\n",
    "from shapely.geometry import Polygon\n",
    "from shapely.ops import transform\n",
    "from pathlib import Path\n",
    "from datetime import datetime"
   ]
  },
  {
   "cell_type": "code",
   "execution_count": 2,
   "metadata": {},
   "outputs": [
    {
     "data": {
      "text/plain": [
       "'3.7.8 | packaged by conda-forge | (default, Jul 31 2020, 02:25:08) \\n[GCC 7.5.0]'"
      ]
     },
     "execution_count": 2,
     "metadata": {},
     "output_type": "execute_result"
    }
   ],
   "source": [
    "sys.version"
   ]
  },
  {
   "cell_type": "code",
   "execution_count": 3,
   "metadata": {},
   "outputs": [
    {
     "name": "stdout",
     "output_type": "stream",
     "text": [
      "jovyan\n"
     ]
    }
   ],
   "source": [
    "NB_USER = os.getenv('NB_USER')\n",
    "print(NB_USER)"
   ]
  },
  {
   "cell_type": "code",
   "execution_count": 4,
   "metadata": {},
   "outputs": [],
   "source": [
    "tetleha = [(\n",
    "              36.63013458251953,\n",
    "              49.87273390600898\n",
    "            ),\n",
    "            (\n",
    "              36.81964874267578,\n",
    "              49.87273390600898\n",
    "            ),\n",
    "            (\n",
    "              36.81964874267578,\n",
    "              49.98103318054302\n",
    "            ),\n",
    "            (\n",
    "              36.63013458251953,\n",
    "              49.98103318054302\n",
    "            ),\n",
    "            (\n",
    "              36.63013458251953,\n",
    "              49.87273390600898\n",
    "            ), ]\n",
    "\n",
    "forest = [(\n",
    "              36.747894287109375,\n",
    "              50.008400954338185\n",
    "            ),\n",
    "            (\n",
    "              36.88556671142578,\n",
    "              49.874282751903394\n",
    "            ),\n",
    "            (\n",
    "              37.00366973876953,\n",
    "              49.92647191927194\n",
    "            ),\n",
    "            (\n",
    "              36.84711456298828,\n",
    "              50.03707625174409\n",
    "            ),\n",
    "            (\n",
    "              36.747894287109375,\n",
    "              50.008400954338185\n",
    "            ),\n",
    "          ]\n",
    "kharkiv = [(\n",
    "              36.066741943359375,\n",
    "              50.03773778732018\n",
    "            ),\n",
    "            (\n",
    "              36.25556945800781,\n",
    "              49.87295517274949\n",
    "            ),\n",
    "            (\n",
    "              36.46568298339844,\n",
    "              49.96447253142292\n",
    "            ),\n",
    "            (\n",
    "              36.31874084472656,\n",
    "              50.072565780723615\n",
    "            ),\n",
    "            (\n",
    "              36.066741943359375,\n",
    "              50.03773778732018\n",
    "            ),\n",
    "          ]"
   ]
  },
  {
   "cell_type": "code",
   "execution_count": 5,
   "metadata": {},
   "outputs": [],
   "source": [
    "def _str_time_prop(start, end, format, prop):\n",
    "    \"\"\"Get a time at a proportion of a range of two formatted times.\n",
    "\n",
    "    start and end should be strings specifying times formated in the\n",
    "    given format (strftime-style), giving an interval [start, end].\n",
    "    prop specifies how a proportion of the interval to be taken after\n",
    "    start.  The returned time will be in the specified format.\n",
    "    \"\"\"\n",
    "\n",
    "    stime = time.mktime(time.strptime(start, format))\n",
    "    etime = time.mktime(time.strptime(end, format))\n",
    "\n",
    "    ptime = stime + prop * (etime - stime)\n",
    "\n",
    "    return time.strftime(format, time.localtime(ptime))\n",
    "\n",
    "\n",
    "def random_date(start=\"2020-01-01T00:00:00\", end=datetime.today().strftime('%Y-%m-%dT%H:%M:%S')):\n",
    "    return _str_time_prop(start, end, '%Y-%m-%dT%H:%M:%S', random.random())"
   ]
  },
  {
   "cell_type": "code",
   "execution_count": 6,
   "metadata": {},
   "outputs": [],
   "source": [
    "def crop(input_path, output_path, polygon, name):\n",
    "    with rasterio.open(input_path) as src:\n",
    "        x_min, y_min, x_max, y_max = polygon.bounds\n",
    "        \n",
    "        affine = Affine(src.transform[0],\n",
    "                        src.transform[1],\n",
    "                        x_min,\n",
    "                        src.transform[3],\n",
    "                        src.transform[4],\n",
    "                        y_max)\n",
    "\n",
    "        row_min, col_max = rasterio.transform.rowcol(src.transform, x_max, y_max)\n",
    "        row_max, col_min = rasterio.transform.rowcol(src.transform, x_min, y_min, op=round, precision=6)\n",
    "        row_min = row_min + 1\n",
    "        row_max = row_max + 1\n",
    "        \n",
    "        write_window = Window.from_slices([row_min, row_max], [col_min, col_max])\n",
    "        raster = src.read(window=write_window)\n",
    "        kwargs = src.meta.copy()\n",
    "        kwargs.update({\n",
    "            'height': write_window.height,\n",
    "            'width': write_window.width,\n",
    "            \"transform\": affine,\n",
    "            'driver': 'GTiff'\n",
    "        })\n",
    "\n",
    "        with rasterio.open(output_path, 'w', **kwargs) as dst:\n",
    "            if random.choice([True, False]):\n",
    "                print(f\"Randomly selected to add name {name}\")\n",
    "                dst.update_tags(name=name)\n",
    "            if random.choice([True, False]):             \n",
    "                start_date = random_date()\n",
    "                end_date = random_date(start_date)\n",
    "                print(f\"Randomly selected to add start_date: {start_date} and end_date: {end_date}\")   \n",
    "                dst.update_tags(start_date=start_date, end_date=end_date)\n",
    "            dst.write(raster)"
   ]
  },
  {
   "cell_type": "code",
   "execution_count": 7,
   "metadata": {},
   "outputs": [],
   "source": [
    "def convert(input_path, output_path, format='GTiff'):\n",
    "    with rasterio.open(input_path) as src:\n",
    "        raster = src.read()\n",
    "        crs = str(src.crs)\n",
    "                \n",
    "        kwargs = src.meta.copy()\n",
    "        kwargs.update({'driver': format})\n",
    "        \n",
    "        \n",
    "        with rasterio.open(output_path, 'w', **kwargs) as dst:\n",
    "            dst.write(raster)\n",
    "        return crs"
   ]
  },
  {
   "cell_type": "code",
   "execution_count": 8,
   "metadata": {},
   "outputs": [],
   "source": [
    "def to_crs(poly, target, current='EPSG:4326'):\n",
    "    project = pyproj.Transformer.from_crs(pyproj.CRS(current), pyproj.CRS(target), always_xy=True).transform\n",
    "    transformed_poly = transform(project, poly)\n",
    "    return transformed_poly "
   ]
  },
  {
   "cell_type": "code",
   "execution_count": 9,
   "metadata": {},
   "outputs": [],
   "source": [
    "def load_tile(dir_, url):\n",
    "    tile_filename = url.split(\"/\")[-1]\n",
    "    path = f\"{dir_}/{tile_filename}\"\n",
    "    if os.path.exists(path):\n",
    "        print(f\"Tile {path} already exists! Using it...\")\n",
    "        return path\n",
    "    \n",
    "    print(f\"Loading tile: {url}\")\n",
    "    \n",
    "    with requests.Session() as session:\n",
    "        response = session.get(url)\n",
    "        if response.status_code == 200:\n",
    "            with open(path, 'wb') as file:\n",
    "                file.write(response.content)\n",
    "        else:\n",
    "            raise ValueError(f\"Cannot load tile {url}. Check and rerun!\")\n",
    "    print(f\"Tile loaded and stored: {path}\")\n",
    "    return path"
   ]
  },
  {
   "cell_type": "code",
   "execution_count": 10,
   "metadata": {},
   "outputs": [],
   "source": [
    "def generate(dir_, tile_path, aoi, location_name):\n",
    "    \n",
    "    stem = Path(tile_path).stem\n",
    "    tif_path = f\"{dir_}/{stem}.tif\"    \n",
    "    target_crs = convert(tile_path, tif_path)\n",
    "    aoi = to_crs(Polygon(aoi), target_crs)\n",
    "\n",
    "    temp_output_path = f\"/home/{NB_USER}/work/results/{stem}_{location_name}.tif.temp\"\n",
    "    \n",
    "    crop(tif_path, temp_output_path, aoi, location_name)\n",
    "    \n",
    "    print(f\"Generated temp file: {temp_output_path}\")\n",
    "    output_path = temp_output_path[:-5]\n",
    "    print(f\"Rename temp file: {temp_output_path} to {output_path}\")\n",
    "    os.rename(temp_output_path, output_path)"
   ]
  },
  {
   "cell_type": "code",
   "execution_count": 11,
   "metadata": {},
   "outputs": [],
   "source": [
    "dir_ = f\"/home/{NB_USER}/work/satellite_imagery\"\n",
    "\n",
    "TILE_URL = \"https://storage.googleapis.com/gcp-public-data-sentinel-2/tiles/36/U/YA/\" \\\n",
    "           \"S2B_MSIL1C_20200705T083559_N0209_R064_T36UYA_20200705T114142.SAFE/GRANULE/\" \\\n",
    "           \"L1C_T36UYA_A017393_20200705T083602/IMG_DATA/T36UYA_20200705T083559_TCI.jp2\""
   ]
  },
  {
   "cell_type": "markdown",
   "metadata": {},
   "source": [
    "### main execution cell"
   ]
  },
  {
   "cell_type": "code",
   "execution_count": null,
   "metadata": {},
   "outputs": [],
   "source": [
    "tile_path = load_tile(dir_, TILE_URL)\n",
    "with tempfile.TemporaryDirectory(dir=dir_) as tmpdirname:\n",
    "    print('Сreated temporary directory for calculations:', tmpdirname)\n",
    "        \n",
    "    locations = {'tetleha': tetleha, 'forest': forest, 'kharkiv': kharkiv}\n",
    "    name = random.choice(list(locations.keys()))\n",
    "    aoi = locations[name]\n",
    "    \n",
    "    generate(tmpdirname, tile_path, aoi, name)\n",
    "\n",
    "print(\"Execution finished\")"
   ]
  }
 ],
 "metadata": {
  "kernelspec": {
   "display_name": "python37",
   "language": "python",
   "name": "python37"
  },
  "language_info": {
   "codemirror_mode": {
    "name": "ipython",
    "version": 3
   },
   "file_extension": ".py",
   "mimetype": "text/x-python",
   "name": "python",
   "nbconvert_exporter": "python",
   "pygments_lexer": "ipython3",
   "version": "3.7.8"
  }
 },
 "nbformat": 4,
 "nbformat_minor": 4
}
