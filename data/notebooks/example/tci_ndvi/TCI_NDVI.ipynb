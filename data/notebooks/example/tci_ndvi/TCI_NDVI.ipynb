{
 "cells": [
  {
   "cell_type": "markdown",
   "metadata": {},
   "source": [
    "### For given aoi, prepare TCI and NDVI sentinel latest images "
   ]
  },
  {
   "cell_type": "code",
   "execution_count": 135,
   "metadata": {},
   "outputs": [],
   "source": [
    "AOI = 'POLYGON ((35.4638671875000000 50.4365160169863316, 34.6618652343750000 50.0289165635219035, 34.7827148437500000 48.9549736980886792, 36.3757324218749929 48.3781454697624440, 37.4194335937500000 48.7851519980431547, 38.3038330078125000 49.4431287580300491, 37.9193115234374929 50.4120182466821731, 36.6009521484375000 50.5553249825196716, 35.4638671875000000 50.4365160169863316))' \n",
    "\n",
    "START_DATE = \"2019-06-01\"\n",
    "END_DATE = \"2019-06-10\""
   ]
  },
  {
   "cell_type": "code",
   "execution_count": 136,
   "metadata": {},
   "outputs": [],
   "source": [
    "import os\n",
    "import geopandas as gp\n",
    "import numpy as np\n",
    "import rasterio\n",
    "import re\n",
    "import tempfile\n",
    "import pyproj\n",
    "import uuid\n",
    "\n",
    "import rasterio.mask\n",
    "from rasterio import Affine\n",
    "from rasterio.plot import reshape_as_raster\n",
    "from rasterio.merge import merge\n",
    "from rasterio.warp import calculate_default_transform, reproject, Resampling\n",
    "\n",
    "from shapely import wkt\n",
    "from shapely.geometry import Polygon, box\n",
    "from shapely.ops import transform\n",
    "\n",
    "\n",
    "from pathlib import Path\n",
    "from datetime import datetime, timedelta\n",
    "from sentinel2download.downloader import Sentinel2Downloader\n",
    "from sentinel2download.overlap import Sentinel2Overlap"
   ]
  },
  {
   "cell_type": "markdown",
   "metadata": {},
   "source": [
    "#### 1. Transform AOI and get bound_box"
   ]
  },
  {
   "cell_type": "code",
   "execution_count": 137,
   "metadata": {},
   "outputs": [],
   "source": [
    "aoi = gp.GeoDataFrame(geometry=[wkt.loads(AOI)], crs=\"epsg:4326\")    \n",
    "bbox = box(*aoi.total_bounds)"
   ]
  },
  {
   "cell_type": "code",
   "execution_count": 138,
   "metadata": {},
   "outputs": [
    {
     "data": {
      "image/svg+xml": [
       "<svg xmlns=\"http://www.w3.org/2000/svg\" xmlns:xlink=\"http://www.w3.org/1999/xlink\" width=\"100.0\" height=\"100.0\" viewBox=\"34.5161865234375 48.23246675882494 3.9333251953125057 2.4685369346322332\" preserveAspectRatio=\"xMinYMin meet\"><g transform=\"matrix(1,0,0,-1,0,98.93347045228211)\"><path fill-rule=\"evenodd\" fill=\"#66cc99\" stroke=\"#555555\" stroke-width=\"0.07866650390625012\" opacity=\"0.6\" d=\"M 38.3038330078125,48.378145469762444 L 38.3038330078125,50.55532498251967 L 34.661865234375,50.55532498251967 L 34.661865234375,48.378145469762444 L 38.3038330078125,48.378145469762444 z\" /></g></svg>"
      ],
      "text/plain": [
       "<shapely.geometry.polygon.Polygon at 0x7f39c520c1d0>"
      ]
     },
     "execution_count": 138,
     "metadata": {},
     "output_type": "execute_result"
    }
   ],
   "source": [
    "bbox"
   ]
  },
  {
   "cell_type": "code",
   "execution_count": 139,
   "metadata": {},
   "outputs": [
    {
     "data": {
      "text/html": [
       "<div>\n",
       "<style scoped>\n",
       "    .dataframe tbody tr th:only-of-type {\n",
       "        vertical-align: middle;\n",
       "    }\n",
       "\n",
       "    .dataframe tbody tr th {\n",
       "        vertical-align: top;\n",
       "    }\n",
       "\n",
       "    .dataframe thead th {\n",
       "        text-align: right;\n",
       "    }\n",
       "</style>\n",
       "<table border=\"1\" class=\"dataframe\">\n",
       "  <thead>\n",
       "    <tr style=\"text-align: right;\">\n",
       "      <th></th>\n",
       "      <th>geometry</th>\n",
       "    </tr>\n",
       "  </thead>\n",
       "  <tbody>\n",
       "    <tr>\n",
       "      <th>0</th>\n",
       "      <td>POLYGON ((35.46387 50.43652, 34.66187 50.02892...</td>\n",
       "    </tr>\n",
       "  </tbody>\n",
       "</table>\n",
       "</div>"
      ],
      "text/plain": [
       "                                            geometry\n",
       "0  POLYGON ((35.46387 50.43652, 34.66187 50.02892..."
      ]
     },
     "execution_count": 139,
     "metadata": {},
     "output_type": "execute_result"
    }
   ],
   "source": [
    "aoi"
   ]
  },
  {
   "cell_type": "markdown",
   "metadata": {},
   "source": [
    "#### Сreate base path, usually env=jovyan"
   ]
  },
  {
   "cell_type": "code",
   "execution_count": 140,
   "metadata": {},
   "outputs": [
    {
     "data": {
      "text/plain": [
       "'/home/jovyan/work'"
      ]
     },
     "execution_count": 140,
     "metadata": {},
     "output_type": "execute_result"
    }
   ],
   "source": [
    "BASE = f\"/home/{os.getenv('NB_USER')}/work\"\n",
    "BASE"
   ]
  },
  {
   "cell_type": "code",
   "execution_count": 141,
   "metadata": {},
   "outputs": [],
   "source": [
    "sentinel_grid = gp.read_file(\"sentinel2grid.geojson\")"
   ]
  },
  {
   "cell_type": "markdown",
   "metadata": {},
   "source": [
    "#### 2. Overlap AOI with sentinel2grid "
   ]
  },
  {
   "cell_type": "code",
   "execution_count": 142,
   "metadata": {},
   "outputs": [],
   "source": [
    "def epsg_code(longitude, latitude):\n",
    "        \"\"\"\n",
    "        Generates EPSG code from lon, lat\n",
    "        :param longitude: float\n",
    "        :param latitude: float\n",
    "        :return: int, EPSG code\n",
    "        \"\"\"\n",
    "\n",
    "        def _zone_number(lat, lon):\n",
    "            if 56 <= lat < 64 and 3 <= lon < 12:\n",
    "                return 32\n",
    "            if 72 <= lat <= 84 and lon >= 0:\n",
    "                if lon < 9:\n",
    "                    return 31\n",
    "                elif lon < 21:\n",
    "                    return 33\n",
    "                elif lon < 33:\n",
    "                    return 35\n",
    "                elif lon < 42:\n",
    "                    return 37\n",
    "\n",
    "            return int((lon + 180) / 6) + 1\n",
    "\n",
    "        zone = _zone_number(latitude, longitude)\n",
    "\n",
    "        if latitude > 0:\n",
    "            return 32600 + zone\n",
    "        else:\n",
    "            return 32700 + zone"
   ]
  },
  {
   "cell_type": "code",
   "execution_count": 143,
   "metadata": {},
   "outputs": [],
   "source": [
    "def _intersect(aoi, grid):\n",
    "    # Get the indices of the tiles that are likely to be inside the bounding box of the given Polygon\n",
    "    geometry = aoi.geometry[0]\n",
    "\n",
    "    tiles_indexes = list(grid.sindex.intersection(geometry.bounds))\n",
    "    grid = grid.loc[tiles_indexes]\n",
    "\n",
    "    # Make the precise tiles in Polygon query\n",
    "    grid = grid.loc[grid.intersects(geometry)]\n",
    "\n",
    "    # intersection area\n",
    "    epsg = epsg_code(geometry.centroid.x, geometry.centroid.y)\n",
    "\n",
    "    # to UTM projection in meters\n",
    "    aoi.to_crs(epsg=epsg, inplace=True)\n",
    "    grid.to_crs(epsg=epsg, inplace=True)\n",
    "\n",
    "    return grid, epsg"
   ]
  },
  {
   "cell_type": "code",
   "execution_count": 144,
   "metadata": {},
   "outputs": [],
   "source": [
    "def get_intersected_tiles(aoi, grid):\n",
    "    \n",
    "    grid, epsg = _intersect(aoi, sentinel_grid)\n",
    "    \n",
    "    \n",
    "    grid.set_index(\"Name\", drop=False, inplace=True)    \n",
    "    intersected_grid = {\"tile\": [], \"geometry\": []}\n",
    "\n",
    "    rest_aoi = aoi.copy()\n",
    "    while rest_aoi.area.sum() > 0:\n",
    "        intersection = gp.overlay(rest_aoi, grid, how=\"intersection\")\n",
    "        argmax = intersection.area.argmax()\n",
    "\n",
    "        tile = intersection.loc[argmax, \"Name\"]\n",
    "        intersected_geometry = intersection.loc[argmax, \"geometry\"]\n",
    "        \n",
    "        intersected_grid[\"tile\"].append(tile)\n",
    "        intersected_grid[\"geometry\"].append(intersected_geometry)\n",
    "        \n",
    "        biggest_intersection = grid.loc[[tile]]\n",
    "        rest_aoi = gp.overlay(rest_aoi, biggest_intersection, how=\"difference\")\n",
    "        grid = grid.loc[intersection[\"Name\"]]\n",
    "\n",
    "    return gp.GeoDataFrame(intersected_grid, crs=epsg)"
   ]
  },
  {
   "cell_type": "code",
   "execution_count": 145,
   "metadata": {},
   "outputs": [
    {
     "data": {
      "text/html": [
       "<div>\n",
       "<style scoped>\n",
       "    .dataframe tbody tr th:only-of-type {\n",
       "        vertical-align: middle;\n",
       "    }\n",
       "\n",
       "    .dataframe tbody tr th {\n",
       "        vertical-align: top;\n",
       "    }\n",
       "\n",
       "    .dataframe thead th {\n",
       "        text-align: right;\n",
       "    }\n",
       "</style>\n",
       "<table border=\"1\" class=\"dataframe\">\n",
       "  <thead>\n",
       "    <tr style=\"text-align: right;\">\n",
       "      <th></th>\n",
       "      <th>tile</th>\n",
       "      <th>geometry</th>\n",
       "    </tr>\n",
       "  </thead>\n",
       "  <tbody>\n",
       "    <tr>\n",
       "      <th>0</th>\n",
       "      <td>36UYA</td>\n",
       "      <td>POLYGON Z ((274247.076 5596259.864 0.000, 2979...</td>\n",
       "    </tr>\n",
       "    <tr>\n",
       "      <th>1</th>\n",
       "      <td>36UYV</td>\n",
       "      <td>MULTIPOLYGON Z (((265832.512 5491603.656 0.000...</td>\n",
       "    </tr>\n",
       "    <tr>\n",
       "      <th>2</th>\n",
       "      <td>36UXV</td>\n",
       "      <td>MULTIPOLYGON Z (((263553.717 5391432.775 0.000...</td>\n",
       "    </tr>\n",
       "    <tr>\n",
       "      <th>3</th>\n",
       "      <td>36UXA</td>\n",
       "      <td>POLYGON Z ((248907.683 5593143.189 0.000, 2742...</td>\n",
       "    </tr>\n",
       "    <tr>\n",
       "      <th>4</th>\n",
       "      <td>37UDR</td>\n",
       "      <td>POLYGON Z ((399960.000 5589525.403 0.000, 4232...</td>\n",
       "    </tr>\n",
       "    <tr>\n",
       "      <th>5</th>\n",
       "      <td>37UCQ</td>\n",
       "      <td>POLYGON Z ((375629.031 5487769.228 0.000, 3766...</td>\n",
       "    </tr>\n",
       "    <tr>\n",
       "      <th>6</th>\n",
       "      <td>37UCR</td>\n",
       "      <td>POLYGON Z ((376614.166 5500020.000 0.000, 3840...</td>\n",
       "    </tr>\n",
       "    <tr>\n",
       "      <th>7</th>\n",
       "      <td>37UDQ</td>\n",
       "      <td>POLYGON Z ((409800.000 5490240.000 0.000, 4462...</td>\n",
       "    </tr>\n",
       "    <tr>\n",
       "      <th>8</th>\n",
       "      <td>36UYU</td>\n",
       "      <td>POLYGON Z ((257921.374 5391876.403 0.000, 2635...</td>\n",
       "    </tr>\n",
       "    <tr>\n",
       "      <th>9</th>\n",
       "      <td>36UYB</td>\n",
       "      <td>MULTIPOLYGON Z (((304980.586 5600040.000 0.000...</td>\n",
       "    </tr>\n",
       "    <tr>\n",
       "      <th>10</th>\n",
       "      <td>36UXU</td>\n",
       "      <td>POLYGON Z ((257916.077 5391877.080 0.000, 2579...</td>\n",
       "    </tr>\n",
       "  </tbody>\n",
       "</table>\n",
       "</div>"
      ],
      "text/plain": [
       "     tile                                           geometry\n",
       "0   36UYA  POLYGON Z ((274247.076 5596259.864 0.000, 2979...\n",
       "1   36UYV  MULTIPOLYGON Z (((265832.512 5491603.656 0.000...\n",
       "2   36UXV  MULTIPOLYGON Z (((263553.717 5391432.775 0.000...\n",
       "3   36UXA  POLYGON Z ((248907.683 5593143.189 0.000, 2742...\n",
       "4   37UDR  POLYGON Z ((399960.000 5589525.403 0.000, 4232...\n",
       "5   37UCQ  POLYGON Z ((375629.031 5487769.228 0.000, 3766...\n",
       "6   37UCR  POLYGON Z ((376614.166 5500020.000 0.000, 3840...\n",
       "7   37UDQ  POLYGON Z ((409800.000 5490240.000 0.000, 4462...\n",
       "8   36UYU  POLYGON Z ((257921.374 5391876.403 0.000, 2635...\n",
       "9   36UYB  MULTIPOLYGON Z (((304980.586 5600040.000 0.000...\n",
       "10  36UXU  POLYGON Z ((257916.077 5391877.080 0.000, 2579..."
      ]
     },
     "execution_count": 145,
     "metadata": {},
     "output_type": "execute_result"
    }
   ],
   "source": [
    "overlap_tiles = get_intersected_tiles(aoi.copy(), grid.copy())\n",
    "overlap_tiles"
   ]
  },
  {
   "cell_type": "code",
   "execution_count": 146,
   "metadata": {},
   "outputs": [
    {
     "data": {
      "text/plain": [
       "<Projected CRS: EPSG:32637>\n",
       "Name: WGS 84 / UTM zone 37N\n",
       "Axis Info [cartesian]:\n",
       "- E[east]: Easting (metre)\n",
       "- N[north]: Northing (metre)\n",
       "Area of Use:\n",
       "- name: World - N hemisphere - 36°E to 42°E - by country\n",
       "- bounds: (36.0, 0.0, 42.0, 84.0)\n",
       "Coordinate Operation:\n",
       "- name: UTM zone 37N\n",
       "- method: Transverse Mercator\n",
       "Datum: World Geodetic System 1984\n",
       "- Ellipsoid: WGS 84\n",
       "- Prime Meridian: Greenwich"
      ]
     },
     "execution_count": 146,
     "metadata": {},
     "output_type": "execute_result"
    }
   ],
   "source": [
    "overlap_tiles.crs"
   ]
  },
  {
   "cell_type": "markdown",
   "metadata": {},
   "source": [
    "#### 3. Load images"
   ]
  },
  {
   "cell_type": "code",
   "execution_count": 147,
   "metadata": {},
   "outputs": [],
   "source": [
    "API_KEY = os.path.join(BASE, \".secret/sentinel2_google_api_key.json\")\n",
    "LOAD_DIR = os.path.join(BASE, \"satellite_imagery\")\n",
    "\n",
    "PRODUCT_TYPE = 'L2A'\n",
    "BANDS = {'TCI', 'B04', 'B08', }\n",
    "CONSTRAINTS = {'NODATA_PIXEL_PERCENTAGE': 10.0, 'CLOUDY_PIXEL_PERCENTAGE': 5.0, }\n",
    "\n",
    "LAYERS = ['TCI', 'NDVI', ]"
   ]
  },
  {
   "cell_type": "code",
   "execution_count": 148,
   "metadata": {},
   "outputs": [
    {
     "data": {
      "text/plain": [
       "'2019-06-01'"
      ]
     },
     "execution_count": 148,
     "metadata": {},
     "output_type": "execute_result"
    }
   ],
   "source": [
    "START_DATE"
   ]
  },
  {
   "cell_type": "code",
   "execution_count": 149,
   "metadata": {},
   "outputs": [
    {
     "data": {
      "text/plain": [
       "'2019-06-10'"
      ]
     },
     "execution_count": 149,
     "metadata": {},
     "output_type": "execute_result"
    }
   ],
   "source": [
    "END_DATE"
   ]
  },
  {
   "cell_type": "code",
   "execution_count": 150,
   "metadata": {},
   "outputs": [],
   "source": [
    "def shift_dates(start_date, end_date, delta=5, format='%Y-%m-%d'):\n",
    "    start = datetime.strptime(start_date, format)\n",
    "    end = datetime.strptime(end_date, format)\n",
    "    \n",
    "    start = start - timedelta(days=delta)\n",
    "    end = end + timedelta(days=delta)\n",
    "    difference = (end-start).days\n",
    "    \n",
    "    return datetime.strftime(start, format), datetime.strftime(end, format), difference"
   ]
  },
  {
   "cell_type": "code",
   "execution_count": 151,
   "metadata": {},
   "outputs": [],
   "source": [
    "def shift_date(date, delta=5, format='%Y-%m-%d'):\n",
    "    date = datetime.strptime(date, format)\n",
    "    date = date - timedelta(days=delta)    \n",
    "    return datetime.strftime(date, format)"
   ]
  },
  {
   "cell_type": "markdown",
   "metadata": {},
   "source": [
    "#### 3.1 Define max difference shift in dates for loading images as default factor=20% from input datarange"
   ]
  },
  {
   "cell_type": "code",
   "execution_count": 152,
   "metadata": {},
   "outputs": [
    {
     "data": {
      "text/plain": [
       "9"
      ]
     },
     "execution_count": 152,
     "metadata": {},
     "output_type": "execute_result"
    }
   ],
   "source": [
    "start_difference = (datetime.strptime(END_DATE, '%Y-%m-%d') - datetime.strptime(START_DATE,'%Y-%m-%d')).days\n",
    "start_difference"
   ]
  },
  {
   "cell_type": "code",
   "execution_count": 153,
   "metadata": {},
   "outputs": [
    {
     "data": {
      "text/plain": [
       "2"
      ]
     },
     "execution_count": 153,
     "metadata": {},
     "output_type": "execute_result"
    }
   ],
   "source": [
    "FACTOR = 0.2\n",
    "MAX_SHIFT = round(start_difference * FACTOR)\n",
    "MAX_SHIFT"
   ]
  },
  {
   "cell_type": "code",
   "execution_count": 154,
   "metadata": {},
   "outputs": [],
   "source": [
    "def load_images(tiles, start_date, end_date):\n",
    "    loader = Sentinel2Downloader(API_KEY)\n",
    "    \n",
    "    loadings = dict()\n",
    "        \n",
    "    for tile in tiles:\n",
    "        start = start_date\n",
    "        end = end_date\n",
    "        \n",
    "        print(f\"Loading images for tile: {tile}...\")\n",
    "        \n",
    "        for _ in range(0, 2):\n",
    "            loaded = loader.download(PRODUCT_TYPE,\n",
    "                                [tile],\n",
    "                                start_date=start,\n",
    "                                end_date=end,\n",
    "                                output_dir=LOAD_DIR,                       \n",
    "                                bands=BANDS,\n",
    "                                constraints=CONSTRAINTS)\n",
    "        \n",
    "            if not loaded:\n",
    "                print(f\"For tile: {tile} and dates {start} {end} proper images not found!\")\n",
    "                end = start_date\n",
    "                start = shift_date(start_date, delta=MAX_SHIFT) \n",
    "                print(f\"For tile: {tile} shift dates to {start} {end} proper images not found!\")\n",
    "            else:\n",
    "                print(f\"Loading images for tile {tile} finished\")\n",
    "                loadings[tile] = loaded\n",
    "                break\n",
    "    \n",
    "    # tile_folders = dict()\n",
    "    # for tile, tile_paths in loadings.items():\n",
    "    #    tile_folders[tile] = {str(Path(tile_path[0]).parent) for tile_path in tile_paths}\n",
    "    return loadings"
   ]
  },
  {
   "cell_type": "code",
   "execution_count": 155,
   "metadata": {},
   "outputs": [
    {
     "data": {
      "text/plain": [
       "'36UYA'"
      ]
     },
     "execution_count": 155,
     "metadata": {},
     "output_type": "execute_result"
    }
   ],
   "source": [
    "overlap_tiles.tile.values[0]"
   ]
  },
  {
   "cell_type": "code",
   "execution_count": 156,
   "metadata": {},
   "outputs": [],
   "source": [
    "tile = [overlap_tiles.tile.values[0]]"
   ]
  },
  {
   "cell_type": "code",
   "execution_count": 157,
   "metadata": {},
   "outputs": [
    {
     "name": "stdout",
     "output_type": "stream",
     "text": [
      "Loading images for tile: 36UYA...\n",
      "Loading images for tile 36UYA finished\n"
     ]
    }
   ],
   "source": [
    "loadings = load_images(tile, START_DATE, END_DATE)"
   ]
  },
  {
   "cell_type": "code",
   "execution_count": 158,
   "metadata": {},
   "outputs": [
    {
     "data": {
      "text/plain": [
       "{'36UYA': [('/home/jovyan/work/satellite_imagery/S2A_MSIL2A_20190606T083601_N0212_R064_T36UYA_20190606T112641/MTD_TL.xml',\n",
       "   'L2/tiles/36/U/YA/S2A_MSIL2A_20190606T083601_N0212_R064_T36UYA_20190606T112641.SAFE/GRANULE/L2A_T36UYA_A020653_20190606T083602/MTD_TL.xml'),\n",
       "  ('/home/jovyan/work/satellite_imagery/S2A_MSIL2A_20190606T083601_N0212_R064_T36UYA_20190606T112641/T36UYA_20190606T083601_B04_10m.jp2',\n",
       "   'L2/tiles/36/U/YA/S2A_MSIL2A_20190606T083601_N0212_R064_T36UYA_20190606T112641.SAFE/GRANULE/L2A_T36UYA_A020653_20190606T083602/IMG_DATA/R10m/T36UYA_20190606T083601_B04_10m.jp2'),\n",
       "  ('/home/jovyan/work/satellite_imagery/S2A_MSIL2A_20190606T083601_N0212_R064_T36UYA_20190606T112641/T36UYA_20190606T083601_TCI_10m.jp2',\n",
       "   'L2/tiles/36/U/YA/S2A_MSIL2A_20190606T083601_N0212_R064_T36UYA_20190606T112641.SAFE/GRANULE/L2A_T36UYA_A020653_20190606T083602/IMG_DATA/R10m/T36UYA_20190606T083601_TCI_10m.jp2'),\n",
       "  ('/home/jovyan/work/satellite_imagery/S2A_MSIL2A_20190606T083601_N0212_R064_T36UYA_20190606T112641/T36UYA_20190606T083601_B08_10m.jp2',\n",
       "   'L2/tiles/36/U/YA/S2A_MSIL2A_20190606T083601_N0212_R064_T36UYA_20190606T112641.SAFE/GRANULE/L2A_T36UYA_A020653_20190606T083602/IMG_DATA/R10m/T36UYA_20190606T083601_B08_10m.jp2')]}"
      ]
     },
     "execution_count": 158,
     "metadata": {},
     "output_type": "execute_result"
    }
   ],
   "source": [
    "loadings"
   ]
  },
  {
   "cell_type": "markdown",
   "metadata": {},
   "source": [
    "#### 3.2 Filter loadings for every tile, get last image in daterange"
   ]
  },
  {
   "cell_type": "code",
   "execution_count": null,
   "metadata": {},
   "outputs": [],
   "source": [
    "def filter_by_date(loadings):\n",
    "    def _find_last_date(folders):        \n",
    "        dates = list()\n",
    "        for folder in folders:        \n",
    "            search = re.search(r\"_(\\d+)T\\d+_\", str(folder))\n",
    "            date = search.group(1)\n",
    "            date = datetime.strptime(date, '%Y%m%d')\n",
    "            dates.append(date)    \n",
    "        last_date = max(dates)\n",
    "        last_date = datetime.strftime(last_date, '%Y%m%d')\n",
    "        return last_date\n",
    "    \n",
    "    filtered = dict()\n",
    "    for tile, items in loadings.items():\n",
    "        try:\n",
    "            last_date = _find_last_date(items)\n",
    "            for file, _ in items:\n",
    "                if \"TCI_10m.jp2\" in file and last_date in file:\n",
    "                    filtered[tile] = file\n",
    "        except Exception as ex:\n",
    "            print(f\"Error for {tile}: {str(ex)}\")\n",
    "    return filtered"
   ]
  },
  {
   "cell_type": "code",
   "execution_count": null,
   "metadata": {},
   "outputs": [],
   "source": [
    "if not filtered:\n",
    "    raise ValueError(\"Images not loaded. Change date or constraints\")"
   ]
  },
  {
   "cell_type": "code",
   "execution_count": null,
   "metadata": {},
   "outputs": [],
   "source": [
    "for path in paths:\n",
    "            if 'B04' in path:\n",
    "                bands_paths['RED'] = path\n",
    "            if 'B08' in path:\n",
    "                bands_paths['NIR'] = path\n",
    "            if 'TCI' in path:\n",
    "                bands_paths['TCI'] = path"
   ]
  },
  {
   "cell_type": "code",
   "execution_count": null,
   "metadata": {},
   "outputs": [],
   "source": []
  },
  {
   "cell_type": "code",
   "execution_count": null,
   "metadata": {},
   "outputs": [],
   "source": []
  },
  {
   "cell_type": "code",
   "execution_count": null,
   "metadata": {},
   "outputs": [],
   "source": [
    "loadings = load_images(aoi_path, API_KEY, LOAD_DIR)\n",
    "filtered = filter_loadings(loadings)"
   ]
  },
  {
   "cell_type": "code",
   "execution_count": null,
   "metadata": {},
   "outputs": [],
   "source": []
  },
  {
   "cell_type": "code",
   "execution_count": null,
   "metadata": {},
   "outputs": [],
   "source": []
  },
  {
   "cell_type": "code",
   "execution_count": null,
   "metadata": {},
   "outputs": [],
   "source": []
  },
  {
   "cell_type": "code",
   "execution_count": null,
   "metadata": {},
   "outputs": [],
   "source": []
  },
  {
   "cell_type": "code",
   "execution_count": null,
   "metadata": {},
   "outputs": [],
   "source": [
    "RESULTS_DIR = os.path.join(BASE, \"results/example/tci_ndvi\")\n",
    "\n",
    "NOTEBOOK_DIR = os.path.join(BASE, \"notebooks/example/tci_ndvi\")\n",
    "COLORMAP_BRBG = os.path.join(NOTEBOOK_DIR, \"brbg.npy\") "
   ]
  },
  {
   "cell_type": "code",
   "execution_count": null,
   "metadata": {},
   "outputs": [],
   "source": [
    "COLORS = prepare_colors(COLORMAP_BRBG)"
   ]
  },
  {
   "cell_type": "code",
   "execution_count": null,
   "metadata": {},
   "outputs": [],
   "source": [
    "def prepare_colors(colors):\n",
    "    colors = np.load(COLORMAP_BRBG)\n",
    "    # delete last channel, we use rgb\n",
    "    colors = np.delete(colors, 3, axis=1)\n",
    "    # colormap colors values in range [0-255], but in our case 0 - no data, -> have to color as [0, 0, 0] \n",
    "    colors[colors == 0] = 1\n",
    "    colors[0] = [0, 0, 0]\n",
    "    return colors"
   ]
  },
  {
   "cell_type": "code",
   "execution_count": null,
   "metadata": {},
   "outputs": [],
   "source": []
  },
  {
   "cell_type": "code",
   "execution_count": null,
   "metadata": {},
   "outputs": [],
   "source": []
  },
  {
   "cell_type": "code",
   "execution_count": null,
   "metadata": {},
   "outputs": [],
   "source": []
  },
  {
   "cell_type": "code",
   "execution_count": null,
   "metadata": {},
   "outputs": [],
   "source": []
  },
  {
   "cell_type": "code",
   "execution_count": null,
   "metadata": {},
   "outputs": [],
   "source": []
  },
  {
   "cell_type": "code",
   "execution_count": null,
   "metadata": {},
   "outputs": [],
   "source": [
    "def crop(input_path, output_path, polygon, name, date):\n",
    "    with rasterio.open(input_path) as src:\n",
    "        out_image, out_transform = rasterio.mask.mask(src, [polygon], crop=True)\n",
    "        # print(out_transform)\n",
    "        out_meta = src.meta\n",
    "        \n",
    "        out_meta.update({\"driver\": \"GTiff\",\n",
    "                 \"height\": out_image.shape[1],\n",
    "                 \"width\": out_image.shape[2],\n",
    "                 \"transform\": out_transform,\n",
    "                 \"nodata\": 0,\n",
    "                        })\n",
    "\n",
    "    with rasterio.open(output_path, \"w\", **out_meta) as dest:\n",
    "        dest.update_tags(name=name, start_date=date, end_date=date)\n",
    "        dest.write(out_image)"
   ]
  },
  {
   "cell_type": "code",
   "execution_count": null,
   "metadata": {},
   "outputs": [],
   "source": [
    "def convert(input_path, output_path, driver='GTiff'):\n",
    "    with rasterio.open(input_path) as src:\n",
    "        raster = src.read()\n",
    "        crs = str(src.crs)\n",
    "        \n",
    "        # print(\"CONVERTED CRS\")\n",
    "        # print(crs)\n",
    "                \n",
    "        kwargs = src.meta.copy()\n",
    "        kwargs.update({'driver': driver})\n",
    "        \n",
    "        \n",
    "        with rasterio.open(output_path, 'w', **kwargs) as dst:\n",
    "            dst.write(raster)\n",
    "        return crs"
   ]
  },
  {
   "cell_type": "code",
   "execution_count": null,
   "metadata": {},
   "outputs": [],
   "source": [
    "def to_crs(poly, target, current='EPSG:4326'):\n",
    "    # print(f\"TARGET CRS: {target}\")\n",
    "    project = pyproj.Transformer.from_crs(pyproj.CRS(current), pyproj.CRS(target), always_xy=True).transform\n",
    "    transformed_poly = transform(project, poly)\n",
    "    return transformed_poly "
   ]
  },
  {
   "cell_type": "code",
   "execution_count": null,
   "metadata": {},
   "outputs": [],
   "source": [
    "def generate_dates(delta=20, format='%Y-%m-%d'):\n",
    "    now = datetime.now()\n",
    "    end_date = datetime(now.year, now.month, now.day)\n",
    "\n",
    "    while True:\n",
    "        start_date = end_date - timedelta(days=delta)\n",
    "        yield datetime.strftime(start_date, format), datetime.strftime(end_date, format)\n",
    "        end_date = start_date"
   ]
  },
  {
   "cell_type": "code",
   "execution_count": null,
   "metadata": {},
   "outputs": [],
   "source": [
    "def load_images(aoi_path, api_key, output_dir):\n",
    "    \n",
    "    overlap = Sentinel2Overlap(aoi_path)\n",
    "    tiles = overlap.overlap()\n",
    "    print(f\"Overlap tiles: {tiles}\")\n",
    "    \n",
    "    loader = Sentinel2Downloader(api_key)\n",
    "    loadings = dict()\n",
    "    for tile in tiles:\n",
    "        print(f\"Loading images for tile: {tile}...\")\n",
    "        for start_date, end_date in generate_dates():\n",
    "            print(f\"Dates from {start_date} to {end_date}\")\n",
    "            loaded = loader.download('L2A',\n",
    "                                     [tile],\n",
    "                                     start_date=start_date,\n",
    "                                     end_date=end_date,\n",
    "                                     output_dir=output_dir,                       \n",
    "                                     bands=BANDS,\n",
    "                                     constraints=CONSTRAINTS)\n",
    "\n",
    "            if loaded:\n",
    "                print(f\"Loading images for tile {tile} finished\")\n",
    "                loadings[tile] = loaded\n",
    "                break\n",
    "            else:\n",
    "                print(\"No matching images\")\n",
    "    return loadings"
   ]
  },
  {
   "cell_type": "code",
   "execution_count": null,
   "metadata": {},
   "outputs": [],
   "source": [
    "def last_image_paths(loaded):\n",
    "    date_pattern = r\"_(\\d+)T\\d+_\"\n",
    "    dates = list()\n",
    "    for path, _ in loaded:\n",
    "        if path.endswith('.jp2'):\n",
    "            search = re.search(date_pattern, path)\n",
    "            date = search.group(1)\n",
    "            date = datetime.strptime(date, '%Y%m%d')\n",
    "            dates.append(date)\n",
    "    \n",
    "    last_date = max(dates)\n",
    "    last_date = datetime.strftime(last_date, '%Y%m%d')\n",
    "    paths = list()\n",
    "    for path, _ in loaded:\n",
    "        if path.endswith('.jp2') and last_date in path:\n",
    "            paths.append(path)\n",
    "    return paths, last_date"
   ]
  },
  {
   "cell_type": "code",
   "execution_count": null,
   "metadata": {},
   "outputs": [],
   "source": [
    "def filter_loadings(loadings):\n",
    "    filtered = dict()\n",
    "    for tile, image_paths in loadings.items():        \n",
    "        paths, date = last_image_paths(image_paths)\n",
    "        bands_paths = dict()\n",
    "        for path in paths:\n",
    "            if 'B04' in path:\n",
    "                bands_paths['RED'] = path\n",
    "            if 'B08' in path:\n",
    "                bands_paths['NIR'] = path\n",
    "            if 'TCI' in path:\n",
    "                bands_paths['TCI'] = path\n",
    "        filtered[tile] = dict(paths=bands_paths, date=date)\n",
    "    return filtered"
   ]
  },
  {
   "cell_type": "code",
   "execution_count": null,
   "metadata": {},
   "outputs": [],
   "source": [
    "def _save_original_ndvi(ndvi, src, path, nodata=-1000):\n",
    "    # mask nan values\n",
    "    nan_mask = np.isnan(ndvi)\n",
    "    ndvi[nan_mask] = nodata\n",
    "    \n",
    "    # Set spatial characteristics of the output object\n",
    "    kwargs = src.meta.copy()    \n",
    "    kwargs.update(\n",
    "        dtype=rasterio.float32,\n",
    "        driver='GTiff',\n",
    "        nodata=nodata,\n",
    "        count = 1)\n",
    "    \n",
    "    # print(f\"Metadata of NDVI: {kwargs}\")\n",
    "\n",
    "    # Create the file\n",
    "    with rasterio.open(path, 'w', **kwargs) as dst:\n",
    "         dst.write(ndvi.astype(rasterio.float32), 1)"
   ]
  },
  {
   "cell_type": "code",
   "execution_count": null,
   "metadata": {},
   "outputs": [],
   "source": [
    "def scale(ndvi, a=1, b=255, nodata=0.0):\n",
    "    # ndvi is in range [-1; 1], nodata is setted to 0.0 value. Be careful with comprassions!\n",
    "    min = -1 # np.nanmin(ndvi)\n",
    "    max = 1 # np.nanmax(ndvi)\n",
    "    scaled = (b - a) * (ndvi - min) / (max - min) + a\n",
    "    scaled = np.around(scaled)\n",
    "    scaled[np.isnan(scaled) == True] = nodata\n",
    "    scaled = scaled.astype(np.uint8)\n",
    "    return scaled"
   ]
  },
  {
   "cell_type": "code",
   "execution_count": null,
   "metadata": {},
   "outputs": [],
   "source": [
    "def color_ndvi(scaled, colors):\n",
    "    colored = np.reshape(colors[scaled.flatten()], tuple((*scaled.shape, 3)))\n",
    "    colored = reshape_as_raster(colored)\n",
    "    return colored"
   ]
  },
  {
   "cell_type": "code",
   "execution_count": null,
   "metadata": {},
   "outputs": [],
   "source": [
    "def NDVI(nir_path, red_path, save_path):\n",
    "    print(\"Calculating NDVI...\")\n",
    "    # Allow division by zero\n",
    "    np.seterr(divide='ignore', invalid='ignore')\n",
    "    \n",
    "    with rasterio.open(nir_path) as src:\n",
    "        nir = src.read(1).astype(rasterio.float32)\n",
    "        crs = str(src.crs)\n",
    "    with rasterio.open(red_path) as src:\n",
    "        red = src.read(1).astype(rasterio.float32)\n",
    "\n",
    "    # Calculate NDVI\n",
    "    ndvi = ((nir - red) / (nir + red)) \n",
    "    \n",
    "    scaled = scale(ndvi)\n",
    "    colored = color_ndvi(scaled, COLORS) \n",
    "    \n",
    "    \n",
    "    # Set spatial characteristics of the output object\n",
    "    kwargs = src.meta.copy()    \n",
    "    kwargs.update(\n",
    "        dtype=rasterio.uint8,\n",
    "        driver='GTiff',\n",
    "        nodata=0,\n",
    "        count=3, )\n",
    "    \n",
    "    # print(f\"Metadata of NDVI: {kwargs}\")\n",
    "\n",
    "    # Create the file\n",
    "    with rasterio.open(save_path, 'w', **kwargs) as dst:\n",
    "         dst.write(colored)\n",
    "    print(\"NDVI calculation finished\")\n",
    "    return crs"
   ]
  },
  {
   "cell_type": "code",
   "execution_count": null,
   "metadata": {},
   "outputs": [],
   "source": [
    "def get_path(path, layer, base, name, suffix=None):\n",
    "    if layer == 'NDVI':\n",
    "        stem = Path(path).stem\n",
    "        stem = re.sub(r\"_B\\d{2}\", '_NDVI', stem)\n",
    "    else:\n",
    "        stem = Path(path).stem\n",
    "    path = os.path.join(base, f\"{name}_{stem}.tif\")\n",
    "    if suffix:\n",
    "         path += suffix\n",
    "    os.makedirs(os.path.dirname(path), exist_ok=True)\n",
    "    return path"
   ]
  },
  {
   "cell_type": "code",
   "execution_count": null,
   "metadata": {},
   "outputs": [],
   "source": [
    "def reproject_image(input_path, dst_crs='EPSG:3857'):\n",
    "    with rasterio.open(input_path) as src:\n",
    "        transform, width, height = calculate_default_transform(\n",
    "            src.crs, dst_crs, src.width, src.height, *src.bounds)\n",
    "        kwargs = src.meta.copy()\n",
    "        kwargs.update({\n",
    "            'crs': dst_crs,\n",
    "            'transform': transform,\n",
    "            'width': width,\n",
    "            'height': height\n",
    "            })\n",
    "        output_path = f\"{input_path[:-4]}_{dst_crs.replace(':', '_').lower()}.tif\" \n",
    "        with rasterio.open(output_path, 'w', **kwargs) as dst:\n",
    "            for i in range(1, src.count + 1):\n",
    "                reproject(\n",
    "                    source=rasterio.band(src, i),\n",
    "                    destination=rasterio.band(dst, i),\n",
    "                    src_transform=src.transform,\n",
    "                    src_crs=src.crs,\n",
    "                    dst_transform=transform,\n",
    "                    dst_crs=dst_crs,\n",
    "                    resampling=Resampling.nearest)\n",
    "    return output_path "
   ]
  },
  {
   "cell_type": "code",
   "execution_count": null,
   "metadata": {},
   "outputs": [],
   "source": [
    "def get_start_end_date(filtered):\n",
    "    dates = list()\n",
    "    for tile, properties in filtered.items():\n",
    "        date = properties['date']\n",
    "        date = datetime.strptime(date, '%Y%m%d')\n",
    "        dates.append(date)\n",
    "    \n",
    "    start_date = max(dates)\n",
    "    end_date = min(dates)\n",
    "    return datetime.strftime(start_date, '%Y-%m-%d'), datetime.strftime(end_date, '%Y-%m-%d')"
   ]
  },
  {
   "cell_type": "code",
   "execution_count": null,
   "metadata": {},
   "outputs": [],
   "source": [
    "def generate_mosaic(layer, files_to_mosaic, name, start_date, end_date, results_dir):\n",
    "    src_files_to_mosaic = list()\n",
    "    for fp in files_to_mosaic:\n",
    "        src = rasterio.open(fp)\n",
    "        src_files_to_mosaic.append(src)\n",
    "    \n",
    "    # crs of first input will be used\n",
    "    mosaic, out_trans = merge(src_files_to_mosaic)\n",
    "    # print(src)\n",
    "    out_meta = src.meta.copy()\n",
    "    # print(out_meta)\n",
    "    # print(out_meta['crs'])\n",
    "\n",
    "    # Update the metadata\n",
    "    out_meta.update({\"driver\": \"GTiff\",\n",
    "                     \"height\": mosaic.shape[1],\n",
    "                     \"width\": mosaic.shape[2],\n",
    "                     \"transform\": out_trans,\n",
    "                     })\n",
    "    \n",
    "    out_fp = os.path.join(results_dir, f\"{name}_{layer}_{start_date}_{end_date}_mosaic.tif.temp\") \n",
    "    # print(out_fp)\n",
    "    os.makedirs(os.path.dirname(out_fp), exist_ok=True)\n",
    "    with rasterio.open(out_fp, \"w\", **out_meta) as dest:\n",
    "        dest.update_tags(name=name, start_date=start_date, end_date=end_date)\n",
    "        dest.write(mosaic)\n",
    "    os.rename(out_fp, out_fp[:-5])"
   ]
  },
  {
   "cell_type": "code",
   "execution_count": null,
   "metadata": {},
   "outputs": [],
   "source": [
    "def calculate(layer, temp_dir, bbox, name, properties):\n",
    "    \"\"\"\n",
    "    Preparing true color Sentinel2 and NDVI images for given AOI\n",
    "    \"\"\"\n",
    "    print(\"Calculating TCI and NDVI for given AOI...\")\n",
    "    \n",
    "    image_paths = properties['paths']\n",
    "    date = properties['date']\n",
    "  \n",
    "    if layer == 'TCI':       \n",
    "        # convert .jp2 image to .tif\n",
    "        path = image_paths['TCI']\n",
    "        temp_path = get_path(path, layer, temp_dir, name)    \n",
    "        print(f\"Save {layer} image path: {temp_path}\")\n",
    "            \n",
    "        target_crs = convert(path , temp_path) \n",
    "            \n",
    "    if layer == 'NDVI':\n",
    "        path = image_paths['RED']\n",
    "        temp_path = get_path(path, layer, temp_dir, name)    \n",
    "        print(f\"Save {layer} image path: {temp_path}\")\n",
    "            \n",
    "        # calculate NDVI\n",
    "        target_crs = NDVI(image_paths['NIR'], image_paths['RED'], temp_path)\n",
    "    \n",
    "    # print(\"TARGET CRS\")\n",
    "    # print(target_crs)\n",
    "    bound_box = to_crs(bbox, target_crs)   \n",
    "\n",
    "    \n",
    "    temp_output_path = get_path(path, layer, temp_dir, name, suffix=\".temp\")\n",
    "    print(f\"Temporary {layer} output path: {temp_output_path}\")\n",
    "    \n",
    "    # crop .tif image by aoi\n",
    "    crop(temp_path, temp_output_path, bound_box, name, date)   \n",
    "    \n",
    "    \n",
    "    output_path = temp_output_path[:-5]\n",
    "    print(f\"Rename temp file: {temp_output_path} to {output_path}\")\n",
    "    os.rename(temp_output_path, output_path)\n",
    "    \n",
    "    \n",
    "    # for warping in mosaic, reproject to same crs, set to 'EPSG:3857' \n",
    "    output_path = reproject_image(output_path)  \n",
    "    \n",
    "    print(output_path)\n",
    "        \n",
    "    \n",
    "    return output_path"
   ]
  },
  {
   "cell_type": "markdown",
   "metadata": {},
   "source": [
    "### Execution part"
   ]
  },
  {
   "cell_type": "code",
   "execution_count": null,
   "metadata": {},
   "outputs": [],
   "source": [
    "BASE = f\"/home/{os.getenv('NB_USER')}/work\""
   ]
  },
  {
   "cell_type": "code",
   "execution_count": null,
   "metadata": {},
   "outputs": [],
   "source": [
    "aoi_path = os.getenv(\"AOI\", default=os.path.join(BASE, \"notebooks/example/tci_ndvi/Pechenihy.geojson\")) \n",
    "if not aoi_path:\n",
    "    raise RuntimeError(\"Add AOI env var for calculations\")\n",
    "    \n",
    "aoi_path"
   ]
  },
  {
   "cell_type": "code",
   "execution_count": null,
   "metadata": {},
   "outputs": [],
   "source": [
    "API_KEY = os.path.join(BASE, \".secret/sentinel2_google_api_key.json\")\n",
    "LOAD_DIR = os.path.join(BASE, \"satellite_imagery\")\n",
    "RESULTS_DIR = os.path.join(BASE, \"results/example/tci_ndvi\")\n",
    "\n",
    "SIP_DIR = os.path.join(BASE, \"notebooks/example/tci_ndvi\")\n",
    "COLORMAP_BRBG = os.path.join(SIP_DIR, \"brbg.npy\") \n",
    "COLORS = prepare_colors(COLORMAP_BRBG)\n",
    "\n",
    "\n",
    "BANDS = {'TCI', 'B04', 'B08', }\n",
    "CONSTRAINTS = {'NODATA_PIXEL_PERCENTAGE': 10.0, 'CLOUDY_PIXEL_PERCENTAGE': 5.0, }\n",
    "\n",
    "LAYERS = ['TCI', 'NDVI', ]"
   ]
  },
  {
   "cell_type": "markdown",
   "metadata": {},
   "source": [
    "#### Get bound box"
   ]
  },
  {
   "cell_type": "code",
   "execution_count": null,
   "metadata": {},
   "outputs": [],
   "source": [
    "aoi = gp.read_file(aoi_path)    \n",
    "bbox = box(*aoi.total_bounds)\n",
    "\n",
    "NAME = Path(aoi_path).stem"
   ]
  },
  {
   "cell_type": "markdown",
   "metadata": {},
   "source": [
    "#### Loading images"
   ]
  },
  {
   "cell_type": "code",
   "execution_count": null,
   "metadata": {},
   "outputs": [],
   "source": [
    "loadings = load_images(aoi_path, API_KEY, LOAD_DIR)\n",
    "filtered = filter_loadings(loadings)"
   ]
  },
  {
   "cell_type": "code",
   "execution_count": null,
   "metadata": {},
   "outputs": [],
   "source": [
    "filtered"
   ]
  },
  {
   "cell_type": "markdown",
   "metadata": {},
   "source": [
    "### TCI, NDVI and mosaic calculation"
   ]
  },
  {
   "cell_type": "code",
   "execution_count": null,
   "metadata": {},
   "outputs": [],
   "source": [
    "SIP_DIR"
   ]
  },
  {
   "cell_type": "code",
   "execution_count": null,
   "metadata": {},
   "outputs": [],
   "source": [
    "RESULTS_DIR"
   ]
  },
  {
   "cell_type": "code",
   "execution_count": null,
   "metadata": {},
   "outputs": [],
   "source": [
    "# if true, mosaic will be created, else every file will be saved (for debugging)\n",
    "ONLY_MOSAIC = True"
   ]
  },
  {
   "cell_type": "code",
   "execution_count": null,
   "metadata": {},
   "outputs": [],
   "source": [
    "with tempfile.TemporaryDirectory(dir=SIP_DIR) as tmpdirname:\n",
    "    layer_paths = dict()\n",
    "    if not ONLY_MOSAIC:\n",
    "        tmpdirname = os.path.join(SIP_DIR, \"results\")\n",
    "        \n",
    "    print(f\"Сreated temporary directory for calculations: {tmpdirname}\")   \n",
    "    for layer in LAYERS:\n",
    "        print(f\"\\nCalculating {layer}:\\n\")\n",
    "        paths = list()\n",
    "        for tile, properties in filtered.items():\n",
    "            print(f\"\\nExecution for tile {tile}\")\n",
    "            \n",
    "            save_path = calculate(layer, tmpdirname, bbox, NAME, properties)\n",
    "            \n",
    "            paths.append(save_path)\n",
    "            \n",
    "        layer_paths[layer] = paths\n",
    "        print(f\"Execution for tile {tile} finished\")\n",
    "    \n",
    "    # print(layer_paths)\n",
    "    \n",
    "    print(\"\\nCREATING MOSAIC\\n\")\n",
    "    start_date, end_date = get_start_end_date(filtered)\n",
    "    print(f\"Date range for mosaic from {start_date} till {end_date}\")\n",
    "\n",
    "    for layer, files_to_mosaic in layer_paths.items():\n",
    "        print(f\"\\nGenerating mosaic for {layer}\")\n",
    "        generate_mosaic(layer, files_to_mosaic, NAME, start_date, end_date, RESULTS_DIR)\n",
    "        print(\"\\nGenerating mosaic finished\")"
   ]
  }
 ],
 "metadata": {
  "kernelspec": {
   "display_name": "python37",
   "language": "python",
   "name": "python37"
  },
  "language_info": {
   "codemirror_mode": {
    "name": "ipython",
    "version": 3
   },
   "file_extension": ".py",
   "mimetype": "text/x-python",
   "name": "python",
   "nbconvert_exporter": "python",
   "pygments_lexer": "ipython3",
   "version": "3.7.9"
  }
 },
 "nbformat": 4,
 "nbformat_minor": 4
}
