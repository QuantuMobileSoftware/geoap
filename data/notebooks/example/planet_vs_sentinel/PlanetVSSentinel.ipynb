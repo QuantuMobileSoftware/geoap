{
 "cells": [
  {
   "cell_type": "markdown",
   "metadata": {},
   "source": [
    "### For selected ClearCut AOI prepare Planet and Sentinel2 images. Show clearcuts on AOI. Compare quality"
   ]
  },
  {
   "cell_type": "code",
   "execution_count": 1,
   "metadata": {},
   "outputs": [],
   "source": [
    "import os\n",
    "import rasterio\n",
    "import pandas as pd\n",
    "import numpy as np\n",
    "import geopandas as gpd\n",
    "import rasterio.mask\n",
    "import tempfile\n",
    "import shapely\n",
    "import re\n",
    "\n",
    "from rasterio.features import rasterize, shapes\n",
    "from rasterio.merge import merge\n",
    "from shapely.geometry import Polygon, shape, box\n",
    "from pathlib import Path\n",
    "from datetime import datetime, timedelta\n",
    "\n",
    "from sentinel2download.downloader import Sentinel2Downloader"
   ]
  },
  {
   "cell_type": "code",
   "execution_count": 2,
   "metadata": {},
   "outputs": [],
   "source": [
    "BASE = f\"/home/{os.getenv('NB_USER')}/work\"\n",
    "\n",
    "WORKDIR = os.path.join(BASE, \"notebooks/example/planet_vs_sentinel\")\n",
    "IMGDIR = os.path.join(BASE, \"satellite_imagery\")\n",
    "RESULTS_DIR = os.path.join(BASE, \"results/example/planet_vs_sentinel\")"
   ]
  },
  {
   "cell_type": "markdown",
   "metadata": {},
   "source": [
    "### Read AOI"
   ]
  },
  {
   "cell_type": "code",
   "execution_count": 3,
   "metadata": {},
   "outputs": [],
   "source": [
    "def read_aoi(path, crs=\"epsg:4326\"):\n",
    "    df = gpd.read_file(path) \n",
    "    if str(df.crs) != crs:\n",
    "        print(f\"{path}: {df.crs}. Transform to {crs}\")\n",
    "    df.to_crs(crs, inplace=True)\n",
    "    return df"
   ]
  },
  {
   "cell_type": "code",
   "execution_count": 5,
   "metadata": {},
   "outputs": [],
   "source": [
    "aoi_path = os.getenv(\"AOI\", os.path.join(WORKDIR, \"aoi/Horodnie_20190801_20190831.geojson\")) # Pervukhynka_20190801_20190831.geojson \n",
    "\n",
    "aoi = read_aoi(aoi_path)"
   ]
  },
  {
   "cell_type": "code",
   "execution_count": 6,
   "metadata": {},
   "outputs": [
    {
     "data": {
      "text/html": [
       "<div>\n",
       "<style scoped>\n",
       "    .dataframe tbody tr th:only-of-type {\n",
       "        vertical-align: middle;\n",
       "    }\n",
       "\n",
       "    .dataframe tbody tr th {\n",
       "        vertical-align: top;\n",
       "    }\n",
       "\n",
       "    .dataframe thead th {\n",
       "        text-align: right;\n",
       "    }\n",
       "</style>\n",
       "<table border=\"1\" class=\"dataframe\">\n",
       "  <thead>\n",
       "    <tr style=\"text-align: right;\">\n",
       "      <th></th>\n",
       "      <th>id</th>\n",
       "      <th>geometry</th>\n",
       "    </tr>\n",
       "  </thead>\n",
       "  <tbody>\n",
       "    <tr>\n",
       "      <th>0</th>\n",
       "      <td>1</td>\n",
       "      <td>MULTIPOLYGON (((35.27794 50.15967, 35.22820 50...</td>\n",
       "    </tr>\n",
       "  </tbody>\n",
       "</table>\n",
       "</div>"
      ],
      "text/plain": [
       "   id                                           geometry\n",
       "0   1  MULTIPOLYGON (((35.27794 50.15967, 35.22820 50..."
      ]
     },
     "execution_count": 6,
     "metadata": {},
     "output_type": "execute_result"
    }
   ],
   "source": [
    "aoi"
   ]
  },
  {
   "cell_type": "code",
   "execution_count": 7,
   "metadata": {},
   "outputs": [],
   "source": [
    "start_date = '2019-08-01'\n",
    "end_date = '2019-08-31'"
   ]
  },
  {
   "cell_type": "code",
   "execution_count": 8,
   "metadata": {},
   "outputs": [],
   "source": [
    "def filter_planet(grid, start_date, end_date):\n",
    "    # grid.acquired = pd.to_datetime(grid.acquired)\n",
    "    grid = grid.loc[(grid.ground_control == \"1\") & \n",
    "                    (grid.item_type == \"PSScene4Band\") &\n",
    "                    (grid.quality_category == \"standard\") &\n",
    "                    (grid.cloud_cover == 0) &\n",
    "                    (grid.acquired >= start_date) &\n",
    "                    (grid.acquired <= end_date) &\n",
    "                    (grid.snow_ice_percent == 0) &\n",
    "                    (grid.clear_percent >= 95)].reset_index(drop=True)\n",
    "    return grid"
   ]
  },
  {
   "cell_type": "code",
   "execution_count": 9,
   "metadata": {},
   "outputs": [],
   "source": [
    "def epsg_code(longitude, latitude):\n",
    "    \"\"\"\n",
    "    Generates EPSG code from lon, lat\n",
    "    :param longitude: float\n",
    "    :param latitude: float\n",
    "    :return: int, EPSG code\n",
    "    \"\"\"\n",
    "\n",
    "    def _zone_number(lat, lon):\n",
    "        if 56 <= lat < 64 and 3 <= lon < 12:\n",
    "            return 32\n",
    "        if 72 <= lat <= 84 and lon >= 0:\n",
    "            if lon < 9:\n",
    "                return 31\n",
    "            elif lon < 21:\n",
    "                return 33\n",
    "            elif lon < 33:\n",
    "                return 35\n",
    "            elif lon < 42:\n",
    "                return 37\n",
    "\n",
    "        return int((lon + 180) / 6) + 1\n",
    "\n",
    "    zone = _zone_number(latitude, longitude)\n",
    "\n",
    "    if latitude > 0:\n",
    "        return 32600 + zone\n",
    "    else:\n",
    "        return 32700 + zone"
   ]
  },
  {
   "cell_type": "code",
   "execution_count": 10,
   "metadata": {},
   "outputs": [],
   "source": [
    "def _intersect(aoi, grid, limit=1):\n",
    "    \"\"\"\n",
    "    Find all tiles that intersects given region with area >= limit km2\n",
    "    :param limit: float, min intersection area in km2\n",
    "    :return: (GeoDataFrame, epsg), precised intersected tiles and UTM zone code\n",
    "    \"\"\"\n",
    "\n",
    "    \n",
    "    # Get the indices of the tiles that are likely to be inside the bounding box of the given Polygon\n",
    "    geometry = aoi.geometry[0]\n",
    "\n",
    "    tiles_indexes = list(grid.sindex.intersection(geometry.bounds))\n",
    "    intersected_grid = grid.loc[tiles_indexes]\n",
    "    \n",
    "    # print(intersected_grid)\n",
    "\n",
    "    # Make the precise tiles in Polygon query\n",
    "    intersected_grid = intersected_grid.loc[grid.intersects(geometry)]\n",
    "\n",
    "    # intersection area\n",
    "    epsg = epsg_code(geometry.centroid.x, geometry.centroid.y)\n",
    "\n",
    "    # to UTM projection in meters\n",
    "    aoi.to_crs(epsg=epsg, inplace=True)\n",
    "    intersected_grid.to_crs(epsg=epsg, inplace=True)\n",
    "\n",
    "    return intersected_grid, epsg"
   ]
  },
  {
   "cell_type": "code",
   "execution_count": 11,
   "metadata": {},
   "outputs": [],
   "source": [
    "def _overlap_aoi_row(aoi, bbox_intersected, crs):\n",
    "    \n",
    "    result = list()\n",
    "\n",
    "    intersected = bbox_intersected.copy()\n",
    "    rest_aoi = gpd.GeoDataFrame([aoi], crs=crs)\n",
    "    \n",
    "    \n",
    "    try:\n",
    "        while rest_aoi.area.sum() > 0:\n",
    "       \n",
    "            res_intersection = gpd.overlay(rest_aoi, intersected, how=\"intersection\") # intersection area with tiles\n",
    "            biggest_area_id = res_intersection.area.argmax() # max intersected area\n",
    "            # print(\"res_intersection\")\n",
    "            # print(res_intersection)\n",
    "\n",
    "            tile_id = res_intersection.loc[biggest_area_id, \"Name\"]\n",
    "            intersected_aoi = res_intersection.loc[biggest_area_id, \"geometry\"]\n",
    "        \n",
    "            # print(tile_id)\n",
    "        \n",
    "            result.append({\"Name\": tile_id, \"geometry\": intersected_aoi}) # store max intersected aoi and tile geometry\n",
    "            biggest_tile = intersected.loc[intersected.Name == tile_id]\n",
    "\n",
    "            rest_aoi = gpd.overlay(rest_aoi, biggest_tile, how=\"difference\") # aoi minus biggest tile\n",
    "            intersected = intersected[intersected.Name != tile_id] # remove used tile\n",
    "    except Exception as ex:\n",
    "        print(f\"Error: {str(ex)}\")\n",
    "        \n",
    "    return result"
   ]
  },
  {
   "cell_type": "code",
   "execution_count": 12,
   "metadata": {},
   "outputs": [],
   "source": [
    "def overlap(aoi, grid):\n",
    "    # first, find bbox intersection\n",
    "    bbox = box(*aoi.total_bounds)\n",
    "    bbox = gpd.GeoDataFrame(geometry=[box(*aoi.total_bounds)], crs=aoi.crs)\n",
    "    \n",
    "    bbox_intersected, epsg = _intersect(bbox, grid)\n",
    "    # print(bbox_intersected)\n",
    "    \n",
    "    # precise intersection\n",
    "    projected_aoi = aoi.copy().to_crs(epsg=epsg)\n",
    "    \n",
    "    results = list()\n",
    "    for row in projected_aoi.itertuples():\n",
    "        result = _overlap_aoi_row(row, bbox_intersected, projected_aoi.crs)\n",
    "        results.extend(result)\n",
    "        \n",
    "    return gpd.GeoDataFrame(results, crs=epsg)"
   ]
  },
  {
   "cell_type": "markdown",
   "metadata": {},
   "source": [
    "### 1. Planet images"
   ]
  },
  {
   "cell_type": "code",
   "execution_count": 13,
   "metadata": {},
   "outputs": [
    {
     "data": {
      "text/html": [
       "<div>\n",
       "<style scoped>\n",
       "    .dataframe tbody tr th:only-of-type {\n",
       "        vertical-align: middle;\n",
       "    }\n",
       "\n",
       "    .dataframe tbody tr th {\n",
       "        vertical-align: top;\n",
       "    }\n",
       "\n",
       "    .dataframe thead th {\n",
       "        text-align: right;\n",
       "    }\n",
       "</style>\n",
       "<table border=\"1\" class=\"dataframe\">\n",
       "  <thead>\n",
       "    <tr style=\"text-align: right;\">\n",
       "      <th></th>\n",
       "      <th>id</th>\n",
       "      <th>acquired</th>\n",
       "      <th>anomalous_pixels</th>\n",
       "      <th>black_fill</th>\n",
       "      <th>cloud_cover</th>\n",
       "      <th>columns</th>\n",
       "      <th>epsg_code</th>\n",
       "      <th>grid_cell</th>\n",
       "      <th>ground_control</th>\n",
       "      <th>gsd</th>\n",
       "      <th>...</th>\n",
       "      <th>clear_percent</th>\n",
       "      <th>cloud_percent</th>\n",
       "      <th>heavy_haze_percent</th>\n",
       "      <th>light_haze_percent</th>\n",
       "      <th>shadow_percent</th>\n",
       "      <th>snow_ice_percent</th>\n",
       "      <th>visible_confidence_percent</th>\n",
       "      <th>visible_percent</th>\n",
       "      <th>year</th>\n",
       "      <th>geometry</th>\n",
       "    </tr>\n",
       "  </thead>\n",
       "  <tbody>\n",
       "    <tr>\n",
       "      <th>0</th>\n",
       "      <td>1336590_3761711_2018-04-08_1021</td>\n",
       "      <td>2018-04-08T07:51:44</td>\n",
       "      <td>0.01</td>\n",
       "      <td>0.34</td>\n",
       "      <td>0.006</td>\n",
       "      <td>8000</td>\n",
       "      <td>32637</td>\n",
       "      <td>3761711</td>\n",
       "      <td>1</td>\n",
       "      <td>3.9</td>\n",
       "      <td>...</td>\n",
       "      <td>NaN</td>\n",
       "      <td>NaN</td>\n",
       "      <td>NaN</td>\n",
       "      <td>NaN</td>\n",
       "      <td>NaN</td>\n",
       "      <td>NaN</td>\n",
       "      <td>NaN</td>\n",
       "      <td>NaN</td>\n",
       "      <td>2018</td>\n",
       "      <td>POLYGON ((37.68174 48.95690, 37.67582 49.18171...</td>\n",
       "    </tr>\n",
       "  </tbody>\n",
       "</table>\n",
       "<p>1 rows × 37 columns</p>\n",
       "</div>"
      ],
      "text/plain": [
       "                                id             acquired  anomalous_pixels  \\\n",
       "0  1336590_3761711_2018-04-08_1021  2018-04-08T07:51:44              0.01   \n",
       "\n",
       "   black_fill  cloud_cover  columns  epsg_code grid_cell ground_control  gsd  \\\n",
       "0        0.34        0.006     8000      32637   3761711              1  3.9   \n",
       "\n",
       "   ... clear_percent  cloud_percent  heavy_haze_percent  light_haze_percent  \\\n",
       "0  ...           NaN            NaN                 NaN                 NaN   \n",
       "\n",
       "  shadow_percent snow_ice_percent  visible_confidence_percent visible_percent  \\\n",
       "0            NaN              NaN                         NaN             NaN   \n",
       "\n",
       "   year                                           geometry  \n",
       "0  2018  POLYGON ((37.68174 48.95690, 37.67582 49.18171...  \n",
       "\n",
       "[1 rows x 37 columns]"
      ]
     },
     "execution_count": 13,
     "metadata": {},
     "output_type": "execute_result"
    }
   ],
   "source": [
    "planet_grid = gpd.read_file(os.path.join(BASE, \"grids/planet_grid.geojson\"), driver=\"GeoJSON\")\n",
    "planet_grid.head(1)"
   ]
  },
  {
   "cell_type": "code",
   "execution_count": 14,
   "metadata": {},
   "outputs": [],
   "source": [
    "planet_grid = filter_planet(planet_grid, start_date, end_date)"
   ]
  },
  {
   "cell_type": "code",
   "execution_count": 15,
   "metadata": {},
   "outputs": [],
   "source": [
    "planet_grid = planet_grid[['id', 'acquired', 'geometry']].copy()\n",
    "planet_grid.rename(columns={\"id\": \"Name\"}, inplace=True)"
   ]
  },
  {
   "cell_type": "code",
   "execution_count": 16,
   "metadata": {},
   "outputs": [
    {
     "data": {
      "text/html": [
       "<div>\n",
       "<style scoped>\n",
       "    .dataframe tbody tr th:only-of-type {\n",
       "        vertical-align: middle;\n",
       "    }\n",
       "\n",
       "    .dataframe tbody tr th {\n",
       "        vertical-align: top;\n",
       "    }\n",
       "\n",
       "    .dataframe thead th {\n",
       "        text-align: right;\n",
       "    }\n",
       "</style>\n",
       "<table border=\"1\" class=\"dataframe\">\n",
       "  <thead>\n",
       "    <tr style=\"text-align: right;\">\n",
       "      <th></th>\n",
       "      <th>Name</th>\n",
       "      <th>acquired</th>\n",
       "      <th>geometry</th>\n",
       "    </tr>\n",
       "  </thead>\n",
       "  <tbody>\n",
       "    <tr>\n",
       "      <th>82</th>\n",
       "      <td>20190830_081708_1021</td>\n",
       "      <td>2019-08-30T08:17:08</td>\n",
       "      <td>POLYGON ((35.60376 49.99066, 35.25423 50.04774...</td>\n",
       "    </tr>\n",
       "    <tr>\n",
       "      <th>83</th>\n",
       "      <td>20190830_081709_1021</td>\n",
       "      <td>2019-08-30T08:17:09</td>\n",
       "      <td>POLYGON ((35.57930 49.92516, 35.22936 49.98234...</td>\n",
       "    </tr>\n",
       "    <tr>\n",
       "      <th>84</th>\n",
       "      <td>20190830_081710_1021</td>\n",
       "      <td>2019-08-30T08:17:10</td>\n",
       "      <td>POLYGON ((35.55415 49.86005, 35.20563 49.91706...</td>\n",
       "    </tr>\n",
       "  </tbody>\n",
       "</table>\n",
       "</div>"
      ],
      "text/plain": [
       "                    Name             acquired  \\\n",
       "82  20190830_081708_1021  2019-08-30T08:17:08   \n",
       "83  20190830_081709_1021  2019-08-30T08:17:09   \n",
       "84  20190830_081710_1021  2019-08-30T08:17:10   \n",
       "\n",
       "                                             geometry  \n",
       "82  POLYGON ((35.60376 49.99066, 35.25423 50.04774...  \n",
       "83  POLYGON ((35.57930 49.92516, 35.22936 49.98234...  \n",
       "84  POLYGON ((35.55415 49.86005, 35.20563 49.91706...  "
      ]
     },
     "execution_count": 16,
     "metadata": {},
     "output_type": "execute_result"
    }
   ],
   "source": [
    "planet_grid.tail(3)"
   ]
  },
  {
   "cell_type": "code",
   "execution_count": 17,
   "metadata": {},
   "outputs": [],
   "source": [
    "planet_tiles = overlap(aoi, planet_grid)"
   ]
  },
  {
   "cell_type": "code",
   "execution_count": 18,
   "metadata": {},
   "outputs": [
    {
     "data": {
      "text/html": [
       "<div>\n",
       "<style scoped>\n",
       "    .dataframe tbody tr th:only-of-type {\n",
       "        vertical-align: middle;\n",
       "    }\n",
       "\n",
       "    .dataframe tbody tr th {\n",
       "        vertical-align: top;\n",
       "    }\n",
       "\n",
       "    .dataframe thead th {\n",
       "        text-align: right;\n",
       "    }\n",
       "</style>\n",
       "<table border=\"1\" class=\"dataframe\">\n",
       "  <thead>\n",
       "    <tr style=\"text-align: right;\">\n",
       "      <th></th>\n",
       "      <th>Name</th>\n",
       "      <th>geometry</th>\n",
       "    </tr>\n",
       "  </thead>\n",
       "  <tbody>\n",
       "    <tr>\n",
       "      <th>0</th>\n",
       "      <td>20190826_081658_0f35</td>\n",
       "      <td>POLYGON ((662704.134 5558867.810, 665939.948 5...</td>\n",
       "    </tr>\n",
       "  </tbody>\n",
       "</table>\n",
       "</div>"
      ],
      "text/plain": [
       "                   Name                                           geometry\n",
       "0  20190826_081658_0f35  POLYGON ((662704.134 5558867.810, 665939.948 5..."
      ]
     },
     "execution_count": 18,
     "metadata": {},
     "output_type": "execute_result"
    }
   ],
   "source": [
    "planet_tiles"
   ]
  },
  {
   "cell_type": "code",
   "execution_count": 19,
   "metadata": {},
   "outputs": [],
   "source": [
    "planet_tiles = planet_tiles.merge(planet_grid[['Name', 'acquired']], on='Name')"
   ]
  },
  {
   "cell_type": "code",
   "execution_count": 20,
   "metadata": {},
   "outputs": [
    {
     "data": {
      "text/html": [
       "<div>\n",
       "<style scoped>\n",
       "    .dataframe tbody tr th:only-of-type {\n",
       "        vertical-align: middle;\n",
       "    }\n",
       "\n",
       "    .dataframe tbody tr th {\n",
       "        vertical-align: top;\n",
       "    }\n",
       "\n",
       "    .dataframe thead th {\n",
       "        text-align: right;\n",
       "    }\n",
       "</style>\n",
       "<table border=\"1\" class=\"dataframe\">\n",
       "  <thead>\n",
       "    <tr style=\"text-align: right;\">\n",
       "      <th></th>\n",
       "      <th>Name</th>\n",
       "      <th>geometry</th>\n",
       "      <th>acquired</th>\n",
       "    </tr>\n",
       "  </thead>\n",
       "  <tbody>\n",
       "    <tr>\n",
       "      <th>0</th>\n",
       "      <td>20190826_081658_0f35</td>\n",
       "      <td>POLYGON ((662704.134 5558867.810, 665939.948 5...</td>\n",
       "      <td>2019-08-26T08:16:58</td>\n",
       "    </tr>\n",
       "  </tbody>\n",
       "</table>\n",
       "</div>"
      ],
      "text/plain": [
       "                   Name                                           geometry  \\\n",
       "0  20190826_081658_0f35  POLYGON ((662704.134 5558867.810, 665939.948 5...   \n",
       "\n",
       "              acquired  \n",
       "0  2019-08-26T08:16:58  "
      ]
     },
     "execution_count": 20,
     "metadata": {},
     "output_type": "execute_result"
    }
   ],
   "source": [
    "planet_tiles"
   ]
  },
  {
   "cell_type": "code",
   "execution_count": 21,
   "metadata": {},
   "outputs": [],
   "source": [
    "planet_tiles['date'] = planet_tiles.acquired.apply(lambda date:\n",
    "                                                   datetime.strptime(date, '%Y-%m-%dT%H:%M:%S').strftime('%Y-%m-%d'))"
   ]
  },
  {
   "cell_type": "code",
   "execution_count": 22,
   "metadata": {},
   "outputs": [
    {
     "data": {
      "text/html": [
       "<div>\n",
       "<style scoped>\n",
       "    .dataframe tbody tr th:only-of-type {\n",
       "        vertical-align: middle;\n",
       "    }\n",
       "\n",
       "    .dataframe tbody tr th {\n",
       "        vertical-align: top;\n",
       "    }\n",
       "\n",
       "    .dataframe thead th {\n",
       "        text-align: right;\n",
       "    }\n",
       "</style>\n",
       "<table border=\"1\" class=\"dataframe\">\n",
       "  <thead>\n",
       "    <tr style=\"text-align: right;\">\n",
       "      <th></th>\n",
       "      <th>Name</th>\n",
       "      <th>geometry</th>\n",
       "      <th>acquired</th>\n",
       "      <th>date</th>\n",
       "    </tr>\n",
       "  </thead>\n",
       "  <tbody>\n",
       "    <tr>\n",
       "      <th>0</th>\n",
       "      <td>20190826_081658_0f35</td>\n",
       "      <td>POLYGON ((662704.134 5558867.810, 665939.948 5...</td>\n",
       "      <td>2019-08-26T08:16:58</td>\n",
       "      <td>2019-08-26</td>\n",
       "    </tr>\n",
       "  </tbody>\n",
       "</table>\n",
       "</div>"
      ],
      "text/plain": [
       "                   Name                                           geometry  \\\n",
       "0  20190826_081658_0f35  POLYGON ((662704.134 5558867.810, 665939.948 5...   \n",
       "\n",
       "              acquired        date  \n",
       "0  2019-08-26T08:16:58  2019-08-26  "
      ]
     },
     "execution_count": 22,
     "metadata": {},
     "output_type": "execute_result"
    }
   ],
   "source": [
    "planet_tiles"
   ]
  },
  {
   "cell_type": "code",
   "execution_count": 23,
   "metadata": {},
   "outputs": [],
   "source": [
    "def crop(input_path, output_path, polygon, name=None, date=None):\n",
    "    with rasterio.open(input_path) as src:\n",
    "        out_image, out_transform = rasterio.mask.mask(src, [polygon], crop=True)\n",
    "        out_meta = src.meta\n",
    "        \n",
    "        \n",
    "        out_meta.update({\"driver\": \"GTiff\",\n",
    "                 \"height\": out_image.shape[1],\n",
    "                 \"width\": out_image.shape[2],\n",
    "                 \"transform\": out_transform,\n",
    "                 \"nodata\": 0,\n",
    "                        })\n",
    "        #if out_image.shape[0] > 3:\n",
    "         #   print(f\"Image has {out_image.shape} bands. Extracting only first three TCI bands\")\n",
    "          #  out_image = out_image[:3, :, :]\n",
    "            \n",
    "           # out_meta.update({\n",
    "            #'count': 3, })\n",
    "        \n",
    "\n",
    "    with rasterio.open(output_path, \"w\", **out_meta) as dest:\n",
    "        if name:\n",
    "            dest.update_tags(name=name)\n",
    "        if date:\n",
    "            dest.update_tags(start_date=date, end_date=date)\n",
    "        dest.write(out_image)"
   ]
  },
  {
   "cell_type": "code",
   "execution_count": 24,
   "metadata": {},
   "outputs": [],
   "source": [
    "def create_mosaic(files_to_mosaic, results_dir, name, start_date=None, end_date=None):\n",
    "    src_files_to_mosaic = list()\n",
    "    for fp in files_to_mosaic:\n",
    "        src = rasterio.open(fp)\n",
    "        src_files_to_mosaic.append(src)\n",
    "    \n",
    "    # crs of first input will be used\n",
    "    mosaic, out_trans = merge(src_files_to_mosaic)\n",
    "    out_meta = src.meta.copy()\n",
    "\n",
    "    # Update the metadata\n",
    "    out_meta.update({\"driver\": \"GTiff\",\n",
    "                     \"height\": mosaic.shape[1],\n",
    "                     \"width\": mosaic.shape[2],\n",
    "                     \"transform\": out_trans,\n",
    "                     })\n",
    "    \n",
    "    out_fp = os.path.join(results_dir, f\"{name}_mosaic.tif.temp\") \n",
    "    # print(out_fp)\n",
    "    os.makedirs(os.path.dirname(out_fp), exist_ok=True)\n",
    "    \n",
    "    with rasterio.open(out_fp, \"w\", **out_meta) as dest:\n",
    "        if name:\n",
    "            dest.update_tags(name=name)\n",
    "        if start_date:\n",
    "            dest.update_tags(start_date=start_date)\n",
    "        if end_date:\n",
    "            dest.update_tags(end_date=end_date)\n",
    "        dest.write(mosaic)\n",
    "        \n",
    "    os.rename(out_fp, out_fp[:-5])"
   ]
  },
  {
   "cell_type": "markdown",
   "metadata": {},
   "source": [
    "### Prepair Planet images for AOI"
   ]
  },
  {
   "cell_type": "code",
   "execution_count": 25,
   "metadata": {},
   "outputs": [
    {
     "name": "stdout",
     "output_type": "stream",
     "text": [
      "Сreated temporary directory for calculations: /home/jovyan/work/notebooks/example/planet_vs_sentinel/tmp9vkllwaw\n",
      "Calculations finished\n"
     ]
    }
   ],
   "source": [
    "with tempfile.TemporaryDirectory(dir=WORKDIR) as tmpdirname:\n",
    "    print('Сreated temporary directory for calculations:', tmpdirname)\n",
    "    \n",
    "    files_to_mosaic = list()\n",
    "    \n",
    "    aoi_name = Path(aoi_path).stem\n",
    "    for row in planet_tiles.itertuples():\n",
    "        \n",
    "        name = f\"{aoi_name}_{row.Name}\"\n",
    "        \n",
    "        input_path = os.path.join(IMGDIR, f\"Planet/PSScene4Band/{row.Name}_3B_AnalyticMS.tif\")\n",
    "        output_path = os.path.join(WORKDIR, f\"{name}_cropped.tif\")\n",
    "        \n",
    "        crop(input_path, output_path, row.geometry, name, row.date)\n",
    "        files_to_mosaic.append(output_path)\n",
    "    \n",
    "    # create_mosaic(files_to_mosaic, WORKDIR, \"planet\", planet_tiles.date.min(), planet_tiles.date.max())\n",
    "    \n",
    "    print(f\"Calculations finished\")"
   ]
  },
  {
   "cell_type": "markdown",
   "metadata": {},
   "source": [
    "### 2. Sentinel2 images"
   ]
  },
  {
   "cell_type": "code",
   "execution_count": 26,
   "metadata": {},
   "outputs": [],
   "source": [
    "sentinel_grid_path = os.path.join(BASE, \"grids/sentinel2grid.geojson\")"
   ]
  },
  {
   "cell_type": "code",
   "execution_count": 27,
   "metadata": {},
   "outputs": [
    {
     "data": {
      "text/html": [
       "<div>\n",
       "<style scoped>\n",
       "    .dataframe tbody tr th:only-of-type {\n",
       "        vertical-align: middle;\n",
       "    }\n",
       "\n",
       "    .dataframe tbody tr th {\n",
       "        vertical-align: top;\n",
       "    }\n",
       "\n",
       "    .dataframe thead th {\n",
       "        text-align: right;\n",
       "    }\n",
       "</style>\n",
       "<table border=\"1\" class=\"dataframe\">\n",
       "  <thead>\n",
       "    <tr style=\"text-align: right;\">\n",
       "      <th></th>\n",
       "      <th>Name</th>\n",
       "      <th>geometry</th>\n",
       "    </tr>\n",
       "  </thead>\n",
       "  <tbody>\n",
       "    <tr>\n",
       "      <th>0</th>\n",
       "      <td>01CCV</td>\n",
       "      <td>POLYGON Z ((180.000 -73.060 0.000, 176.865 -72...</td>\n",
       "    </tr>\n",
       "    <tr>\n",
       "      <th>1</th>\n",
       "      <td>01CCV</td>\n",
       "      <td>POLYGON Z ((-180.000 -72.073 0.000, -179.627 -...</td>\n",
       "    </tr>\n",
       "    <tr>\n",
       "      <th>2</th>\n",
       "      <td>01CDH</td>\n",
       "      <td>POLYGON Z ((180.000 -83.809 0.000, 174.713 -83...</td>\n",
       "    </tr>\n",
       "    <tr>\n",
       "      <th>3</th>\n",
       "      <td>01CDH</td>\n",
       "      <td>POLYGON Z ((-180.000 -82.826 0.000, -176.297 -...</td>\n",
       "    </tr>\n",
       "    <tr>\n",
       "      <th>4</th>\n",
       "      <td>01CDJ</td>\n",
       "      <td>POLYGON Z ((180.000 -82.913 0.000, 175.748 -82...</td>\n",
       "    </tr>\n",
       "  </tbody>\n",
       "</table>\n",
       "</div>"
      ],
      "text/plain": [
       "    Name                                           geometry\n",
       "0  01CCV  POLYGON Z ((180.000 -73.060 0.000, 176.865 -72...\n",
       "1  01CCV  POLYGON Z ((-180.000 -72.073 0.000, -179.627 -...\n",
       "2  01CDH  POLYGON Z ((180.000 -83.809 0.000, 174.713 -83...\n",
       "3  01CDH  POLYGON Z ((-180.000 -82.826 0.000, -176.297 -...\n",
       "4  01CDJ  POLYGON Z ((180.000 -82.913 0.000, 175.748 -82..."
      ]
     },
     "execution_count": 27,
     "metadata": {},
     "output_type": "execute_result"
    }
   ],
   "source": [
    "sentinel_grid = gpd.read_file(sentinel_grid_path)\n",
    "sentinel_grid.head()"
   ]
  },
  {
   "cell_type": "code",
   "execution_count": 28,
   "metadata": {},
   "outputs": [
    {
     "data": {
      "text/html": [
       "<div>\n",
       "<style scoped>\n",
       "    .dataframe tbody tr th:only-of-type {\n",
       "        vertical-align: middle;\n",
       "    }\n",
       "\n",
       "    .dataframe tbody tr th {\n",
       "        vertical-align: top;\n",
       "    }\n",
       "\n",
       "    .dataframe thead th {\n",
       "        text-align: right;\n",
       "    }\n",
       "</style>\n",
       "<table border=\"1\" class=\"dataframe\">\n",
       "  <thead>\n",
       "    <tr style=\"text-align: right;\">\n",
       "      <th></th>\n",
       "      <th>Name</th>\n",
       "      <th>geometry</th>\n",
       "    </tr>\n",
       "  </thead>\n",
       "  <tbody>\n",
       "    <tr>\n",
       "      <th>0</th>\n",
       "      <td>36UXA</td>\n",
       "      <td>POLYGON Z ((662704.134 5558867.810 0.000, 6659...</td>\n",
       "    </tr>\n",
       "  </tbody>\n",
       "</table>\n",
       "</div>"
      ],
      "text/plain": [
       "    Name                                           geometry\n",
       "0  36UXA  POLYGON Z ((662704.134 5558867.810 0.000, 6659..."
      ]
     },
     "execution_count": 28,
     "metadata": {},
     "output_type": "execute_result"
    }
   ],
   "source": [
    "sentinel_tiles = overlap(aoi, sentinel_grid)\n",
    "sentinel_tiles "
   ]
  },
  {
   "cell_type": "code",
   "execution_count": 29,
   "metadata": {},
   "outputs": [],
   "source": [
    "def shift_dates(start_date, end_date, delta=2, format='%Y-%m-%d'):\n",
    "    start = datetime.strptime(start_date, format)\n",
    "    end = datetime.strptime(end_date, format)\n",
    "    \n",
    "    start = start - timedelta(days=delta)\n",
    "    end = end + timedelta(days=delta)\n",
    "    \n",
    "    return datetime.strftime(start, format), datetime.strftime(end, format)"
   ]
  },
  {
   "cell_type": "code",
   "execution_count": 30,
   "metadata": {},
   "outputs": [
    {
     "data": {
      "text/plain": [
       "('2019-08-24', '2019-08-28')"
      ]
     },
     "execution_count": 30,
     "metadata": {},
     "output_type": "execute_result"
    }
   ],
   "source": [
    "start, end = shift_dates(planet_tiles.date.min(), planet_tiles.date.max()) \n",
    "start, end"
   ]
  },
  {
   "cell_type": "markdown",
   "metadata": {},
   "source": [
    "#### Load Sentinel2 images"
   ]
  },
  {
   "cell_type": "code",
   "execution_count": 31,
   "metadata": {},
   "outputs": [],
   "source": [
    "API_KEY = os.path.join(BASE, \".secret/sentinel2_google_api_key.json\")\n",
    "LOAD_DIR = os.path.join(BASE, \"satellite_imagery\")\n",
    "\n",
    "\n",
    "BANDS = {'TCI', }\n",
    "CONSTRAINTS = {'NODATA_PIXEL_PERCENTAGE': 10.0, 'CLOUDY_PIXEL_PERCENTAGE': 5.0, }\n",
    "PRODUCT_TYPE = 'L2A'"
   ]
  },
  {
   "cell_type": "code",
   "execution_count": 32,
   "metadata": {},
   "outputs": [],
   "source": [
    "def load_images(api_key, tiles, start_date, end_date, output_dir, product_type=\"L2A\"):\n",
    "    loader = Sentinel2Downloader(api_key)\n",
    "    loadings = dict()\n",
    "    for tile in tiles:\n",
    "        print(f\"Loading images for tile: {tile}...\")\n",
    "        loaded = loader.download(product_type,\n",
    "                                 [tile],\n",
    "                                 start_date=start_date,\n",
    "                                 end_date=end_date,\n",
    "                                 output_dir=output_dir,                       \n",
    "                                 bands=BANDS,\n",
    "                                constraints=CONSTRAINTS)\n",
    "        \n",
    "        print(f\"Loading images for tile {tile} finished\")\n",
    "        loadings[tile] = loaded\n",
    "    \n",
    "    # tile_folders = dict()\n",
    "    # for tile, tile_paths in loadings.items():\n",
    "    #    tile_folders[tile] = {str(Path(tile_path[0]).parent) for tile_path in tile_paths}\n",
    "    return loadings"
   ]
  },
  {
   "cell_type": "code",
   "execution_count": 33,
   "metadata": {},
   "outputs": [
    {
     "name": "stdout",
     "output_type": "stream",
     "text": [
      "Loading images for tile: 36UXA...\n",
      "Loading images for tile 36UXA finished\n"
     ]
    }
   ],
   "source": [
    "loadings = load_images(API_KEY, sentinel_tiles.Name.values, start, end, LOAD_DIR, PRODUCT_TYPE)"
   ]
  },
  {
   "cell_type": "code",
   "execution_count": 34,
   "metadata": {},
   "outputs": [
    {
     "data": {
      "text/plain": [
       "{'36UXA': [('/home/jovyan/work/satellite_imagery/S2A_MSIL2A_20190825T083601_N0213_R064_T36UXA_20190825T112543/T36UXA_20190825T083601_TCI_10m.jp2',\n",
       "   'L2/tiles/36/U/XA/S2A_MSIL2A_20190825T083601_N0213_R064_T36UXA_20190825T112543.SAFE/GRANULE/L2A_T36UXA_A021797_20190825T083616/IMG_DATA/R10m/T36UXA_20190825T083601_TCI_10m.jp2'),\n",
       "  ('/home/jovyan/work/satellite_imagery/S2A_MSIL2A_20190825T083601_N0213_R064_T36UXA_20190825T112543/MTD_TL.xml',\n",
       "   'L2/tiles/36/U/XA/S2A_MSIL2A_20190825T083601_N0213_R064_T36UXA_20190825T112543.SAFE/GRANULE/L2A_T36UXA_A021797_20190825T083616/MTD_TL.xml'),\n",
       "  ('/home/jovyan/work/satellite_imagery/S2A_MSIL2A_20190828T084601_N0213_R107_T36UXA_20190828T131555/T36UXA_20190828T084601_TCI_10m.jp2',\n",
       "   'L2/tiles/36/U/XA/S2A_MSIL2A_20190828T084601_N0213_R107_T36UXA_20190828T131555.SAFE/GRANULE/L2A_T36UXA_A021840_20190828T084904/IMG_DATA/R10m/T36UXA_20190828T084601_TCI_10m.jp2'),\n",
       "  ('/home/jovyan/work/satellite_imagery/S2A_MSIL2A_20190828T084601_N0213_R107_T36UXA_20190828T131555/MTD_TL.xml',\n",
       "   'L2/tiles/36/U/XA/S2A_MSIL2A_20190828T084601_N0213_R107_T36UXA_20190828T131555.SAFE/GRANULE/L2A_T36UXA_A021840_20190828T084904/MTD_TL.xml')]}"
      ]
     },
     "execution_count": 34,
     "metadata": {},
     "output_type": "execute_result"
    }
   ],
   "source": [
    "loadings"
   ]
  },
  {
   "cell_type": "code",
   "execution_count": 35,
   "metadata": {},
   "outputs": [],
   "source": [
    "def filter_date(loadings):\n",
    "    def _find_last_date(folders):        \n",
    "        dates = list()\n",
    "        for folder in folders:        \n",
    "            search = re.search(r\"_(\\d+)T\\d+_\", str(folder))\n",
    "            date = search.group(1)\n",
    "            date = datetime.strptime(date, '%Y%m%d')\n",
    "            dates.append(date)    \n",
    "        last_date = max(dates)\n",
    "        last_date = datetime.strftime(last_date, '%Y%m%d')\n",
    "        return last_date\n",
    "    \n",
    "    filtered = dict()\n",
    "    for tile, items in loadings.items():\n",
    "        try:\n",
    "            last_date = _find_last_date(items)\n",
    "            for file, _ in items:\n",
    "                if \"TCI_10m.jp2\" in file and last_date in file:\n",
    "                    filtered[tile] = file\n",
    "        except Exception as ex:\n",
    "            print(f\"Error for {tile}: {str(ex)}\")\n",
    "    return filtered"
   ]
  },
  {
   "cell_type": "code",
   "execution_count": 36,
   "metadata": {},
   "outputs": [
    {
     "data": {
      "text/plain": [
       "{'36UXA': '/home/jovyan/work/satellite_imagery/S2A_MSIL2A_20190828T084601_N0213_R107_T36UXA_20190828T131555/T36UXA_20190828T084601_TCI_10m.jp2'}"
      ]
     },
     "execution_count": 36,
     "metadata": {},
     "output_type": "execute_result"
    }
   ],
   "source": [
    "filtered = filter_date(loadings)\n",
    "filtered"
   ]
  },
  {
   "cell_type": "code",
   "execution_count": 37,
   "metadata": {},
   "outputs": [],
   "source": [
    "if not filtered:\n",
    "    raise ValueError(\"Images not loaded. Change dates or constraints\")"
   ]
  },
  {
   "cell_type": "markdown",
   "metadata": {},
   "source": [
    "### Prepair Sentinel2 images for AOI"
   ]
  },
  {
   "cell_type": "code",
   "execution_count": 38,
   "metadata": {},
   "outputs": [
    {
     "name": "stdout",
     "output_type": "stream",
     "text": [
      "Сreated temporary directory for calculations: /home/jovyan/work/notebooks/example/planet_vs_sentinel/tmpz4qilpq5\n",
      "Calculations finished\n"
     ]
    }
   ],
   "source": [
    "with tempfile.TemporaryDirectory(dir=WORKDIR) as tmpdirname:        \n",
    "    print(f\"Сreated temporary directory for calculations: {tmpdirname}\")    \n",
    "    files_to_mosaic = list()\n",
    "    \n",
    "    aoi_name = Path(aoi_path).stem\n",
    "    for row in sentinel_tiles.itertuples():\n",
    "        \n",
    "        name = f\"{aoi_name}_{row.Name}\"\n",
    "        \n",
    "        input_path = filtered[row.Name]        \n",
    "        output_path = os.path.join(WORKDIR, f\"{name}_cropped.tif\")\n",
    "        \n",
    "        crop(input_path, output_path, row.geometry)\n",
    "        files_to_mosaic.append(output_path)\n",
    "    \n",
    "    create_mosaic(files_to_mosaic, WORKDIR, name)\n",
    "    print(f\"Calculations finished\")"
   ]
  },
  {
   "cell_type": "code",
   "execution_count": null,
   "metadata": {},
   "outputs": [],
   "source": []
  },
  {
   "cell_type": "code",
   "execution_count": null,
   "metadata": {},
   "outputs": [],
   "source": []
  },
  {
   "cell_type": "code",
   "execution_count": null,
   "metadata": {},
   "outputs": [],
   "source": []
  },
  {
   "cell_type": "markdown",
   "metadata": {},
   "source": [
    "#### Select clearcuts from original file provided by V. Kharmtsov"
   ]
  },
  {
   "cell_type": "code",
   "execution_count": 150,
   "metadata": {},
   "outputs": [],
   "source": [
    "aoi_name = Path(aoi_path).stem\n",
    "clearcuts = gpd.read_file(\"original_clearcuts.geojson\")"
   ]
  },
  {
   "cell_type": "code",
   "execution_count": 151,
   "metadata": {},
   "outputs": [
    {
     "data": {
      "text/html": [
       "<div>\n",
       "<style scoped>\n",
       "    .dataframe tbody tr th:only-of-type {\n",
       "        vertical-align: middle;\n",
       "    }\n",
       "\n",
       "    .dataframe tbody tr th {\n",
       "        vertical-align: top;\n",
       "    }\n",
       "\n",
       "    .dataframe thead th {\n",
       "        text-align: right;\n",
       "    }\n",
       "</style>\n",
       "<table border=\"1\" class=\"dataframe\">\n",
       "  <thead>\n",
       "    <tr style=\"text-align: right;\">\n",
       "      <th></th>\n",
       "      <th>img_date</th>\n",
       "      <th>tileID</th>\n",
       "      <th>geometry</th>\n",
       "    </tr>\n",
       "  </thead>\n",
       "  <tbody>\n",
       "    <tr>\n",
       "      <th>210</th>\n",
       "      <td>2019-05-15</td>\n",
       "      <td>20190515_065304_0f2d</td>\n",
       "      <td>POLYGON ((35.10101 50.13608, 35.10149 50.13608...</td>\n",
       "    </tr>\n",
       "    <tr>\n",
       "      <th>211</th>\n",
       "      <td>2019-05-15</td>\n",
       "      <td>20190515_065304_0f2d</td>\n",
       "      <td>POLYGON ((35.10310 50.13460, 35.10333 50.13446...</td>\n",
       "    </tr>\n",
       "  </tbody>\n",
       "</table>\n",
       "</div>"
      ],
      "text/plain": [
       "       img_date                tileID  \\\n",
       "210  2019-05-15  20190515_065304_0f2d   \n",
       "211  2019-05-15  20190515_065304_0f2d   \n",
       "\n",
       "                                              geometry  \n",
       "210  POLYGON ((35.10101 50.13608, 35.10149 50.13608...  \n",
       "211  POLYGON ((35.10310 50.13460, 35.10333 50.13446...  "
      ]
     },
     "execution_count": 151,
     "metadata": {},
     "output_type": "execute_result"
    }
   ],
   "source": [
    "clearcuts.tail(2)"
   ]
  },
  {
   "cell_type": "code",
   "execution_count": 152,
   "metadata": {},
   "outputs": [
    {
     "data": {
      "text/html": [
       "<div>\n",
       "<style scoped>\n",
       "    .dataframe tbody tr th:only-of-type {\n",
       "        vertical-align: middle;\n",
       "    }\n",
       "\n",
       "    .dataframe tbody tr th {\n",
       "        vertical-align: top;\n",
       "    }\n",
       "\n",
       "    .dataframe thead th {\n",
       "        text-align: right;\n",
       "    }\n",
       "</style>\n",
       "<table border=\"1\" class=\"dataframe\">\n",
       "  <thead>\n",
       "    <tr style=\"text-align: right;\">\n",
       "      <th></th>\n",
       "      <th>id</th>\n",
       "      <th>geometry</th>\n",
       "    </tr>\n",
       "  </thead>\n",
       "  <tbody>\n",
       "    <tr>\n",
       "      <th>0</th>\n",
       "      <td>1</td>\n",
       "      <td>MULTIPOLYGON (((35.27794 50.15967, 35.22820 50...</td>\n",
       "    </tr>\n",
       "  </tbody>\n",
       "</table>\n",
       "</div>"
      ],
      "text/plain": [
       "   id                                           geometry\n",
       "0   1  MULTIPOLYGON (((35.27794 50.15967, 35.22820 50..."
      ]
     },
     "execution_count": 152,
     "metadata": {},
     "output_type": "execute_result"
    }
   ],
   "source": [
    "aoi"
   ]
  },
  {
   "cell_type": "code",
   "execution_count": 153,
   "metadata": {},
   "outputs": [
    {
     "data": {
      "text/html": [
       "<div>\n",
       "<style scoped>\n",
       "    .dataframe tbody tr th:only-of-type {\n",
       "        vertical-align: middle;\n",
       "    }\n",
       "\n",
       "    .dataframe tbody tr th {\n",
       "        vertical-align: top;\n",
       "    }\n",
       "\n",
       "    .dataframe thead th {\n",
       "        text-align: right;\n",
       "    }\n",
       "</style>\n",
       "<table border=\"1\" class=\"dataframe\">\n",
       "  <thead>\n",
       "    <tr style=\"text-align: right;\">\n",
       "      <th></th>\n",
       "      <th>img_date</th>\n",
       "      <th>tileID</th>\n",
       "      <th>geometry</th>\n",
       "    </tr>\n",
       "  </thead>\n",
       "  <tbody>\n",
       "    <tr>\n",
       "      <th>189</th>\n",
       "      <td>2019-08-25</td>\n",
       "      <td>20190825_083010_43_105d</td>\n",
       "      <td>POLYGON ((35.33780 50.10290, 35.33770 50.10298...</td>\n",
       "    </tr>\n",
       "    <tr>\n",
       "      <th>190</th>\n",
       "      <td>2019-08-30</td>\n",
       "      <td>20190830_081707_1021</td>\n",
       "      <td>POLYGON ((35.41443 50.12672, 35.41444 50.12662...</td>\n",
       "    </tr>\n",
       "  </tbody>\n",
       "</table>\n",
       "</div>"
      ],
      "text/plain": [
       "       img_date                   tileID  \\\n",
       "189  2019-08-25  20190825_083010_43_105d   \n",
       "190  2019-08-30     20190830_081707_1021   \n",
       "\n",
       "                                              geometry  \n",
       "189  POLYGON ((35.33780 50.10290, 35.33770 50.10298...  \n",
       "190  POLYGON ((35.41443 50.12672, 35.41444 50.12662...  "
      ]
     },
     "execution_count": 153,
     "metadata": {},
     "output_type": "execute_result"
    }
   ],
   "source": [
    "clearcuts = clearcuts.loc[(clearcuts.img_date >= start_date) & \n",
    "                          (clearcuts.img_date <= end_date)]\n",
    "clearcuts.tail(2)"
   ]
  },
  {
   "cell_type": "code",
   "execution_count": 154,
   "metadata": {},
   "outputs": [
    {
     "data": {
      "text/html": [
       "<div>\n",
       "<style scoped>\n",
       "    .dataframe tbody tr th:only-of-type {\n",
       "        vertical-align: middle;\n",
       "    }\n",
       "\n",
       "    .dataframe tbody tr th {\n",
       "        vertical-align: top;\n",
       "    }\n",
       "\n",
       "    .dataframe thead th {\n",
       "        text-align: right;\n",
       "    }\n",
       "</style>\n",
       "<table border=\"1\" class=\"dataframe\">\n",
       "  <thead>\n",
       "    <tr style=\"text-align: right;\">\n",
       "      <th></th>\n",
       "      <th>tileID</th>\n",
       "      <th>img_date</th>\n",
       "      <th>id</th>\n",
       "      <th>geometry</th>\n",
       "    </tr>\n",
       "  </thead>\n",
       "  <tbody>\n",
       "  </tbody>\n",
       "</table>\n",
       "</div>"
      ],
      "text/plain": [
       "Empty GeoDataFrame\n",
       "Columns: [tileID, img_date, id, geometry]\n",
       "Index: []"
      ]
     },
     "execution_count": 154,
     "metadata": {},
     "output_type": "execute_result"
    }
   ],
   "source": [
    "aoi_clearcuts = gpd.overlay(clearcuts, aoi, how=\"intersection\") \n",
    "aoi_clearcuts.tail(2)"
   ]
  },
  {
   "cell_type": "code",
   "execution_count": 157,
   "metadata": {},
   "outputs": [],
   "source": [
    "if not aoi_clearcuts.empty:\n",
    "    aoi_clearcuts.to_file(os.path.join(WORKDIR, f\"{aoi_name}_clearcuts.geojson\"), driver='GeoJSON')"
   ]
  },
  {
   "cell_type": "code",
   "execution_count": null,
   "metadata": {},
   "outputs": [],
   "source": []
  }
 ],
 "metadata": {
  "kernelspec": {
   "display_name": "python37",
   "language": "python",
   "name": "python37"
  },
  "language_info": {
   "codemirror_mode": {
    "name": "ipython",
    "version": 3
   },
   "file_extension": ".py",
   "mimetype": "text/x-python",
   "name": "python",
   "nbconvert_exporter": "python",
   "pygments_lexer": "ipython3",
   "version": "3.7.9"
  }
 },
 "nbformat": 4,
 "nbformat_minor": 4
}
