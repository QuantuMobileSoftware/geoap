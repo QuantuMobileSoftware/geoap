{
 "cells": [
  {
   "cell_type": "markdown",
   "metadata": {},
   "source": [
    "### For given aoi, prepare sentinel image with NDVI"
   ]
  },
  {
   "cell_type": "code",
   "execution_count": 1,
   "metadata": {},
   "outputs": [],
   "source": [
    "import os\n",
    "import geopandas as gp\n",
    "import numpy as np\n",
    "import rasterio\n",
    "import re\n",
    "import tempfile\n",
    "import pyproj\n",
    "import uuid\n",
    "import math\n",
    "\n",
    "from rasterio.windows import Window\n",
    "from rasterio import Affine\n",
    "from shapely.geometry import Polygon, box\n",
    "from shapely.ops import transform\n",
    "from pathlib import Path\n",
    "from datetime import datetime, timedelta\n",
    "from sentinel2download.downloader import Sentinel2Downloader\n",
    "from sentinel2download.overlap import Sentinel2Overlap"
   ]
  },
  {
   "cell_type": "code",
   "execution_count": 90,
   "metadata": {},
   "outputs": [],
   "source": [
    "def crop(input_path, output_path, polygon, name, date):\n",
    "    with rasterio.open(input_path) as src:\n",
    "        out_image, out_transform = rasterio.mask.mask(src, [polygon], crop=True)\n",
    "        print(out_transform)\n",
    "        out_meta = src.meta\n",
    "        \n",
    "        out_meta.update({\"driver\": \"GTiff\",\n",
    "                 \"height\": out_image.shape[1],\n",
    "                 \"width\": out_image.shape[2],\n",
    "                 \"transform\": out_transform})\n",
    "\n",
    "    with rasterio.open(output_path, \"w\", **out_meta) as dest:\n",
    "        dest.update_tags(name=name, start_date=date, end_date=date)\n",
    "        dest.write(out_image)"
   ]
  },
  {
   "cell_type": "code",
   "execution_count": 3,
   "metadata": {},
   "outputs": [],
   "source": [
    "def convert(input_path, output_path, driver='GTiff'):\n",
    "    with rasterio.open(input_path) as src:\n",
    "        raster = src.read()\n",
    "        crs = str(src.crs)\n",
    "        \n",
    "        print(\"CONVERTED CRS\")\n",
    "        print(crs)\n",
    "                \n",
    "        kwargs = src.meta.copy()\n",
    "        kwargs.update({'driver': driver})\n",
    "        \n",
    "        \n",
    "        with rasterio.open(output_path, 'w', **kwargs) as dst:\n",
    "            dst.write(raster)\n",
    "        return crs"
   ]
  },
  {
   "cell_type": "code",
   "execution_count": 25,
   "metadata": {},
   "outputs": [],
   "source": [
    "def to_crs(poly, target, current='EPSG:4326'):\n",
    "    print(f\"TARGET CRS: {target}\")\n",
    "    project = pyproj.Transformer.from_crs(pyproj.CRS(current), pyproj.CRS(target), always_xy=True).transform\n",
    "    transformed_poly = transform(project, poly)\n",
    "    return transformed_poly "
   ]
  },
  {
   "cell_type": "code",
   "execution_count": 5,
   "metadata": {},
   "outputs": [],
   "source": [
    "def generate_dates(delta=20, format='%Y-%m-%d'):\n",
    "    now = datetime.now()\n",
    "    end_date = datetime(now.year, now.month, now.day)\n",
    "\n",
    "    while True:\n",
    "        start_date = end_date - timedelta(days=delta)\n",
    "        yield datetime.strftime(start_date, format), datetime.strftime(end_date, format)\n",
    "        end_date = start_date"
   ]
  },
  {
   "cell_type": "code",
   "execution_count": 6,
   "metadata": {},
   "outputs": [],
   "source": [
    "def load_images(aoi_path, api_key, output_dir):\n",
    "    \n",
    "    overlap = Sentinel2Overlap(aoi_path)\n",
    "    tiles = overlap.overlap()\n",
    "    print(f\"Overlap tiles: {tiles}\")\n",
    "    \n",
    "    loader = Sentinel2Downloader(api_key)\n",
    "    loadings = dict()\n",
    "    for tile in tiles:\n",
    "        print(f\"Loading images for tile: {tile}...\")\n",
    "        for start_date, end_date in generate_dates():\n",
    "            print(f\"Dates from {start_date} to {end_date}\")\n",
    "            loaded = loader.download('L2A',\n",
    "                                     [tile],\n",
    "                                     start_date=start_date,\n",
    "                                     end_date=end_date,\n",
    "                                     output_dir=output_dir,                       \n",
    "                                     bands=BANDS,\n",
    "                                     constraints=CONSTRAINTS)\n",
    "\n",
    "            if loaded:\n",
    "                print(f\"Loading images for tile {tile} finished\")\n",
    "                loadings[tile] = loaded\n",
    "                break\n",
    "            else:\n",
    "                print(\"No matching images\")\n",
    "    return loadings"
   ]
  },
  {
   "cell_type": "code",
   "execution_count": 7,
   "metadata": {},
   "outputs": [],
   "source": [
    "def last_image_paths(loaded):\n",
    "    date_pattern = r\"_(\\d+)T\\d+_\"\n",
    "    dates = list()\n",
    "    for path, _ in loaded:\n",
    "        if path.endswith('.jp2'):\n",
    "            search = re.search(date_pattern, path)\n",
    "            date = search.group(1)\n",
    "            date = datetime.strptime(date, '%Y%m%d')\n",
    "            dates.append(date)\n",
    "    \n",
    "    last_date = max(dates)\n",
    "    last_date = datetime.strftime(date, '%Y%m%d')\n",
    "    paths = list()\n",
    "    for path, _ in loaded:\n",
    "        if path.endswith('.jp2') and last_date in path:\n",
    "            paths.append(path)\n",
    "    return paths, last_date"
   ]
  },
  {
   "cell_type": "code",
   "execution_count": 8,
   "metadata": {},
   "outputs": [],
   "source": [
    "def filter_loadings(loadings):\n",
    "    filtered = dict()\n",
    "    for tile, image_paths in loadings.items():        \n",
    "        paths, date = last_image_paths(image_paths)\n",
    "        bands_paths = dict()\n",
    "        for path in paths:\n",
    "            if 'B04' in path:\n",
    "                bands_paths['RED'] = path\n",
    "            if 'B08' in path:\n",
    "                bands_paths['NIR'] = path\n",
    "            if 'TCI' in path:\n",
    "                bands_paths['TCI'] = path\n",
    "        filtered[tile] = dict(paths=bands_paths, date=date)\n",
    "    return filtered"
   ]
  },
  {
   "cell_type": "code",
   "execution_count": 9,
   "metadata": {},
   "outputs": [],
   "source": [
    "def NDVI(nir_path, red_path, save_path):\n",
    "    print(\"Calculating NDVI...\")\n",
    "    # Allow division by zero\n",
    "    np.seterr(divide='ignore', invalid='ignore')\n",
    "    \n",
    "    with rasterio.open(nir_path) as src:\n",
    "        nir = src.read(1).astype(rasterio.float32)\n",
    "        crs = str(src.crs)\n",
    "    with rasterio.open(red_path) as src:\n",
    "        red = src.read(1).astype(rasterio.float32)\n",
    "\n",
    "    # Calculate NDVI\n",
    "    ndvi = ((nir - red) / (nir + red)) \n",
    "    \n",
    "    \n",
    "    # mask nan values\n",
    "    nan_mask = np.isnan(ndvi)\n",
    "    ndvi[nan_mask] = -10000\n",
    "    \n",
    "    # global ndvi_ \n",
    "    # ndvi_ = ndvi.copy()\n",
    "    # print(\"ndvi_\")\n",
    "    # print(ndvi_)\n",
    "    \n",
    "    \n",
    "    # Set spatial characteristics of the output object\n",
    "    kwargs = src.meta.copy()    \n",
    "    kwargs.update(\n",
    "        dtype=rasterio.float32,\n",
    "        driver='GTiff',\n",
    "        nodata=-10000,\n",
    "        count = 1)\n",
    "    \n",
    "    # print(f\"Metadata of NDVI: {kwargs}\")\n",
    "\n",
    "    # Create the file\n",
    "    with rasterio.open(save_path, 'w', **kwargs) as dst:\n",
    "         dst.write(ndvi.astype(rasterio.float32), 1)\n",
    "    print(\"NDVI calculation finished\")\n",
    "    return crs"
   ]
  },
  {
   "cell_type": "code",
   "execution_count": 10,
   "metadata": {},
   "outputs": [],
   "source": [
    "def get_path(path, layer, base, name, suffix=None):\n",
    "    if layer == 'NDVI':\n",
    "        stem = Path(path).stem\n",
    "        stem = re.sub(r\"_B\\d{2}\", '_NDVI', stem)\n",
    "    else:\n",
    "        stem = Path(path).stem\n",
    "    path = os.path.join(base, f\"{name}_{stem}.tif\")\n",
    "    if suffix:\n",
    "         path += suffix\n",
    "    os.makedirs(os.path.dirname(path), exist_ok=True)\n",
    "    return path"
   ]
  },
  {
   "cell_type": "code",
   "execution_count": 88,
   "metadata": {},
   "outputs": [],
   "source": [
    "def calculate(temp_dir, bbox, name, properties):\n",
    "    \"\"\"\n",
    "    Preparing true color Sentinel2 and NDVI images for given AOI\n",
    "    \"\"\"\n",
    "    print(\"Calculating TCI and NDVI for given AOI...\")\n",
    "    \n",
    "    layers = ['TCI', ]\n",
    "    image_paths = properties['paths']\n",
    "    date = properties['date']\n",
    "    \n",
    "    for layer in layers:\n",
    "        print(f\"\\nCalculating {layer}:\\n\")\n",
    "        \n",
    "        if layer == 'TCI':       \n",
    "            # convert .jp2 image to .tif\n",
    "            path = image_paths['TCI']\n",
    "            temp_path = get_path(path, layer, temp_dir, name)    \n",
    "            print(f\"Save {layer} image path: {temp_path}\")\n",
    "            \n",
    "            target_crs = convert(path , temp_path) \n",
    "            \n",
    "        if layer == 'NDVI':\n",
    "            path = image_paths['RED']\n",
    "            temp_path = get_path(path, layer, temp_dir, name)    \n",
    "            print(f\"Save {layer} image path: {temp_path}\")\n",
    "            \n",
    "            # calculate NDVI\n",
    "            target_crs = NDVI(image_paths['NIR'], image_paths['RED'], temp_path)\n",
    "    \n",
    "        temp_output_path = get_path(path, layer, RESULTS_DIR, name, suffix=\".temp\")\n",
    "        print(f\"Temporary {layer} output path: {temp_output_path}\")\n",
    "    \n",
    "        print(\"TARGET CRS\")\n",
    "        print(target_crs)\n",
    "        bound_box = to_crs(bbox, target_crs)   \n",
    "        \n",
    "        print(\"BOUND BOX\")\n",
    "        print(bound_box)\n",
    "        \n",
    "        # crop .tif image by aoi\n",
    "        crop(temp_path, temp_output_path, bound_box, name, date)    \n",
    "    \n",
    "        print(f\"Temp file: {temp_output_path}\")\n",
    "        output_path = temp_output_path[:-5]\n",
    "        print(f\"Rename temp file: {temp_output_path} to {output_path}\")\n",
    "        os.rename(temp_output_path, output_path)\n",
    "        \n",
    "    print(\"Calculations finished\")"
   ]
  },
  {
   "cell_type": "markdown",
   "metadata": {},
   "source": [
    "### Execution part"
   ]
  },
  {
   "cell_type": "code",
   "execution_count": 81,
   "metadata": {},
   "outputs": [
    {
     "name": "stdout",
     "output_type": "stream",
     "text": [
      "jovyan\n"
     ]
    }
   ],
   "source": [
    "NB_USER = os.getenv('NB_USER')\n",
    "print(NB_USER)"
   ]
  },
  {
   "cell_type": "code",
   "execution_count": 82,
   "metadata": {},
   "outputs": [],
   "source": [
    "BASE = f\"/home/{NB_USER}/work\"\n",
    "\n",
    "API_KEY = os.path.join(BASE, \".secret/sentinel2_google_api_key.json\")\n",
    "LOAD_DIR = os.path.join(BASE, \"satellite_imagery\")\n",
    "SIP_DIR = os.path.join(BASE, \"notebooks/sip\")\n",
    "RESULTS_DIR = os.path.join(BASE, \"res/sip\")\n",
    "\n",
    "\n",
    "BANDS = {'TCI', 'B04', 'B08', }\n",
    "CONSTRAINTS = {'NODATA_PIXEL_PERCENTAGE': 10.0, 'CLOUDY_PIXEL_PERCENTAGE': 5.0, }"
   ]
  },
  {
   "cell_type": "code",
   "execution_count": 83,
   "metadata": {},
   "outputs": [
    {
     "data": {
      "text/plain": [
       "'/home/jovyan/work/notebooks/sip/Kharkiv.geojson'"
      ]
     },
     "execution_count": 83,
     "metadata": {},
     "output_type": "execute_result"
    }
   ],
   "source": [
    "aoi_path = os.path.join(BASE, \"notebooks/sip/Kharkiv.geojson\") # 'osnova_lake.geojson' # os.getenv('AOI')\n",
    "aoi_path"
   ]
  },
  {
   "cell_type": "code",
   "execution_count": 20,
   "metadata": {},
   "outputs": [
    {
     "data": {
      "image/svg+xml": [
       "<svg xmlns=\"http://www.w3.org/2000/svg\" xmlns:xlink=\"http://www.w3.org/1999/xlink\" width=\"100.0\" height=\"100.0\" viewBox=\"34.5161865234375 48.23246675882494 3.9333251953125057 2.4685369346322332\" preserveAspectRatio=\"xMinYMin meet\"><g transform=\"matrix(1,0,0,-1,0,98.93347045228211)\"><path fill-rule=\"evenodd\" fill=\"#66cc99\" stroke=\"#555555\" stroke-width=\"0.07866650390625012\" opacity=\"0.6\" d=\"M 38.3038330078125,48.378145469762444 L 38.3038330078125,50.55532498251967 L 34.661865234375,50.55532498251967 L 34.661865234375,48.378145469762444 L 38.3038330078125,48.378145469762444 z\" /></g></svg>"
      ],
      "text/plain": [
       "<shapely.geometry.polygon.Polygon at 0x7f01fab9b5d0>"
      ]
     },
     "execution_count": 20,
     "metadata": {},
     "output_type": "execute_result"
    }
   ],
   "source": [
    "bbox"
   ]
  },
  {
   "cell_type": "code",
   "execution_count": 17,
   "metadata": {},
   "outputs": [],
   "source": [
    "g = gp.GeoDataFrame(geometry=[bbox])"
   ]
  },
  {
   "cell_type": "code",
   "execution_count": 18,
   "metadata": {},
   "outputs": [
    {
     "data": {
      "text/html": [
       "<div>\n",
       "<style scoped>\n",
       "    .dataframe tbody tr th:only-of-type {\n",
       "        vertical-align: middle;\n",
       "    }\n",
       "\n",
       "    .dataframe tbody tr th {\n",
       "        vertical-align: top;\n",
       "    }\n",
       "\n",
       "    .dataframe thead th {\n",
       "        text-align: right;\n",
       "    }\n",
       "</style>\n",
       "<table border=\"1\" class=\"dataframe\">\n",
       "  <thead>\n",
       "    <tr style=\"text-align: right;\">\n",
       "      <th></th>\n",
       "      <th>geometry</th>\n",
       "    </tr>\n",
       "  </thead>\n",
       "  <tbody>\n",
       "    <tr>\n",
       "      <th>0</th>\n",
       "      <td>POLYGON ((38.30383 48.37815, 38.30383 50.55532...</td>\n",
       "    </tr>\n",
       "  </tbody>\n",
       "</table>\n",
       "</div>"
      ],
      "text/plain": [
       "                                            geometry\n",
       "0  POLYGON ((38.30383 48.37815, 38.30383 50.55532..."
      ]
     },
     "execution_count": 18,
     "metadata": {},
     "output_type": "execute_result"
    }
   ],
   "source": [
    "g"
   ]
  },
  {
   "cell_type": "code",
   "execution_count": 19,
   "metadata": {},
   "outputs": [],
   "source": [
    "import shapely.wkt\n",
    "\n",
    "P = shapely.wkt.loads('POLYGON ((892676.1099244957 5371935.829034151, 875610.3292751135 5613820.028189684, 617720.3438376935 5601695.805348845, 623057.0102474339 5359665.184315259, 892676.1099244957 5371935.829034151))')"
   ]
  },
  {
   "cell_type": "code",
   "execution_count": 82,
   "metadata": {},
   "outputs": [
    {
     "data": {
      "image/svg+xml": [
       "<svg xmlns=\"http://www.w3.org/2000/svg\" xmlns:xlink=\"http://www.w3.org/1999/xlink\" width=\"300\" height=\"300\" viewBox=\"606722.1131942214 5348666.953671787 296952.22737374634 276151.30516136903\" preserveAspectRatio=\"xMinYMin meet\"><g transform=\"matrix(1,0,0,-1,0,10973485.212504942)\"><path fill-rule=\"evenodd\" fill=\"#66cc99\" stroke=\"#555555\" stroke-width=\"1979.6815158249756\" opacity=\"0.6\" d=\"M 892676.1099244957,5371935.829034151 L 875610.3292751135,5613820.028189684 L 617720.3438376935,5601695.805348845 L 623057.0102474339,5359665.184315259 L 892676.1099244957,5371935.829034151 z\" /></g></svg>"
      ],
      "text/plain": [
       "<shapely.geometry.polygon.Polygon at 0x7fcb58bd2a90>"
      ]
     },
     "execution_count": 82,
     "metadata": {},
     "output_type": "execute_result"
    }
   ],
   "source": [
    "P"
   ]
  },
  {
   "cell_type": "code",
   "execution_count": 83,
   "metadata": {},
   "outputs": [],
   "source": [
    "g = gp.GeoDataFrame(geometry=[P])"
   ]
  },
  {
   "cell_type": "code",
   "execution_count": 85,
   "metadata": {},
   "outputs": [
    {
     "data": {
      "text/html": [
       "<div>\n",
       "<style scoped>\n",
       "    .dataframe tbody tr th:only-of-type {\n",
       "        vertical-align: middle;\n",
       "    }\n",
       "\n",
       "    .dataframe tbody tr th {\n",
       "        vertical-align: top;\n",
       "    }\n",
       "\n",
       "    .dataframe thead th {\n",
       "        text-align: right;\n",
       "    }\n",
       "</style>\n",
       "<table border=\"1\" class=\"dataframe\">\n",
       "  <thead>\n",
       "    <tr style=\"text-align: right;\">\n",
       "      <th></th>\n",
       "      <th>geometry</th>\n",
       "    </tr>\n",
       "  </thead>\n",
       "  <tbody>\n",
       "    <tr>\n",
       "      <th>0</th>\n",
       "      <td>POLYGON ((892676.110 5371935.829, 875610.329 5...</td>\n",
       "    </tr>\n",
       "  </tbody>\n",
       "</table>\n",
       "</div>"
      ],
      "text/plain": [
       "                                            geometry\n",
       "0  POLYGON ((892676.110 5371935.829, 875610.329 5..."
      ]
     },
     "execution_count": 85,
     "metadata": {},
     "output_type": "execute_result"
    }
   ],
   "source": [
    "g"
   ]
  },
  {
   "cell_type": "code",
   "execution_count": 84,
   "metadata": {},
   "outputs": [],
   "source": [
    "g.to_file(os.path.join(BASE, \"notebooks/sip/Kharkiv_bbox_proj.geojson\"), driver='GeoJSON')"
   ]
  },
  {
   "cell_type": "markdown",
   "metadata": {},
   "source": [
    "#### Get bound box"
   ]
  },
  {
   "cell_type": "code",
   "execution_count": 84,
   "metadata": {},
   "outputs": [],
   "source": [
    "aoi = gp.read_file(aoi_path)    \n",
    "bbox = box(*aoi.total_bounds)\n",
    "\n",
    "name = Path(aoi_path).stem"
   ]
  },
  {
   "cell_type": "markdown",
   "metadata": {},
   "source": [
    "#### Loading images"
   ]
  },
  {
   "cell_type": "code",
   "execution_count": 85,
   "metadata": {
    "collapsed": true,
    "jupyter": {
     "outputs_hidden": true
    }
   },
   "outputs": [
    {
     "name": "stdout",
     "output_type": "stream",
     "text": [
      "Overlap tiles: ['36UXA', '36UXU', '36UXV', '36UYA', '36UYB', '36UYU', '36UYV', '37UCQ', '37UCR', '37UDQ', '37UDR']\n",
      "Loading images for tile: 36UXA...\n",
      "Dates from 2020-11-11 to 2020-12-01\n",
      "No matching images\n",
      "Dates from 2020-10-22 to 2020-11-11\n",
      "Loading images for tile 36UXA finished\n",
      "Loading images for tile: 36UXU...\n",
      "Dates from 2020-11-11 to 2020-12-01\n",
      "No matching images\n",
      "Dates from 2020-10-22 to 2020-11-11\n",
      "Loading images for tile 36UXU finished\n",
      "Loading images for tile: 36UXV...\n",
      "Dates from 2020-11-11 to 2020-12-01\n",
      "No matching images\n",
      "Dates from 2020-10-22 to 2020-11-11\n",
      "Loading images for tile 36UXV finished\n",
      "Loading images for tile: 36UYA...\n",
      "Dates from 2020-11-11 to 2020-12-01\n",
      "No matching images\n",
      "Dates from 2020-10-22 to 2020-11-11\n",
      "No matching images\n",
      "Dates from 2020-10-02 to 2020-10-22\n",
      "No matching images\n",
      "Dates from 2020-09-12 to 2020-10-02\n",
      "Loading images for tile 36UYA finished\n",
      "Loading images for tile: 36UYB...\n",
      "Dates from 2020-11-11 to 2020-12-01\n",
      "No matching images\n",
      "Dates from 2020-10-22 to 2020-11-11\n",
      "Loading images for tile 36UYB finished\n",
      "Loading images for tile: 36UYU...\n",
      "Dates from 2020-11-11 to 2020-12-01\n",
      "No matching images\n",
      "Dates from 2020-10-22 to 2020-11-11\n",
      "No matching images\n",
      "Dates from 2020-10-02 to 2020-10-22\n",
      "Loading images for tile 36UYU finished\n",
      "Loading images for tile: 36UYV...\n",
      "Dates from 2020-11-11 to 2020-12-01\n",
      "No matching images\n",
      "Dates from 2020-10-22 to 2020-11-11\n",
      "No matching images\n",
      "Dates from 2020-10-02 to 2020-10-22\n",
      "Loading images for tile 36UYV finished\n",
      "Loading images for tile: 37UCQ...\n",
      "Dates from 2020-11-11 to 2020-12-01\n",
      "Loading images for tile 37UCQ finished\n",
      "Loading images for tile: 37UCR...\n",
      "Dates from 2020-11-11 to 2020-12-01\n",
      "No matching images\n",
      "Dates from 2020-10-22 to 2020-11-11\n",
      "No matching images\n",
      "Dates from 2020-10-02 to 2020-10-22\n",
      "Loading images for tile 37UCR finished\n",
      "Loading images for tile: 37UDQ...\n",
      "Dates from 2020-11-11 to 2020-12-01\n",
      "Loading images for tile 37UDQ finished\n",
      "Loading images for tile: 37UDR...\n",
      "Dates from 2020-11-11 to 2020-12-01\n",
      "Loading images for tile 37UDR finished\n"
     ]
    }
   ],
   "source": [
    "loadings = load_images(aoi_path, API_KEY, LOAD_DIR)\n",
    "filtered = filter_loadings(loadings)\n",
    "# filtered"
   ]
  },
  {
   "cell_type": "code",
   "execution_count": 86,
   "metadata": {
    "collapsed": true,
    "jupyter": {
     "outputs_hidden": true
    }
   },
   "outputs": [
    {
     "data": {
      "text/plain": [
       "{'36UXA': {'paths': {'RED': '/home/jovyan/work/satellite_imagery/S2A_MSIL2A_20201028T084051_N0214_R064_T36UXA_20201028T120558/T36UXA_20201028T084051_B04_10m.jp2',\n",
       "   'TCI': '/home/jovyan/work/satellite_imagery/S2A_MSIL2A_20201028T084051_N0214_R064_T36UXA_20201028T120558/T36UXA_20201028T084051_TCI_10m.jp2',\n",
       "   'NIR': '/home/jovyan/work/satellite_imagery/S2A_MSIL2A_20201028T084051_N0214_R064_T36UXA_20201028T120558/T36UXA_20201028T084051_B08_10m.jp2'},\n",
       "  'date': '20201028'},\n",
       " '36UXU': {'paths': {'TCI': '/home/jovyan/work/satellite_imagery/S2A_MSIL2A_20201028T084051_N0214_R064_T36UXU_20201028T120558/T36UXU_20201028T084051_TCI_10m.jp2',\n",
       "   'NIR': '/home/jovyan/work/satellite_imagery/S2A_MSIL2A_20201028T084051_N0214_R064_T36UXU_20201028T120558/T36UXU_20201028T084051_B08_10m.jp2',\n",
       "   'RED': '/home/jovyan/work/satellite_imagery/S2A_MSIL2A_20201028T084051_N0214_R064_T36UXU_20201028T120558/T36UXU_20201028T084051_B04_10m.jp2'},\n",
       "  'date': '20201028'},\n",
       " '36UXV': {'paths': {'TCI': '/home/jovyan/work/satellite_imagery/S2A_MSIL2A_20201028T084051_N0214_R064_T36UXV_20201028T120558/T36UXV_20201028T084051_TCI_10m.jp2',\n",
       "   'RED': '/home/jovyan/work/satellite_imagery/S2A_MSIL2A_20201028T084051_N0214_R064_T36UXV_20201028T120558/T36UXV_20201028T084051_B04_10m.jp2',\n",
       "   'NIR': '/home/jovyan/work/satellite_imagery/S2A_MSIL2A_20201028T084051_N0214_R064_T36UXV_20201028T120558/T36UXV_20201028T084051_B08_10m.jp2'},\n",
       "  'date': '20201028'},\n",
       " '36UYA': {'paths': {'TCI': '/home/jovyan/work/satellite_imagery/S2B_MSIL2A_20200913T083559_N0214_R064_T36UYA_20200913T105910/T36UYA_20200913T083559_TCI_10m.jp2',\n",
       "   'NIR': '/home/jovyan/work/satellite_imagery/S2B_MSIL2A_20200913T083559_N0214_R064_T36UYA_20200913T105910/T36UYA_20200913T083559_B08_10m.jp2',\n",
       "   'RED': '/home/jovyan/work/satellite_imagery/S2B_MSIL2A_20200913T083559_N0214_R064_T36UYA_20200913T105910/T36UYA_20200913T083559_B04_10m.jp2'},\n",
       "  'date': '20200913'},\n",
       " '36UYB': {'paths': {'TCI': '/home/jovyan/work/satellite_imagery/S2A_MSIL2A_20201028T084051_N0214_R064_T36UYB_20201028T120558/T36UYB_20201028T084051_TCI_10m.jp2',\n",
       "   'RED': '/home/jovyan/work/satellite_imagery/S2A_MSIL2A_20201028T084051_N0214_R064_T36UYB_20201028T120558/T36UYB_20201028T084051_B04_10m.jp2',\n",
       "   'NIR': '/home/jovyan/work/satellite_imagery/S2A_MSIL2A_20201028T084051_N0214_R064_T36UYB_20201028T120558/T36UYB_20201028T084051_B08_10m.jp2'},\n",
       "  'date': '20201028'},\n",
       " '36UYU': {'paths': {'NIR': '/home/jovyan/work/satellite_imagery/S2B_MSIL2A_20201013T083829_N0214_R064_T36UYU_20201013T110203/T36UYU_20201013T083829_B08_10m.jp2',\n",
       "   'RED': '/home/jovyan/work/satellite_imagery/S2B_MSIL2A_20201013T083829_N0214_R064_T36UYU_20201013T110203/T36UYU_20201013T083829_B04_10m.jp2',\n",
       "   'TCI': '/home/jovyan/work/satellite_imagery/S2B_MSIL2A_20201013T083829_N0214_R064_T36UYU_20201013T110203/T36UYU_20201013T083829_TCI_10m.jp2'},\n",
       "  'date': '20201013'},\n",
       " '36UYV': {'paths': {'TCI': '/home/jovyan/work/satellite_imagery/S2A_MSIL2A_20201018T083951_N0214_R064_T36UYV_20201018T115439/T36UYV_20201018T083951_TCI_10m.jp2',\n",
       "   'NIR': '/home/jovyan/work/satellite_imagery/S2A_MSIL2A_20201018T083951_N0214_R064_T36UYV_20201018T115439/T36UYV_20201018T083951_B08_10m.jp2',\n",
       "   'RED': '/home/jovyan/work/satellite_imagery/S2A_MSIL2A_20201018T083951_N0214_R064_T36UYV_20201018T115439/T36UYV_20201018T083951_B04_10m.jp2'},\n",
       "  'date': '20201018'},\n",
       " '37UCQ': {'paths': {'RED': '/home/jovyan/work/satellite_imagery/S2A_MSIL2A_20201114T083221_N0214_R021_T37UCQ_20201114T112303/T37UCQ_20201114T083221_B04_10m.jp2',\n",
       "   'TCI': '/home/jovyan/work/satellite_imagery/S2A_MSIL2A_20201114T083221_N0214_R021_T37UCQ_20201114T112303/T37UCQ_20201114T083221_TCI_10m.jp2',\n",
       "   'NIR': '/home/jovyan/work/satellite_imagery/S2A_MSIL2A_20201114T083221_N0214_R021_T37UCQ_20201114T112303/T37UCQ_20201114T083221_B08_10m.jp2'},\n",
       "  'date': '20201114'},\n",
       " '37UCR': {'paths': {'TCI': '/home/jovyan/work/satellite_imagery/S2A_MSIL2A_20201018T083951_N0214_R064_T37UCR_20201018T115439/T37UCR_20201018T083951_TCI_10m.jp2',\n",
       "   'NIR': '/home/jovyan/work/satellite_imagery/S2A_MSIL2A_20201018T083951_N0214_R064_T37UCR_20201018T115439/T37UCR_20201018T083951_B08_10m.jp2',\n",
       "   'RED': '/home/jovyan/work/satellite_imagery/S2A_MSIL2A_20201018T083951_N0214_R064_T37UCR_20201018T115439/T37UCR_20201018T083951_B04_10m.jp2'},\n",
       "  'date': '20201018'},\n",
       " '37UDQ': {'paths': {'NIR': '/home/jovyan/work/satellite_imagery/S2B_MSIL2A_20201119T083239_N0214_R021_T37UDQ_20201119T104855/T37UDQ_20201119T083239_B08_10m.jp2',\n",
       "   'TCI': '/home/jovyan/work/satellite_imagery/S2B_MSIL2A_20201119T083239_N0214_R021_T37UDQ_20201119T104855/T37UDQ_20201119T083239_TCI_10m.jp2',\n",
       "   'RED': '/home/jovyan/work/satellite_imagery/S2B_MSIL2A_20201119T083239_N0214_R021_T37UDQ_20201119T104855/T37UDQ_20201119T083239_B04_10m.jp2'},\n",
       "  'date': '20201119'},\n",
       " '37UDR': {'paths': {'RED': '/home/jovyan/work/satellite_imagery/S2B_MSIL2A_20201119T083239_N0214_R021_T37UDR_20201119T104855/T37UDR_20201119T083239_B04_10m.jp2',\n",
       "   'NIR': '/home/jovyan/work/satellite_imagery/S2B_MSIL2A_20201119T083239_N0214_R021_T37UDR_20201119T104855/T37UDR_20201119T083239_B08_10m.jp2',\n",
       "   'TCI': '/home/jovyan/work/satellite_imagery/S2B_MSIL2A_20201119T083239_N0214_R021_T37UDR_20201119T104855/T37UDR_20201119T083239_TCI_10m.jp2'},\n",
       "  'date': '20201119'}}"
      ]
     },
     "execution_count": 86,
     "metadata": {},
     "output_type": "execute_result"
    }
   ],
   "source": [
    "filtered"
   ]
  },
  {
   "cell_type": "code",
   "execution_count": 16,
   "metadata": {},
   "outputs": [],
   "source": [
    "filtered = {'36UYA': {'paths': {'TCI': '/home/jovyan/work/satellite_imagery/S2B_MSIL2A_20200923T083659_N0214_R064_T36UYA_20200925T161337/T36UYA_20200923T083659_TCI_10m.jp2',\n",
    "   'RED': '/home/jovyan/work/satellite_imagery/S2B_MSIL2A_20200923T083659_N0214_R064_T36UYA_20200925T161337/T36UYA_20200923T083659_B04_10m.jp2',\n",
    "   'NIR': '/home/jovyan/work/satellite_imagery/S2B_MSIL2A_20200923T083659_N0214_R064_T36UYA_20200925T161337/T36UYA_20200923T083659_B08_10m.jp2'},\n",
    "  'date': '20200923'},}"
   ]
  },
  {
   "cell_type": "code",
   "execution_count": 16,
   "metadata": {},
   "outputs": [],
   "source": [
    "filtered = {'37UDR': {'paths': {'TCI': '/home/jovyan/work/satellite_imagery/S2B_MSIL2A_20201119T083239_N0214_R021_T37UDR_20201119T104855/T37UDR_20201119T083239_TCI_10m.jp2',\n",
    "   'RED': '/home/jovyan/work/satellite_imagery/S2B_MSIL2A_20201119T083239_N0214_R021_T37UDR_20201119T104855/T37UDR_20201119T083239_B04_10m.jp2',\n",
    "   'NIR': '/home/jovyan/work/satellite_imagery/S2B_MSIL2A_20201119T083239_N0214_R021_T37UDR_20201119T104855/T37UDR_20201119T083239_B08_10m.jp2'},\n",
    "  'date': '20201119'}}"
   ]
  },
  {
   "cell_type": "code",
   "execution_count": 91,
   "metadata": {
    "collapsed": true,
    "jupyter": {
     "outputs_hidden": true
    }
   },
   "outputs": [
    {
     "name": "stdout",
     "output_type": "stream",
     "text": [
      "\n",
      "Execution for tile 36UXA\n",
      "Сreated temporary directory for calculations: /home/jovyan/work/notebooks/sip/tmpfhgvdfy7\n",
      "Calculating TCI and NDVI for given AOI...\n",
      "\n",
      "Calculating TCI:\n",
      "\n",
      "Save TCI image path: /home/jovyan/work/notebooks/sip/tmpfhgvdfy7/Kharkiv_T36UXA_20201028T084051_TCI_10m.tif\n",
      "CONVERTED CRS\n",
      "EPSG:32636\n",
      "Temporary TCI output path: /home/jovyan/work/res/sip/Kharkiv_T36UXA_20201028T084051_TCI_10m.tif.temp\n",
      "TARGET CRS\n",
      "EPSG:32636\n",
      "TARGET CRS: EPSG:32636\n",
      "BOUND BOX\n",
      "POLYGON ((892676.1099244957 5371935.829034151, 875610.3292751135 5613820.028189684, 617720.3438376935 5601695.805348845, 623057.0102474339 5359665.184315259, 892676.1099244957 5371935.829034151))\n",
      "| 10.00, 0.00, 617720.00|\n",
      "| 0.00,-10.00, 5600040.00|\n",
      "| 0.00, 0.00, 1.00|\n",
      "Temp file: /home/jovyan/work/res/sip/Kharkiv_T36UXA_20201028T084051_TCI_10m.tif.temp\n",
      "Rename temp file: /home/jovyan/work/res/sip/Kharkiv_T36UXA_20201028T084051_TCI_10m.tif.temp to /home/jovyan/work/res/sip/Kharkiv_T36UXA_20201028T084051_TCI_10m.tif\n",
      "Calculations finished\n",
      "\n",
      "Execution for tile 36UXA finished\n",
      "\n",
      "Execution for tile 36UXU\n",
      "Сreated temporary directory for calculations: /home/jovyan/work/notebooks/sip/tmp0kvwtavp\n",
      "Calculating TCI and NDVI for given AOI...\n",
      "\n",
      "Calculating TCI:\n",
      "\n",
      "Save TCI image path: /home/jovyan/work/notebooks/sip/tmp0kvwtavp/Kharkiv_T36UXU_20201028T084051_TCI_10m.tif\n",
      "CONVERTED CRS\n",
      "EPSG:32636\n",
      "Temporary TCI output path: /home/jovyan/work/res/sip/Kharkiv_T36UXU_20201028T084051_TCI_10m.tif.temp\n",
      "TARGET CRS\n",
      "EPSG:32636\n",
      "TARGET CRS: EPSG:32636\n",
      "BOUND BOX\n",
      "POLYGON ((892676.1099244957 5371935.829034151, 875610.3292751135 5613820.028189684, 617720.3438376935 5601695.805348845, 623057.0102474339 5359665.184315259, 892676.1099244957 5371935.829034151))\n",
      "| 10.00, 0.00, 617720.00|\n",
      "| 0.00,-10.00, 5400000.00|\n",
      "| 0.00, 0.00, 1.00|\n",
      "Temp file: /home/jovyan/work/res/sip/Kharkiv_T36UXU_20201028T084051_TCI_10m.tif.temp\n",
      "Rename temp file: /home/jovyan/work/res/sip/Kharkiv_T36UXU_20201028T084051_TCI_10m.tif.temp to /home/jovyan/work/res/sip/Kharkiv_T36UXU_20201028T084051_TCI_10m.tif\n",
      "Calculations finished\n",
      "\n",
      "Execution for tile 36UXU finished\n",
      "\n",
      "Execution for tile 36UXV\n",
      "Сreated temporary directory for calculations: /home/jovyan/work/notebooks/sip/tmplk89bcch\n",
      "Calculating TCI and NDVI for given AOI...\n",
      "\n",
      "Calculating TCI:\n",
      "\n",
      "Save TCI image path: /home/jovyan/work/notebooks/sip/tmplk89bcch/Kharkiv_T36UXV_20201028T084051_TCI_10m.tif\n",
      "CONVERTED CRS\n",
      "EPSG:32636\n",
      "Temporary TCI output path: /home/jovyan/work/res/sip/Kharkiv_T36UXV_20201028T084051_TCI_10m.tif.temp\n",
      "TARGET CRS\n",
      "EPSG:32636\n",
      "TARGET CRS: EPSG:32636\n",
      "BOUND BOX\n",
      "POLYGON ((892676.1099244957 5371935.829034151, 875610.3292751135 5613820.028189684, 617720.3438376935 5601695.805348845, 623057.0102474339 5359665.184315259, 892676.1099244957 5371935.829034151))\n",
      "| 10.00, 0.00, 617720.00|\n",
      "| 0.00,-10.00, 5500020.00|\n",
      "| 0.00, 0.00, 1.00|\n",
      "Temp file: /home/jovyan/work/res/sip/Kharkiv_T36UXV_20201028T084051_TCI_10m.tif.temp\n",
      "Rename temp file: /home/jovyan/work/res/sip/Kharkiv_T36UXV_20201028T084051_TCI_10m.tif.temp to /home/jovyan/work/res/sip/Kharkiv_T36UXV_20201028T084051_TCI_10m.tif\n",
      "Calculations finished\n",
      "\n",
      "Execution for tile 36UXV finished\n",
      "\n",
      "Execution for tile 36UYA\n",
      "Сreated temporary directory for calculations: /home/jovyan/work/notebooks/sip/tmpkud5w2p5\n",
      "Calculating TCI and NDVI for given AOI...\n",
      "\n",
      "Calculating TCI:\n",
      "\n",
      "Save TCI image path: /home/jovyan/work/notebooks/sip/tmpkud5w2p5/Kharkiv_T36UYA_20200913T083559_TCI_10m.tif\n",
      "CONVERTED CRS\n",
      "EPSG:32636\n",
      "Temporary TCI output path: /home/jovyan/work/res/sip/Kharkiv_T36UYA_20200913T083559_TCI_10m.tif.temp\n",
      "TARGET CRS\n",
      "EPSG:32636\n",
      "TARGET CRS: EPSG:32636\n",
      "BOUND BOX\n",
      "POLYGON ((892676.1099244957 5371935.829034151, 875610.3292751135 5613820.028189684, 617720.3438376935 5601695.805348845, 623057.0102474339 5359665.184315259, 892676.1099244957 5371935.829034151))\n",
      "| 10.00, 0.00, 699960.00|\n",
      "| 0.00,-10.00, 5600040.00|\n",
      "| 0.00, 0.00, 1.00|\n",
      "Temp file: /home/jovyan/work/res/sip/Kharkiv_T36UYA_20200913T083559_TCI_10m.tif.temp\n",
      "Rename temp file: /home/jovyan/work/res/sip/Kharkiv_T36UYA_20200913T083559_TCI_10m.tif.temp to /home/jovyan/work/res/sip/Kharkiv_T36UYA_20200913T083559_TCI_10m.tif\n",
      "Calculations finished\n",
      "\n",
      "Execution for tile 36UYA finished\n",
      "\n",
      "Execution for tile 36UYB\n",
      "Сreated temporary directory for calculations: /home/jovyan/work/notebooks/sip/tmp83rga4k9\n",
      "Calculating TCI and NDVI for given AOI...\n",
      "\n",
      "Calculating TCI:\n",
      "\n",
      "Save TCI image path: /home/jovyan/work/notebooks/sip/tmp83rga4k9/Kharkiv_T36UYB_20201028T084051_TCI_10m.tif\n",
      "CONVERTED CRS\n",
      "EPSG:32636\n",
      "Temporary TCI output path: /home/jovyan/work/res/sip/Kharkiv_T36UYB_20201028T084051_TCI_10m.tif.temp\n",
      "TARGET CRS\n",
      "EPSG:32636\n",
      "TARGET CRS: EPSG:32636\n",
      "BOUND BOX\n",
      "POLYGON ((892676.1099244957 5371935.829034151, 875610.3292751135 5613820.028189684, 617720.3438376935 5601695.805348845, 623057.0102474339 5359665.184315259, 892676.1099244957 5371935.829034151))\n",
      "| 10.00, 0.00, 699960.00|\n",
      "| 0.00,-10.00, 5613830.00|\n",
      "| 0.00, 0.00, 1.00|\n",
      "Temp file: /home/jovyan/work/res/sip/Kharkiv_T36UYB_20201028T084051_TCI_10m.tif.temp\n",
      "Rename temp file: /home/jovyan/work/res/sip/Kharkiv_T36UYB_20201028T084051_TCI_10m.tif.temp to /home/jovyan/work/res/sip/Kharkiv_T36UYB_20201028T084051_TCI_10m.tif\n",
      "Calculations finished\n",
      "\n",
      "Execution for tile 36UYB finished\n",
      "\n",
      "Execution for tile 36UYU\n",
      "Сreated temporary directory for calculations: /home/jovyan/work/notebooks/sip/tmpho223y0r\n",
      "Calculating TCI and NDVI for given AOI...\n",
      "\n",
      "Calculating TCI:\n",
      "\n",
      "Save TCI image path: /home/jovyan/work/notebooks/sip/tmpho223y0r/Kharkiv_T36UYU_20201013T083829_TCI_10m.tif\n",
      "CONVERTED CRS\n",
      "EPSG:32636\n",
      "Temporary TCI output path: /home/jovyan/work/res/sip/Kharkiv_T36UYU_20201013T083829_TCI_10m.tif.temp\n",
      "TARGET CRS\n",
      "EPSG:32636\n",
      "TARGET CRS: EPSG:32636\n",
      "BOUND BOX\n",
      "POLYGON ((892676.1099244957 5371935.829034151, 875610.3292751135 5613820.028189684, 617720.3438376935 5601695.805348845, 623057.0102474339 5359665.184315259, 892676.1099244957 5371935.829034151))\n",
      "| 10.00, 0.00, 699960.00|\n",
      "| 0.00,-10.00, 5400000.00|\n",
      "| 0.00, 0.00, 1.00|\n",
      "Temp file: /home/jovyan/work/res/sip/Kharkiv_T36UYU_20201013T083829_TCI_10m.tif.temp\n",
      "Rename temp file: /home/jovyan/work/res/sip/Kharkiv_T36UYU_20201013T083829_TCI_10m.tif.temp to /home/jovyan/work/res/sip/Kharkiv_T36UYU_20201013T083829_TCI_10m.tif\n",
      "Calculations finished\n",
      "\n",
      "Execution for tile 36UYU finished\n",
      "\n",
      "Execution for tile 36UYV\n",
      "Сreated temporary directory for calculations: /home/jovyan/work/notebooks/sip/tmpq98clrgf\n",
      "Calculating TCI and NDVI for given AOI...\n",
      "\n",
      "Calculating TCI:\n",
      "\n",
      "Save TCI image path: /home/jovyan/work/notebooks/sip/tmpq98clrgf/Kharkiv_T36UYV_20201018T083951_TCI_10m.tif\n",
      "CONVERTED CRS\n",
      "EPSG:32636\n",
      "Temporary TCI output path: /home/jovyan/work/res/sip/Kharkiv_T36UYV_20201018T083951_TCI_10m.tif.temp\n",
      "TARGET CRS\n",
      "EPSG:32636\n",
      "TARGET CRS: EPSG:32636\n",
      "BOUND BOX\n",
      "POLYGON ((892676.1099244957 5371935.829034151, 875610.3292751135 5613820.028189684, 617720.3438376935 5601695.805348845, 623057.0102474339 5359665.184315259, 892676.1099244957 5371935.829034151))\n",
      "| 10.00, 0.00, 699960.00|\n",
      "| 0.00,-10.00, 5500020.00|\n",
      "| 0.00, 0.00, 1.00|\n",
      "Temp file: /home/jovyan/work/res/sip/Kharkiv_T36UYV_20201018T083951_TCI_10m.tif.temp\n",
      "Rename temp file: /home/jovyan/work/res/sip/Kharkiv_T36UYV_20201018T083951_TCI_10m.tif.temp to /home/jovyan/work/res/sip/Kharkiv_T36UYV_20201018T083951_TCI_10m.tif\n",
      "Calculations finished\n",
      "\n",
      "Execution for tile 36UYV finished\n",
      "\n",
      "Execution for tile 37UCQ\n",
      "Сreated temporary directory for calculations: /home/jovyan/work/notebooks/sip/tmpzd_o46ne\n",
      "Calculating TCI and NDVI for given AOI...\n",
      "\n",
      "Calculating TCI:\n",
      "\n",
      "Save TCI image path: /home/jovyan/work/notebooks/sip/tmpzd_o46ne/Kharkiv_T37UCQ_20201114T083221_TCI_10m.tif\n",
      "CONVERTED CRS\n",
      "EPSG:32637\n",
      "Temporary TCI output path: /home/jovyan/work/res/sip/Kharkiv_T37UCQ_20201114T083221_TCI_10m.tif.temp\n",
      "TARGET CRS\n",
      "EPSG:32637\n",
      "TARGET CRS: EPSG:32637\n",
      "BOUND BOX\n",
      "POLYGON ((448449.8618251446 5358565.032083291, 450685.0297324186 5600608.607492107, 192750.9557868327 5609367.434782796, 178802.59081133 5367429.045173714, 448449.8618251446 5358565.032083291))\n",
      "| 10.00, 0.00, 300000.00|\n",
      "| 0.00,-10.00, 5500020.00|\n",
      "| 0.00, 0.00, 1.00|\n",
      "Temp file: /home/jovyan/work/res/sip/Kharkiv_T37UCQ_20201114T083221_TCI_10m.tif.temp\n",
      "Rename temp file: /home/jovyan/work/res/sip/Kharkiv_T37UCQ_20201114T083221_TCI_10m.tif.temp to /home/jovyan/work/res/sip/Kharkiv_T37UCQ_20201114T083221_TCI_10m.tif\n",
      "Calculations finished\n",
      "\n",
      "Execution for tile 37UCQ finished\n",
      "\n",
      "Execution for tile 37UCR\n",
      "Сreated temporary directory for calculations: /home/jovyan/work/notebooks/sip/tmpkrpvrvnw\n",
      "Calculating TCI and NDVI for given AOI...\n",
      "\n",
      "Calculating TCI:\n",
      "\n",
      "Save TCI image path: /home/jovyan/work/notebooks/sip/tmpkrpvrvnw/Kharkiv_T37UCR_20201018T083951_TCI_10m.tif\n",
      "CONVERTED CRS\n",
      "EPSG:32637\n",
      "Temporary TCI output path: /home/jovyan/work/res/sip/Kharkiv_T37UCR_20201018T083951_TCI_10m.tif.temp\n",
      "TARGET CRS\n",
      "EPSG:32637\n",
      "TARGET CRS: EPSG:32637\n",
      "BOUND BOX\n",
      "POLYGON ((448449.8618251446 5358565.032083291, 450685.0297324186 5600608.607492107, 192750.9557868327 5609367.434782796, 178802.59081133 5367429.045173714, 448449.8618251446 5358565.032083291))\n",
      "| 10.00, 0.00, 300000.00|\n",
      "| 0.00,-10.00, 5600040.00|\n",
      "| 0.00, 0.00, 1.00|\n",
      "Temp file: /home/jovyan/work/res/sip/Kharkiv_T37UCR_20201018T083951_TCI_10m.tif.temp\n",
      "Rename temp file: /home/jovyan/work/res/sip/Kharkiv_T37UCR_20201018T083951_TCI_10m.tif.temp to /home/jovyan/work/res/sip/Kharkiv_T37UCR_20201018T083951_TCI_10m.tif\n",
      "Calculations finished\n",
      "\n",
      "Execution for tile 37UCR finished\n",
      "\n",
      "Execution for tile 37UDQ\n",
      "Сreated temporary directory for calculations: /home/jovyan/work/notebooks/sip/tmpouyfynfy\n",
      "Calculating TCI and NDVI for given AOI...\n",
      "\n",
      "Calculating TCI:\n",
      "\n",
      "Save TCI image path: /home/jovyan/work/notebooks/sip/tmpouyfynfy/Kharkiv_T37UDQ_20201119T083239_TCI_10m.tif\n",
      "CONVERTED CRS\n",
      "EPSG:32637\n",
      "Temporary TCI output path: /home/jovyan/work/res/sip/Kharkiv_T37UDQ_20201119T083239_TCI_10m.tif.temp\n",
      "TARGET CRS\n",
      "EPSG:32637\n",
      "TARGET CRS: EPSG:32637\n",
      "BOUND BOX\n",
      "POLYGON ((448449.8618251446 5358565.032083291, 450685.0297324186 5600608.607492107, 192750.9557868327 5609367.434782796, 178802.59081133 5367429.045173714, 448449.8618251446 5358565.032083291))\n",
      "| 10.00, 0.00, 399960.00|\n",
      "| 0.00,-10.00, 5500020.00|\n",
      "| 0.00, 0.00, 1.00|\n",
      "Temp file: /home/jovyan/work/res/sip/Kharkiv_T37UDQ_20201119T083239_TCI_10m.tif.temp\n",
      "Rename temp file: /home/jovyan/work/res/sip/Kharkiv_T37UDQ_20201119T083239_TCI_10m.tif.temp to /home/jovyan/work/res/sip/Kharkiv_T37UDQ_20201119T083239_TCI_10m.tif\n",
      "Calculations finished\n",
      "\n",
      "Execution for tile 37UDQ finished\n",
      "\n",
      "Execution for tile 37UDR\n",
      "Сreated temporary directory for calculations: /home/jovyan/work/notebooks/sip/tmpp_ox3qrn\n",
      "Calculating TCI and NDVI for given AOI...\n",
      "\n",
      "Calculating TCI:\n",
      "\n",
      "Save TCI image path: /home/jovyan/work/notebooks/sip/tmpp_ox3qrn/Kharkiv_T37UDR_20201119T083239_TCI_10m.tif\n",
      "CONVERTED CRS\n",
      "EPSG:32637\n",
      "Temporary TCI output path: /home/jovyan/work/res/sip/Kharkiv_T37UDR_20201119T083239_TCI_10m.tif.temp\n",
      "TARGET CRS\n",
      "EPSG:32637\n",
      "TARGET CRS: EPSG:32637\n",
      "BOUND BOX\n",
      "POLYGON ((448449.8618251446 5358565.032083291, 450685.0297324186 5600608.607492107, 192750.9557868327 5609367.434782796, 178802.59081133 5367429.045173714, 448449.8618251446 5358565.032083291))\n",
      "| 10.00, 0.00, 399960.00|\n",
      "| 0.00,-10.00, 5600040.00|\n",
      "| 0.00, 0.00, 1.00|\n",
      "Temp file: /home/jovyan/work/res/sip/Kharkiv_T37UDR_20201119T083239_TCI_10m.tif.temp\n",
      "Rename temp file: /home/jovyan/work/res/sip/Kharkiv_T37UDR_20201119T083239_TCI_10m.tif.temp to /home/jovyan/work/res/sip/Kharkiv_T37UDR_20201119T083239_TCI_10m.tif\n",
      "Calculations finished\n",
      "\n",
      "Execution for tile 37UDR finished\n"
     ]
    }
   ],
   "source": [
    "for tile, properties in filtered.items():\n",
    "    print(f\"\\nExecution for tile {tile}\")\n",
    "    with tempfile.TemporaryDirectory(dir=SIP_DIR) as tmpdirname:\n",
    "        print(f\"Сreated temporary directory for calculations: {tmpdirname}\")   \n",
    "        \n",
    "        calculate(tmpdirname, bbox, name, properties)\n",
    "        \n",
    "    print(f\"\\nExecution for tile {tile} finished\")"
   ]
  },
  {
   "cell_type": "code",
   "execution_count": 18,
   "metadata": {},
   "outputs": [
    {
     "name": "stdout",
     "output_type": "stream",
     "text": [
      "[[0.21398304 0.19069767 0.1936445  ... 0.2240991  0.2260579  0.22033899]\n",
      " [0.24568245 0.20211081 0.19269776 ... 0.2246941  0.2258427  0.21232493]\n",
      " [0.29659444 0.21467689 0.21617419 ... 0.21448162 0.22069345 0.22981367]\n",
      " ...\n",
      " [0.33508128 0.31287023 0.30237466 ... 0.15625    0.17478882 0.22668241]\n",
      " [0.30031613 0.29417878 0.28549463 ... 0.16049382 0.1961165  0.22800925]\n",
      " [0.26955655 0.26968005 0.296875   ... 0.16161616 0.20959596 0.22872032]]\n"
     ]
    }
   ],
   "source": [
    "print(ndvi_)"
   ]
  },
  {
   "cell_type": "code",
   "execution_count": 19,
   "metadata": {},
   "outputs": [
    {
     "data": {
      "text/plain": [
       "-10000.0"
      ]
     },
     "execution_count": 19,
     "metadata": {},
     "output_type": "execute_result"
    }
   ],
   "source": [
    "ndvi_.min()"
   ]
  },
  {
   "cell_type": "code",
   "execution_count": null,
   "metadata": {},
   "outputs": [],
   "source": []
  },
  {
   "cell_type": "code",
   "execution_count": null,
   "metadata": {},
   "outputs": [],
   "source": []
  },
  {
   "cell_type": "code",
   "execution_count": null,
   "metadata": {},
   "outputs": [],
   "source": []
  },
  {
   "cell_type": "code",
   "execution_count": null,
   "metadata": {},
   "outputs": [],
   "source": []
  },
  {
   "cell_type": "code",
   "execution_count": 23,
   "metadata": {},
   "outputs": [
    {
     "data": {
      "text/plain": [
       "'/home/jovyan/work/res/sip/Kharkiv_T36UYA_20200923T083659_NDVI_10m_float.tif'"
      ]
     },
     "execution_count": 23,
     "metadata": {},
     "output_type": "execute_result"
    }
   ],
   "source": [
    "tile_path = os.path.join(BASE, \"res/sip/Kharkiv_T36UYA_20200923T083659_NDVI_10m_float.tif\") \n",
    "tile_path"
   ]
  },
  {
   "cell_type": "code",
   "execution_count": 35,
   "metadata": {},
   "outputs": [
    {
     "name": "stdout",
     "output_type": "stream",
     "text": [
      "['IMAGE_STRUCTURE', 'DERIVED_SUBDATASETS']\n",
      "{'INTERLEAVE': 'BAND'}\n",
      "{'DERIVED_SUBDATASET_1_NAME': 'DERIVED_SUBDATASET:LOGAMPLITUDE:/home/jovyan/work/res/sip/Kharkiv_T36UYA_20200923T083659_NDVI_10m_float.tif', 'DERIVED_SUBDATASET_1_DESC': 'log10 of amplitude of input bands from /home/jovyan/work/res/sip/Kharkiv_T36UYA_20200923T083659_NDVI_10m_float.tif'}\n",
      "{'driver': 'GTiff', 'dtype': 'float32', 'nodata': -10000.0, 'width': 27395, 'height': 25316, 'count': 1, 'crs': CRS.from_epsg(32636), 'transform': Affine(10.0, 0.0, 617720.3438376935,\n",
      "       0.0, -10.0, 5613820.028189684)}\n",
      "{}\n",
      "-10000.0\n",
      "[[[0.21398304 0.21398304 0.21398304 ... 0.2260579  0.22033899 0.22033899]\n",
      "  [0.21398304 0.21398304 0.21398304 ... 0.2260579  0.22033899 0.22033899]\n",
      "  [0.21398304 0.21398304 0.21398304 ... 0.2260579  0.22033899 0.22033899]\n",
      "  ...\n",
      "  [0.30031613 0.30031613 0.30031613 ... 0.1961165  0.22800925 0.22800925]\n",
      "  [0.26955655 0.26955655 0.26955655 ... 0.20959596 0.22872032 0.22872032]\n",
      "  [0.26955655 0.26955655 0.26955655 ... 0.20959596 0.22872032 0.22872032]]]\n",
      "-0.66222847\n",
      "0.99964917\n"
     ]
    }
   ],
   "source": [
    "with rasterio.open(tile_path) as src:\n",
    "    # help(src)\n",
    "    print(src.tag_namespaces())\n",
    "    print(src.tags(ns='IMAGE_STRUCTURE'))\n",
    "    print(src.tags(ns='DERIVED_SUBDATASETS'))\n",
    "   \n",
    "    \n",
    "    print(src.meta)\n",
    "    print(src.tags(1))\n",
    "    print(src.nodata)\n",
    "    # print(src.STATISTICS_MAXIMUM)\n",
    "    #print(band.info())\n",
    "    data = src.read()\n",
    "    data[data == src.nodata] = np.nan\n",
    "    print(data)\n",
    "    print(np.nanmin(data))\n",
    "    print(np.nanmax(data))"
   ]
  },
  {
   "cell_type": "code",
   "execution_count": null,
   "metadata": {},
   "outputs": [],
   "source": []
  },
  {
   "cell_type": "code",
   "execution_count": null,
   "metadata": {},
   "outputs": [],
   "source": []
  },
  {
   "cell_type": "code",
   "execution_count": null,
   "metadata": {},
   "outputs": [],
   "source": []
  },
  {
   "cell_type": "code",
   "execution_count": null,
   "metadata": {},
   "outputs": [],
   "source": []
  },
  {
   "cell_type": "code",
   "execution_count": 27,
   "metadata": {},
   "outputs": [
    {
     "data": {
      "text/plain": [
       "'/home/jovyan/work'"
      ]
     },
     "execution_count": 27,
     "metadata": {},
     "output_type": "execute_result"
    }
   ],
   "source": [
    "BASE"
   ]
  },
  {
   "cell_type": "code",
   "execution_count": null,
   "metadata": {},
   "outputs": [],
   "source": [
    "\"\"\"gdal_translate -ot Byte -of GTiff -a_nodata -10000 -scale -0.414188 0.997688 0 255 \n",
    "/home/quantum/WorkQuantum/Task07_SIP/Git/sip/data/res/sip/Kharkiv_T36UYA_20200923T083659_NDVI_10m_float.tif \n",
    "/tmp/processing_hZgGHd/6d8288a709b04aecb2417a8961687d82/OUTPUT.tif\"\"\""
   ]
  },
  {
   "cell_type": "code",
   "execution_count": null,
   "metadata": {},
   "outputs": [],
   "source": []
  },
  {
   "cell_type": "code",
   "execution_count": null,
   "metadata": {},
   "outputs": [],
   "source": []
  },
  {
   "cell_type": "code",
   "execution_count": null,
   "metadata": {},
   "outputs": [],
   "source": [
    "NDVI(image_paths['NIR'], image_paths['RED'], '/home/jovyan/work/res/NDVI2.tif')"
   ]
  },
  {
   "cell_type": "code",
   "execution_count": null,
   "metadata": {},
   "outputs": [],
   "source": []
  },
  {
   "cell_type": "code",
   "execution_count": null,
   "metadata": {},
   "outputs": [],
   "source": []
  },
  {
   "cell_type": "code",
   "execution_count": null,
   "metadata": {},
   "outputs": [],
   "source": []
  }
 ],
 "metadata": {
  "kernelspec": {
   "display_name": "python37",
   "language": "python",
   "name": "python37"
  },
  "language_info": {
   "codemirror_mode": {
    "name": "ipython",
    "version": 3
   },
   "file_extension": ".py",
   "mimetype": "text/x-python",
   "name": "python",
   "nbconvert_exporter": "python",
   "pygments_lexer": "ipython3",
   "version": "3.7.8"
  }
 },
 "nbformat": 4,
 "nbformat_minor": 4
}
