{
 "cells": [
  {
   "cell_type": "markdown",
   "id": "34e24b5c",
   "metadata": {
    "papermill": {
     "duration": 0.025155,
     "end_time": "2022-11-10T10:41:50.911721",
     "exception": false,
     "start_time": "2022-11-10T10:41:50.886566",
     "status": "completed"
    },
    "tags": []
   },
   "source": [
    "### For given aoi, prepare TCI and NDVI sentinel latest images "
   ]
  },
  {
   "cell_type": "code",
   "execution_count": null,
   "id": "c8b6559f",
   "metadata": {
    "execution": {
     "iopub.execute_input": "2022-11-10T10:41:50.967642Z",
     "iopub.status.busy": "2022-11-10T10:41:50.966854Z",
     "iopub.status.idle": "2022-11-10T10:41:52.277240Z",
     "shell.execute_reply": "2022-11-10T10:41:52.275637Z"
    },
    "papermill": {
     "duration": 1.341793,
     "end_time": "2022-11-10T10:41:52.281103",
     "exception": false,
     "start_time": "2022-11-10T10:41:50.939310",
     "status": "completed"
    },
    "tags": []
   },
   "outputs": [],
   "source": [
    "import os\n",
    "import geopandas as gp\n",
    "import numpy as np\n",
    "import rasterio\n",
    "import re\n",
    "import tempfile\n",
    "import pyproj\n",
    "import uuid\n",
    "import json\n",
    "import geojson\n",
    "\n",
    "from geojson import Feature\n",
    "\n",
    "import rasterio.mask\n",
    "from rasterio import Affine\n",
    "from rasterio.plot import reshape_as_raster\n",
    "from rasterio.merge import merge\n",
    "from rasterio.warp import calculate_default_transform, reproject, Resampling\n",
    "\n",
    "from shapely import wkt\n",
    "from shapely.geometry import Polygon, box\n",
    "from shapely.ops import transform\n",
    "\n",
    "\n",
    "from pathlib import Path\n",
    "from datetime import datetime, timedelta\n",
    "from sentinel2download.downloader import Sentinel2Downloader\n",
    "from sentinel2download.overlap import Sentinel2Overlap"
   ]
  },
  {
   "cell_type": "markdown",
   "id": "8d045887",
   "metadata": {
    "papermill": {
     "duration": 0.021675,
     "end_time": "2022-11-10T10:41:52.320639",
     "exception": false,
     "start_time": "2022-11-10T10:41:52.298964",
     "status": "completed"
    },
    "tags": []
   },
   "source": [
    "### 0. Setting up parameters\n",
    "#### Read Input and Output from environment"
   ]
  },
  {
   "cell_type": "code",
   "execution_count": null,
   "id": "1da3110a",
   "metadata": {
    "execution": {
     "iopub.execute_input": "2022-11-10T10:41:52.369418Z",
     "iopub.status.busy": "2022-11-10T10:41:52.368150Z",
     "iopub.status.idle": "2022-11-10T10:41:52.379207Z",
     "shell.execute_reply": "2022-11-10T10:41:52.377520Z"
    },
    "papermill": {
     "duration": 0.036965,
     "end_time": "2022-11-10T10:41:52.382547",
     "exception": false,
     "start_time": "2022-11-10T10:41:52.345582",
     "status": "completed"
    },
    "tags": []
   },
   "outputs": [],
   "source": [
    "# Inputs\n",
    "AOI = os.getenv('AOI')\n",
    "START_DATE = os.getenv(\"START_DATE\")\n",
    "END_DATE = os.getenv(\"END_DATE\")\n",
    "SENTINEL2_GOOGLE_API_KEY = os.getenv('SENTINEL2_GOOGLE_API_KEY')\n",
    "SATELLITE_CACHE = os.getenv('SATELLITE_CACHE', 'satellite_cache') #Folder\n",
    "\n",
    "# Outputs\n",
    "OUTPUT_TCI = os.getenv('TCI') #Filename\n",
    "OUTPUT_NDVI = os.getenv('NDVI') #Filename\n",
    "\n",
    "# NODATA and \n",
    "OUTPUT_NODATA = os.path.join('/output', os.getenv('NODATA')) #Folder\n"
   ]
  },
  {
   "cell_type": "markdown",
   "id": "bb453a86",
   "metadata": {
    "papermill": {
     "duration": 0.022656,
     "end_time": "2022-11-10T10:41:52.423865",
     "exception": false,
     "start_time": "2022-11-10T10:41:52.401209",
     "status": "completed"
    },
    "tags": []
   },
   "source": [
    "#### Setting up notebook params"
   ]
  },
  {
   "cell_type": "code",
   "execution_count": null,
   "id": "9e452a77",
   "metadata": {
    "execution": {
     "iopub.execute_input": "2022-11-10T10:41:52.474132Z",
     "iopub.status.busy": "2022-11-10T10:41:52.473445Z",
     "iopub.status.idle": "2022-11-10T10:41:52.485055Z",
     "shell.execute_reply": "2022-11-10T10:41:52.483290Z"
    },
    "papermill": {
     "duration": 0.040703,
     "end_time": "2022-11-10T10:41:52.488640",
     "exception": false,
     "start_time": "2022-11-10T10:41:52.447937",
     "status": "completed"
    },
    "tags": []
   },
   "outputs": [],
   "source": [
    "SATELLITE_CACHE_FOLDER = os.path.join('/input', SATELLITE_CACHE) #Folder\n",
    "\n",
    "OUTPUT_TCI_FILE = os.path.join('/output', OUTPUT_TCI) #Filename\n",
    "OUTPUT_NDVI_FILE = os.path.join('/output', OUTPUT_NDVI) #Filename\n",
    "\n",
    "OUTPUT_NODATA_FOLDER = os.path.join('/output', OUTPUT_NODATA) #Folder\n",
    "\n",
    "\n",
    "if not os.path.exists(OUTPUT_NODATA_FOLDER):\n",
    "    os.mkdir(OUTPUT_NODATA_FOLDER)"
   ]
  },
  {
   "cell_type": "markdown",
   "id": "51789533",
   "metadata": {
    "papermill": {
     "duration": 0.022312,
     "end_time": "2022-11-10T10:41:52.529465",
     "exception": false,
     "start_time": "2022-11-10T10:41:52.507153",
     "status": "completed"
    },
    "tags": []
   },
   "source": [
    "#### 1. Transform AOI and get bound_box"
   ]
  },
  {
   "cell_type": "code",
   "execution_count": null,
   "id": "a8d1945c",
   "metadata": {
    "execution": {
     "iopub.execute_input": "2022-11-10T10:41:52.578341Z",
     "iopub.status.busy": "2022-11-10T10:41:52.576362Z",
     "iopub.status.idle": "2022-11-10T10:41:52.663322Z",
     "shell.execute_reply": "2022-11-10T10:41:52.661310Z"
    },
    "papermill": {
     "duration": 0.116186,
     "end_time": "2022-11-10T10:41:52.668419",
     "exception": false,
     "start_time": "2022-11-10T10:41:52.552233",
     "status": "completed"
    },
    "tags": []
   },
   "outputs": [],
   "source": [
    "aoi = gp.GeoDataFrame(geometry=[wkt.loads(AOI)], crs=\"epsg:4326\")    "
   ]
  },
  {
   "cell_type": "code",
   "execution_count": null,
   "id": "1bc7cb5b",
   "metadata": {
    "execution": {
     "iopub.execute_input": "2022-11-10T10:41:52.730502Z",
     "iopub.status.busy": "2022-11-10T10:41:52.728851Z",
     "iopub.status.idle": "2022-11-10T10:41:59.585258Z",
     "shell.execute_reply": "2022-11-10T10:41:59.583722Z"
    },
    "papermill": {
     "duration": 6.891347,
     "end_time": "2022-11-10T10:41:59.588813",
     "exception": false,
     "start_time": "2022-11-10T10:41:52.697466",
     "status": "completed"
    },
    "tags": []
   },
   "outputs": [],
   "source": [
    "sentinel_grid = gp.read_file(os.path.join('/code', \"sentinel2grid.geojson\"))"
   ]
  },
  {
   "cell_type": "markdown",
   "id": "3d301cb7",
   "metadata": {
    "papermill": {
     "duration": 0.015838,
     "end_time": "2022-11-10T10:41:59.621538",
     "exception": false,
     "start_time": "2022-11-10T10:41:59.605700",
     "status": "completed"
    },
    "tags": []
   },
   "source": [
    "#### 2. Overlap AOI with sentinel2grid "
   ]
  },
  {
   "cell_type": "code",
   "execution_count": null,
   "id": "e6bb2027",
   "metadata": {
    "execution": {
     "iopub.execute_input": "2022-11-10T10:41:59.659947Z",
     "iopub.status.busy": "2022-11-10T10:41:59.658451Z",
     "iopub.status.idle": "2022-11-10T10:41:59.672943Z",
     "shell.execute_reply": "2022-11-10T10:41:59.671292Z"
    },
    "papermill": {
     "duration": 0.039671,
     "end_time": "2022-11-10T10:41:59.677232",
     "exception": false,
     "start_time": "2022-11-10T10:41:59.637561",
     "status": "completed"
    },
    "tags": []
   },
   "outputs": [],
   "source": [
    "def epsg_code(longitude, latitude):\n",
    "        \"\"\"\n",
    "        Generates EPSG code from lon, lat\n",
    "        :param longitude: float\n",
    "        :param latitude: float\n",
    "        :return: int, EPSG code\n",
    "        \"\"\"\n",
    "\n",
    "        def _zone_number(lat, lon):\n",
    "            if 56 <= lat < 64 and 3 <= lon < 12:\n",
    "                return 32\n",
    "            if 72 <= lat <= 84 and lon >= 0:\n",
    "                if lon < 9:\n",
    "                    return 31\n",
    "                elif lon < 21:\n",
    "                    return 33\n",
    "                elif lon < 33:\n",
    "                    return 35\n",
    "                elif lon < 42:\n",
    "                    return 37\n",
    "\n",
    "            return int((lon + 180) / 6) + 1\n",
    "\n",
    "        zone = _zone_number(latitude, longitude)\n",
    "\n",
    "        if latitude > 0:\n",
    "            return 32600 + zone\n",
    "        else:\n",
    "            return 32700 + zone"
   ]
  },
  {
   "cell_type": "code",
   "execution_count": null,
   "id": "7ff674f8",
   "metadata": {
    "execution": {
     "iopub.execute_input": "2022-11-10T10:41:59.737377Z",
     "iopub.status.busy": "2022-11-10T10:41:59.736760Z",
     "iopub.status.idle": "2022-11-10T10:41:59.746835Z",
     "shell.execute_reply": "2022-11-10T10:41:59.745562Z"
    },
    "papermill": {
     "duration": 0.051977,
     "end_time": "2022-11-10T10:41:59.749973",
     "exception": false,
     "start_time": "2022-11-10T10:41:59.697996",
     "status": "completed"
    },
    "tags": []
   },
   "outputs": [],
   "source": [
    "def _intersect(aoi, grid):\n",
    "    # Get the indices of the tiles that are likely to be inside the bounding box of the given Polygon\n",
    "    geometry = aoi.geometry[0]\n",
    "\n",
    "    tiles_indexes = list(grid.sindex.intersection(geometry.bounds))\n",
    "    grid = grid.loc[tiles_indexes]\n",
    "\n",
    "    # Make the precise tiles in Polygon query\n",
    "    grid = grid.loc[grid.intersects(geometry)]\n",
    "\n",
    "    # intersection area\n",
    "    epsg = epsg_code(geometry.centroid.x, geometry.centroid.y)\n",
    "\n",
    "    # to UTM projection in meters\n",
    "    aoi.to_crs(epsg=epsg, inplace=True)\n",
    "    grid.to_crs(epsg=epsg, inplace=True)\n",
    "\n",
    "    return grid, epsg"
   ]
  },
  {
   "cell_type": "code",
   "execution_count": null,
   "id": "569c0ae0",
   "metadata": {
    "execution": {
     "iopub.execute_input": "2022-11-10T10:41:59.795210Z",
     "iopub.status.busy": "2022-11-10T10:41:59.793824Z",
     "iopub.status.idle": "2022-11-10T10:41:59.811083Z",
     "shell.execute_reply": "2022-11-10T10:41:59.809605Z"
    },
    "papermill": {
     "duration": 0.043785,
     "end_time": "2022-11-10T10:41:59.814688",
     "exception": false,
     "start_time": "2022-11-10T10:41:59.770903",
     "status": "completed"
    },
    "tags": []
   },
   "outputs": [],
   "source": [
    "def get_intersected_tiles(aoi, grid):\n",
    "    \n",
    "    grid, epsg = _intersect(aoi, sentinel_grid)\n",
    "    \n",
    "    \n",
    "    grid.set_index(\"Name\", drop=False, inplace=True)    \n",
    "    intersected_grid = {\"tile\": [], \"geometry\": []}\n",
    "\n",
    "    rest_aoi = aoi.copy()\n",
    "    while rest_aoi.area.sum() > 0:\n",
    "        intersection = gp.overlay(rest_aoi, grid, how=\"intersection\")\n",
    "        argmax = intersection.area.argmax()\n",
    "\n",
    "        tile = intersection.loc[argmax, \"Name\"]\n",
    "        intersected_geometry = intersection.loc[argmax, \"geometry\"]\n",
    "        \n",
    "        intersected_grid[\"tile\"].append(tile)\n",
    "        intersected_grid[\"geometry\"].append(intersected_geometry)\n",
    "        \n",
    "        biggest_intersection = grid.loc[[tile]]\n",
    "        rest_aoi = gp.overlay(rest_aoi, biggest_intersection, how=\"difference\")\n",
    "        grid = grid.loc[intersection[\"Name\"]]\n",
    "    \n",
    "    overlap_tiles = gp.GeoDataFrame(intersected_grid, crs=epsg)\n",
    "    overlap_tiles.to_crs(epsg=4326, inplace=True)\n",
    "\n",
    "    return overlap_tiles"
   ]
  },
  {
   "cell_type": "code",
   "execution_count": null,
   "id": "abfd0c28",
   "metadata": {
    "execution": {
     "iopub.execute_input": "2022-11-10T10:41:59.853271Z",
     "iopub.status.busy": "2022-11-10T10:41:59.852787Z",
     "iopub.status.idle": "2022-11-10T10:42:08.878847Z",
     "shell.execute_reply": "2022-11-10T10:42:08.877427Z"
    },
    "papermill": {
     "duration": 9.048866,
     "end_time": "2022-11-10T10:42:08.882711",
     "exception": false,
     "start_time": "2022-11-10T10:41:59.833845",
     "status": "completed"
    },
    "tags": []
   },
   "outputs": [],
   "source": [
    "overlap_tiles = get_intersected_tiles(aoi.copy(), sentinel_grid.copy())\n",
    "overlap_tiles"
   ]
  },
  {
   "cell_type": "code",
   "execution_count": null,
   "id": "3f809250",
   "metadata": {
    "execution": {
     "iopub.execute_input": "2022-11-10T10:42:08.928648Z",
     "iopub.status.busy": "2022-11-10T10:42:08.927838Z",
     "iopub.status.idle": "2022-11-10T10:42:08.940289Z",
     "shell.execute_reply": "2022-11-10T10:42:08.938382Z"
    },
    "papermill": {
     "duration": 0.044372,
     "end_time": "2022-11-10T10:42:08.944465",
     "exception": false,
     "start_time": "2022-11-10T10:42:08.900093",
     "status": "completed"
    },
    "tags": []
   },
   "outputs": [],
   "source": [
    "overlap_tiles.crs"
   ]
  },
  {
   "cell_type": "markdown",
   "id": "fb64ebec",
   "metadata": {
    "papermill": {
     "duration": 0.017912,
     "end_time": "2022-11-10T10:42:08.982020",
     "exception": false,
     "start_time": "2022-11-10T10:42:08.964108",
     "status": "completed"
    },
    "tags": []
   },
   "source": [
    "#### 3. Load images"
   ]
  },
  {
   "cell_type": "code",
   "execution_count": null,
   "id": "e6faa883",
   "metadata": {
    "execution": {
     "iopub.execute_input": "2022-11-10T10:42:09.018034Z",
     "iopub.status.busy": "2022-11-10T10:42:09.017581Z",
     "iopub.status.idle": "2022-11-10T10:42:09.024793Z",
     "shell.execute_reply": "2022-11-10T10:42:09.023582Z"
    },
    "papermill": {
     "duration": 0.028274,
     "end_time": "2022-11-10T10:42:09.027780",
     "exception": false,
     "start_time": "2022-11-10T10:42:08.999506",
     "status": "completed"
    },
    "tags": []
   },
   "outputs": [],
   "source": [
    "API_KEY = os.path.join('/input', SENTINEL2_GOOGLE_API_KEY)\n",
    "LOAD_DIR = SATELLITE_CACHE_FOLDER\n",
    "\n",
    "PRODUCT_TYPE = 'L2A'\n",
    "BANDS = {'TCI', 'B04', 'B08', }\n",
    "CONSTRAINTS = {'NODATA_PIXEL_PERCENTAGE': 10.0, 'CLOUDY_PIXEL_PERCENTAGE': 5.0, }\n",
    "\n",
    "LAYERS = ['TCI', 'NDVI', ]"
   ]
  },
  {
   "cell_type": "code",
   "execution_count": null,
   "id": "420a2773",
   "metadata": {
    "execution": {
     "iopub.execute_input": "2022-11-10T10:42:09.067910Z",
     "iopub.status.busy": "2022-11-10T10:42:09.066946Z",
     "iopub.status.idle": "2022-11-10T10:42:09.077183Z",
     "shell.execute_reply": "2022-11-10T10:42:09.075489Z"
    },
    "papermill": {
     "duration": 0.037159,
     "end_time": "2022-11-10T10:42:09.081263",
     "exception": false,
     "start_time": "2022-11-10T10:42:09.044104",
     "status": "completed"
    },
    "tags": []
   },
   "outputs": [],
   "source": [
    "START_DATE"
   ]
  },
  {
   "cell_type": "code",
   "execution_count": null,
   "id": "64cfd3e8",
   "metadata": {
    "execution": {
     "iopub.execute_input": "2022-11-10T10:42:09.123870Z",
     "iopub.status.busy": "2022-11-10T10:42:09.123422Z",
     "iopub.status.idle": "2022-11-10T10:42:09.130898Z",
     "shell.execute_reply": "2022-11-10T10:42:09.129824Z"
    },
    "papermill": {
     "duration": 0.030368,
     "end_time": "2022-11-10T10:42:09.133906",
     "exception": false,
     "start_time": "2022-11-10T10:42:09.103538",
     "status": "completed"
    },
    "tags": []
   },
   "outputs": [],
   "source": [
    "END_DATE"
   ]
  },
  {
   "cell_type": "code",
   "execution_count": null,
   "id": "071061f6",
   "metadata": {
    "execution": {
     "iopub.execute_input": "2022-11-10T10:42:09.176495Z",
     "iopub.status.busy": "2022-11-10T10:42:09.175508Z",
     "iopub.status.idle": "2022-11-10T10:42:09.184333Z",
     "shell.execute_reply": "2022-11-10T10:42:09.182767Z"
    },
    "papermill": {
     "duration": 0.036438,
     "end_time": "2022-11-10T10:42:09.187960",
     "exception": false,
     "start_time": "2022-11-10T10:42:09.151522",
     "status": "completed"
    },
    "tags": []
   },
   "outputs": [],
   "source": [
    "def shift_date(date, delta=5, format='%Y-%m-%d'):\n",
    "    date = datetime.strptime(date, format)\n",
    "    date = date - timedelta(days=delta)    \n",
    "    return datetime.strftime(date, format)"
   ]
  },
  {
   "cell_type": "markdown",
   "id": "19a6ca5c",
   "metadata": {
    "papermill": {
     "duration": 0.018437,
     "end_time": "2022-11-10T10:42:09.227857",
     "exception": false,
     "start_time": "2022-11-10T10:42:09.209420",
     "status": "completed"
    },
    "tags": []
   },
   "source": [
    "#### 3.1 Define max shift in dates - 30 days for loading images"
   ]
  },
  {
   "cell_type": "code",
   "execution_count": null,
   "id": "72d1feab",
   "metadata": {
    "execution": {
     "iopub.execute_input": "2022-11-10T10:42:09.265947Z",
     "iopub.status.busy": "2022-11-10T10:42:09.265468Z",
     "iopub.status.idle": "2022-11-10T10:42:09.270932Z",
     "shell.execute_reply": "2022-11-10T10:42:09.269822Z"
    },
    "papermill": {
     "duration": 0.027778,
     "end_time": "2022-11-10T10:42:09.273798",
     "exception": false,
     "start_time": "2022-11-10T10:42:09.246020",
     "status": "completed"
    },
    "tags": []
   },
   "outputs": [],
   "source": [
    "MAX_SHIFT = 30"
   ]
  },
  {
   "cell_type": "code",
   "execution_count": null,
   "id": "e7c1cf66",
   "metadata": {
    "execution": {
     "iopub.execute_input": "2022-11-10T10:42:09.316394Z",
     "iopub.status.busy": "2022-11-10T10:42:09.315398Z",
     "iopub.status.idle": "2022-11-10T10:42:09.322271Z",
     "shell.execute_reply": "2022-11-10T10:42:09.320732Z"
    },
    "papermill": {
     "duration": 0.035107,
     "end_time": "2022-11-10T10:42:09.326065",
     "exception": false,
     "start_time": "2022-11-10T10:42:09.290958",
     "status": "completed"
    },
    "tags": []
   },
   "outputs": [],
   "source": [
    "MAX_SHIFT_ITERS = 2"
   ]
  },
  {
   "cell_type": "code",
   "execution_count": null,
   "id": "e9bdf6fc",
   "metadata": {
    "execution": {
     "iopub.execute_input": "2022-11-10T10:42:09.371213Z",
     "iopub.status.busy": "2022-11-10T10:42:09.370703Z",
     "iopub.status.idle": "2022-11-10T10:42:09.383924Z",
     "shell.execute_reply": "2022-11-10T10:42:09.382451Z"
    },
    "papermill": {
     "duration": 0.037234,
     "end_time": "2022-11-10T10:42:09.387383",
     "exception": false,
     "start_time": "2022-11-10T10:42:09.350149",
     "status": "completed"
    },
    "tags": []
   },
   "outputs": [],
   "source": [
    "def load_images(tiles, start_date, end_date):\n",
    "    loader = Sentinel2Downloader(API_KEY)\n",
    "    loadings = dict()\n",
    "        \n",
    "    for tile in tiles:\n",
    "        start = start_date\n",
    "        end = end_date\n",
    "        \n",
    "        print(f\"Loading images for tile: {tile}...\")\n",
    "        count = 0\n",
    "        while count < MAX_SHIFT_ITERS:\n",
    "            loaded = loader.download(PRODUCT_TYPE,\n",
    "                                [tile],\n",
    "                                start_date=start,\n",
    "                                end_date=end,\n",
    "                                output_dir=LOAD_DIR,                       \n",
    "                                bands=BANDS,\n",
    "                                constraints=CONSTRAINTS)\n",
    "        \n",
    "            if not loaded:\n",
    "                end = start_date\n",
    "                start = shift_date(start_date, delta=MAX_SHIFT) \n",
    "                print(f\"For tile: {tile} and dates {start_date} {end_date} proper images not found! Shift dates to {start} {end}!\")\n",
    "            else:\n",
    "                break\n",
    "            count += 1\n",
    "        if loaded:\n",
    "            loadings[tile] = loaded\n",
    "            print(f\"Loading images for tile {tile} finished\")\n",
    "        else:\n",
    "            print(f\"Images for tile {tile} were not loaded!\")\n",
    "        \n",
    "    # tile_folders = dict()\n",
    "    # for tile, tile_paths in loadings.items():\n",
    "    #    tile_folders[tile] = {str(Path(tile_path[0]).parent) for tile_path in tile_paths}\n",
    "    return loadings"
   ]
  },
  {
   "cell_type": "code",
   "execution_count": null,
   "id": "654d6443",
   "metadata": {
    "execution": {
     "iopub.execute_input": "2022-11-10T10:42:09.431424Z",
     "iopub.status.busy": "2022-11-10T10:42:09.430798Z",
     "iopub.status.idle": "2022-11-10T10:42:20.321223Z",
     "shell.execute_reply": "2022-11-10T10:42:20.319927Z"
    },
    "papermill": {
     "duration": 10.918104,
     "end_time": "2022-11-10T10:42:20.324411",
     "exception": false,
     "start_time": "2022-11-10T10:42:09.406307",
     "status": "completed"
    },
    "tags": []
   },
   "outputs": [],
   "source": [
    "loadings = load_images(overlap_tiles.tile.values, START_DATE, END_DATE)"
   ]
  },
  {
   "cell_type": "markdown",
   "id": "12ac6732",
   "metadata": {
    "papermill": {
     "duration": 0.024576,
     "end_time": "2022-11-10T10:42:20.409018",
     "exception": false,
     "start_time": "2022-11-10T10:42:20.384442",
     "status": "completed"
    },
    "tags": []
   },
   "source": [
    "#### 3.2 Filter loadings for every tile, get last image in daterange and bands"
   ]
  },
  {
   "cell_type": "code",
   "execution_count": null,
   "id": "b5aeb9b1",
   "metadata": {
    "execution": {
     "iopub.execute_input": "2022-11-10T10:42:20.459214Z",
     "iopub.status.busy": "2022-11-10T10:42:20.458003Z",
     "iopub.status.idle": "2022-11-10T10:42:20.477650Z",
     "shell.execute_reply": "2022-11-10T10:42:20.475911Z"
    },
    "papermill": {
     "duration": 0.052314,
     "end_time": "2022-11-10T10:42:20.481469",
     "exception": false,
     "start_time": "2022-11-10T10:42:20.429155",
     "status": "completed"
    },
    "tags": []
   },
   "outputs": [],
   "source": [
    "def filter_by_date(loadings):\n",
    "    def _find_last_date(folders):        \n",
    "        dates = list()\n",
    "        for folder in folders:        \n",
    "            search = re.search(r\"_(\\d+)T\\d+_\", str(folder))\n",
    "            date = search.group(1)\n",
    "            date = datetime.strptime(date, '%Y%m%d')\n",
    "            dates.append(date)    \n",
    "        last_date = max(dates)\n",
    "        last_date = datetime.strftime(last_date, '%Y%m%d')\n",
    "        return last_date\n",
    "    \n",
    "    filtered = dict()\n",
    "    for tile, items in loadings.items():\n",
    "        try:\n",
    "            last_date = _find_last_date(items)\n",
    "            bands_paths = dict()\n",
    "            for path, _ in items:\n",
    "                if last_date in path:\n",
    "                    if 'B04_10m.jp2' in path:\n",
    "                        bands_paths['RED'] = path\n",
    "                    if 'B08_10m.jp2' in path:\n",
    "                        bands_paths['NIR'] = path\n",
    "                    if 'TCI_10m.jp2' in path:\n",
    "                        bands_paths['TCI'] = path\n",
    "            filtered[tile] = dict(paths=bands_paths, date=last_date)\n",
    "        except Exception as ex:\n",
    "            print(f\"Error for {tile}: {str(ex)}\")\n",
    "    return filtered"
   ]
  },
  {
   "cell_type": "code",
   "execution_count": null,
   "id": "309c3a15",
   "metadata": {
    "execution": {
     "iopub.execute_input": "2022-11-10T10:42:20.526438Z",
     "iopub.status.busy": "2022-11-10T10:42:20.525893Z",
     "iopub.status.idle": "2022-11-10T10:42:20.532541Z",
     "shell.execute_reply": "2022-11-10T10:42:20.530995Z"
    },
    "papermill": {
     "duration": 0.031574,
     "end_time": "2022-11-10T10:42:20.535612",
     "exception": false,
     "start_time": "2022-11-10T10:42:20.504038",
     "status": "completed"
    },
    "tags": []
   },
   "outputs": [],
   "source": [
    "filtered = filter_by_date(loadings)"
   ]
  },
  {
   "cell_type": "markdown",
   "id": "cefc02d7",
   "metadata": {
    "papermill": {
     "duration": 0.023087,
     "end_time": "2022-11-10T10:42:20.577450",
     "exception": false,
     "start_time": "2022-11-10T10:42:20.554363",
     "status": "completed"
    },
    "tags": []
   },
   "source": [
    "#### 4. Calculate NDVI"
   ]
  },
  {
   "cell_type": "code",
   "execution_count": null,
   "id": "3d1855e7",
   "metadata": {
    "execution": {
     "iopub.execute_input": "2022-11-10T10:42:20.623768Z",
     "iopub.status.busy": "2022-11-10T10:42:20.623202Z",
     "iopub.status.idle": "2022-11-10T10:42:20.630780Z",
     "shell.execute_reply": "2022-11-10T10:42:20.629181Z"
    },
    "papermill": {
     "duration": 0.033195,
     "end_time": "2022-11-10T10:42:20.634369",
     "exception": false,
     "start_time": "2022-11-10T10:42:20.601174",
     "status": "completed"
    },
    "tags": []
   },
   "outputs": [],
   "source": [
    "# RESULTS_DIR = os.path.join(BASE, \"results/example/tci_ndvi\")\n",
    "TEMP_DIR = \"/temp\"\n",
    "\n",
    "# NOTEBOOK_DIR = os.path.join(BASE, \"notebooks/example/tci_ndvi\")\n",
    "COLORMAP_BRBG = os.path.join(\"/code\", \"ndvi_colormap.npy\") "
   ]
  },
  {
   "cell_type": "markdown",
   "id": "c07232b5",
   "metadata": {
    "papermill": {
     "duration": 0.018701,
     "end_time": "2022-11-10T10:42:20.672120",
     "exception": false,
     "start_time": "2022-11-10T10:42:20.653419",
     "status": "completed"
    },
    "tags": []
   },
   "source": [
    "#### 4.1 Prepare color coding for NDVI"
   ]
  },
  {
   "cell_type": "code",
   "execution_count": null,
   "id": "6af971c1",
   "metadata": {
    "execution": {
     "iopub.execute_input": "2022-11-10T10:42:20.716512Z",
     "iopub.status.busy": "2022-11-10T10:42:20.715423Z",
     "iopub.status.idle": "2022-11-10T10:42:20.725129Z",
     "shell.execute_reply": "2022-11-10T10:42:20.723708Z"
    },
    "papermill": {
     "duration": 0.03806,
     "end_time": "2022-11-10T10:42:20.728737",
     "exception": false,
     "start_time": "2022-11-10T10:42:20.690677",
     "status": "completed"
    },
    "tags": []
   },
   "outputs": [],
   "source": [
    "def prepare_colors(colors):\n",
    "    colors = np.load(COLORMAP_BRBG)\n",
    "    if colors.shape[1] == 4:\n",
    "        # delete last channel, we use rgb\n",
    "        colors = np.delete(colors, 3, axis=1)\n",
    "    # colormap colors values in range [0-255], but in our case 0 - no data, -> have to color as [0, 0, 0] \n",
    "    colors[colors == 0] = 1\n",
    "    colors[0] = [0, 0, 0]\n",
    "    return colors"
   ]
  },
  {
   "cell_type": "code",
   "execution_count": null,
   "id": "ea37748c",
   "metadata": {
    "execution": {
     "iopub.execute_input": "2022-11-10T10:42:20.775246Z",
     "iopub.status.busy": "2022-11-10T10:42:20.773746Z",
     "iopub.status.idle": "2022-11-10T10:42:20.781343Z",
     "shell.execute_reply": "2022-11-10T10:42:20.780170Z"
    },
    "papermill": {
     "duration": 0.032755,
     "end_time": "2022-11-10T10:42:20.784677",
     "exception": false,
     "start_time": "2022-11-10T10:42:20.751922",
     "status": "completed"
    },
    "tags": []
   },
   "outputs": [],
   "source": [
    "COLORS = prepare_colors(COLORMAP_BRBG)"
   ]
  },
  {
   "cell_type": "code",
   "execution_count": null,
   "id": "b004f3ba",
   "metadata": {
    "execution": {
     "iopub.execute_input": "2022-11-10T10:42:20.831581Z",
     "iopub.status.busy": "2022-11-10T10:42:20.830968Z",
     "iopub.status.idle": "2022-11-10T10:42:20.840100Z",
     "shell.execute_reply": "2022-11-10T10:42:20.838706Z"
    },
    "papermill": {
     "duration": 0.03948,
     "end_time": "2022-11-10T10:42:20.843680",
     "exception": false,
     "start_time": "2022-11-10T10:42:20.804200",
     "status": "completed"
    },
    "tags": []
   },
   "outputs": [],
   "source": [
    "COLORS.shape"
   ]
  },
  {
   "cell_type": "code",
   "execution_count": null,
   "id": "14d73568",
   "metadata": {
    "execution": {
     "iopub.execute_input": "2022-11-10T10:42:20.888661Z",
     "iopub.status.busy": "2022-11-10T10:42:20.888155Z",
     "iopub.status.idle": "2022-11-10T10:42:20.902579Z",
     "shell.execute_reply": "2022-11-10T10:42:20.901202Z"
    },
    "papermill": {
     "duration": 0.0405,
     "end_time": "2022-11-10T10:42:20.905868",
     "exception": false,
     "start_time": "2022-11-10T10:42:20.865368",
     "status": "completed"
    },
    "tags": []
   },
   "outputs": [],
   "source": [
    "colormap_tag = {\"name\": \"Vegetation index\", \"colors\": [], \"labels\": [\"low\", \"high\"]}\n",
    "\n",
    "for color in COLORS:\n",
    "    color_str = \",\".join(list(map(lambda x: str(int(x)), color)))\n",
    "    colormap_tag['colors'].append(color_str)\n",
    "\n",
    "colormap_tag = json.dumps(colormap_tag)\n",
    "# example of colormap_tag format\n",
    "# {\"name\": \"Vegetation index\", \"colors\": [\"0,0,0\", \"255,0,0\", \"0,255,0\", \"0,0,255\" ...], \"labels\": [\"low\", \"high\"]}\n",
    "colormap_tag"
   ]
  },
  {
   "cell_type": "code",
   "execution_count": null,
   "id": "dca5c746",
   "metadata": {
    "execution": {
     "iopub.execute_input": "2022-11-10T10:42:20.955079Z",
     "iopub.status.busy": "2022-11-10T10:42:20.954155Z",
     "iopub.status.idle": "2022-11-10T10:42:20.964995Z",
     "shell.execute_reply": "2022-11-10T10:42:20.963497Z"
    },
    "papermill": {
     "duration": 0.043383,
     "end_time": "2022-11-10T10:42:20.968818",
     "exception": false,
     "start_time": "2022-11-10T10:42:20.925435",
     "status": "completed"
    },
    "tags": []
   },
   "outputs": [],
   "source": [
    "def scale(ndvi, a=1, b=255, nodata=0.0):\n",
    "    # ndvi is in range [-1; 1], nodata is setted to 0.0 value. Be careful with comprassions!\n",
    "    min = -1 # np.nanmin(ndvi)\n",
    "    max = 1 # np.nanmax(ndvi)\n",
    "    scaled = (b - a) * (ndvi - min) / (max - min) + a\n",
    "    scaled = np.around(scaled)\n",
    "    scaled[np.isnan(scaled) == True] = nodata\n",
    "    scaled = scaled.astype(np.uint8)\n",
    "    return scaled"
   ]
  },
  {
   "cell_type": "code",
   "execution_count": null,
   "id": "07c12274",
   "metadata": {
    "execution": {
     "iopub.execute_input": "2022-11-10T10:42:21.014980Z",
     "iopub.status.busy": "2022-11-10T10:42:21.013693Z",
     "iopub.status.idle": "2022-11-10T10:42:21.021471Z",
     "shell.execute_reply": "2022-11-10T10:42:21.020331Z"
    },
    "papermill": {
     "duration": 0.0327,
     "end_time": "2022-11-10T10:42:21.024524",
     "exception": false,
     "start_time": "2022-11-10T10:42:20.991824",
     "status": "completed"
    },
    "tags": []
   },
   "outputs": [],
   "source": [
    "def color_ndvi(scaled, colors):\n",
    "    colored = np.reshape(colors[scaled.flatten()], tuple((*scaled.shape, 3)))\n",
    "    colored = reshape_as_raster(colored)\n",
    "    return colored"
   ]
  },
  {
   "cell_type": "code",
   "execution_count": null,
   "id": "9a65269e",
   "metadata": {
    "execution": {
     "iopub.execute_input": "2022-11-10T10:42:21.071292Z",
     "iopub.status.busy": "2022-11-10T10:42:21.069843Z",
     "iopub.status.idle": "2022-11-10T10:42:21.086202Z",
     "shell.execute_reply": "2022-11-10T10:42:21.084672Z"
    },
    "papermill": {
     "duration": 0.046321,
     "end_time": "2022-11-10T10:42:21.090109",
     "exception": false,
     "start_time": "2022-11-10T10:42:21.043788",
     "status": "completed"
    },
    "tags": []
   },
   "outputs": [],
   "source": [
    "def NDVI(nir_path, red_path, save_path):\n",
    "    # Asllow division by zero\n",
    "    np.seterr(divide='ignore', invalid='ignore')\n",
    "    \n",
    "    with rasterio.open(nir_path) as src:\n",
    "        nir = src.read(1).astype(rasterio.float32)\n",
    "        crs = str(src.crs)\n",
    "    with rasterio.open(red_path) as src:\n",
    "        red = src.read(1).astype(rasterio.float32)\n",
    "\n",
    "    # Calculate NDVI\n",
    "    ndvi = ((nir - red) / (nir + red)) \n",
    "    \n",
    "    scaled = scale(ndvi)\n",
    "    colored = color_ndvi(scaled, COLORS) \n",
    "    \n",
    "    \n",
    "    # Set spatial characteristics of the output object\n",
    "    out_meta = src.meta.copy()    \n",
    "    out_meta.update(dtype=rasterio.uint8,\n",
    "                    driver='GTiff',\n",
    "                    nodata=0,\n",
    "                    count=3, )\n",
    "\n",
    "    # Create the file\n",
    "    with rasterio.open(save_path, 'w', **out_meta) as dst:\n",
    "         dst.write(colored)\n",
    "    return crs"
   ]
  },
  {
   "cell_type": "code",
   "execution_count": null,
   "id": "5ac4ef05",
   "metadata": {
    "execution": {
     "iopub.execute_input": "2022-11-10T10:42:21.134636Z",
     "iopub.status.busy": "2022-11-10T10:42:21.134106Z",
     "iopub.status.idle": "2022-11-10T10:42:21.142008Z",
     "shell.execute_reply": "2022-11-10T10:42:21.140668Z"
    },
    "papermill": {
     "duration": 0.03264,
     "end_time": "2022-11-10T10:42:21.145466",
     "exception": false,
     "start_time": "2022-11-10T10:42:21.112826",
     "status": "completed"
    },
    "tags": []
   },
   "outputs": [],
   "source": [
    "def to_crs(poly, target, current='EPSG:4326'):\n",
    "    # print(f\"TARGET CRS: {target}\")\n",
    "    project = pyproj.Transformer.from_crs(pyproj.CRS(current), pyproj.CRS(target), always_xy=True).transform\n",
    "    transformed_poly = transform(project, poly)\n",
    "    return transformed_poly "
   ]
  },
  {
   "cell_type": "code",
   "execution_count": null,
   "id": "1fc6417e",
   "metadata": {
    "execution": {
     "iopub.execute_input": "2022-11-10T10:42:21.191971Z",
     "iopub.status.busy": "2022-11-10T10:42:21.191368Z",
     "iopub.status.idle": "2022-11-10T10:42:21.204913Z",
     "shell.execute_reply": "2022-11-10T10:42:21.203582Z"
    },
    "papermill": {
     "duration": 0.043812,
     "end_time": "2022-11-10T10:42:21.208604",
     "exception": false,
     "start_time": "2022-11-10T10:42:21.164792",
     "status": "completed"
    },
    "tags": []
   },
   "outputs": [],
   "source": [
    "def crop(input_path, output_path, polygon, date, name=None, colormap=None):\n",
    "    with rasterio.open(input_path) as src:\n",
    "        out_image, out_transform = rasterio.mask.mask(src, [polygon], crop=True)\n",
    "        # print(out_transform)\n",
    "        out_meta = src.meta\n",
    "        \n",
    "        out_meta.update(driver='GTiff',\n",
    "                        height=out_image.shape[1],\n",
    "                        width=out_image.shape[2],\n",
    "                        transform=out_transform,\n",
    "                        nodata=0, )\n",
    "\n",
    "    with rasterio.open(output_path, \"w\", **out_meta) as dest:\n",
    "        dest.update_tags(start_date=date, end_date=date)\n",
    "        if name:\n",
    "            dest.update_tags(name=name)\n",
    "        if colormap:\n",
    "            dest.update_tags(colormap=colormap)\n",
    "        dest.write(out_image)"
   ]
  },
  {
   "cell_type": "code",
   "execution_count": null,
   "id": "87965acf",
   "metadata": {
    "execution": {
     "iopub.execute_input": "2022-11-10T10:42:21.251110Z",
     "iopub.status.busy": "2022-11-10T10:42:21.250618Z",
     "iopub.status.idle": "2022-11-10T10:42:21.264970Z",
     "shell.execute_reply": "2022-11-10T10:42:21.263642Z"
    },
    "papermill": {
     "duration": 0.038614,
     "end_time": "2022-11-10T10:42:21.267923",
     "exception": false,
     "start_time": "2022-11-10T10:42:21.229309",
     "status": "completed"
    },
    "tags": []
   },
   "outputs": [],
   "source": [
    "def transform_crs(data_path, save_path, dst_crs=\"EPSG:4326\", resolution=(10, 10)):\n",
    "    with rasterio.open(data_path) as src:\n",
    "        if resolution is None:\n",
    "            transform, width, height = calculate_default_transform(\n",
    "                src.crs, dst_crs, src.width, src.height, *src.bounds\n",
    "            )\n",
    "        else:\n",
    "            transform, width, height = calculate_default_transform(\n",
    "                src.crs,\n",
    "                dst_crs,\n",
    "                src.width,\n",
    "                src.height,\n",
    "                *src.bounds,\n",
    "                resolution=resolution,\n",
    "            )\n",
    "        kwargs = src.meta.copy()\n",
    "        kwargs.update(\n",
    "            {\"crs\": dst_crs, \"transform\": transform, \"width\": width, \"height\": height}\n",
    "        )\n",
    "        with rasterio.open(save_path, \"w\", **kwargs) as dst:\n",
    "            for i in range(1, src.count + 1):\n",
    "                reproject(\n",
    "                    source=rasterio.band(src, i),\n",
    "                    destination=rasterio.band(dst, i),\n",
    "                    src_transform=src.transform,\n",
    "                    src_crs=src.crs,\n",
    "                    dst_transform=transform,\n",
    "                    dst_crs=dst_crs,\n",
    "                    resampling=Resampling.nearest,\n",
    "                )\n",
    "\n",
    "    return save_path"
   ]
  },
  {
   "cell_type": "code",
   "execution_count": null,
   "id": "6e2b7e5a",
   "metadata": {
    "execution": {
     "iopub.execute_input": "2022-11-10T10:42:21.314046Z",
     "iopub.status.busy": "2022-11-10T10:42:21.313114Z",
     "iopub.status.idle": "2022-11-10T10:42:21.336190Z",
     "shell.execute_reply": "2022-11-10T10:42:21.334751Z"
    },
    "papermill": {
     "duration": 0.052588,
     "end_time": "2022-11-10T10:42:21.339775",
     "exception": false,
     "start_time": "2022-11-10T10:42:21.287187",
     "status": "completed"
    },
    "tags": []
   },
   "outputs": [],
   "source": [
    "def stitch_tiles(paths, out_raster_path, date, name=None, colormap=None):\n",
    "    if not isinstance(paths[0], str):\n",
    "        paths = [str(x) for x in paths]\n",
    "    tiles = []\n",
    "    tmp_files = []\n",
    "    \n",
    "    crs = None\n",
    "    meta = None\n",
    "    for i, path in enumerate(paths):\n",
    "        if i == 0:\n",
    "            file = rasterio.open(path)\n",
    "            meta, crs = file.meta, file.crs\n",
    "        else:\n",
    "            tmp_path = path.replace(\n",
    "                '.jp2', '_tmp.jp2').replace('.tif', '_tmp.tif')\n",
    "            crs_transformed = transform_crs(path, tmp_path, \n",
    "                                            dst_crs=crs, \n",
    "                                            resolution=None)\n",
    "            tmp_files.append(crs_transformed)\n",
    "            file = rasterio.open(crs_transformed)\n",
    "        tiles.append(file)\n",
    "            \n",
    "    tile_arr, transform = merge(tiles, method='last')\n",
    "    \n",
    "    meta.update({\"driver\": \"GTiff\",\n",
    "                 \"height\": tile_arr.shape[1],\n",
    "                 \"width\": tile_arr.shape[2],\n",
    "                 \"transform\": transform,\n",
    "                 \"crs\": crs})\n",
    "    \n",
    "    if '.jp2' in out_raster_path:\n",
    "        out_raster_path = out_raster_path.replace('.jp2', '.tif')\n",
    "    print(f'saved raster {out_raster_path}')\n",
    "\n",
    "    for tile in tiles:\n",
    "        tile.close()\n",
    "        \n",
    "    for tmp_file in tmp_files:\n",
    "        try:\n",
    "            os.remove(tmp_file)\n",
    "        except FileNotFoundError:\n",
    "            print(f'Tile {tmp_file} was removed or renamed, skipping')\n",
    "        \n",
    "    with rasterio.open(out_raster_path, \"w\", **meta) as dst:\n",
    "        dst.update_tags(start_date=date, end_date=date)\n",
    "        if name:\n",
    "            dst.update_tags(name=name)\n",
    "        if colormap:\n",
    "            dst.update_tags(colormap=colormap)\n",
    "        dst.write(tile_arr)\n",
    "    \n",
    "    return out_raster_path"
   ]
  },
  {
   "cell_type": "code",
   "execution_count": null,
   "id": "a3074baa",
   "metadata": {
    "execution": {
     "iopub.execute_input": "2022-11-10T10:42:21.382021Z",
     "iopub.status.busy": "2022-11-10T10:42:21.381277Z",
     "iopub.status.idle": "2022-11-10T10:42:21.391659Z",
     "shell.execute_reply": "2022-11-10T10:42:21.390070Z"
    },
    "papermill": {
     "duration": 0.035543,
     "end_time": "2022-11-10T10:42:21.395179",
     "exception": false,
     "start_time": "2022-11-10T10:42:21.359636",
     "status": "completed"
    },
    "tags": []
   },
   "outputs": [],
   "source": [
    "def dump_no_data_geosjon(polygon, geojson_path):\n",
    "    NO_DATA = 'No data'\n",
    "    TCI_NDVI_NO_DATA = 'TCI_NDVI\\nNo data available'\n",
    "    style = dict(color='red')\n",
    "    feature = Feature(geometry=polygon, properties=dict(label=NO_DATA, style=style))\n",
    "    feature['start_date'] = START_DATE\n",
    "    feature['end_date'] = END_DATE\n",
    "    feature['name'] = TCI_NDVI_NO_DATA\n",
    "    \n",
    "    with open(geojson_path, 'w') as f:\n",
    "        geojson.dump(feature, f)"
   ]
  },
  {
   "cell_type": "markdown",
   "id": "77977f03",
   "metadata": {
    "papermill": {
     "duration": 0.025869,
     "end_time": "2022-11-10T10:42:21.442626",
     "exception": false,
     "start_time": "2022-11-10T10:42:21.416757",
     "status": "completed"
    },
    "tags": []
   },
   "source": [
    "#### 4.2 Calculate and crop NDVI, TCI\n",
    "\n",
    "#### Filenames have next names: REQUESTID_TILE_ID_ACQUIREDDATE"
   ]
  },
  {
   "cell_type": "code",
   "execution_count": null,
   "id": "3788e04f",
   "metadata": {
    "execution": {
     "iopub.execute_input": "2022-11-10T10:42:21.498880Z",
     "iopub.status.busy": "2022-11-10T10:42:21.498154Z",
     "iopub.status.idle": "2022-11-10T10:42:48.702392Z",
     "shell.execute_reply": "2022-11-10T10:42:48.701061Z"
    },
    "papermill": {
     "duration": 27.235085,
     "end_time": "2022-11-10T10:42:48.705327",
     "exception": false,
     "start_time": "2022-11-10T10:42:21.470242",
     "status": "completed"
    },
    "tags": []
   },
   "outputs": [],
   "source": [
    "if not filtered:\n",
    "    geojson_path = os.path.join(OUTPUT_NODATA_FOLDER, \"aoi.geojson\")\n",
    "    dump_no_data_geosjon(aoi.geometry[0], geojson_path)    \n",
    "    raise ValueError(\"Images not loaded for given AOI. Change dates, constraints\")\n",
    "\n",
    "\n",
    "tci_images = []\n",
    "ndvi_images = []\n",
    "for row in overlap_tiles.itertuples():\n",
    "    tile = row.tile\n",
    "    polygon = row.geometry\n",
    "    if not tile in filtered:\n",
    "        tile_geojson_path = os.path.join(OUTPUT_NODATA_FOLDER, \"%s_aoi.geojson\" % tile)\n",
    "        print(\"No data loaded for tile\", tile)\n",
    "        dump_no_data_geosjon(polygon, tile_geojson_path)    \n",
    "    \n",
    "    try:\n",
    "        paths = filtered[tile]['paths']\n",
    "        print(f\"{tile}: Start calculation TCI, NDVI\")\n",
    "        \n",
    "        acquired_date = filtered[tile]['date']\n",
    "        base_filename = f\"{tile}_{acquired_date}_\"\n",
    "        temp_ndvi_filename = os.path.join(TEMP_DIR, base_filename + \"NDVI.tif.temp\")\n",
    "        temp_tci_filename = os.path.join(TEMP_DIR, base_filename + \"TCI.tif.temp\")\n",
    "        \n",
    "        tile_crs = NDVI(paths['NIR'], paths['RED'], temp_ndvi_filename)\n",
    "        transformed_poly = to_crs(polygon, tile_crs)\n",
    "        \n",
    "        # Crop and save NDVI\n",
    "        crop(temp_ndvi_filename, temp_ndvi_filename, transformed_poly, acquired_date, name=\"Sentinel-2 Vegetation Index (NDVI)\", colormap=colormap_tag)\n",
    "        # Crop and save TCI\n",
    "        crop(paths['TCI'], temp_tci_filename, transformed_poly, acquired_date, name=\"Sentinel-2 RGB raster\")\n",
    "        \n",
    "        print(f\"{tile}: End calculation TCI, NDVI\")\n",
    "    \n",
    "        ndvi_filename = temp_ndvi_filename[:-5]\n",
    "        tci_filename = temp_tci_filename[:-5]\n",
    "        print(f\"{tile}: Rename {temp_ndvi_filename}->{ndvi_filename}\\n {temp_tci_filename}->{tci_filename}\")\n",
    "        os.rename(temp_ndvi_filename, ndvi_filename)\n",
    "        os.rename(temp_tci_filename, tci_filename)\n",
    "        tci_images.append(tci_filename)\n",
    "        ndvi_images.append(ndvi_filename)\n",
    "    except Exception as e:\n",
    "        print(f\"{tile}: Cannot calculate TCI, NDVI: {str(e)}\")\n",
    "\n",
    "if tci_images:\n",
    "    tci_full = stitch_tiles(tci_images, OUTPUT_TCI_FILE, acquired_date,  name=\"Sentinel-2 RGB raster\")\n",
    "    ndvi_full = stitch_tiles(ndvi_images, OUTPUT_NDVI_FILE, acquired_date, name=\"Sentinel-2 Vegetation Index (NDVI)\", colormap=colormap_tag)\n",
    "    for i in range(len(tci_images)):\n",
    "        os.remove(tci_images[i])\n",
    "        os.remove(ndvi_images[i])"
   ]
  },
  {
   "cell_type": "code",
   "execution_count": null,
   "id": "4dea3340",
   "metadata": {
    "papermill": {
     "duration": 0.025489,
     "end_time": "2022-11-10T10:42:48.749010",
     "exception": false,
     "start_time": "2022-11-10T10:42:48.723521",
     "status": "completed"
    },
    "tags": []
   },
   "outputs": [],
   "source": []
  }
 ],
 "metadata": {
  "kernelspec": {
   "display_name": "Python 3.7.7 ('venv': venv)",
   "language": "python",
   "name": "python3"
  },
  "language_info": {
   "codemirror_mode": {
    "name": "ipython",
    "version": 3
   },
   "file_extension": ".py",
   "mimetype": "text/x-python",
   "name": "python",
   "nbconvert_exporter": "python",
   "pygments_lexer": "ipython3",
   "version": "3.7.7"
  },
  "papermill": {
   "default_parameters": {},
   "duration": 61.633404,
   "end_time": "2022-11-10T10:42:49.599679",
   "environment_variables": {},
   "exception": null,
   "input_path": "./TCI_NDVI.ipynb",
   "output_path": "./TCI_NDVI.ipynb",
   "parameters": {},
   "start_time": "2022-11-10T10:41:47.966275",
   "version": "2.4.0"
  },
  "vscode": {
   "interpreter": {
    "hash": "50edd631a3a560ea7324d5c52966dd3e43b748ed4c5045c62a87154f45d21dc5"
   }
  }
 },
 "nbformat": 4,
 "nbformat_minor": 5
}
