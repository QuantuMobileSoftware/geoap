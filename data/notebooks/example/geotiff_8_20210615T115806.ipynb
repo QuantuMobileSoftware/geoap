{
 "cells": [
  {
   "cell_type": "markdown",
   "metadata": {},
   "source": [
    "#### Test notebook that generates .tif files and stores in /results folder. Use **python37** kernel."
   ]
  },
  {
   "cell_type": "code",
   "execution_count": 1,
   "metadata": {
    "execution": {
     "iopub.execute_input": "2021-06-15T11:58:09.114696Z",
     "iopub.status.busy": "2021-06-15T11:58:09.113639Z",
     "iopub.status.idle": "2021-06-15T11:58:11.757640Z",
     "shell.execute_reply": "2021-06-15T11:58:11.758399Z"
    }
   },
   "outputs": [],
   "source": [
    "import os\n",
    "import os.path\n",
    "import sys\n",
    "import rasterio\n",
    "import pyproj\n",
    "import zipfile\n",
    "import tempfile\n",
    "import random\n",
    "import requests\n",
    "import time\n",
    "\n",
    "from rasterio.windows import Window\n",
    "from rasterio import Affine\n",
    "from shapely.geometry import Polygon\n",
    "from shapely.ops import transform\n",
    "from pathlib import Path\n",
    "from datetime import datetime\n",
    "\n",
    "from sentinel2download.downloader import Sentinel2Downloader\n",
    "from sentinel2download.overlap import Sentinel2Overlap\n",
    "\n",
    "# added by backend notebook_executor.py script:\n",
    "REQUEST_ID = 8\n",
    "AOI = 'POLYGON ((36.33779525756836 50.05697345978498, 36.3123893737793 50.05592644394527, 36.30964279174805 50.04517943449594, 36.31367683410645 50.03520185144665, 36.33110046386719 50.03035012265608, 36.353759765625 50.031122021389, 36.36208534240722 50.04176193236391, 36.35839462280273 50.052675038602, 36.35135650634766 50.05724898647173, 36.33779525756836 50.05697345978498))'\n",
    "START_DATE = None\n",
    "END_DATE = None"
   ]
  },
  {
   "cell_type": "code",
   "execution_count": 2,
   "metadata": {
    "execution": {
     "iopub.execute_input": "2021-06-15T11:58:11.766000Z",
     "iopub.status.busy": "2021-06-15T11:58:11.763789Z",
     "iopub.status.idle": "2021-06-15T11:58:11.780480Z",
     "shell.execute_reply": "2021-06-15T11:58:11.782379Z"
    }
   },
   "outputs": [
    {
     "data": {
      "text/plain": [
       "'3.7.9 | packaged by conda-forge | (default, Dec  9 2020, 21:08:20) \\n[GCC 9.3.0]'"
      ]
     },
     "execution_count": 1,
     "metadata": {},
     "output_type": "execute_result"
    }
   ],
   "source": [
    "sys.version"
   ]
  },
  {
   "cell_type": "code",
   "execution_count": 3,
   "metadata": {
    "execution": {
     "iopub.execute_input": "2021-06-15T11:58:11.790372Z",
     "iopub.status.busy": "2021-06-15T11:58:11.788422Z",
     "iopub.status.idle": "2021-06-15T11:58:11.803458Z",
     "shell.execute_reply": "2021-06-15T11:58:11.804395Z"
    }
   },
   "outputs": [
    {
     "name": "stdout",
     "output_type": "stream",
     "text": [
      "jovyan\n"
     ]
    }
   ],
   "source": [
    "NB_USER = os.getenv('NB_USER')\n",
    "print(NB_USER)"
   ]
  },
  {
   "cell_type": "code",
   "execution_count": 4,
   "metadata": {
    "execution": {
     "iopub.execute_input": "2021-06-15T11:58:11.808558Z",
     "iopub.status.busy": "2021-06-15T11:58:11.807905Z",
     "iopub.status.idle": "2021-06-15T11:58:11.814143Z",
     "shell.execute_reply": "2021-06-15T11:58:11.815012Z"
    }
   },
   "outputs": [],
   "source": [
    "api_key = f\"/home/{NB_USER}/work/.secret/sentinel2_google_api_key.json\""
   ]
  },
  {
   "cell_type": "code",
   "execution_count": 5,
   "metadata": {
    "execution": {
     "iopub.execute_input": "2021-06-15T11:58:11.828459Z",
     "iopub.status.busy": "2021-06-15T11:58:11.824651Z",
     "iopub.status.idle": "2021-06-15T11:58:11.837197Z",
     "shell.execute_reply": "2021-06-15T11:58:11.839152Z"
    }
   },
   "outputs": [],
   "source": [
    "tetleha = [(\n",
    "              36.63013458251953,\n",
    "              49.87273390600898\n",
    "            ),\n",
    "            (\n",
    "              36.81964874267578,\n",
    "              49.87273390600898\n",
    "            ),\n",
    "            (\n",
    "              36.81964874267578,\n",
    "              49.98103318054302\n",
    "            ),\n",
    "            (\n",
    "              36.63013458251953,\n",
    "              49.98103318054302\n",
    "            ),\n",
    "            (\n",
    "              36.63013458251953,\n",
    "              49.87273390600898\n",
    "            ), ]\n",
    "\n",
    "forest = [(\n",
    "              36.747894287109375,\n",
    "              50.008400954338185\n",
    "            ),\n",
    "            (\n",
    "              36.88556671142578,\n",
    "              49.874282751903394\n",
    "            ),\n",
    "            (\n",
    "              37.00366973876953,\n",
    "              49.92647191927194\n",
    "            ),\n",
    "            (\n",
    "              36.84711456298828,\n",
    "              50.03707625174409\n",
    "            ),\n",
    "            (\n",
    "              36.747894287109375,\n",
    "              50.008400954338185\n",
    "            ),\n",
    "          ]\n",
    "kharkiv = [(\n",
    "              36.066741943359375,\n",
    "              50.03773778732018\n",
    "            ),\n",
    "            (\n",
    "              36.25556945800781,\n",
    "              49.87295517274949\n",
    "            ),\n",
    "            (\n",
    "              36.46568298339844,\n",
    "              49.96447253142292\n",
    "            ),\n",
    "            (\n",
    "              36.31874084472656,\n",
    "              50.072565780723615\n",
    "            ),\n",
    "            (\n",
    "              36.066741943359375,\n",
    "              50.03773778732018\n",
    "            ),\n",
    "          ]"
   ]
  },
  {
   "cell_type": "code",
   "execution_count": 6,
   "metadata": {
    "execution": {
     "iopub.execute_input": "2021-06-15T11:58:11.845969Z",
     "iopub.status.busy": "2021-06-15T11:58:11.844768Z",
     "iopub.status.idle": "2021-06-15T11:58:11.868059Z",
     "shell.execute_reply": "2021-06-15T11:58:11.867088Z"
    }
   },
   "outputs": [],
   "source": [
    "def _str_time_prop(start, end, format, prop):\n",
    "    \"\"\"Get a time at a proportion of a range of two formatted times.\n",
    "\n",
    "    start and end should be strings specifying times formated in the\n",
    "    given format (strftime-style), giving an interval [start, end].\n",
    "    prop specifies how a proportion of the interval to be taken after\n",
    "    start.  The returned time will be in the specified format.\n",
    "    \"\"\"\n",
    "\n",
    "    stime = time.mktime(time.strptime(start, format))\n",
    "    etime = time.mktime(time.strptime(end, format))\n",
    "\n",
    "    ptime = stime + prop * (etime - stime)\n",
    "\n",
    "    return time.strftime(format, time.localtime(ptime))\n",
    "\n",
    "\n",
    "def random_date(start=\"2020-01-01T00:00:00\", end=datetime.today().strftime('%Y-%m-%dT%H:%M:%S')):\n",
    "    return _str_time_prop(start, end, '%Y-%m-%dT%H:%M:%S', random.random())"
   ]
  },
  {
   "cell_type": "code",
   "execution_count": 7,
   "metadata": {
    "execution": {
     "iopub.execute_input": "2021-06-15T11:58:11.898494Z",
     "iopub.status.busy": "2021-06-15T11:58:11.893485Z",
     "iopub.status.idle": "2021-06-15T11:58:11.912397Z",
     "shell.execute_reply": "2021-06-15T11:58:11.909448Z"
    }
   },
   "outputs": [],
   "source": [
    "def crop(input_path, output_path, polygon, name):\n",
    "    with rasterio.open(input_path) as src:\n",
    "        x_min, y_min, x_max, y_max = polygon.bounds\n",
    "        \n",
    "        affine = Affine(src.transform[0],\n",
    "                        src.transform[1],\n",
    "                        x_min,\n",
    "                        src.transform[3],\n",
    "                        src.transform[4],\n",
    "                        y_max)\n",
    "\n",
    "        row_min, col_max = rasterio.transform.rowcol(src.transform, x_max, y_max)\n",
    "        row_max, col_min = rasterio.transform.rowcol(src.transform, x_min, y_min, op=round, precision=6)\n",
    "        row_min = row_min + 1\n",
    "        row_max = row_max + 1\n",
    "        \n",
    "        write_window = Window.from_slices([row_min, row_max], [col_min, col_max])\n",
    "        raster = src.read(window=write_window)\n",
    "        kwargs = src.meta.copy()\n",
    "        kwargs.update({\n",
    "            'height': write_window.height,\n",
    "            'width': write_window.width,\n",
    "            \"transform\": affine,\n",
    "            'driver': 'GTiff'\n",
    "        })\n",
    "\n",
    "        with rasterio.open(output_path, 'w', **kwargs) as dst:\n",
    "            if random.choice([True, False]):\n",
    "                print(f\"Randomly selected to add name {name}\")\n",
    "                dst.update_tags(name=name)\n",
    "            if random.choice([True, False]):             \n",
    "                start_date = random_date()\n",
    "                end_date = random_date(start_date)\n",
    "                print(f\"Randomly selected to add start_date: {start_date} and end_date: {end_date}\")   \n",
    "                dst.update_tags(start_date=start_date, end_date=end_date)    \n",
    "            # if random.choice([True, False]):\n",
    "            #    request_id = 2\n",
    "            #    print(f\"Randomly selected to add request_id {request_id}\")\n",
    "            #    dst.update_tags(request_id=request_id)\n",
    "            dst.write(raster)"
   ]
  },
  {
   "cell_type": "code",
   "execution_count": 8,
   "metadata": {
    "execution": {
     "iopub.execute_input": "2021-06-15T11:58:11.926296Z",
     "iopub.status.busy": "2021-06-15T11:58:11.924766Z",
     "iopub.status.idle": "2021-06-15T11:58:11.932341Z",
     "shell.execute_reply": "2021-06-15T11:58:11.933315Z"
    }
   },
   "outputs": [],
   "source": [
    "def convert(input_path, output_path, format='GTiff'):\n",
    "    with rasterio.open(input_path) as src:\n",
    "        raster = src.read()\n",
    "        crs = str(src.crs)\n",
    "                \n",
    "        kwargs = src.meta.copy()\n",
    "        kwargs.update({'driver': format})\n",
    "        \n",
    "        \n",
    "        with rasterio.open(output_path, 'w', **kwargs) as dst:\n",
    "            dst.write(raster)\n",
    "        return crs"
   ]
  },
  {
   "cell_type": "code",
   "execution_count": 9,
   "metadata": {
    "execution": {
     "iopub.execute_input": "2021-06-15T11:58:11.941114Z",
     "iopub.status.busy": "2021-06-15T11:58:11.937613Z",
     "iopub.status.idle": "2021-06-15T11:58:11.954084Z",
     "shell.execute_reply": "2021-06-15T11:58:11.955423Z"
    }
   },
   "outputs": [],
   "source": [
    "def to_crs(poly, target, current='EPSG:4326'):\n",
    "    project = pyproj.Transformer.from_crs(pyproj.CRS(current), pyproj.CRS(target), always_xy=True).transform\n",
    "    transformed_poly = transform(project, poly)\n",
    "    return transformed_poly "
   ]
  },
  {
   "cell_type": "code",
   "execution_count": 10,
   "metadata": {
    "execution": {
     "iopub.execute_input": "2021-06-15T11:58:11.962016Z",
     "iopub.status.busy": "2021-06-15T11:58:11.959931Z",
     "iopub.status.idle": "2021-06-15T11:58:11.973604Z",
     "shell.execute_reply": "2021-06-15T11:58:11.975416Z"
    }
   },
   "outputs": [],
   "source": [
    "def load_tile(dir_):\n",
    "    verbose = False\n",
    "    tiles = {'36UYA', }\n",
    "    product_type = 'L2A' \n",
    "    start_date = \"2020-07-01\"\n",
    "    end_date = \"2020-07-10\"\n",
    "    output_dir = dir_\n",
    "    cores = 2\n",
    "    BANDS = {'TCI',}\n",
    "    CONSTRAINTS = {'NODATA_PIXEL_PERCENTAGE': 15.0, 'CLOUDY_PIXEL_PERCENTAGE': 10.0, }\n",
    "    \n",
    "    loader = Sentinel2Downloader(api_key, verbose=verbose)\n",
    "    loaded = loader.download(product_type,\n",
    "                             tiles,\n",
    "                             start_date=start_date,\n",
    "                             end_date=end_date,\n",
    "                             output_dir=output_dir,\n",
    "                             cores=cores,\n",
    "                             bands=BANDS,\n",
    "                             constraints=CONSTRAINTS)\n",
    "    for save_path, _ in loaded:\n",
    "        if save_path.endswith('TCI_10m.jp2'):\n",
    "            print(save_path)\n",
    "            return save_path"
   ]
  },
  {
   "cell_type": "code",
   "execution_count": 11,
   "metadata": {
    "execution": {
     "iopub.execute_input": "2021-06-15T11:58:11.985266Z",
     "iopub.status.busy": "2021-06-15T11:58:11.983556Z",
     "iopub.status.idle": "2021-06-15T11:58:12.000499Z",
     "shell.execute_reply": "2021-06-15T11:58:12.001464Z"
    }
   },
   "outputs": [],
   "source": [
    "def generate(dir_, tile_path, aoi, location_name):\n",
    "    \n",
    "    stem = Path(tile_path).stem\n",
    "    tif_path = f\"{dir_}/{stem}.tif\"    \n",
    "    target_crs = convert(tile_path, tif_path)\n",
    "    aoi = to_crs(Polygon(aoi), target_crs)\n",
    "\n",
    "    temp_output_path = f\"/home/{NB_USER}/work/results/example/{stem}_{location_name}.tif.temp\"\n",
    "    os.makedirs(os.path.dirname(temp_output_path), exist_ok=True)\n",
    "    \n",
    "    crop(tif_path, temp_output_path, aoi, location_name)\n",
    "    \n",
    "    print(f\"Generated temp file: {temp_output_path}\")\n",
    "    output_path = temp_output_path[:-5]\n",
    "    print(f\"Rename temp file: {temp_output_path} to {output_path}\")\n",
    "    os.rename(temp_output_path, output_path)"
   ]
  },
  {
   "cell_type": "code",
   "execution_count": 12,
   "metadata": {
    "execution": {
     "iopub.execute_input": "2021-06-15T11:58:12.008333Z",
     "iopub.status.busy": "2021-06-15T11:58:12.007429Z",
     "iopub.status.idle": "2021-06-15T11:58:12.013039Z",
     "shell.execute_reply": "2021-06-15T11:58:12.014616Z"
    }
   },
   "outputs": [],
   "source": [
    "dir_ = f\"/home/{NB_USER}/work/satellite_imagery\""
   ]
  },
  {
   "cell_type": "markdown",
   "metadata": {},
   "source": [
    "### main execution cell"
   ]
  },
  {
   "cell_type": "code",
   "execution_count": 13,
   "metadata": {
    "execution": {
     "iopub.execute_input": "2021-06-15T11:58:12.023109Z",
     "iopub.status.busy": "2021-06-15T11:58:12.021964Z",
     "iopub.status.idle": "2021-06-15T11:58:12.283391Z",
     "shell.execute_reply": "2021-06-15T11:58:12.288196Z"
    }
   },
   "outputs": [
    {
     "ename": "DefaultCredentialsError",
     "evalue": "File /home/jovyan/work/.secret/sentinel2_google_api_key.json was not found.",
     "output_type": "error",
     "traceback": [
      "\u001b[0;31m---------------------------------------------------------------------------\u001b[0m",
      "\u001b[0;31mDefaultCredentialsError\u001b[0m                   Traceback (most recent call last)",
      "\u001b[0;32m<ipython-input-1-9e2791215cfc>\u001b[0m in \u001b[0;36m<module>\u001b[0;34m\u001b[0m\n\u001b[0;32m----> 1\u001b[0;31m \u001b[0mtile_path\u001b[0m \u001b[0;34m=\u001b[0m \u001b[0mload_tile\u001b[0m\u001b[0;34m(\u001b[0m\u001b[0mdir_\u001b[0m\u001b[0;34m)\u001b[0m\u001b[0;34m\u001b[0m\u001b[0;34m\u001b[0m\u001b[0m\n\u001b[0m\u001b[1;32m      2\u001b[0m \u001b[0;32mwith\u001b[0m \u001b[0mtempfile\u001b[0m\u001b[0;34m.\u001b[0m\u001b[0mTemporaryDirectory\u001b[0m\u001b[0;34m(\u001b[0m\u001b[0mdir\u001b[0m\u001b[0;34m=\u001b[0m\u001b[0mdir_\u001b[0m\u001b[0;34m)\u001b[0m \u001b[0;32mas\u001b[0m \u001b[0mtmpdirname\u001b[0m\u001b[0;34m:\u001b[0m\u001b[0;34m\u001b[0m\u001b[0;34m\u001b[0m\u001b[0m\n\u001b[1;32m      3\u001b[0m     \u001b[0mprint\u001b[0m\u001b[0;34m(\u001b[0m\u001b[0;34m'Сreated temporary directory for calculations:'\u001b[0m\u001b[0;34m,\u001b[0m \u001b[0mtmpdirname\u001b[0m\u001b[0;34m)\u001b[0m\u001b[0;34m\u001b[0m\u001b[0;34m\u001b[0m\u001b[0m\n\u001b[1;32m      4\u001b[0m \u001b[0;34m\u001b[0m\u001b[0m\n\u001b[1;32m      5\u001b[0m     \u001b[0mlocations\u001b[0m \u001b[0;34m=\u001b[0m \u001b[0;34m{\u001b[0m\u001b[0;34m'tetleha'\u001b[0m\u001b[0;34m:\u001b[0m \u001b[0mtetleha\u001b[0m\u001b[0;34m,\u001b[0m \u001b[0;34m'forest'\u001b[0m\u001b[0;34m:\u001b[0m \u001b[0mforest\u001b[0m\u001b[0;34m,\u001b[0m \u001b[0;34m'kharkiv'\u001b[0m\u001b[0;34m:\u001b[0m \u001b[0mkharkiv\u001b[0m\u001b[0;34m}\u001b[0m\u001b[0;34m\u001b[0m\u001b[0;34m\u001b[0m\u001b[0m\n",
      "\u001b[0;32m<ipython-input-1-9e9c9a61f801>\u001b[0m in \u001b[0;36mload_tile\u001b[0;34m(dir_)\u001b[0m\n\u001b[1;32m     10\u001b[0m     \u001b[0mCONSTRAINTS\u001b[0m \u001b[0;34m=\u001b[0m \u001b[0;34m{\u001b[0m\u001b[0;34m'NODATA_PIXEL_PERCENTAGE'\u001b[0m\u001b[0;34m:\u001b[0m \u001b[0;36m15.0\u001b[0m\u001b[0;34m,\u001b[0m \u001b[0;34m'CLOUDY_PIXEL_PERCENTAGE'\u001b[0m\u001b[0;34m:\u001b[0m \u001b[0;36m10.0\u001b[0m\u001b[0;34m,\u001b[0m \u001b[0;34m}\u001b[0m\u001b[0;34m\u001b[0m\u001b[0;34m\u001b[0m\u001b[0m\n\u001b[1;32m     11\u001b[0m \u001b[0;34m\u001b[0m\u001b[0m\n\u001b[0;32m---> 12\u001b[0;31m     \u001b[0mloader\u001b[0m \u001b[0;34m=\u001b[0m \u001b[0mSentinel2Downloader\u001b[0m\u001b[0;34m(\u001b[0m\u001b[0mapi_key\u001b[0m\u001b[0;34m,\u001b[0m \u001b[0mverbose\u001b[0m\u001b[0;34m=\u001b[0m\u001b[0mverbose\u001b[0m\u001b[0;34m)\u001b[0m\u001b[0;34m\u001b[0m\u001b[0;34m\u001b[0m\u001b[0m\n\u001b[0m\u001b[1;32m     13\u001b[0m     loaded = loader.download(product_type,\n\u001b[1;32m     14\u001b[0m                              \u001b[0mtiles\u001b[0m\u001b[0;34m,\u001b[0m\u001b[0;34m\u001b[0m\u001b[0;34m\u001b[0m\u001b[0m\n",
      "\u001b[0;32m/opt/conda/envs/python37/lib/python3.7/site-packages/sentinel2download/downloader.py\u001b[0m in \u001b[0;36m__init__\u001b[0;34m(self, api_key, verbose)\u001b[0m\n\u001b[1;32m     40\u001b[0m \u001b[0;34m\u001b[0m\u001b[0m\n\u001b[1;32m     41\u001b[0m         \u001b[0mos\u001b[0m\u001b[0;34m.\u001b[0m\u001b[0menviron\u001b[0m\u001b[0;34m[\u001b[0m\u001b[0;34m'GOOGLE_APPLICATION_CREDENTIALS'\u001b[0m\u001b[0;34m]\u001b[0m \u001b[0;34m=\u001b[0m \u001b[0mapi_key\u001b[0m\u001b[0;34m\u001b[0m\u001b[0;34m\u001b[0m\u001b[0m\n\u001b[0;32m---> 42\u001b[0;31m         \u001b[0mself\u001b[0m\u001b[0;34m.\u001b[0m\u001b[0mclient\u001b[0m \u001b[0;34m=\u001b[0m \u001b[0mstorage\u001b[0m\u001b[0;34m.\u001b[0m\u001b[0mClient\u001b[0m\u001b[0;34m(\u001b[0m\u001b[0;34m)\u001b[0m\u001b[0;34m\u001b[0m\u001b[0;34m\u001b[0m\u001b[0m\n\u001b[0m\u001b[1;32m     43\u001b[0m         \u001b[0mself\u001b[0m\u001b[0;34m.\u001b[0m\u001b[0mbucket\u001b[0m \u001b[0;34m=\u001b[0m \u001b[0mself\u001b[0m\u001b[0;34m.\u001b[0m\u001b[0mclient\u001b[0m\u001b[0;34m.\u001b[0m\u001b[0mget_bucket\u001b[0m\u001b[0;34m(\u001b[0m\u001b[0;34m'gcp-public-data-sentinel-2'\u001b[0m\u001b[0;34m)\u001b[0m\u001b[0;34m\u001b[0m\u001b[0;34m\u001b[0m\u001b[0m\n\u001b[1;32m     44\u001b[0m         \u001b[0mself\u001b[0m\u001b[0;34m.\u001b[0m\u001b[0mmetadata_suffix\u001b[0m \u001b[0;34m=\u001b[0m \u001b[0;34m'MTD_TL.xml'\u001b[0m\u001b[0;34m\u001b[0m\u001b[0;34m\u001b[0m\u001b[0m\n",
      "\u001b[0;32m/opt/conda/envs/python37/lib/python3.7/site-packages/google/cloud/storage/client.py\u001b[0m in \u001b[0;36m__init__\u001b[0;34m(self, project, credentials, _http, client_info, client_options)\u001b[0m\n\u001b[1;32m    117\u001b[0m             \u001b[0mcredentials\u001b[0m\u001b[0;34m=\u001b[0m\u001b[0mcredentials\u001b[0m\u001b[0;34m,\u001b[0m\u001b[0;34m\u001b[0m\u001b[0;34m\u001b[0m\u001b[0m\n\u001b[1;32m    118\u001b[0m             \u001b[0mclient_options\u001b[0m\u001b[0;34m=\u001b[0m\u001b[0mclient_options\u001b[0m\u001b[0;34m,\u001b[0m\u001b[0;34m\u001b[0m\u001b[0;34m\u001b[0m\u001b[0m\n\u001b[0;32m--> 119\u001b[0;31m             \u001b[0m_http\u001b[0m\u001b[0;34m=\u001b[0m\u001b[0m_http\u001b[0m\u001b[0;34m,\u001b[0m\u001b[0;34m\u001b[0m\u001b[0;34m\u001b[0m\u001b[0m\n\u001b[0m\u001b[1;32m    120\u001b[0m         )\n\u001b[1;32m    121\u001b[0m \u001b[0;34m\u001b[0m\u001b[0m\n",
      "\u001b[0;32m/opt/conda/envs/python37/lib/python3.7/site-packages/google/cloud/client.py\u001b[0m in \u001b[0;36m__init__\u001b[0;34m(self, project, credentials, client_options, _http)\u001b[0m\n\u001b[1;32m    247\u001b[0m \u001b[0;34m\u001b[0m\u001b[0m\n\u001b[1;32m    248\u001b[0m     \u001b[0;32mdef\u001b[0m \u001b[0m__init__\u001b[0m\u001b[0;34m(\u001b[0m\u001b[0mself\u001b[0m\u001b[0;34m,\u001b[0m \u001b[0mproject\u001b[0m\u001b[0;34m=\u001b[0m\u001b[0;32mNone\u001b[0m\u001b[0;34m,\u001b[0m \u001b[0mcredentials\u001b[0m\u001b[0;34m=\u001b[0m\u001b[0;32mNone\u001b[0m\u001b[0;34m,\u001b[0m \u001b[0mclient_options\u001b[0m\u001b[0;34m=\u001b[0m\u001b[0;32mNone\u001b[0m\u001b[0;34m,\u001b[0m \u001b[0m_http\u001b[0m\u001b[0;34m=\u001b[0m\u001b[0;32mNone\u001b[0m\u001b[0;34m)\u001b[0m\u001b[0;34m:\u001b[0m\u001b[0;34m\u001b[0m\u001b[0;34m\u001b[0m\u001b[0m\n\u001b[0;32m--> 249\u001b[0;31m         \u001b[0m_ClientProjectMixin\u001b[0m\u001b[0;34m.\u001b[0m\u001b[0m__init__\u001b[0m\u001b[0;34m(\u001b[0m\u001b[0mself\u001b[0m\u001b[0;34m,\u001b[0m \u001b[0mproject\u001b[0m\u001b[0;34m=\u001b[0m\u001b[0mproject\u001b[0m\u001b[0;34m)\u001b[0m\u001b[0;34m\u001b[0m\u001b[0;34m\u001b[0m\u001b[0m\n\u001b[0m\u001b[1;32m    250\u001b[0m         \u001b[0mClient\u001b[0m\u001b[0;34m.\u001b[0m\u001b[0m__init__\u001b[0m\u001b[0;34m(\u001b[0m\u001b[0mself\u001b[0m\u001b[0;34m,\u001b[0m \u001b[0mcredentials\u001b[0m\u001b[0;34m=\u001b[0m\u001b[0mcredentials\u001b[0m\u001b[0;34m,\u001b[0m \u001b[0mclient_options\u001b[0m\u001b[0;34m=\u001b[0m\u001b[0mclient_options\u001b[0m\u001b[0;34m,\u001b[0m \u001b[0m_http\u001b[0m\u001b[0;34m=\u001b[0m\u001b[0m_http\u001b[0m\u001b[0;34m)\u001b[0m\u001b[0;34m\u001b[0m\u001b[0;34m\u001b[0m\u001b[0m\n",
      "\u001b[0;32m/opt/conda/envs/python37/lib/python3.7/site-packages/google/cloud/client.py\u001b[0m in \u001b[0;36m__init__\u001b[0;34m(self, project)\u001b[0m\n\u001b[1;32m    199\u001b[0m \u001b[0;34m\u001b[0m\u001b[0m\n\u001b[1;32m    200\u001b[0m     \u001b[0;32mdef\u001b[0m \u001b[0m__init__\u001b[0m\u001b[0;34m(\u001b[0m\u001b[0mself\u001b[0m\u001b[0;34m,\u001b[0m \u001b[0mproject\u001b[0m\u001b[0;34m=\u001b[0m\u001b[0;32mNone\u001b[0m\u001b[0;34m)\u001b[0m\u001b[0;34m:\u001b[0m\u001b[0;34m\u001b[0m\u001b[0;34m\u001b[0m\u001b[0m\n\u001b[0;32m--> 201\u001b[0;31m         \u001b[0mproject\u001b[0m \u001b[0;34m=\u001b[0m \u001b[0mself\u001b[0m\u001b[0;34m.\u001b[0m\u001b[0m_determine_default\u001b[0m\u001b[0;34m(\u001b[0m\u001b[0mproject\u001b[0m\u001b[0;34m)\u001b[0m\u001b[0;34m\u001b[0m\u001b[0;34m\u001b[0m\u001b[0m\n\u001b[0m\u001b[1;32m    202\u001b[0m         \u001b[0;32mif\u001b[0m \u001b[0mproject\u001b[0m \u001b[0;32mis\u001b[0m \u001b[0;32mNone\u001b[0m\u001b[0;34m:\u001b[0m\u001b[0;34m\u001b[0m\u001b[0;34m\u001b[0m\u001b[0m\n\u001b[1;32m    203\u001b[0m             raise EnvironmentError(\n",
      "\u001b[0;32m/opt/conda/envs/python37/lib/python3.7/site-packages/google/cloud/client.py\u001b[0m in \u001b[0;36m_determine_default\u001b[0;34m(project)\u001b[0m\n\u001b[1;32m    214\u001b[0m     \u001b[0;32mdef\u001b[0m \u001b[0m_determine_default\u001b[0m\u001b[0;34m(\u001b[0m\u001b[0mproject\u001b[0m\u001b[0;34m)\u001b[0m\u001b[0;34m:\u001b[0m\u001b[0;34m\u001b[0m\u001b[0;34m\u001b[0m\u001b[0m\n\u001b[1;32m    215\u001b[0m         \u001b[0;34m\"\"\"Helper:  use default project detection.\"\"\"\u001b[0m\u001b[0;34m\u001b[0m\u001b[0;34m\u001b[0m\u001b[0m\n\u001b[0;32m--> 216\u001b[0;31m         \u001b[0;32mreturn\u001b[0m \u001b[0m_determine_default_project\u001b[0m\u001b[0;34m(\u001b[0m\u001b[0mproject\u001b[0m\u001b[0;34m)\u001b[0m\u001b[0;34m\u001b[0m\u001b[0;34m\u001b[0m\u001b[0m\n\u001b[0m\u001b[1;32m    217\u001b[0m \u001b[0;34m\u001b[0m\u001b[0m\n\u001b[1;32m    218\u001b[0m \u001b[0;34m\u001b[0m\u001b[0m\n",
      "\u001b[0;32m/opt/conda/envs/python37/lib/python3.7/site-packages/google/cloud/_helpers.py\u001b[0m in \u001b[0;36m_determine_default_project\u001b[0;34m(project)\u001b[0m\n\u001b[1;32m    184\u001b[0m     \"\"\"\n\u001b[1;32m    185\u001b[0m     \u001b[0;32mif\u001b[0m \u001b[0mproject\u001b[0m \u001b[0;32mis\u001b[0m \u001b[0;32mNone\u001b[0m\u001b[0;34m:\u001b[0m\u001b[0;34m\u001b[0m\u001b[0;34m\u001b[0m\u001b[0m\n\u001b[0;32m--> 186\u001b[0;31m         \u001b[0m_\u001b[0m\u001b[0;34m,\u001b[0m \u001b[0mproject\u001b[0m \u001b[0;34m=\u001b[0m \u001b[0mgoogle\u001b[0m\u001b[0;34m.\u001b[0m\u001b[0mauth\u001b[0m\u001b[0;34m.\u001b[0m\u001b[0mdefault\u001b[0m\u001b[0;34m(\u001b[0m\u001b[0;34m)\u001b[0m\u001b[0;34m\u001b[0m\u001b[0;34m\u001b[0m\u001b[0m\n\u001b[0m\u001b[1;32m    187\u001b[0m     \u001b[0;32mreturn\u001b[0m \u001b[0mproject\u001b[0m\u001b[0;34m\u001b[0m\u001b[0;34m\u001b[0m\u001b[0m\n\u001b[1;32m    188\u001b[0m \u001b[0;34m\u001b[0m\u001b[0m\n",
      "\u001b[0;32m/opt/conda/envs/python37/lib/python3.7/site-packages/google/auth/_default.py\u001b[0m in \u001b[0;36mdefault\u001b[0;34m(scopes, request, quota_project_id)\u001b[0m\n\u001b[1;32m    338\u001b[0m \u001b[0;34m\u001b[0m\u001b[0m\n\u001b[1;32m    339\u001b[0m     \u001b[0;32mfor\u001b[0m \u001b[0mchecker\u001b[0m \u001b[0;32min\u001b[0m \u001b[0mcheckers\u001b[0m\u001b[0;34m:\u001b[0m\u001b[0;34m\u001b[0m\u001b[0;34m\u001b[0m\u001b[0m\n\u001b[0;32m--> 340\u001b[0;31m         \u001b[0mcredentials\u001b[0m\u001b[0;34m,\u001b[0m \u001b[0mproject_id\u001b[0m \u001b[0;34m=\u001b[0m \u001b[0mchecker\u001b[0m\u001b[0;34m(\u001b[0m\u001b[0;34m)\u001b[0m\u001b[0;34m\u001b[0m\u001b[0;34m\u001b[0m\u001b[0m\n\u001b[0m\u001b[1;32m    341\u001b[0m         \u001b[0;32mif\u001b[0m \u001b[0mcredentials\u001b[0m \u001b[0;32mis\u001b[0m \u001b[0;32mnot\u001b[0m \u001b[0;32mNone\u001b[0m\u001b[0;34m:\u001b[0m\u001b[0;34m\u001b[0m\u001b[0;34m\u001b[0m\u001b[0m\n\u001b[1;32m    342\u001b[0m             \u001b[0mcredentials\u001b[0m \u001b[0;34m=\u001b[0m \u001b[0mwith_scopes_if_required\u001b[0m\u001b[0;34m(\u001b[0m\u001b[0mcredentials\u001b[0m\u001b[0;34m,\u001b[0m \u001b[0mscopes\u001b[0m\u001b[0;34m)\u001b[0m\u001b[0;34m\u001b[0m\u001b[0;34m\u001b[0m\u001b[0m\n",
      "\u001b[0;32m/opt/conda/envs/python37/lib/python3.7/site-packages/google/auth/_default.py\u001b[0m in \u001b[0;36m_get_explicit_environ_credentials\u001b[0;34m()\u001b[0m\n\u001b[1;32m    184\u001b[0m     \u001b[0;32mif\u001b[0m \u001b[0mexplicit_file\u001b[0m \u001b[0;32mis\u001b[0m \u001b[0;32mnot\u001b[0m \u001b[0;32mNone\u001b[0m\u001b[0;34m:\u001b[0m\u001b[0;34m\u001b[0m\u001b[0;34m\u001b[0m\u001b[0m\n\u001b[1;32m    185\u001b[0m         credentials, project_id = load_credentials_from_file(\n\u001b[0;32m--> 186\u001b[0;31m             \u001b[0mos\u001b[0m\u001b[0;34m.\u001b[0m\u001b[0menviron\u001b[0m\u001b[0;34m[\u001b[0m\u001b[0menvironment_vars\u001b[0m\u001b[0;34m.\u001b[0m\u001b[0mCREDENTIALS\u001b[0m\u001b[0;34m]\u001b[0m\u001b[0;34m\u001b[0m\u001b[0;34m\u001b[0m\u001b[0m\n\u001b[0m\u001b[1;32m    187\u001b[0m         )\n\u001b[1;32m    188\u001b[0m \u001b[0;34m\u001b[0m\u001b[0m\n",
      "\u001b[0;32m/opt/conda/envs/python37/lib/python3.7/site-packages/google/auth/_default.py\u001b[0m in \u001b[0;36mload_credentials_from_file\u001b[0;34m(filename, scopes, quota_project_id)\u001b[0m\n\u001b[1;32m     95\u001b[0m     \u001b[0;32mif\u001b[0m \u001b[0;32mnot\u001b[0m \u001b[0mos\u001b[0m\u001b[0;34m.\u001b[0m\u001b[0mpath\u001b[0m\u001b[0;34m.\u001b[0m\u001b[0mexists\u001b[0m\u001b[0;34m(\u001b[0m\u001b[0mfilename\u001b[0m\u001b[0;34m)\u001b[0m\u001b[0;34m:\u001b[0m\u001b[0;34m\u001b[0m\u001b[0;34m\u001b[0m\u001b[0m\n\u001b[1;32m     96\u001b[0m         raise exceptions.DefaultCredentialsError(\n\u001b[0;32m---> 97\u001b[0;31m             \u001b[0;34m\"File {} was not found.\"\u001b[0m\u001b[0;34m.\u001b[0m\u001b[0mformat\u001b[0m\u001b[0;34m(\u001b[0m\u001b[0mfilename\u001b[0m\u001b[0;34m)\u001b[0m\u001b[0;34m\u001b[0m\u001b[0;34m\u001b[0m\u001b[0m\n\u001b[0m\u001b[1;32m     98\u001b[0m         )\n\u001b[1;32m     99\u001b[0m \u001b[0;34m\u001b[0m\u001b[0m\n",
      "\u001b[0;31mDefaultCredentialsError\u001b[0m: File /home/jovyan/work/.secret/sentinel2_google_api_key.json was not found."
     ]
    }
   ],
   "source": [
    "tile_path = load_tile(dir_)\n",
    "with tempfile.TemporaryDirectory(dir=dir_) as tmpdirname:\n",
    "    print('Сreated temporary directory for calculations:', tmpdirname)\n",
    "        \n",
    "    locations = {'tetleha': tetleha, 'forest': forest, 'kharkiv': kharkiv}\n",
    "    name = random.choice(list(locations.keys()))\n",
    "    aoi = locations[name]\n",
    "    \n",
    "    generate(tmpdirname, tile_path, aoi, name)\n",
    "\n",
    "print(\"Execution finished\")"
   ]
  },
  {
   "cell_type": "code",
   "execution_count": null,
   "metadata": {},
   "outputs": [],
   "source": []
  }
 ],
 "metadata": {
  "kernelspec": {
   "display_name": "python37",
   "language": "python",
   "name": "python37"
  },
  "language_info": {
   "codemirror_mode": {
    "name": "ipython",
    "version": 3
   },
   "file_extension": ".py",
   "mimetype": "text/x-python",
   "name": "python",
   "nbconvert_exporter": "python",
   "pygments_lexer": "ipython3",
   "version": "3.7.9"
  }
 },
 "nbformat": 4,
 "nbformat_minor": 4
}
