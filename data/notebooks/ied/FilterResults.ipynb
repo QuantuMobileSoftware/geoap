{
 "cells": [
  {
   "cell_type": "markdown",
   "metadata": {},
   "source": [
    "### Notebooks takes result Erosion GeoJSON, crops by given AOI and styles it"
   ]
  },
  {
   "cell_type": "code",
   "execution_count": 1,
   "metadata": {},
   "outputs": [],
   "source": [
    "import os\n",
    "import geopandas as gp\n",
    "import rasterio\n",
    "import rasterio.mask\n",
    "\n",
    "from pathlib import Path"
   ]
  },
  {
   "cell_type": "code",
   "execution_count": 2,
   "metadata": {},
   "outputs": [],
   "source": [
    "BASE = f\"/home/{os.getenv('NB_USER')}/work\"\n",
    "\n",
    "WORKDIR = os.path.join(BASE, \"notebooks/ied\")\n",
    "RESULTSDIR = os.path.join(BASE, \"results/ied\")\n",
    "\n",
    "IMAGEPATH = os.path.join(WORKDIR, \"T36UXV.tif\")"
   ]
  },
  {
   "cell_type": "code",
   "execution_count": 3,
   "metadata": {},
   "outputs": [],
   "source": [
    "preds = gp.read_file(os.path.join(WORKDIR, \"predict_T36UXV.geojson\"))\n",
    "masks = gp.read_file(os.path.join(WORKDIR, \"masks.geojson\"))\n",
    "\n",
    "aoi_path = os.getenv(\"AOI\", os.path.join(WORKDIR, \"aoi1_20200406.geojson\"))   \n",
    "# aoi1_20200406.geojson\n",
    "# aoi2_20200406.geojson\n",
    "# aoi3_20200406.geojson\n",
    "\n",
    "aoi = gp.read_file(aoi_path) "
   ]
  },
  {
   "cell_type": "code",
   "execution_count": 4,
   "metadata": {},
   "outputs": [
    {
     "data": {
      "text/html": [
       "<div>\n",
       "<style scoped>\n",
       "    .dataframe tbody tr th:only-of-type {\n",
       "        vertical-align: middle;\n",
       "    }\n",
       "\n",
       "    .dataframe tbody tr th {\n",
       "        vertical-align: top;\n",
       "    }\n",
       "\n",
       "    .dataframe thead th {\n",
       "        text-align: right;\n",
       "    }\n",
       "</style>\n",
       "<table border=\"1\" class=\"dataframe\">\n",
       "  <thead>\n",
       "    <tr style=\"text-align: right;\">\n",
       "      <th></th>\n",
       "      <th>geometry</th>\n",
       "    </tr>\n",
       "  </thead>\n",
       "  <tbody>\n",
       "    <tr>\n",
       "      <th>0</th>\n",
       "      <td>POLYGON ((35.13407 48.64607, 35.13407 48.64598...</td>\n",
       "    </tr>\n",
       "    <tr>\n",
       "      <th>1</th>\n",
       "      <td>POLYGON ((34.75700 48.65271, 34.75700 48.65262...</td>\n",
       "    </tr>\n",
       "  </tbody>\n",
       "</table>\n",
       "</div>"
      ],
      "text/plain": [
       "                                            geometry\n",
       "0  POLYGON ((35.13407 48.64607, 35.13407 48.64598...\n",
       "1  POLYGON ((34.75700 48.65271, 34.75700 48.65262..."
      ]
     },
     "execution_count": 4,
     "metadata": {},
     "output_type": "execute_result"
    }
   ],
   "source": [
    "preds.head(2)"
   ]
  },
  {
   "cell_type": "code",
   "execution_count": 5,
   "metadata": {},
   "outputs": [],
   "source": [
    "if preds.crs != \"epsg:32636\":\n",
    "    preds.to_crs(\"epsg:32636\", inplace=True)"
   ]
  },
  {
   "cell_type": "code",
   "execution_count": 6,
   "metadata": {},
   "outputs": [
    {
     "data": {
      "text/html": [
       "<div>\n",
       "<style scoped>\n",
       "    .dataframe tbody tr th:only-of-type {\n",
       "        vertical-align: middle;\n",
       "    }\n",
       "\n",
       "    .dataframe tbody tr th {\n",
       "        vertical-align: top;\n",
       "    }\n",
       "\n",
       "    .dataframe thead th {\n",
       "        text-align: right;\n",
       "    }\n",
       "</style>\n",
       "<table border=\"1\" class=\"dataframe\">\n",
       "  <thead>\n",
       "    <tr style=\"text-align: right;\">\n",
       "      <th></th>\n",
       "      <th>geometry</th>\n",
       "    </tr>\n",
       "  </thead>\n",
       "  <tbody>\n",
       "    <tr>\n",
       "      <th>0</th>\n",
       "      <td>POLYGON ((657190.000 5390310.000, 657190.000 5...</td>\n",
       "    </tr>\n",
       "    <tr>\n",
       "      <th>1</th>\n",
       "      <td>POLYGON ((629400.000 5390340.000, 629400.000 5...</td>\n",
       "    </tr>\n",
       "  </tbody>\n",
       "</table>\n",
       "</div>"
      ],
      "text/plain": [
       "                                            geometry\n",
       "0  POLYGON ((657190.000 5390310.000, 657190.000 5...\n",
       "1  POLYGON ((629400.000 5390340.000, 629400.000 5..."
      ]
     },
     "execution_count": 6,
     "metadata": {},
     "output_type": "execute_result"
    }
   ],
   "source": [
    "preds.head(2)"
   ]
  },
  {
   "cell_type": "markdown",
   "metadata": {},
   "source": [
    "#### filter very small poygons"
   ]
  },
  {
   "cell_type": "code",
   "execution_count": 7,
   "metadata": {},
   "outputs": [],
   "source": [
    "# limit based on preds.describe() and 50th percentile, be careful in next experiments, limit has to be changed\n",
    "limit = 4650 \n",
    "preds = preds.loc[preds.area >= limit]"
   ]
  },
  {
   "cell_type": "code",
   "execution_count": 8,
   "metadata": {},
   "outputs": [
    {
     "data": {
      "text/html": [
       "<div>\n",
       "<style scoped>\n",
       "    .dataframe tbody tr th:only-of-type {\n",
       "        vertical-align: middle;\n",
       "    }\n",
       "\n",
       "    .dataframe tbody tr th {\n",
       "        vertical-align: top;\n",
       "    }\n",
       "\n",
       "    .dataframe thead th {\n",
       "        text-align: right;\n",
       "    }\n",
       "</style>\n",
       "<table border=\"1\" class=\"dataframe\">\n",
       "  <thead>\n",
       "    <tr style=\"text-align: right;\">\n",
       "      <th></th>\n",
       "      <th>id</th>\n",
       "      <th>geometry</th>\n",
       "    </tr>\n",
       "  </thead>\n",
       "  <tbody>\n",
       "    <tr>\n",
       "      <th>0</th>\n",
       "      <td>1</td>\n",
       "      <td>MULTIPOLYGON (((35.66062 48.75821, 35.63949 48...</td>\n",
       "    </tr>\n",
       "  </tbody>\n",
       "</table>\n",
       "</div>"
      ],
      "text/plain": [
       "   id                                           geometry\n",
       "0   1  MULTIPOLYGON (((35.66062 48.75821, 35.63949 48..."
      ]
     },
     "execution_count": 8,
     "metadata": {},
     "output_type": "execute_result"
    }
   ],
   "source": [
    "aoi"
   ]
  },
  {
   "cell_type": "markdown",
   "metadata": {},
   "source": [
    "#### remove None geometries"
   ]
  },
  {
   "cell_type": "code",
   "execution_count": 9,
   "metadata": {},
   "outputs": [],
   "source": [
    "masks = masks.loc[masks.geometry != None].copy()"
   ]
  },
  {
   "cell_type": "code",
   "execution_count": 10,
   "metadata": {},
   "outputs": [],
   "source": [
    "aoi.to_crs(preds.crs, inplace=True)\n",
    "masks.to_crs(preds.crs, inplace=True)"
   ]
  },
  {
   "cell_type": "markdown",
   "metadata": {},
   "source": [
    "#### fix invalid polygons"
   ]
  },
  {
   "cell_type": "code",
   "execution_count": 11,
   "metadata": {},
   "outputs": [],
   "source": [
    "preds[\"geometry\"] = preds.apply(lambda row: row.geometry.buffer(0), axis=1)"
   ]
  },
  {
   "cell_type": "markdown",
   "metadata": {},
   "source": [
    "#### intersect masks and predictions with aoi"
   ]
  },
  {
   "cell_type": "code",
   "execution_count": 12,
   "metadata": {},
   "outputs": [
    {
     "data": {
      "text/html": [
       "<div>\n",
       "<style scoped>\n",
       "    .dataframe tbody tr th:only-of-type {\n",
       "        vertical-align: middle;\n",
       "    }\n",
       "\n",
       "    .dataframe tbody tr th {\n",
       "        vertical-align: top;\n",
       "    }\n",
       "\n",
       "    .dataframe thead th {\n",
       "        text-align: right;\n",
       "    }\n",
       "</style>\n",
       "<table border=\"1\" class=\"dataframe\">\n",
       "  <thead>\n",
       "    <tr style=\"text-align: right;\">\n",
       "      <th></th>\n",
       "      <th>geometry</th>\n",
       "    </tr>\n",
       "  </thead>\n",
       "  <tbody>\n",
       "    <tr>\n",
       "      <th>62</th>\n",
       "      <td>POLYGON ((707440.000 5393140.000, 707450.000 5...</td>\n",
       "    </tr>\n",
       "    <tr>\n",
       "      <th>64</th>\n",
       "      <td>POLYGON ((707320.000 5393200.000, 707330.000 5...</td>\n",
       "    </tr>\n",
       "    <tr>\n",
       "      <th>70</th>\n",
       "      <td>POLYGON ((706850.000 5393330.000, 706860.000 5...</td>\n",
       "    </tr>\n",
       "  </tbody>\n",
       "</table>\n",
       "</div>"
      ],
      "text/plain": [
       "                                             geometry\n",
       "62  POLYGON ((707440.000 5393140.000, 707450.000 5...\n",
       "64  POLYGON ((707320.000 5393200.000, 707330.000 5...\n",
       "70  POLYGON ((706850.000 5393330.000, 706860.000 5..."
      ]
     },
     "execution_count": 12,
     "metadata": {},
     "output_type": "execute_result"
    }
   ],
   "source": [
    "preds_intersected = preds.loc[preds.intersects(aoi.geometry[0])]\n",
    "preds_intersected.head(3)"
   ]
  },
  {
   "cell_type": "code",
   "execution_count": 13,
   "metadata": {},
   "outputs": [
    {
     "data": {
      "text/html": [
       "<div>\n",
       "<style scoped>\n",
       "    .dataframe tbody tr th:only-of-type {\n",
       "        vertical-align: middle;\n",
       "    }\n",
       "\n",
       "    .dataframe tbody tr th {\n",
       "        vertical-align: top;\n",
       "    }\n",
       "\n",
       "    .dataframe thead th {\n",
       "        text-align: right;\n",
       "    }\n",
       "</style>\n",
       "<table border=\"1\" class=\"dataframe\">\n",
       "  <thead>\n",
       "    <tr style=\"text-align: right;\">\n",
       "      <th></th>\n",
       "      <th>id</th>\n",
       "      <th>Data</th>\n",
       "      <th>Code</th>\n",
       "      <th>Descriptio</th>\n",
       "      <th>Comments</th>\n",
       "      <th>Image</th>\n",
       "      <th>geometry</th>\n",
       "    </tr>\n",
       "  </thead>\n",
       "  <tbody>\n",
       "    <tr>\n",
       "      <th>605</th>\n",
       "      <td>None</td>\n",
       "      <td>None</td>\n",
       "      <td>NaN</td>\n",
       "      <td>None</td>\n",
       "      <td>None</td>\n",
       "      <td>None</td>\n",
       "      <td>POLYGON ((698895.041 5399640.354, 698878.985 5...</td>\n",
       "    </tr>\n",
       "    <tr>\n",
       "      <th>606</th>\n",
       "      <td>None</td>\n",
       "      <td>None</td>\n",
       "      <td>NaN</td>\n",
       "      <td>None</td>\n",
       "      <td>None</td>\n",
       "      <td>None</td>\n",
       "      <td>POLYGON ((699023.680 5399190.838, 699046.497 5...</td>\n",
       "    </tr>\n",
       "    <tr>\n",
       "      <th>607</th>\n",
       "      <td>None</td>\n",
       "      <td>None</td>\n",
       "      <td>NaN</td>\n",
       "      <td>None</td>\n",
       "      <td>None</td>\n",
       "      <td>None</td>\n",
       "      <td>POLYGON ((699091.092 5399143.567, 699123.201 5...</td>\n",
       "    </tr>\n",
       "  </tbody>\n",
       "</table>\n",
       "</div>"
      ],
      "text/plain": [
       "       id  Data  Code Descriptio Comments Image  \\\n",
       "605  None  None   NaN       None     None  None   \n",
       "606  None  None   NaN       None     None  None   \n",
       "607  None  None   NaN       None     None  None   \n",
       "\n",
       "                                              geometry  \n",
       "605  POLYGON ((698895.041 5399640.354, 698878.985 5...  \n",
       "606  POLYGON ((699023.680 5399190.838, 699046.497 5...  \n",
       "607  POLYGON ((699091.092 5399143.567, 699123.201 5...  "
      ]
     },
     "execution_count": 13,
     "metadata": {},
     "output_type": "execute_result"
    }
   ],
   "source": [
    "masks_intersected = masks.loc[masks.intersects(aoi.geometry[0])]\n",
    "masks_intersected.head(3)"
   ]
  },
  {
   "cell_type": "markdown",
   "metadata": {},
   "source": [
    "#### to epsg:4326"
   ]
  },
  {
   "cell_type": "code",
   "execution_count": 14,
   "metadata": {},
   "outputs": [
    {
     "name": "stderr",
     "output_type": "stream",
     "text": [
      "/opt/conda/lib/python3.7/site-packages/geopandas/geodataframe.py:853: SettingWithCopyWarning: \n",
      "A value is trying to be set on a copy of a slice from a DataFrame.\n",
      "Try using .loc[row_indexer,col_indexer] = value instead\n",
      "\n",
      "See the caveats in the documentation: https://pandas.pydata.org/pandas-docs/stable/user_guide/indexing.html#returning-a-view-versus-a-copy\n",
      "  super(GeoDataFrame, self).__setitem__(key, value)\n"
     ]
    }
   ],
   "source": [
    "preds_intersected.to_crs(\"epsg:4326\", inplace=True)"
   ]
  },
  {
   "cell_type": "markdown",
   "metadata": {},
   "source": [
    "#### style and save predictions for AOI"
   ]
  },
  {
   "cell_type": "code",
   "execution_count": 15,
   "metadata": {},
   "outputs": [
    {
     "data": {
      "text/html": [
       "<div>\n",
       "<style scoped>\n",
       "    .dataframe tbody tr th:only-of-type {\n",
       "        vertical-align: middle;\n",
       "    }\n",
       "\n",
       "    .dataframe tbody tr th {\n",
       "        vertical-align: top;\n",
       "    }\n",
       "\n",
       "    .dataframe thead th {\n",
       "        text-align: right;\n",
       "    }\n",
       "</style>\n",
       "<table border=\"1\" class=\"dataframe\">\n",
       "  <thead>\n",
       "    <tr style=\"text-align: right;\">\n",
       "      <th></th>\n",
       "      <th>geometry</th>\n",
       "      <th>style</th>\n",
       "    </tr>\n",
       "  </thead>\n",
       "  <tbody>\n",
       "    <tr>\n",
       "      <th>62</th>\n",
       "      <td>POLYGON ((35.81695 48.65685, 35.81709 48.65684...</td>\n",
       "      <td>{\"color\": \"#F4A460\", \"popup_text\": \"erosion\"}</td>\n",
       "    </tr>\n",
       "    <tr>\n",
       "      <th>64</th>\n",
       "      <td>POLYGON ((35.81535 48.65742, 35.81549 48.65742...</td>\n",
       "      <td>{\"color\": \"#F4A460\", \"popup_text\": \"erosion\"}</td>\n",
       "    </tr>\n",
       "    <tr>\n",
       "      <th>70</th>\n",
       "      <td>POLYGON ((35.80904 48.65875, 35.80918 48.65875...</td>\n",
       "      <td>{\"color\": \"#F4A460\", \"popup_text\": \"erosion\"}</td>\n",
       "    </tr>\n",
       "  </tbody>\n",
       "</table>\n",
       "</div>"
      ],
      "text/plain": [
       "                                             geometry  \\\n",
       "62  POLYGON ((35.81695 48.65685, 35.81709 48.65684...   \n",
       "64  POLYGON ((35.81535 48.65742, 35.81549 48.65742...   \n",
       "70  POLYGON ((35.80904 48.65875, 35.80918 48.65875...   \n",
       "\n",
       "                                            style  \n",
       "62  {\"color\": \"#F4A460\", \"popup_text\": \"erosion\"}  \n",
       "64  {\"color\": \"#F4A460\", \"popup_text\": \"erosion\"}  \n",
       "70  {\"color\": \"#F4A460\", \"popup_text\": \"erosion\"}  "
      ]
     },
     "execution_count": 15,
     "metadata": {},
     "output_type": "execute_result"
    }
   ],
   "source": [
    "preds_intersected['style'] = '{\"color\": \"#F4A460\", \"popup_text\": \"erosion\"}'\n",
    "preds_intersected.head(3)"
   ]
  },
  {
   "cell_type": "code",
   "execution_count": 16,
   "metadata": {},
   "outputs": [],
   "source": [
    "def save_geojson(df, name, results_dir):\n",
    "    print(\"Saving .geojson file...\")\n",
    "\n",
    "    temp_path = os.path.join(BASE, f\"{results_dir}/{name}.geojson.temp\") \n",
    "    os.makedirs(os.path.dirname(temp_path), exist_ok=True)\n",
    "\n",
    "    df.to_file(temp_path, driver='GeoJSON')\n",
    "    \n",
    "    print(f\"Generated temp file: {temp_path}\")\n",
    "    output_path = temp_path[:-5]\n",
    "    print(f\"Rename temp file: {temp_path} to {output_path}\")\n",
    "    os.rename(temp_path, output_path)\n",
    "\n",
    "    print(\"Finished\")"
   ]
  },
  {
   "cell_type": "code",
   "execution_count": 17,
   "metadata": {},
   "outputs": [
    {
     "name": "stdout",
     "output_type": "stream",
     "text": [
      "Saving .geojson file...\n",
      "Generated temp file: /home/jovyan/work/results/ied/aoi1_20200406_preds.geojson.temp\n",
      "Rename temp file: /home/jovyan/work/results/ied/aoi1_20200406_preds.geojson.temp to /home/jovyan/work/results/ied/aoi1_20200406_preds.geojson\n",
      "Finished\n"
     ]
    }
   ],
   "source": [
    "save_geojson(preds_intersected, f\"{Path(aoi_path).stem}_preds\", RESULTSDIR)"
   ]
  },
  {
   "cell_type": "markdown",
   "metadata": {},
   "source": [
    "#### crop input tif by given aoi"
   ]
  },
  {
   "cell_type": "code",
   "execution_count": 18,
   "metadata": {},
   "outputs": [],
   "source": [
    "def crop(input_path, output_path, aoi, name=None, date=None):\n",
    "    with rasterio.open(input_path) as src:\n",
    "        aoi.to_crs(src.crs, inplace=True)\n",
    "        polygon = aoi.geometry[0]\n",
    "       \n",
    "        out_image, out_transform = rasterio.mask.mask(src, [polygon], crop=True)\n",
    "        out_meta = src.meta\n",
    "                \n",
    "        out_meta.update({\"driver\": \"GTiff\",\n",
    "                 \"height\": out_image.shape[1],\n",
    "                 \"width\": out_image.shape[2],\n",
    "                 \"transform\": out_transform,\n",
    "                 \"nodata\": 0, \n",
    "                 })\n",
    "        \n",
    "    os.makedirs(os.path.dirname(output_path), exist_ok=True)\n",
    "    with rasterio.open(output_path, \"w\", **out_meta) as dest:\n",
    "        if name:\n",
    "            dest.update_tags(name=name)\n",
    "        if date:\n",
    "            dest.update_tags(start_date=date, end_date=date)\n",
    "        dest.write(out_image)"
   ]
  },
  {
   "cell_type": "code",
   "execution_count": 19,
   "metadata": {},
   "outputs": [],
   "source": [
    "def save_tif(input_path, polygon, name, results_dir):\n",
    "    print(\"Saving .tif file...\")\n",
    "\n",
    "    temp_path = os.path.join(BASE, f\"{results_dir}/{name}.tif.temp\") \n",
    "    os.makedirs(os.path.dirname(temp_path), exist_ok=True)\n",
    "    \n",
    "    crop(input_path, temp_path, polygon, name)\n",
    "    \n",
    "    output_path = temp_path[:-5]\n",
    "    print(f\"Rename temp file: {temp_path} to {output_path}\")\n",
    "    os.rename(temp_path, output_path)\n",
    "\n",
    "    print(\"Finished\")"
   ]
  },
  {
   "cell_type": "code",
   "execution_count": 20,
   "metadata": {},
   "outputs": [
    {
     "name": "stdout",
     "output_type": "stream",
     "text": [
      "Saving .tif file...\n",
      "Rename temp file: /home/jovyan/work/results/ied/aoi1_20200406_cropped.tif.temp to /home/jovyan/work/results/ied/aoi1_20200406_cropped.tif\n",
      "Finished\n"
     ]
    }
   ],
   "source": [
    "save_tif(IMAGEPATH, aoi, f\"{Path(aoi_path).stem}_cropped\", RESULTSDIR)"
   ]
  },
  {
   "cell_type": "code",
   "execution_count": null,
   "metadata": {},
   "outputs": [],
   "source": []
  }
 ],
 "metadata": {
  "kernelspec": {
   "display_name": "Python 3",
   "language": "python",
   "name": "python3"
  },
  "language_info": {
   "codemirror_mode": {
    "name": "ipython",
    "version": 3
   },
   "file_extension": ".py",
   "mimetype": "text/x-python",
   "name": "python",
   "nbconvert_exporter": "python",
   "pygments_lexer": "ipython3",
   "version": "3.7.8"
  }
 },
 "nbformat": 4,
 "nbformat_minor": 4
}
