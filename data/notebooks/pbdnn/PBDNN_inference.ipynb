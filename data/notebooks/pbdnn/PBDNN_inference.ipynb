{
 "cells": [
  {
   "cell_type": "code",
   "execution_count": 1,
   "metadata": {},
   "outputs": [],
   "source": [
    "AOI = 'POLYGON ((30.2759366834769 48.51505083641415, 30.61727452548106 48.45927941996875, 30.64285389693346 48.5330821966183, 30.30277405680401 48.58843427910546, 30.2759366834769 48.51505083641415))'\n",
    "START_DATE = \"2020-05-01\"\n",
    "END_DATE = \"2020-06-30\""
   ]
  },
  {
   "cell_type": "markdown",
   "metadata": {},
   "source": [
    "### Detecting boundaries for given AOI"
   ]
  },
  {
   "cell_type": "code",
   "execution_count": 2,
   "metadata": {},
   "outputs": [],
   "source": [
    "import os\n",
    "import time\n",
    "import cv2\n",
    "import rasterio\n",
    "import pandas as pd\n",
    "import numpy as np\n",
    "import geopandas as gpd\n",
    "import rasterio.mask\n",
    "import tempfile\n",
    "import shapely\n",
    "import re\n",
    "\n",
    "from tqdm import tqdm\n",
    "from os.path import join, basename, split\n",
    "from skimage import measure\n",
    "from scipy.ndimage import rotate\n",
    "from rasterio.features import rasterize, shapes\n",
    "from shapely.geometry import Polygon, shape, LinearRing\n",
    "import shapely.wkt\n",
    "from pathlib import Path\n",
    "from datetime import datetime\n",
    "import yaml\n",
    "\n",
    "from sentinel2download.downloader import Sentinel2Downloader\n",
    "from sip_plot_boundary_detection_nn.code.preprocessing import (\n",
    "    preprocess_sentinel_raw_data, read_raster, extract_tci)\n",
    "from sip_plot_boundary_detection_nn.code.engine import *\n",
    "from sip_plot_boundary_detection_nn.code.dataset import BoundaryDetector\n",
    "from sip_plot_boundary_detection_nn.code.filter_polygons import filter_polygons\n",
    "\n",
    "import warnings\n",
    "warnings.filterwarnings('ignore')\n",
    "import logging\n",
    "logger = logging.getLogger()\n",
    "logger.setLevel(logging.INFO)"
   ]
  },
  {
   "cell_type": "code",
   "execution_count": 3,
   "metadata": {},
   "outputs": [],
   "source": [
    "import torch.cuda as cuda\n",
    "cuda.empty_cache()"
   ]
  },
  {
   "cell_type": "code",
   "execution_count": 4,
   "metadata": {},
   "outputs": [],
   "source": [
    "default_crs = 'EPSG:4326'\n",
    "\n",
    "polygon = shapely.wkt.loads(AOI)\n",
    "aoi_filename = f\"{time.time()}_aoi.geojson\"\n",
    "gpd.GeoDataFrame(gpd.GeoSeries([polygon]), columns=[\"geometry\"]).to_file(aoi_filename, driver=\"GeoJSON\")\n",
    "start_date = datetime.strptime(START_DATE, '%Y-%m-%d')\n",
    "end_date = datetime.strptime(END_DATE, '%Y-%m-%d')"
   ]
  },
  {
   "cell_type": "code",
   "execution_count": 5,
   "metadata": {},
   "outputs": [],
   "source": [
    "def get_tiles(aoi_path, sentinel_tiles_path):\n",
    "    '''\n",
    "    Returns Sentinel-2 tiles that intersects with specified AoI.\n",
    "\n",
    "        Parameters:\n",
    "            aoi_path (str): Path to geojson/shp file with AoI to process.\n",
    "            sentinel_tiles_path (str): Path to geojson/shp file with all Sentinel-2 tiles.\n",
    "\n",
    "        Returns:\n",
    "            date_tile_info (GeoDataFrame): Filtered tiles (tileID, geometry, date).\n",
    "    '''\n",
    "    aoi_file = gpd.read_file(aoi_path)\n",
    "    sentinel_tiles = gpd.read_file(sentinel_tiles_path)\n",
    "    print(aoi_file.crs, sentinel_tiles.crs)\n",
    "    sentinel_tiles.set_index(\"Name\", drop=False, inplace=True)\n",
    "\n",
    "    best_interseciton = {\"tileID\": [], \"geometry\": []}\n",
    "    rest_aoi = aoi_file.copy()\n",
    "\n",
    "    while rest_aoi.area.sum() > 0:\n",
    "        res_intersection = gpd.overlay(rest_aoi, sentinel_tiles, how=\"intersection\")\n",
    "        biggest_area_idx = res_intersection.area.argmax()\n",
    "\n",
    "        tileID = res_intersection.loc[biggest_area_idx, \"Name\"]\n",
    "        this_aoi = res_intersection.loc[biggest_area_idx, \"geometry\"]\n",
    "\n",
    "        best_interseciton[\"tileID\"].append(tileID)\n",
    "        best_interseciton[\"geometry\"].append(this_aoi)\n",
    "\n",
    "        biggest_intersection = sentinel_tiles.loc[[tileID]]\n",
    "        rest_aoi = gpd.overlay(rest_aoi, biggest_intersection, how=\"difference\")\n",
    "        sentinel_tiles = sentinel_tiles.loc[res_intersection[\"Name\"]]\n",
    "\n",
    "    date_tile_info = gpd.GeoDataFrame(best_interseciton)\n",
    "    date_tile_info.crs = aoi_file.crs\n",
    "    \n",
    "    return date_tile_info\n"
   ]
  },
  {
   "cell_type": "code",
   "execution_count": 6,
   "metadata": {},
   "outputs": [],
   "source": [
    "def process_polygons(result_df, current_crs, limit=500, dst_crs=\"EPSG:4326\"):\n",
    "    \"\"\"\n",
    "    Prepare result Dataframe with polygons\n",
    "\n",
    "        Parameters:\n",
    "            result_df (pd.DataFrame): Result DataFrame\n",
    "            limit (int): min area for polygon in m2\n",
    "        Returns:\n",
    "            GeoDataFrame: GeoDataFrame ready for saving\n",
    "    \"\"\"\n",
    "\n",
    "    gdf = gpd.GeoDataFrame(result_df)\n",
    "    gdf.crs = current_crs\n",
    "\n",
    "    gdf.to_crs(dst_crs, inplace=True)\n",
    "    return gdf\n",
    "\n",
    "\n",
    "def save_polygons(gdf, save_path):\n",
    "    if len(gdf) == 0:\n",
    "        print('No polygons detected.')\n",
    "        return\n",
    "\n",
    "    directory = os.path.dirname(save_path)\n",
    "    if not os.path.exists(directory):\n",
    "        os.makedirs(directory)\n",
    "        \n",
    "    save_path = save_path + \".temp\" \n",
    "    gdf.to_file(save_path, driver='GeoJSON')\n",
    "    os.rename(save_path, save_path[:-5])\n",
    "    \n",
    "    return gdf"
   ]
  },
  {
   "cell_type": "markdown",
   "metadata": {},
   "source": [
    "### Find tile indexes"
   ]
  },
  {
   "cell_type": "code",
   "execution_count": 7,
   "metadata": {
    "slideshow": {
     "slide_type": "slide"
    }
   },
   "outputs": [],
   "source": [
    "BASE = f\"/home/{os.getenv('NB_USER')}/work\"\n",
    "\n",
    "API_KEY = os.path.join(BASE, \".secret/sentinel2_google_api_key.json\")\n",
    "LOAD_DIR = os.path.join(BASE, \"satellite_imagery\")\n",
    "RESULTS_DIR = os.path.join(BASE, \"results/pbdnn\")\n",
    "PBD_DIR = os.path.join(BASE, \"notebooks/pbdnn\")\n",
    "\n",
    "BANDS = {'TCI'}\n",
    "CONSTRAINTS = {'NODATA_PIXEL_PERCENTAGE': 15.0, 'CLOUDY_PIXEL_PERCENTAGE': 40.0, }\n",
    "PRODUCT_TYPE = 'L2A'"
   ]
  },
  {
   "cell_type": "code",
   "execution_count": 8,
   "metadata": {},
   "outputs": [],
   "source": [
    "local = False\n",
    "if local:\n",
    "    ukr_shapefile = os.path.join(BASE, \"data/notebooks/pbdnn/sip_plot_boundary_detection_nn/ukr_shapes/custom.geo.json\")\n",
    "    usa_shapefile = os.path.join(BASE, \"data/notebooks/pbdnn/sip_plot_boundary_detection_nn/usa_shapes/custom.geo.json\")\n",
    "    config_file = os.path.join(BASE, \"data/notebooks/pbdnn/sip_plot_boundary_detection_nn/code/config.yaml\")\n",
    "    API_KEY = os.path.join(BASE, \"data/notebooks/pbdnn/sentinel2_google_api_key.json\")\n",
    "    PBD_DIR = os.path.join(BASE, \"data/notebooks/pbdnn\")\n",
    "else:\n",
    "    ukr_shapefile = os.path.join(BASE, \"notebooks/pbdnn/sip_plot_boundary_detection_nn/ukr_shapes/custom.geo.json\")\n",
    "    usa_shapefile = os.path.join(BASE, \"notebooks/pbdnn/sip_plot_boundary_detection_nn/usa_shapes/custom.geo.json\")\n",
    "    config_file = os.path.join(BASE, \"notebooks/pbdnn/sip_plot_boundary_detection_nn/code/config.yaml\")\n",
    "\n",
    "\n",
    "with open(config_file) as f:\n",
    "    config = yaml.safe_load(f)"
   ]
  },
  {
   "cell_type": "markdown",
   "metadata": {},
   "source": [
    "### Check location before filtering non-agricultural lands"
   ]
  },
  {
   "cell_type": "code",
   "execution_count": 9,
   "metadata": {},
   "outputs": [
    {
     "name": "stderr",
     "output_type": "stream",
     "text": [
      "INFO:numexpr.utils:Note: NumExpr detected 16 cores but \"NUMEXPR_MAX_THREADS\" not set, so enforcing safe limit of 8.\n",
      "INFO:numexpr.utils:NumExpr defaulting to 8 threads.\n"
     ]
    }
   ],
   "source": [
    "ukraine = gpd.read_file(ukr_shapefile)\n",
    "usa = gpd.read_file(usa_shapefile)\n",
    "aoi = gpd.read_file(aoi_filename)\n",
    "\n",
    "if local:\n",
    "    if (1*aoi.intersects(ukraine)).sum():\n",
    "        filter_path = os.path.join(\n",
    "            BASE, \"data/notebooks/pbdnn/sip_plot_boundary_detection_nn/ukr_shapes/ukr_non_agriculture.geojson\")\n",
    "    elif (1*aoi.intersects(usa)).sum():\n",
    "        filter_path = os.path.join(\n",
    "            BASE, \"data/notebooks/pbdnn/sip_plot_boundary_detection_nn/usa_shapes/us_shape.geojson\")\n",
    "    else:\n",
    "        print('Data to filter out predictions is not collected yet, prosseding with no filtering')\n",
    "        filter_path = None\n",
    "else:\n",
    "    if (1*aoi.intersects(ukraine)).sum():\n",
    "        filter_path = os.path.join(\n",
    "            BASE, \"notebooks/pbdnn/sip_plot_boundary_detection_nn/ukr_shapes/ukr_non_agriculture.geojson\")\n",
    "    elif (1*aoi.intersects(usa)).sum():\n",
    "        filter_path = os.path.join(\n",
    "            BASE, \"notebooks/pbdnn/sip_plot_boundary_detection_nn/usa_shapes/us_shape.geojson\")\n",
    "    else:\n",
    "        print('Data to filter out predictions is not collected yet, prosseding with no filtering')\n",
    "        filter_path = None"
   ]
  },
  {
   "cell_type": "markdown",
   "metadata": {},
   "source": [
    "### Download data"
   ]
  },
  {
   "cell_type": "code",
   "execution_count": 10,
   "metadata": {},
   "outputs": [],
   "source": [
    "def _check_folder(tile_folder, file, limit, nodata):\n",
    "    with rasterio.open(os.path.join(tile_folder, file)) as src:              \n",
    "        # Read in image as a numpy array\n",
    "        array = src.read(1)\n",
    "        # Count the occurance of NoData values in np array\n",
    "        nodata_count = np.count_nonzero(array == nodata)\n",
    "        # Get a % of NoData pixels\n",
    "        nodata_percentage = round(nodata_count / array.size * 100, 2)\n",
    "        print(f\"NODATA_PIXEL_PERCENTAGE for {tile_folder} images: {nodata_percentage}%\")\n",
    "        if nodata_percentage <= limit:\n",
    "            return True\n",
    "        else:\n",
    "            return False"
   ]
  },
  {
   "cell_type": "code",
   "execution_count": 11,
   "metadata": {},
   "outputs": [],
   "source": [
    "def check_nodata(loadings, product_type, limit=15.0, nodata=0):\n",
    "    filtered = dict()\n",
    "    \n",
    "    print(f\"Checking NODATA_PIXEL_PERCENTAGE for {product_type}\")            \n",
    "    \n",
    "    for tile, folders in loadings.items():\n",
    "        filtered_folders = set()\n",
    "        for folder in folders:\n",
    "            for file in os.listdir(folder):\n",
    "                if file.endswith(\".jp2\") and \"OPER\" not in file:\n",
    "                    if product_type == 'L1C' and limit:\n",
    "                         if _check_folder(folder, file, limit, nodata):\n",
    "                            filtered_folders.add(folder)\n",
    "                            break\n",
    "                    else:\n",
    "                        filtered_folders.add(folder)\n",
    "        filtered[tile] = filtered_folders\n",
    "    return filtered"
   ]
  },
  {
   "cell_type": "code",
   "execution_count": 12,
   "metadata": {},
   "outputs": [],
   "source": [
    "def filter_date(loadings):\n",
    "    def _find_last_date(folders):        \n",
    "        dates = list()\n",
    "        for folder in folders:\n",
    "            search = re.search(r\"_(\\d+)T\\d+_\", str(folder))\n",
    "            date = search.group(1)\n",
    "            date = datetime.strptime(date, '%Y%m%d')\n",
    "            dates.append(date)    \n",
    "        last_date = max(dates)\n",
    "        last_date = datetime.strftime(last_date, '%Y%m%d')\n",
    "        return last_date\n",
    "    \n",
    "    filtered = dict()\n",
    "    for tile, folders in loadings.items():\n",
    "        \n",
    "        try:\n",
    "            last_date = _find_last_date(folders)\n",
    "            for folder in folders:\n",
    "                if last_date in folder:\n",
    "                    filtered[tile] = folder\n",
    "        except Exception as ex:\n",
    "            print(f\"Error for {tile}: {str(ex)}\")\n",
    "    return filtered"
   ]
  },
  {
   "cell_type": "code",
   "execution_count": 13,
   "metadata": {},
   "outputs": [],
   "source": [
    "def load_images(api_key, tiles, start_date, end_date, output_dir, product_type=\"L2A\"):\n",
    "    loader = Sentinel2Downloader(api_key)\n",
    "    loadings = dict()\n",
    "    for tile in tiles:\n",
    "        print(f\"Loading images for tile: {tile}...\")\n",
    "        loaded = loader.download(product_type,\n",
    "                                 [tile],\n",
    "                                 start_date=start_date,\n",
    "                                 end_date=end_date,\n",
    "                                 output_dir=output_dir,                       \n",
    "                                 bands=BANDS,\n",
    "                                constraints=CONSTRAINTS)\n",
    "        \n",
    "        print(f\"Loading images for tile {tile} finished\")\n",
    "        loadings[tile] = loaded\n",
    "    \n",
    "    tile_folders = dict()\n",
    "    for tile, tile_paths in loadings.items():\n",
    "        tile_folders[tile] = {str(Path(tile_path[0]).parent) for tile_path in tile_paths}\n",
    "    return tile_folders"
   ]
  },
  {
   "cell_type": "code",
   "execution_count": 14,
   "metadata": {},
   "outputs": [],
   "source": [
    "# Credit for baseline: work/notebooks/pw/raster_predict.ipynb\n",
    "def create_style(class_):\n",
    "    colors = dict(boundary='#e80e27')\n",
    "    \n",
    "    style = dict(color=colors.get(class_.lower(), '#C0C0C0'),\n",
    "                stroke='#e80e27')\n",
    "    style['stroke-width'] = 2\n",
    "    return str(style)"
   ]
  },
  {
   "cell_type": "code",
   "execution_count": 15,
   "metadata": {},
   "outputs": [
    {
     "name": "stdout",
     "output_type": "stream",
     "text": [
      "epsg:4326 epsg:4326\n",
      "Loading images for tile: 35UQP...\n",
      "Loading images for tile 35UQP finished\n",
      "Checking NODATA_PIXEL_PERCENTAGE for L2A\n"
     ]
    }
   ],
   "source": [
    "sentinel_tiles_path = \"sentinel2grid.geojson\"\n",
    "model = make_unet_plusplus()\n",
    "#config['model_weights_path'] = 'sip_plot_boundary_detection_nn/models/UnetPlusPlus_imagenet_60_new_dataset_v1.pth'\n",
    "#config['model_weights_path'] = 'sip_plot_boundary_detection_nn/models/UnetPlusPlus_imagenet_60.pth'\n",
    "#config['model_weights_path'] = 'sip_plot_boundary_detection_nn/models/UnetPlusPlus_imagenet_60_new_dataset_v2.pth'\n",
    "\n",
    "if local:\n",
    "    config['model_weights_path'] = os.path.join(\n",
    "        BASE, 'data/notebooks/pbdnn/sip_plot_boundary_detection_nn/models/chkpt_UnetPlusPlus_imagenet_200_new_dataset_v3.pt')\n",
    "else:\n",
    "    config['model_weights_path'] = os.path.join(\n",
    "        BASE, 'notebooks/pbdnn/sip_plot_boundary_detection_nn/models/chkpt_UnetPlusPlus_imagenet_200_new_dataset_v3.pt')\n",
    "\n",
    "try:\n",
    "    model.load_state_dict(torch.load(config['model_weights_path']))\n",
    "    config['device'] = 'cuda'\n",
    "except Exception:\n",
    "    model.load_state_dict(torch.load(\n",
    "        config['model_weights_path'],map_location=torch.device('cpu')))\n",
    "    config['device'] = 'cpu'\n",
    "    \n",
    "date_tile_info = get_tiles(aoi_filename, sentinel_tiles_path)\n",
    "loadings = load_images(API_KEY, date_tile_info.tileID.values, START_DATE, END_DATE, LOAD_DIR, PRODUCT_TYPE)\n",
    "checked = check_nodata(loadings, PRODUCT_TYPE)\n",
    "filtered = filter_date(checked)\n",
    "    \n",
    "origin_name = os.path.basename(aoi_filename).replace(\".geojson\", \"\")\n",
    "\n",
    "detector = BoundaryDetector(model, tiles_dir='/home/jovyan/work/satellite_imagery')"
   ]
  },
  {
   "cell_type": "code",
   "execution_count": 20,
   "metadata": {},
   "outputs": [
    {
     "name": "stderr",
     "output_type": "stream",
     "text": [
      "  0%|          | 0/1 [00:00<?, ?it/s]"
     ]
    },
    {
     "name": "stdout",
     "output_type": "stream",
     "text": [
      "/home/jovyan/work/satellite_imagery/S2A_MSIL2A_20200626T085601_N0214_R007_T35UQP_20200626T114622\n"
     ]
    },
    {
     "name": "stderr",
     "output_type": "stream",
     "text": [
      "\n",
      "  0%|          | 0/13 [00:00<?, ?it/s]\u001b[A\n",
      " 15%|█▌        | 2/13 [00:00<00:01, 10.45it/s]\u001b[A\n",
      " 31%|███       | 4/13 [00:00<00:00, 10.96it/s]\u001b[A\n",
      " 46%|████▌     | 6/13 [00:00<00:00, 11.45it/s]\u001b[A\n",
      " 62%|██████▏   | 8/13 [00:00<00:00, 11.50it/s]\u001b[A\n",
      " 77%|███████▋  | 10/13 [00:00<00:00, 11.83it/s]\u001b[A\n",
      "100%|██████████| 13/13 [00:01<00:00, 12.82it/s]\u001b[A\n"
     ]
    },
    {
     "name": "stdout",
     "output_type": "stream",
     "text": [
      "Writing raster: /home/jovyan/work/notebooks/pbdnn/tmpzk726wph/S2A_MSIL2A_20200626T085601_N0214_R007_T35UQP_20200626T114622_prediction.tif\n"
     ]
    },
    {
     "name": "stderr",
     "output_type": "stream",
     "text": [
      "\n",
      "  0%|          | 0/766 [00:00<?, ?it/s]\u001b[A\n",
      " 21%|██        | 158/766 [00:00<00:00, 1577.25it/s]\u001b[A\n",
      " 37%|███▋      | 280/766 [00:00<00:00, 1446.52it/s]\u001b[A\n",
      " 53%|█████▎    | 407/766 [00:00<00:00, 1385.61it/s]\u001b[A\n",
      " 70%|██████▉   | 535/766 [00:00<00:00, 1349.66it/s]\u001b[A\n",
      "100%|██████████| 766/766 [00:00<00:00, 1267.96it/s]\u001b[A\n"
     ]
    },
    {
     "name": "stdout",
     "output_type": "stream",
     "text": [
      "Writing resulting polygons: 1613430681.5415576_prediction.geojson\n"
     ]
    },
    {
     "name": "stderr",
     "output_type": "stream",
     "text": [
      "100%|██████████| 1/1 [02:22<00:00, 142.69s/it]"
     ]
    },
    {
     "name": "stdout",
     "output_type": "stream",
     "text": [
      "Finished processing 35UQP\n"
     ]
    },
    {
     "name": "stderr",
     "output_type": "stream",
     "text": [
      "\n"
     ]
    },
    {
     "data": {
      "text/html": [
       "<div>\n",
       "<style scoped>\n",
       "    .dataframe tbody tr th:only-of-type {\n",
       "        vertical-align: middle;\n",
       "    }\n",
       "\n",
       "    .dataframe tbody tr th {\n",
       "        vertical-align: top;\n",
       "    }\n",
       "\n",
       "    .dataframe thead th {\n",
       "        text-align: right;\n",
       "    }\n",
       "</style>\n",
       "<table border=\"1\" class=\"dataframe\">\n",
       "  <thead>\n",
       "    <tr style=\"text-align: right;\">\n",
       "      <th></th>\n",
       "      <th>geometry</th>\n",
       "      <th>id</th>\n",
       "      <th>tileID</th>\n",
       "      <th>start_date</th>\n",
       "      <th>end_date</th>\n",
       "      <th>class_</th>\n",
       "      <th>style</th>\n",
       "    </tr>\n",
       "  </thead>\n",
       "  <tbody>\n",
       "    <tr>\n",
       "      <th>0</th>\n",
       "      <td>POLYGON ((30.61359 48.46028, 30.61317 48.46003...</td>\n",
       "      <td>1613430681.5415576_aoi_0</td>\n",
       "      <td>35UQP</td>\n",
       "      <td>2020-05-01</td>\n",
       "      <td>2020-06-30</td>\n",
       "      <td>boundary</td>\n",
       "      <td>{'color': '#e80e27', 'stroke': '#e80e27', 'str...</td>\n",
       "    </tr>\n",
       "    <tr>\n",
       "      <th>4</th>\n",
       "      <td>POLYGON ((30.61551 48.46445, 30.61592 48.46444...</td>\n",
       "      <td>1613430681.5415576_aoi_10</td>\n",
       "      <td>35UQP</td>\n",
       "      <td>2020-05-01</td>\n",
       "      <td>2020-06-30</td>\n",
       "      <td>boundary</td>\n",
       "      <td>{'color': '#e80e27', 'stroke': '#e80e27', 'str...</td>\n",
       "    </tr>\n",
       "    <tr>\n",
       "      <th>6</th>\n",
       "      <td>POLYGON ((30.59497 48.46474, 30.59511 48.46482...</td>\n",
       "      <td>1613430681.5415576_aoi_12</td>\n",
       "      <td>35UQP</td>\n",
       "      <td>2020-05-01</td>\n",
       "      <td>2020-06-30</td>\n",
       "      <td>boundary</td>\n",
       "      <td>{'color': '#e80e27', 'stroke': '#e80e27', 'str...</td>\n",
       "    </tr>\n",
       "    <tr>\n",
       "      <th>7</th>\n",
       "      <td>POLYGON ((30.60608 48.46304, 30.60595 48.46313...</td>\n",
       "      <td>1613430681.5415576_aoi_13</td>\n",
       "      <td>35UQP</td>\n",
       "      <td>2020-05-01</td>\n",
       "      <td>2020-06-30</td>\n",
       "      <td>boundary</td>\n",
       "      <td>{'color': '#e80e27', 'stroke': '#e80e27', 'str...</td>\n",
       "    </tr>\n",
       "    <tr>\n",
       "      <th>10</th>\n",
       "      <td>POLYGON ((30.58031 48.46609, 30.58045 48.46618...</td>\n",
       "      <td>1613430681.5415576_aoi_16</td>\n",
       "      <td>35UQP</td>\n",
       "      <td>2020-05-01</td>\n",
       "      <td>2020-06-30</td>\n",
       "      <td>boundary</td>\n",
       "      <td>{'color': '#e80e27', 'stroke': '#e80e27', 'str...</td>\n",
       "    </tr>\n",
       "    <tr>\n",
       "      <th>...</th>\n",
       "      <td>...</td>\n",
       "      <td>...</td>\n",
       "      <td>...</td>\n",
       "      <td>...</td>\n",
       "      <td>...</td>\n",
       "      <td>...</td>\n",
       "      <td>...</td>\n",
       "    </tr>\n",
       "    <tr>\n",
       "      <th>758</th>\n",
       "      <td>POLYGON ((30.31226 48.58427, 30.31278 48.58389...</td>\n",
       "      <td>NaN</td>\n",
       "      <td>35UQP</td>\n",
       "      <td>2020-05-01</td>\n",
       "      <td>2020-06-30</td>\n",
       "      <td>boundary</td>\n",
       "      <td>{'color': '#e80e27', 'stroke': '#e80e27', 'str...</td>\n",
       "    </tr>\n",
       "    <tr>\n",
       "      <th>760</th>\n",
       "      <td>POLYGON ((30.32893 48.58406, 30.32907 48.58414...</td>\n",
       "      <td>NaN</td>\n",
       "      <td>35UQP</td>\n",
       "      <td>2020-05-01</td>\n",
       "      <td>2020-06-30</td>\n",
       "      <td>boundary</td>\n",
       "      <td>{'color': '#e80e27', 'stroke': '#e80e27', 'str...</td>\n",
       "    </tr>\n",
       "    <tr>\n",
       "      <th>762</th>\n",
       "      <td>POLYGON ((30.31563 48.58597, 30.31605 48.58623...</td>\n",
       "      <td>NaN</td>\n",
       "      <td>35UQP</td>\n",
       "      <td>2020-05-01</td>\n",
       "      <td>2020-06-30</td>\n",
       "      <td>boundary</td>\n",
       "      <td>{'color': '#e80e27', 'stroke': '#e80e27', 'str...</td>\n",
       "    </tr>\n",
       "    <tr>\n",
       "      <th>763</th>\n",
       "      <td>POLYGON ((30.31350 48.58666, 30.31391 48.58665...</td>\n",
       "      <td>NaN</td>\n",
       "      <td>35UQP</td>\n",
       "      <td>2020-05-01</td>\n",
       "      <td>2020-06-30</td>\n",
       "      <td>boundary</td>\n",
       "      <td>{'color': '#e80e27', 'stroke': '#e80e27', 'str...</td>\n",
       "    </tr>\n",
       "    <tr>\n",
       "      <th>764</th>\n",
       "      <td>POLYGON ((30.30275 48.58823, 30.30465 48.58818...</td>\n",
       "      <td>NaN</td>\n",
       "      <td>35UQP</td>\n",
       "      <td>2020-05-01</td>\n",
       "      <td>2020-06-30</td>\n",
       "      <td>boundary</td>\n",
       "      <td>{'color': '#e80e27', 'stroke': '#e80e27', 'str...</td>\n",
       "    </tr>\n",
       "  </tbody>\n",
       "</table>\n",
       "<p>642 rows × 7 columns</p>\n",
       "</div>"
      ],
      "text/plain": [
       "                                              geometry  \\\n",
       "0    POLYGON ((30.61359 48.46028, 30.61317 48.46003...   \n",
       "4    POLYGON ((30.61551 48.46445, 30.61592 48.46444...   \n",
       "6    POLYGON ((30.59497 48.46474, 30.59511 48.46482...   \n",
       "7    POLYGON ((30.60608 48.46304, 30.60595 48.46313...   \n",
       "10   POLYGON ((30.58031 48.46609, 30.58045 48.46618...   \n",
       "..                                                 ...   \n",
       "758  POLYGON ((30.31226 48.58427, 30.31278 48.58389...   \n",
       "760  POLYGON ((30.32893 48.58406, 30.32907 48.58414...   \n",
       "762  POLYGON ((30.31563 48.58597, 30.31605 48.58623...   \n",
       "763  POLYGON ((30.31350 48.58666, 30.31391 48.58665...   \n",
       "764  POLYGON ((30.30275 48.58823, 30.30465 48.58818...   \n",
       "\n",
       "                            id tileID  start_date    end_date    class_  \\\n",
       "0     1613430681.5415576_aoi_0  35UQP  2020-05-01  2020-06-30  boundary   \n",
       "4    1613430681.5415576_aoi_10  35UQP  2020-05-01  2020-06-30  boundary   \n",
       "6    1613430681.5415576_aoi_12  35UQP  2020-05-01  2020-06-30  boundary   \n",
       "7    1613430681.5415576_aoi_13  35UQP  2020-05-01  2020-06-30  boundary   \n",
       "10   1613430681.5415576_aoi_16  35UQP  2020-05-01  2020-06-30  boundary   \n",
       "..                         ...    ...         ...         ...       ...   \n",
       "758                        NaN  35UQP  2020-05-01  2020-06-30  boundary   \n",
       "760                        NaN  35UQP  2020-05-01  2020-06-30  boundary   \n",
       "762                        NaN  35UQP  2020-05-01  2020-06-30  boundary   \n",
       "763                        NaN  35UQP  2020-05-01  2020-06-30  boundary   \n",
       "764                        NaN  35UQP  2020-05-01  2020-06-30  boundary   \n",
       "\n",
       "                                                 style  \n",
       "0    {'color': '#e80e27', 'stroke': '#e80e27', 'str...  \n",
       "4    {'color': '#e80e27', 'stroke': '#e80e27', 'str...  \n",
       "6    {'color': '#e80e27', 'stroke': '#e80e27', 'str...  \n",
       "7    {'color': '#e80e27', 'stroke': '#e80e27', 'str...  \n",
       "10   {'color': '#e80e27', 'stroke': '#e80e27', 'str...  \n",
       "..                                                 ...  \n",
       "758  {'color': '#e80e27', 'stroke': '#e80e27', 'str...  \n",
       "760  {'color': '#e80e27', 'stroke': '#e80e27', 'str...  \n",
       "762  {'color': '#e80e27', 'stroke': '#e80e27', 'str...  \n",
       "763  {'color': '#e80e27', 'stroke': '#e80e27', 'str...  \n",
       "764  {'color': '#e80e27', 'stroke': '#e80e27', 'str...  \n",
       "\n",
       "[642 rows x 7 columns]"
      ]
     },
     "execution_count": 20,
     "metadata": {},
     "output_type": "execute_result"
    }
   ],
   "source": [
    "result_df = pd.DataFrame([])\n",
    "with tempfile.TemporaryDirectory(dir=PBD_DIR) as tmpdirname:   \n",
    "    for i, tile in tqdm(date_tile_info.iterrows(), total=date_tile_info.shape[0]):\n",
    "        try:\n",
    "            tile_folder = Path(filtered[tile.tileID])\n",
    "            print(tile_folder)\n",
    "        except Exception as ex:\n",
    "            print(f\"Error for {tile.tileID}: {str(ex)}\")\n",
    "            continue\n",
    "\n",
    "        raster_path = preprocess_sentinel_raw_data(\n",
    "            save_path=tmpdirname,\n",
    "            tile_folder=tile_folder,\n",
    "            aoi_mask=date_tile_info.loc[[i]]\n",
    "        )\n",
    "            \n",
    "        out_raster = raster_path.replace('_cropped', '_prediction')\n",
    "        out_geom = aoi_filename.replace('_aoi.', '_prediction.')\n",
    "\n",
    "        pred_tif_path = detector.raster_prediction(in_raster_path=raster_path,\n",
    "                                                    out_raster_path=out_raster,\n",
    "                                                    aoi_path=aoi_filename,\n",
    "                                                    conf_thresh=0.25)\n",
    "\n",
    "        polygons = detector.process_raster_predictions(pred_tif_path,\n",
    "                                                        shapes_path=out_geom,\n",
    "                                                        aoi_path=aoi_filename, \n",
    "                                                        conf_thresh=0.25)\n",
    "        polygons = gpd.GeoDataFrame(polygons)\n",
    "        \n",
    "        if filter_path is not None:\n",
    "            filters = gpd.read_file(filter_path)\n",
    "            aoi = gpd.read_file(aoi_filename).to_crs(filters.crs)\n",
    "            \n",
    "            valid_geoms = filters.geometry.is_valid.sum() == filters.shape[0]\n",
    "            if not valid_geoms:\n",
    "                filters['geometry'] = filters.buffer(0)\n",
    "            \n",
    "            filters = filters[filters.intersects(aoi.geometry.values[0])]\n",
    "            polys = filter_polygons(polygons, filters)\n",
    "\n",
    "        df = pd.DataFrame({\"geometry\": polys.geometry})        \n",
    "        df[\"id\"] = pd.Series(map(lambda x: f\"{origin_name}_{x}\", df.index.values))\n",
    "        df[\"tileID\"] = tile.tileID\n",
    "        df[\"start_date\"] = START_DATE\n",
    "        df[\"end_date\"] = END_DATE\n",
    "\n",
    "        result_df = pd.concat([result_df, df])\n",
    "\n",
    "        print(f\"Finished processing {tile.tileID}\")\n",
    "gdf = process_polygons(result_df, filters.crs)\n",
    "gdf['class_'] = 'boundary'\n",
    "gdf['style'] = gdf.class_.apply(lambda cl: create_style(cl))\n",
    "save_path = os.path.join(RESULTS_DIR, f\"{origin_name}_prediction.geojson\")\n",
    "save_polygons(gdf, save_path)"
   ]
  },
  {
   "cell_type": "code",
   "execution_count": 21,
   "metadata": {},
   "outputs": [
    {
     "data": {
      "text/plain": [
       "'/home/jovyan/work/results/pbdnn/1613430681.5415576_aoi_prediction.geojson'"
      ]
     },
     "execution_count": 21,
     "metadata": {},
     "output_type": "execute_result"
    }
   ],
   "source": [
    "save_path"
   ]
  },
  {
   "cell_type": "code",
   "execution_count": 23,
   "metadata": {},
   "outputs": [
    {
     "data": {
      "text/plain": [
       "<AxesSubplot:>"
      ]
     },
     "execution_count": 23,
     "metadata": {},
     "output_type": "execute_result"
    },
    {
     "data": {
      "image/png": "[encoded data removed]",
      "text/plain": [
       "<Figure size 432x288 with 1 Axes>"
      ]
     },
     "metadata": {
      "needs_background": "light"
     },
     "output_type": "display_data"
    }
   ],
   "source": [
    "gdf.plot()"
   ]
  },
  {
   "cell_type": "code",
   "execution_count": null,
   "metadata": {},
   "outputs": [],
   "source": []
  }
 ],
 "metadata": {
  "kernelspec": {
   "display_name": "Python 3",
   "language": "python",
   "name": "python3"
  },
  "language_info": {
   "codemirror_mode": {
    "name": "ipython",
    "version": 3
   },
   "file_extension": ".py",
   "mimetype": "text/x-python",
   "name": "python",
   "nbconvert_exporter": "python",
   "pygments_lexer": "ipython3",
   "version": "3.7.8"
  }
 },
 "nbformat": 4,
 "nbformat_minor": 4
}
