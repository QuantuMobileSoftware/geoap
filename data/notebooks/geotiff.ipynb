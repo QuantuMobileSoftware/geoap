{
 "cells": [
  {
   "cell_type": "markdown",
   "metadata": {},
   "source": [
    "#### Test notebook that generates .tif files and stores in /results folder. Check env TEST_TILE_PATH to .jp2 tile. Use **python37** kernel."
   ]
  },
  {
   "cell_type": "code",
   "execution_count": 2,
   "metadata": {},
   "outputs": [],
   "source": [
    "import os\n",
    "import sys\n",
    "import rasterio\n",
    "import pyproj\n",
    "import zipfile\n",
    "import tempfile\n",
    "import random\n",
    "\n",
    "from rasterio.windows import Window\n",
    "from rasterio import Affine\n",
    "from shapely.geometry import Polygon\n",
    "from shapely.ops import transform\n",
    "from pathlib import Path"
   ]
  },
  {
   "cell_type": "code",
   "execution_count": 3,
   "metadata": {},
   "outputs": [
    {
     "data": {
      "text/plain": [
       "'3.7.8 | packaged by conda-forge | (default, Jul 31 2020, 02:25:08) \\n[GCC 7.5.0]'"
      ]
     },
     "execution_count": 3,
     "metadata": {},
     "output_type": "execute_result"
    }
   ],
   "source": [
    "sys.version"
   ]
  },
  {
   "cell_type": "code",
   "execution_count": 4,
   "metadata": {},
   "outputs": [
    {
     "name": "stdout",
     "output_type": "stream",
     "text": [
      "jovyan\n"
     ]
    }
   ],
   "source": [
    "NB_USER = os.getenv('NB_USER')\n",
    "print(NB_USER)"
   ]
  },
  {
   "cell_type": "code",
   "execution_count": 11,
   "metadata": {},
   "outputs": [
    {
     "data": {
      "text/plain": [
       "'/home/jovyan/work/test_tile/L1C_T36UYA_A017393_20200705T083602_TCI.jp2'"
      ]
     },
     "execution_count": 11,
     "metadata": {},
     "output_type": "execute_result"
    }
   ],
   "source": [
    "TEST_TILE_PATH = os.getenv('TEST_TILE_PATH')\n",
    "TEST_TILE_PATH"
   ]
  },
  {
   "cell_type": "code",
   "execution_count": 5,
   "metadata": {},
   "outputs": [],
   "source": [
    "tetleha = [(\n",
    "              36.63013458251953,\n",
    "              49.87273390600898\n",
    "            ),\n",
    "            (\n",
    "              36.81964874267578,\n",
    "              49.87273390600898\n",
    "            ),\n",
    "            (\n",
    "              36.81964874267578,\n",
    "              49.98103318054302\n",
    "            ),\n",
    "            (\n",
    "              36.63013458251953,\n",
    "              49.98103318054302\n",
    "            ),\n",
    "            (\n",
    "              36.63013458251953,\n",
    "              49.87273390600898\n",
    "            ), ]\n",
    "\n",
    "forest = [(\n",
    "              36.747894287109375,\n",
    "              50.008400954338185\n",
    "            ),\n",
    "            (\n",
    "              36.88556671142578,\n",
    "              49.874282751903394\n",
    "            ),\n",
    "            (\n",
    "              37.00366973876953,\n",
    "              49.92647191927194\n",
    "            ),\n",
    "            (\n",
    "              36.84711456298828,\n",
    "              50.03707625174409\n",
    "            ),\n",
    "            (\n",
    "              36.747894287109375,\n",
    "              50.008400954338185\n",
    "            ),\n",
    "          ]\n",
    "kharkiv = [(\n",
    "              36.066741943359375,\n",
    "              50.03773778732018\n",
    "            ),\n",
    "            (\n",
    "              36.25556945800781,\n",
    "              49.87295517274949\n",
    "            ),\n",
    "            (\n",
    "              36.46568298339844,\n",
    "              49.96447253142292\n",
    "            ),\n",
    "            (\n",
    "              36.31874084472656,\n",
    "              50.072565780723615\n",
    "            ),\n",
    "            (\n",
    "              36.066741943359375,\n",
    "              50.03773778732018\n",
    "            ),\n",
    "          ]"
   ]
  },
  {
   "cell_type": "code",
   "execution_count": 6,
   "metadata": {},
   "outputs": [],
   "source": [
    "def crop(input_path, output_path, polygon):\n",
    "    with rasterio.open(input_path) as src:\n",
    "        x_min, y_min, x_max, y_max = polygon.bounds\n",
    "        \n",
    "        affine = Affine(src.transform[0],\n",
    "                        src.transform[1],\n",
    "                        x_min,\n",
    "                        src.transform[3],\n",
    "                        src.transform[4],\n",
    "                        y_max)\n",
    "\n",
    "        row_min, col_max = rasterio.transform.rowcol(src.transform, x_max, y_max)\n",
    "        row_max, col_min = rasterio.transform.rowcol(src.transform, x_min, y_min, op=round, precision=6)\n",
    "        row_min = row_min + 1\n",
    "        row_max = row_max + 1\n",
    "        \n",
    "        write_window = Window.from_slices([row_min, row_max], [col_min, col_max])\n",
    "        raster = src.read(window=write_window)\n",
    "        kwargs = src.meta.copy()\n",
    "        kwargs.update({\n",
    "            'height': write_window.height,\n",
    "            'width': write_window.width,\n",
    "            \"transform\": affine,\n",
    "            'driver': 'GTiff'\n",
    "        })\n",
    "\n",
    "        with rasterio.open(output_path, 'w', **kwargs) as dst:\n",
    "            dst.write(raster)"
   ]
  },
  {
   "cell_type": "code",
   "execution_count": 7,
   "metadata": {},
   "outputs": [],
   "source": [
    "def convert(input_path, output_path, format='GTiff'):\n",
    "    with rasterio.open(input_path) as src:\n",
    "        raster = src.read()\n",
    "        crs = str(src.crs)\n",
    "                \n",
    "        kwargs = src.meta.copy()\n",
    "        kwargs.update({'driver': format})\n",
    "        \n",
    "        with rasterio.open(output_path, 'w', **kwargs) as dst:\n",
    "            dst.write(raster)\n",
    "        return crs"
   ]
  },
  {
   "cell_type": "code",
   "execution_count": 8,
   "metadata": {},
   "outputs": [],
   "source": [
    "def to_crs(poly, target, current='EPSG:4326'):\n",
    "    project = pyproj.Transformer.from_crs(pyproj.CRS(current), pyproj.CRS(target), always_xy=True).transform\n",
    "    transformed_poly = transform(project, poly)\n",
    "    return transformed_poly "
   ]
  },
  {
   "cell_type": "code",
   "execution_count": 9,
   "metadata": {},
   "outputs": [],
   "source": [
    "def generate(dir_, tile_path, aoi, location_name):\n",
    "    \n",
    "    stem = Path(tile_path).stem\n",
    "    tif_path = f\"{dir_}/{stem}.tif\"    \n",
    "    target_crs = convert(tile_path, tif_path)\n",
    "    aoi = to_crs(Polygon(aoi), target_crs)\n",
    "\n",
    "    output_path = f\"/home/{NB_USER}/work/results/{stem}_{location_name}.tif\"\n",
    "    crop(tif_path, output_path, aoi)\n",
    "    print(f\"Gnerated file: {output_path}\")"
   ]
  },
  {
   "cell_type": "code",
   "execution_count": 14,
   "metadata": {},
   "outputs": [],
   "source": [
    "dir_ = f\"/home/{NB_USER}/work/notebooks\""
   ]
  },
  {
   "cell_type": "code",
   "execution_count": 13,
   "metadata": {},
   "outputs": [
    {
     "name": "stdout",
     "output_type": "stream",
     "text": [
      "Сreated temporary directory for calculations: /home/jovyan/work/notebooks/tmpmwa7tii9\n",
      "Gnerated file: /home/jovyan/work/results/L1C_T36UYA_A017393_20200705T083602_TCI_kharkiv.tif\n"
     ]
    }
   ],
   "source": [
    "with tempfile.TemporaryDirectory(dir=dir_) as tmpdirname:\n",
    "    print('Сreated temporary directory for calculations:', tmpdirname)\n",
    "        \n",
    "    locations = {'tetleha': tetleha, 'forest': forest, 'kharkiv': kharkiv}\n",
    "    name = random.choice(list(locations.keys()))\n",
    "    aoi = locations[name]\n",
    "    \n",
    "    generate(tmpdirname, TEST_TILE_PATH, aoi, name)"
   ]
  },
  {
   "cell_type": "code",
   "execution_count": null,
   "metadata": {},
   "outputs": [],
   "source": []
  }
 ],
 "metadata": {
  "kernelspec": {
   "display_name": "python37",
   "language": "python",
   "name": "python37"
  },
  "language_info": {
   "codemirror_mode": {
    "name": "ipython",
    "version": 3
   },
   "file_extension": ".py",
   "mimetype": "text/x-python",
   "name": "python",
   "nbconvert_exporter": "python",
   "pygments_lexer": "ipython3",
   "version": "3.7.8"
  }
 },
 "nbformat": 4,
 "nbformat_minor": 4
}
