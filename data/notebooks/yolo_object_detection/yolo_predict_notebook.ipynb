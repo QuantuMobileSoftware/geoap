{
 "cells": [
  {
   "cell_type": "code",
   "execution_count": 61,
   "metadata": {
    "tags": []
   },
   "outputs": [],
   "source": [
    "from pathlib import Path\n",
    "import os\n",
    "import json\n",
    "import warnings\n",
    "\n",
    "import rasterio\n",
    "import shapely\n",
    "import cv2\n",
    "import torch\n",
    "import numpy as np\n",
    "from rasterio.plot import reshape_as_raster, reshape_as_image\n",
    "from rasterio.windows import Window\n",
    "from tqdm import tqdm\n",
    "from shapely.geometry import box, Polygon\n",
    "import geopandas as gpd\n",
    "\n",
    "PATH_PREPROCESSED_TILE = '/home/quantum/result/results/planet_downloader/0/Kharkiv_SkySat_07-05-22.tif'\n"
   ]
  },
  {
   "cell_type": "code",
   "execution_count": 62,
   "metadata": {},
   "outputs": [],
   "source": [
    "warnings.filterwarnings(\"ignore\")"
   ]
  },
  {
   "cell_type": "code",
   "execution_count": 55,
   "metadata": {},
   "outputs": [],
   "source": [
    "head, tail = os.path.split(PATH_PREPROCESSED_TILE)\n",
    "OUTPUT_PATH =  head\n",
    "MODEL_PATH = '/home/quantum/multidetection/best.pt'\n",
    "FONT = cv2.FONT_HERSHEY_SIMPLEX\n",
    "FONT_SCALE = 0.5\n",
    "COLOR = (255, 0, 0)\n",
    "THICKNESS = 1\n",
    "STD_NORMALIZE = 3.5\n",
    "ORDER_CHANNELS = (1,2,3)\n",
    "STEP = 512\n",
    "VISUALIZE = False"
   ]
  },
  {
   "cell_type": "code",
   "execution_count": 66,
   "metadata": {},
   "outputs": [],
   "source": [
    "def get_yolo_predict(model_path, raster_path, output_path, bands_order, step=512, visualize=False):\n",
    "    print('Model uploading... \\n')\n",
    "    model = torch.hub.load(\n",
    "        \"ultralytics/yolov5:master\", \"custom\", model_path, verbose=True)\n",
    "    print('Model has been uploaded \\n')\n",
    "    \n",
    "    geo_save_path = os.path.join(output_path, 'detected_objects.geojson')\n",
    "    dst_raster_path = os.path.join(output_path, 'predict.tif')\n",
    "    \n",
    "    src = rasterio.open(raster_path)\n",
    "    w, h = src.meta['width'], src.meta['height']\n",
    "    if w < step and h < step:\n",
    "        step = np.min([w, h])\n",
    "\n",
    "    whole_rem_w = divmod(w, step)\n",
    "    whole_rem_h = divmod(h, step)\n",
    "\n",
    "    all_steps_h = [(0, i * step, 0, step) for i in range(whole_rem_h[0])]\n",
    "\n",
    "    if whole_rem_h[1] != 0:\n",
    "        all_steps_h = all_steps_h + [(0, all_steps_h[-1][1] + step, 0, whole_rem_h[1])]\n",
    "\n",
    "    all_steps = []\n",
    "    for h_step in all_steps_h:\n",
    "        all_steps = all_steps + [(i * step, h_step[1], step, h_step[-1]) for i in range(whole_rem_w[0])]\n",
    "        if whole_rem_w[1] != 0:\n",
    "            all_steps = all_steps + [(all_steps[-1][0] + step, h_step[1], whole_rem_w[1], h_step[-1])]\n",
    "    profile = src.profile\n",
    "    profile['dtype'] = 'uint8'\n",
    "    profile['count'] = 3\n",
    "    profile['nodata'] = 0\n",
    "    with rasterio.open(\n",
    "            dst_raster_path, 'w', **profile\n",
    "    ) as dst:\n",
    "        print('Start of predictions...\\n')\n",
    "        detections = []\n",
    "        for i in tqdm(all_steps):\n",
    "            x_start ,y_start, x_step, y_step = i\n",
    "            window_normalize = src.read(bands_order, window=Window(x_start ,y_start, x_step, y_step))\n",
    "            \n",
    "            image = reshape_as_image(np.array(window_normalize)).copy()\n",
    "            preds = model(image, size=512, augment=True)\n",
    "            ans = preds.pandas().xyxy[0]\n",
    "            ans[\"w\"] = (ans.xmax - ans.xmin).astype(int)\n",
    "            ans[\"h\"] = (ans.ymax - ans.ymin).astype(int)\n",
    "            ans[\"x\"] = ans.xmin.astype(int)\n",
    "            ans[\"y\"] = ans.ymin.astype(int)\n",
    "            for j, pred in ans.iterrows():\n",
    "                x, y, w, h, confidence, label = pred['x'], pred['y'], pred['w'], pred['h'], pred['confidence'], pred[\n",
    "                    'name']\n",
    "                x,y = x + x_start, y + y_start\n",
    "                coords_box = [(x,y),(x,y+h),(x+w,y+h),(x+w,y)]\n",
    "                polygon = Polygon([src.transform*box_cs for box_cs in coords_box] )\n",
    "                detections.append({'geometry':polygon, 'label':label})\n",
    "                if visualize:    \n",
    "                    cv2.rectangle(image, (x, y), (x + w, y + h), (51, 255, 51), 2)\n",
    "\n",
    "                    cv2.putText(image, label, (x, y), FONT,\n",
    "                                FONT_SCALE, COLOR, THICKNESS, cv2.LINE_AA)\n",
    "            if visualize: \n",
    "                dst.write(reshape_as_raster(image), window=Window(*i))\n",
    "                \n",
    "        gpd.GeoDataFrame(detections,crs=src.meta['crs']).to_file(\n",
    "                    geo_save_path, driver='GeoJSON')\n",
    "        print(f'Predictions are saved in :  {geo_save_path} \\n')\n",
    "            \n",
    "        if visualize: \n",
    "            print(f'Visualization of predictions  is ready! It is in :  {dst_raster_path} \\n')\n",
    "    "
   ]
  },
  {
   "cell_type": "code",
   "execution_count": null,
   "metadata": {},
   "outputs": [],
   "source": [
    "get_yolo_predict(MODEL_PATH, PATH_PREPROCESSED_TILE, OUTPUT_PATH, ORDER_CHANNELS, step=STEP, visualize=VISUALIZE)"
   ]
  },
  {
   "cell_type": "code",
   "execution_count": null,
   "metadata": {},
   "outputs": [],
   "source": []
  }
 ],
 "metadata": {
  "kernelspec": {
   "display_name": "Python 3 (ipykernel)",
   "language": "python",
   "name": "python3"
  },
  "language_info": {
   "codemirror_mode": {
    "name": "ipython",
    "version": 3
   },
   "file_extension": ".py",
   "mimetype": "text/x-python",
   "name": "python",
   "nbconvert_exporter": "python",
   "pygments_lexer": "ipython3",
   "version": "3.7.6"
  }
 },
 "nbformat": 4,
 "nbformat_minor": 4
}
