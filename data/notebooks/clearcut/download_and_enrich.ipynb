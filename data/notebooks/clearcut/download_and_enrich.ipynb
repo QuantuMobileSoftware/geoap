{
 "cells": [
  {
   "cell_type": "code",
   "execution_count": 51,
   "metadata": {},
   "outputs": [],
   "source": [
    "import requests\n",
    "from datetime import date\n",
    "import os\n",
    "import os.path\n",
    "import json\n",
    "import copy\n",
    "from concurrent.futures import ThreadPoolExecutor, as_completed"
   ]
  },
  {
   "cell_type": "code",
   "execution_count": 54,
   "metadata": {},
   "outputs": [],
   "source": [
    "date_to_str = date.today().isoformat()\n",
    "url = f\"https://clearcut.quantumobile.com/api/clearcuts/info/2019-04-01/{date_to_str}\"\n",
    "resp = requests.get(url=url)\n",
    "data = resp.json()"
   ]
  },
  {
   "cell_type": "code",
   "execution_count": 55,
   "metadata": {},
   "outputs": [
    {
     "name": "stdout",
     "output_type": "stream",
     "text": [
      "1000/56634\n",
      "2000/56634\n",
      "3000/56634\n",
      "4000/56634\n",
      "5000/56634\n",
      "6000/56634\n",
      "7000/56634\n",
      "8000/56634\n",
      "9000/56634\n",
      "10000/56634\n",
      "11000/56634\n",
      "12000/56634\n",
      "13000/56634\n",
      "14000/56634\n",
      "15000/56634\n",
      "16000/56634\n",
      "17000/56634\n",
      "18000/56634\n",
      "19000/56634\n",
      "20000/56634\n",
      "21000/56634\n",
      "22000/56634\n",
      "23000/56634\n",
      "24000/56634\n",
      "25000/56634\n",
      "26000/56634\n",
      "27000/56634\n",
      "28000/56634\n",
      "29000/56634\n",
      "30000/56634\n",
      "31000/56634\n",
      "32000/56634\n",
      "33000/56634\n",
      "34000/56634\n",
      "35000/56634\n",
      "36000/56634\n",
      "37000/56634\n",
      "38000/56634\n",
      "39000/56634\n",
      "40000/56634\n",
      "41000/56634\n",
      "42000/56634\n",
      "43000/56634\n",
      "44000/56634\n",
      "45000/56634\n",
      "46000/56634\n",
      "47000/56634\n",
      "48000/56634\n",
      "49000/56634\n",
      "50000/56634\n",
      "51000/56634\n",
      "52000/56634\n",
      "53000/56634\n",
      "54000/56634\n",
      "55000/56634\n",
      "56000/56634\n"
     ]
    }
   ],
   "source": [
    "plotly_layout = {\n",
    "    \"title\": \"Cutting area changes\",\n",
    "    \"yaxis\": {\n",
    "        \"title\": \"Area, m²\"\n",
    "    },\n",
    "    \"xaxis\": {\n",
    "        \"type\": \"category\",\n",
    "        \"tickangle\": -45\n",
    "    }\n",
    "}\n",
    "plotly_data_template = [\n",
    "    {\n",
    "        \"x\": [],\n",
    "        \"y\": [],\n",
    "        \"type\": \"bar\"\n",
    "    }\n",
    "]\n",
    "colors = [\"#ff394a\", \"#ffed57\", \"#2d4ab9\"]\n",
    "\n",
    "def enrich_feature(feature):\n",
    "    new_properties = dict()\n",
    "    new_properties[\"style\"] = {\n",
    "        \"color\": colors[feature[\"properties\"][\"color\"]] if feature[\"properties\"][\"color\"] < 3 else \"#fff\"\n",
    "    }\n",
    "    new_properties[\"layout\"] = plotly_layout\n",
    "    pk = feature[\"properties\"][\"pk\"]\n",
    "    area_chart_url = f\"https://clearcut.quantumobile.com/api/clearcuts/area_chart/{pk}/2019-04-01/{date_to_str}\"\n",
    "    resp = requests.get(url=area_chart_url)\n",
    "    area_chart_data = resp.json()\n",
    "    plotly_data = copy.deepcopy(plotly_data_template)\n",
    "    for x in area_chart_data:\n",
    "        plotly_data[0][\"x\"].append(x[\"image_date_current\"])\n",
    "        plotly_data[0][\"y\"].append(x[\"zone_area\"])\n",
    "    new_properties[\"data\"] = plotly_data\n",
    "    feature[\"properties\"] = new_properties\n",
    "\n",
    "with ThreadPoolExecutor(max_workers=50) as executor:\n",
    "    futures = [executor.submit(enrich_feature, x) for x in data[\"features\"]]\n",
    "    i = 0\n",
    "    for future in as_completed(futures):\n",
    "        i += 1\n",
    "        if i % 1000 == 0:\n",
    "            print(str(i) + \"/\" + str(len(data[\"features\"])))"
   ]
  },
  {
   "cell_type": "code",
   "execution_count": 56,
   "metadata": {},
   "outputs": [],
   "source": [
    "NB_USER = os.getenv('NB_USER')\n",
    "temp_path = f\"/home/{NB_USER}/work/results/clearcut/ClearCut-{date_to_str}\"\n",
    "os.makedirs(os.path.dirname(temp_path), exist_ok=True)\n",
    "with open(temp_path, \"w\") as outfile:\n",
    "    json.dump(data, outfile)\n",
    "os.rename(temp_path, temp_path + \".geojson\")"
   ]
  },
  {
   "cell_type": "code",
   "execution_count": null,
   "metadata": {},
   "outputs": [],
   "source": []
  }
 ],
 "metadata": {
  "kernelspec": {
   "display_name": "python37",
   "language": "python",
   "name": "python37"
  },
  "language_info": {
   "codemirror_mode": {
    "name": "ipython",
    "version": 3
   },
   "file_extension": ".py",
   "mimetype": "text/x-python",
   "name": "python",
   "nbconvert_exporter": "python",
   "pygments_lexer": "ipython3",
   "version": "3.7.8"
  }
 },
 "nbformat": 4,
 "nbformat_minor": 4
}
