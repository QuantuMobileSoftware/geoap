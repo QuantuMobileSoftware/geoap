{
 "cells": [
  {
   "cell_type": "markdown",
   "metadata": {},
   "source": [
    "### For given aoi, prepare TCI and NDVI sentinel images "
   ]
  },
  {
   "cell_type": "code",
   "execution_count": 1,
   "metadata": {},
   "outputs": [],
   "source": [
    "import os\n",
    "import geopandas as gp\n",
    "import numpy as np\n",
    "import rasterio\n",
    "import re\n",
    "import tempfile\n",
    "import pyproj\n",
    "import uuid\n",
    "import rasterio.mask\n",
    "\n",
    "from rasterio.windows import Window\n",
    "from rasterio.plot import reshape_as_raster\n",
    "from rasterio import Affine\n",
    "from rasterio.merge import merge\n",
    "from rasterio.warp import calculate_default_transform, reproject, Resampling\n",
    "from shapely.geometry import Polygon, box\n",
    "from shapely.ops import transform\n",
    "from pathlib import Path\n",
    "from datetime import datetime, timedelta\n",
    "from sentinel2download.downloader import Sentinel2Downloader\n",
    "from sentinel2download.overlap import Sentinel2Overlap"
   ]
  },
  {
   "cell_type": "code",
   "execution_count": 2,
   "metadata": {},
   "outputs": [],
   "source": [
    "def crop(input_path, output_path, polygon, name, date):\n",
    "    with rasterio.open(input_path) as src:\n",
    "        out_image, out_transform = rasterio.mask.mask(src, [polygon], crop=True)\n",
    "        # print(out_transform)\n",
    "        out_meta = src.meta\n",
    "        \n",
    "        out_meta.update({\"driver\": \"GTiff\",\n",
    "                 \"height\": out_image.shape[1],\n",
    "                 \"width\": out_image.shape[2],\n",
    "                 \"transform\": out_transform,\n",
    "                 \"nodata\": 0,\n",
    "                        })\n",
    "\n",
    "    with rasterio.open(output_path, \"w\", **out_meta) as dest:\n",
    "        dest.update_tags(name=name, start_date=date, end_date=date)\n",
    "        dest.write(out_image)"
   ]
  },
  {
   "cell_type": "code",
   "execution_count": 3,
   "metadata": {},
   "outputs": [],
   "source": [
    "def convert(input_path, output_path, driver='GTiff'):\n",
    "    with rasterio.open(input_path) as src:\n",
    "        raster = src.read()\n",
    "        crs = str(src.crs)\n",
    "        \n",
    "        # print(\"CONVERTED CRS\")\n",
    "        # print(crs)\n",
    "                \n",
    "        kwargs = src.meta.copy()\n",
    "        kwargs.update({'driver': driver})\n",
    "        \n",
    "        \n",
    "        with rasterio.open(output_path, 'w', **kwargs) as dst:\n",
    "            dst.write(raster)\n",
    "        return crs"
   ]
  },
  {
   "cell_type": "code",
   "execution_count": 4,
   "metadata": {},
   "outputs": [],
   "source": [
    "def to_crs(poly, target, current='EPSG:4326'):\n",
    "    # print(f\"TARGET CRS: {target}\")\n",
    "    project = pyproj.Transformer.from_crs(pyproj.CRS(current), pyproj.CRS(target), always_xy=True).transform\n",
    "    transformed_poly = transform(project, poly)\n",
    "    return transformed_poly "
   ]
  },
  {
   "cell_type": "code",
   "execution_count": 5,
   "metadata": {},
   "outputs": [],
   "source": [
    "def generate_dates(delta=20, format='%Y-%m-%d'):\n",
    "    now = datetime.now()\n",
    "    end_date = datetime(now.year, now.month, now.day)\n",
    "\n",
    "    while True:\n",
    "        start_date = end_date - timedelta(days=delta)\n",
    "        yield datetime.strftime(start_date, format), datetime.strftime(end_date, format)\n",
    "        end_date = start_date"
   ]
  },
  {
   "cell_type": "code",
   "execution_count": 6,
   "metadata": {},
   "outputs": [],
   "source": [
    "def load_images(aoi_path, api_key, output_dir):\n",
    "    \n",
    "    overlap = Sentinel2Overlap(aoi_path)\n",
    "    tiles = overlap.overlap()\n",
    "    print(f\"Overlap tiles: {tiles}\")\n",
    "    \n",
    "    loader = Sentinel2Downloader(api_key)\n",
    "    loadings = dict()\n",
    "    for tile in tiles:\n",
    "        print(f\"Loading images for tile: {tile}...\")\n",
    "        for start_date, end_date in generate_dates():\n",
    "            print(f\"Dates from {start_date} to {end_date}\")\n",
    "            loaded = loader.download('L2A',\n",
    "                                     [tile],\n",
    "                                     start_date=start_date,\n",
    "                                     end_date=end_date,\n",
    "                                     output_dir=output_dir,                       \n",
    "                                     bands=BANDS,\n",
    "                                     constraints=CONSTRAINTS)\n",
    "\n",
    "            if loaded:\n",
    "                print(f\"Loading images for tile {tile} finished\")\n",
    "                loadings[tile] = loaded\n",
    "                break\n",
    "            else:\n",
    "                print(\"No matching images\")\n",
    "    return loadings"
   ]
  },
  {
   "cell_type": "code",
   "execution_count": 7,
   "metadata": {},
   "outputs": [],
   "source": [
    "def last_image_paths(loaded):\n",
    "    date_pattern = r\"_(\\d+)T\\d+_\"\n",
    "    dates = list()\n",
    "    for path, _ in loaded:\n",
    "        if path.endswith('.jp2'):\n",
    "            search = re.search(date_pattern, path)\n",
    "            date = search.group(1)\n",
    "            date = datetime.strptime(date, '%Y%m%d')\n",
    "            dates.append(date)\n",
    "    \n",
    "    last_date = max(dates)\n",
    "    last_date = datetime.strftime(date, '%Y%m%d')\n",
    "    paths = list()\n",
    "    for path, _ in loaded:\n",
    "        if path.endswith('.jp2') and last_date in path:\n",
    "            paths.append(path)\n",
    "    return paths, last_date"
   ]
  },
  {
   "cell_type": "code",
   "execution_count": 8,
   "metadata": {},
   "outputs": [],
   "source": [
    "def filter_loadings(loadings):\n",
    "    filtered = dict()\n",
    "    for tile, image_paths in loadings.items():        \n",
    "        paths, date = last_image_paths(image_paths)\n",
    "        bands_paths = dict()\n",
    "        for path in paths:\n",
    "            if 'B04' in path:\n",
    "                bands_paths['RED'] = path\n",
    "            if 'B08' in path:\n",
    "                bands_paths['NIR'] = path\n",
    "            if 'TCI' in path:\n",
    "                bands_paths['TCI'] = path\n",
    "        filtered[tile] = dict(paths=bands_paths, date=date)\n",
    "    return filtered"
   ]
  },
  {
   "cell_type": "code",
   "execution_count": 9,
   "metadata": {},
   "outputs": [],
   "source": [
    "def _save_original_ndvi(ndvi, src, path, nodata=-1000):\n",
    "    # mask nan values\n",
    "    nan_mask = np.isnan(ndvi)\n",
    "    ndvi[nan_mask] = nodata\n",
    "    \n",
    "    # Set spatial characteristics of the output object\n",
    "    kwargs = src.meta.copy()    \n",
    "    kwargs.update(\n",
    "        dtype=rasterio.float32,\n",
    "        driver='GTiff',\n",
    "        nodata=nodata,\n",
    "        count = 1)\n",
    "    \n",
    "    # print(f\"Metadata of NDVI: {kwargs}\")\n",
    "\n",
    "    # Create the file\n",
    "    with rasterio.open(path, 'w', **kwargs) as dst:\n",
    "         dst.write(ndvi.astype(rasterio.float32), 1)"
   ]
  },
  {
   "cell_type": "code",
   "execution_count": 10,
   "metadata": {},
   "outputs": [],
   "source": [
    "def scale(ndvi, a=1, b=255, nodata=0.0):\n",
    "    # ndvi is in range [-1; 1], nodata is setted to 0.0 value. Be careful with comprassions!\n",
    "    min = -1 # np.nanmin(ndvi)\n",
    "    max = 1 # np.nanmax(ndvi)\n",
    "    scaled = (b - a) * (ndvi - min) / (max - min) + a\n",
    "    scaled = np.around(scaled)\n",
    "    scaled[np.isnan(scaled) == True] = nodata\n",
    "    scaled = scaled.astype(np.uint8)\n",
    "    return scaled"
   ]
  },
  {
   "cell_type": "code",
   "execution_count": 11,
   "metadata": {},
   "outputs": [],
   "source": [
    "def prepare_colors(colors):\n",
    "    colors = np.load(COLORMAP_BRBG)\n",
    "    # delete last channel, we use rgb\n",
    "    colors = np.delete(colors, 3, axis=1)\n",
    "    # colormap colors values in range [0-255], but in our case 0 - no data, -> have to color as [0, 0, 0] \n",
    "    colors[colors == 0] = 1\n",
    "    colors[0] = [0, 0, 0]\n",
    "    return colors"
   ]
  },
  {
   "cell_type": "code",
   "execution_count": 12,
   "metadata": {},
   "outputs": [],
   "source": [
    "def color_ndvi(scaled, colors):\n",
    "    colored = np.reshape(colors[scaled.flatten()], tuple((*scaled.shape, 3)))\n",
    "    colored = reshape_as_raster(colored)\n",
    "    return colored"
   ]
  },
  {
   "cell_type": "code",
   "execution_count": 13,
   "metadata": {},
   "outputs": [],
   "source": [
    "def NDVI(nir_path, red_path, save_path):\n",
    "    print(\"Calculating NDVI...\")\n",
    "    # Allow division by zero\n",
    "    np.seterr(divide='ignore', invalid='ignore')\n",
    "    \n",
    "    with rasterio.open(nir_path) as src:\n",
    "        nir = src.read(1).astype(rasterio.float32)\n",
    "        crs = str(src.crs)\n",
    "    with rasterio.open(red_path) as src:\n",
    "        red = src.read(1).astype(rasterio.float32)\n",
    "\n",
    "    # Calculate NDVI\n",
    "    ndvi = ((nir - red) / (nir + red)) \n",
    "    \n",
    "    scaled = scale(ndvi)\n",
    "    colored = color_ndvi(scaled, COLORS) \n",
    "    \n",
    "    \n",
    "    # Set spatial characteristics of the output object\n",
    "    kwargs = src.meta.copy()    \n",
    "    kwargs.update(\n",
    "        dtype=rasterio.uint8,\n",
    "        driver='GTiff',\n",
    "        nodata=0,\n",
    "        count=3, )\n",
    "    \n",
    "    # print(f\"Metadata of NDVI: {kwargs}\")\n",
    "\n",
    "    # Create the file\n",
    "    with rasterio.open(save_path, 'w', **kwargs) as dst:\n",
    "         dst.write(colored)\n",
    "    print(\"NDVI calculation finished\")\n",
    "    return crs"
   ]
  },
  {
   "cell_type": "code",
   "execution_count": 14,
   "metadata": {},
   "outputs": [],
   "source": [
    "def get_path(path, layer, base, name, suffix=None):\n",
    "    if layer == 'NDVI':\n",
    "        stem = Path(path).stem\n",
    "        stem = re.sub(r\"_B\\d{2}\", '_NDVI', stem)\n",
    "    else:\n",
    "        stem = Path(path).stem\n",
    "    path = os.path.join(base, f\"{name}_{stem}.tif\")\n",
    "    if suffix:\n",
    "         path += suffix\n",
    "    os.makedirs(os.path.dirname(path), exist_ok=True)\n",
    "    return path"
   ]
  },
  {
   "cell_type": "code",
   "execution_count": 15,
   "metadata": {},
   "outputs": [],
   "source": [
    "def reproject_image(input_path, dst_crs='EPSG:3857'):\n",
    "    with rasterio.open(input_path) as src:\n",
    "        transform, width, height = calculate_default_transform(\n",
    "            src.crs, dst_crs, src.width, src.height, *src.bounds)\n",
    "        kwargs = src.meta.copy()\n",
    "        kwargs.update({\n",
    "            'crs': dst_crs,\n",
    "            'transform': transform,\n",
    "            'width': width,\n",
    "            'height': height\n",
    "            })\n",
    "        output_path = f\"{input_path[:-4]}_{dst_crs.replace(':', '_').lower()}.tif\" \n",
    "        with rasterio.open(output_path, 'w', **kwargs) as dst:\n",
    "            for i in range(1, src.count + 1):\n",
    "                reproject(\n",
    "                    source=rasterio.band(src, i),\n",
    "                    destination=rasterio.band(dst, i),\n",
    "                    src_transform=src.transform,\n",
    "                    src_crs=src.crs,\n",
    "                    dst_transform=transform,\n",
    "                    dst_crs=dst_crs,\n",
    "                    resampling=Resampling.nearest)\n",
    "    return output_path "
   ]
  },
  {
   "cell_type": "code",
   "execution_count": 16,
   "metadata": {},
   "outputs": [],
   "source": [
    "def get_start_end_date(filtered):\n",
    "    dates = list()\n",
    "    for tile, properties in filtered.items():\n",
    "        date = properties['date']\n",
    "        date = datetime.strptime(date, '%Y%m%d')\n",
    "        dates.append(date)\n",
    "    \n",
    "    start_date = max(dates)\n",
    "    end_date = min(dates)\n",
    "    return datetime.strftime(start_date, '%Y-%m-%d'), datetime.strftime(end_date, '%Y-%m-%d')"
   ]
  },
  {
   "cell_type": "code",
   "execution_count": 17,
   "metadata": {},
   "outputs": [],
   "source": [
    "def generate_mosaic(layer, files_to_mosaic, name, start_date, end_date, results_dir):\n",
    "    src_files_to_mosaic = list()\n",
    "    for fp in files_to_mosaic:\n",
    "        src = rasterio.open(fp)\n",
    "        src_files_to_mosaic.append(src)\n",
    "    \n",
    "    # crs of first input will be used\n",
    "    mosaic, out_trans = merge(src_files_to_mosaic)\n",
    "    # print(src)\n",
    "    out_meta = src.meta.copy()\n",
    "    # print(out_meta)\n",
    "    # print(out_meta['crs'])\n",
    "\n",
    "    # Update the metadata\n",
    "    out_meta.update({\"driver\": \"GTiff\",\n",
    "                     \"height\": mosaic.shape[1],\n",
    "                     \"width\": mosaic.shape[2],\n",
    "                     \"transform\": out_trans,\n",
    "                     })\n",
    "    \n",
    "    out_fp = os.path.join(results_dir, f\"{name}_{layer}_mosaic.tif.temp\") \n",
    "    # print(out_fp)\n",
    "    os.makedirs(os.path.dirname(out_fp), exist_ok=True)\n",
    "    with rasterio.open(out_fp, \"w\", **out_meta) as dest:\n",
    "        dest.update_tags(name=name, start_date=start_date, end_date=end_date)\n",
    "        dest.write(mosaic)\n",
    "    os.rename(out_fp, out_fp[:-5])"
   ]
  },
  {
   "cell_type": "code",
   "execution_count": 18,
   "metadata": {},
   "outputs": [],
   "source": [
    "def calculate(layer, temp_dir, bbox, name, properties):\n",
    "    \"\"\"\n",
    "    Preparing true color Sentinel2 and NDVI images for given AOI\n",
    "    \"\"\"\n",
    "    print(\"Calculating TCI and NDVI for given AOI...\")\n",
    "    \n",
    "    image_paths = properties['paths']\n",
    "    date = properties['date']\n",
    "  \n",
    "    if layer == 'TCI':       \n",
    "        # convert .jp2 image to .tif\n",
    "        path = image_paths['TCI']\n",
    "        temp_path = get_path(path, layer, temp_dir, name)    \n",
    "        print(f\"Save {layer} image path: {temp_path}\")\n",
    "            \n",
    "        target_crs = convert(path , temp_path) \n",
    "            \n",
    "    if layer == 'NDVI':\n",
    "        path = image_paths['RED']\n",
    "        temp_path = get_path(path, layer, temp_dir, name)    \n",
    "        print(f\"Save {layer} image path: {temp_path}\")\n",
    "            \n",
    "        # calculate NDVI\n",
    "        target_crs = NDVI(image_paths['NIR'], image_paths['RED'], temp_path)\n",
    "    \n",
    "    # print(\"TARGET CRS\")\n",
    "    # print(target_crs)\n",
    "    bound_box = to_crs(bbox, target_crs)   \n",
    "\n",
    "    \n",
    "    temp_output_path = get_path(path, layer, temp_dir, name, suffix=\".temp\")\n",
    "    print(f\"Temporary {layer} output path: {temp_output_path}\")\n",
    "    \n",
    "    # crop .tif image by aoi\n",
    "    crop(temp_path, temp_output_path, bound_box, name, date)   \n",
    "    \n",
    "    \n",
    "    output_path = temp_output_path[:-5]\n",
    "    print(f\"Rename temp file: {temp_output_path} to {output_path}\")\n",
    "    os.rename(temp_output_path, output_path)\n",
    "    \n",
    "    \n",
    "    # for warping in mosaic, reproject to same crs, set to 'EPSG:3857' \n",
    "    output_path = reproject_image(output_path)  \n",
    "    \n",
    "    print(output_path)\n",
    "        \n",
    "    \n",
    "    return output_path"
   ]
  },
  {
   "cell_type": "markdown",
   "metadata": {},
   "source": [
    "### Execution part"
   ]
  },
  {
   "cell_type": "code",
   "execution_count": 19,
   "metadata": {},
   "outputs": [],
   "source": [
    "BASE = f\"/home/{os.getenv('NB_USER')}/work\""
   ]
  },
  {
   "cell_type": "code",
   "execution_count": 20,
   "metadata": {},
   "outputs": [
    {
     "data": {
      "text/plain": [
       "'/home/jovyan/work/notebooks/sip/Pechenihy.geojson'"
      ]
     },
     "execution_count": 20,
     "metadata": {},
     "output_type": "execute_result"
    }
   ],
   "source": [
    "# os.environ['AOI'] = os.path.join(BASE, \"notebooks/sip/Kharkiv.geojson\") # Pechenihy.geojson\n",
    "\n",
    "aoi_path = os.getenv('AOI') \n",
    "if not aoi_path:\n",
    "    raise RuntimeError(\"Add AOI env var for calculations\")\n",
    "    \n",
    "aoi_path"
   ]
  },
  {
   "cell_type": "code",
   "execution_count": 21,
   "metadata": {},
   "outputs": [],
   "source": [
    "API_KEY = os.path.join(BASE, \".secret/sentinel2_google_api_key.json\")\n",
    "LOAD_DIR = os.path.join(BASE, \"satellite_imagery\")\n",
    "RESULTS_DIR = os.path.join(BASE, \"results/sip\")\n",
    "\n",
    "SIP_DIR = os.path.join(BASE, \"notebooks/sip\")\n",
    "COLORMAP_BRBG = os.path.join(SIP_DIR, \"magma.npy\") \n",
    "COLORS = prepare_colors(COLORMAP_BRBG)\n",
    "\n",
    "\n",
    "BANDS = {'TCI', 'B04', 'B08', }\n",
    "CONSTRAINTS = {'NODATA_PIXEL_PERCENTAGE': 10.0, 'CLOUDY_PIXEL_PERCENTAGE': 5.0, }\n",
    "\n",
    "LAYERS = ['TCI', 'NDVI', ]"
   ]
  },
  {
   "cell_type": "markdown",
   "metadata": {},
   "source": [
    "#### Get bound box"
   ]
  },
  {
   "cell_type": "code",
   "execution_count": 22,
   "metadata": {},
   "outputs": [],
   "source": [
    "aoi = gp.read_file(aoi_path)    \n",
    "bbox = box(*aoi.total_bounds)\n",
    "\n",
    "NAME = Path(aoi_path).stem"
   ]
  },
  {
   "cell_type": "markdown",
   "metadata": {},
   "source": [
    "#### Loading images"
   ]
  },
  {
   "cell_type": "code",
   "execution_count": 23,
   "metadata": {},
   "outputs": [
    {
     "name": "stdout",
     "output_type": "stream",
     "text": [
      "Overlap tiles: ['36UYA']\n",
      "Loading images for tile: 36UYA...\n",
      "Dates from 2020-11-14 to 2020-12-04\n",
      "No matching images\n",
      "Dates from 2020-10-25 to 2020-11-14\n",
      "No matching images\n",
      "Dates from 2020-10-05 to 2020-10-25\n",
      "No matching images\n",
      "Dates from 2020-09-15 to 2020-10-05\n",
      "Loading images for tile 36UYA finished\n"
     ]
    }
   ],
   "source": [
    "loadings = load_images(aoi_path, API_KEY, LOAD_DIR)\n",
    "filtered = filter_loadings(loadings)"
   ]
  },
  {
   "cell_type": "code",
   "execution_count": 24,
   "metadata": {},
   "outputs": [
    {
     "data": {
      "text/plain": [
       "{'36UYA': {'paths': {'NIR': '/home/jovyan/work/satellite_imagery/S2B_MSIL2A_20200923T083659_N0214_R064_T36UYA_20200925T161337/T36UYA_20200923T083659_B08_10m.jp2',\n",
       "   'RED': '/home/jovyan/work/satellite_imagery/S2B_MSIL2A_20200923T083659_N0214_R064_T36UYA_20200925T161337/T36UYA_20200923T083659_B04_10m.jp2',\n",
       "   'TCI': '/home/jovyan/work/satellite_imagery/S2B_MSIL2A_20200923T083659_N0214_R064_T36UYA_20200925T161337/T36UYA_20200923T083659_TCI_10m.jp2'},\n",
       "  'date': '20200923'}}"
      ]
     },
     "execution_count": 24,
     "metadata": {},
     "output_type": "execute_result"
    }
   ],
   "source": [
    "filtered"
   ]
  },
  {
   "cell_type": "markdown",
   "metadata": {},
   "source": [
    "### TCI, NDVI and mosaic calculation"
   ]
  },
  {
   "cell_type": "code",
   "execution_count": 25,
   "metadata": {},
   "outputs": [
    {
     "data": {
      "text/plain": [
       "'/home/jovyan/work/notebooks/sip'"
      ]
     },
     "execution_count": 25,
     "metadata": {},
     "output_type": "execute_result"
    }
   ],
   "source": [
    "SIP_DIR"
   ]
  },
  {
   "cell_type": "code",
   "execution_count": 26,
   "metadata": {},
   "outputs": [
    {
     "data": {
      "text/plain": [
       "'/home/jovyan/work/results/sip'"
      ]
     },
     "execution_count": 26,
     "metadata": {},
     "output_type": "execute_result"
    }
   ],
   "source": [
    "RESULTS_DIR"
   ]
  },
  {
   "cell_type": "code",
   "execution_count": 27,
   "metadata": {},
   "outputs": [],
   "source": [
    "# if true, mosaic will be created, else every file will be saved (for debugging)\n",
    "ONLY_MOSAIC = True"
   ]
  },
  {
   "cell_type": "code",
   "execution_count": 28,
   "metadata": {},
   "outputs": [
    {
     "name": "stdout",
     "output_type": "stream",
     "text": [
      "Сreated temporary directory for calculations: /home/jovyan/work/notebooks/sip/results\n",
      "\n",
      "Calculating TCI:\n",
      "\n",
      "\n",
      "Execution for tile 36UYA\n",
      "Calculating TCI and NDVI for given AOI...\n",
      "Save TCI image path: /home/jovyan/work/notebooks/sip/results/Pechenihy_T36UYA_20200923T083659_TCI_10m.tif\n",
      "Temporary TCI output path: /home/jovyan/work/notebooks/sip/results/Pechenihy_T36UYA_20200923T083659_TCI_10m.tif.temp\n",
      "Rename temp file: /home/jovyan/work/notebooks/sip/results/Pechenihy_T36UYA_20200923T083659_TCI_10m.tif.temp to /home/jovyan/work/notebooks/sip/results/Pechenihy_T36UYA_20200923T083659_TCI_10m.tif\n",
      "/home/jovyan/work/notebooks/sip/results/Pechenihy_T36UYA_20200923T083659_TCI_10m_epsg_3857.tif\n",
      "Execution for tile 36UYA finished\n",
      "\n",
      "Calculating NDVI:\n",
      "\n",
      "\n",
      "Execution for tile 36UYA\n",
      "Calculating TCI and NDVI for given AOI...\n",
      "Save NDVI image path: /home/jovyan/work/notebooks/sip/results/Pechenihy_T36UYA_20200923T083659_NDVI_10m.tif\n",
      "Calculating NDVI...\n",
      "NDVI calculation finished\n",
      "Temporary NDVI output path: /home/jovyan/work/notebooks/sip/results/Pechenihy_T36UYA_20200923T083659_NDVI_10m.tif.temp\n",
      "Rename temp file: /home/jovyan/work/notebooks/sip/results/Pechenihy_T36UYA_20200923T083659_NDVI_10m.tif.temp to /home/jovyan/work/notebooks/sip/results/Pechenihy_T36UYA_20200923T083659_NDVI_10m.tif\n",
      "/home/jovyan/work/notebooks/sip/results/Pechenihy_T36UYA_20200923T083659_NDVI_10m_epsg_3857.tif\n",
      "Execution for tile 36UYA finished\n",
      "\n",
      "CREATING MOSAIC\n",
      "\n",
      "Date range for mosaic from 2020-09-23 till 2020-09-23\n",
      "\n",
      "Generating mosaic for TCI\n",
      "\n",
      "Generating mosaic finished\n",
      "\n",
      "Generating mosaic for NDVI\n",
      "\n",
      "Generating mosaic finished\n"
     ]
    }
   ],
   "source": [
    "with tempfile.TemporaryDirectory(dir=SIP_DIR) as tmpdirname:\n",
    "    layer_paths = dict()\n",
    "    if not ONLY_MOSAIC:\n",
    "        tmpdirname = os.path.join(SIP_DIR, \"results\")\n",
    "        \n",
    "    print(f\"Сreated temporary directory for calculations: {tmpdirname}\")   \n",
    "    for layer in LAYERS:\n",
    "        print(f\"\\nCalculating {layer}:\\n\")\n",
    "        paths = list()\n",
    "        for tile, properties in filtered.items():\n",
    "            print(f\"\\nExecution for tile {tile}\")\n",
    "            \n",
    "            save_path = calculate(layer, tmpdirname, bbox, NAME, properties)\n",
    "            \n",
    "            paths.append(save_path)\n",
    "            \n",
    "        layer_paths[layer] = paths\n",
    "        print(f\"Execution for tile {tile} finished\")\n",
    "    \n",
    "    # print(layer_paths)\n",
    "    \n",
    "    print(\"\\nCREATING MOSAIC\\n\")\n",
    "    start_date, end_date = get_start_end_date(filtered)\n",
    "    print(f\"Date range for mosaic from {start_date} till {end_date}\")\n",
    "\n",
    "    for layer, files_to_mosaic in layer_paths.items():\n",
    "        print(f\"\\nGenerating mosaic for {layer}\")\n",
    "        generate_mosaic(layer, files_to_mosaic, NAME, start_date, end_date, RESULTS_DIR)\n",
    "        print(\"\\nGenerating mosaic finished\")"
   ]
  },
  {
   "cell_type": "code",
   "execution_count": null,
   "metadata": {},
   "outputs": [],
   "source": []
  },
  {
   "cell_type": "code",
   "execution_count": null,
   "metadata": {},
   "outputs": [],
   "source": []
  },
  {
   "cell_type": "code",
   "execution_count": null,
   "metadata": {},
   "outputs": [],
   "source": []
  },
  {
   "cell_type": "code",
   "execution_count": null,
   "metadata": {},
   "outputs": [],
   "source": []
  },
  {
   "cell_type": "code",
   "execution_count": null,
   "metadata": {},
   "outputs": [],
   "source": []
  }
 ],
 "metadata": {
  "kernelspec": {
   "display_name": "python37",
   "language": "python",
   "name": "python37"
  },
  "language_info": {
   "codemirror_mode": {
    "name": "ipython",
    "version": 3
   },
   "file_extension": ".py",
   "mimetype": "text/x-python",
   "name": "python",
   "nbconvert_exporter": "python",
   "pygments_lexer": "ipython3",
   "version": "3.7.8"
  }
 },
 "nbformat": 4,
 "nbformat_minor": 4
}
