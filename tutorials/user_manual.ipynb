{
 "cells": [
  {
   "attachments": {},
   "cell_type": "markdown",
   "metadata": {},
   "source": [
    "# GeoAp User Manual"
   ]
  },
  {
   "attachments": {},
   "cell_type": "markdown",
   "metadata": {},
   "source": [
    "This document contains information on using the [portal.GeoAp.ai](https://portal.soilmate.ai/) service. The service is a no-code platform for using AI models to analyze agricultural zones."
   ]
  },
  {
   "attachments": {},
   "cell_type": "markdown",
   "metadata": {},
   "source": [
    "![Figure 1](images/t2fig1.png)"
   ]
  },
  {
   "attachments": {},
   "cell_type": "markdown",
   "metadata": {},
   "source": [
    "*Fig. 1. Initial view of GeoAp*"
   ]
  },
  {
   "attachments": {},
   "cell_type": "markdown",
   "metadata": {},
   "source": [
    "## Log In"
   ]
  },
  {
   "attachments": {},
   "cell_type": "markdown",
   "metadata": {},
   "source": [
    "To use the whole functionality of GeoAp service, you may want to log in with your username and password. To do this, you just need to follow these instructions, as shown in Figure 2 below:\n",
    "1. Click on the **Login** button in the upper right corner of the screen.\n",
    "2. Enter your credentials."
   ]
  },
  {
   "attachments": {},
   "cell_type": "markdown",
   "metadata": {},
   "source": [
    "<table><tr>\n",
    "<style>\n",
    "td, th {\n",
    "   border: none!important;\n",
    "   table-layout: fixed;\n",
    "   width: 500px;\n",
    "   vertical-align: top;\n",
    "}\n",
    "</style>\n",
    "\n",
    "<td> <img src=\"images/t2fig2a.png\" alt=\"Figure 2a\"> </td>\n",
    "<td> <img src=\"images/t2fig2b.png\" alt=\"Figure 2b\"> </td>\n",
    "</tr></table>"
   ]
  },
  {
   "attachments": {},
   "cell_type": "markdown",
   "metadata": {},
   "source": [
    "*Figure 2. Logging in*"
   ]
  },
  {
   "attachments": {},
   "cell_type": "markdown",
   "metadata": {},
   "source": [
    "## Fields (AoI - Area of Interest)"
   ]
  },
  {
   "attachments": {},
   "cell_type": "markdown",
   "metadata": {},
   "source": [
    "### Adding new field"
   ]
  },
  {
   "attachments": {},
   "cell_type": "markdown",
   "metadata": {},
   "source": [
    "To add a new field, you need to do the following, as shown on figure 3:\n",
    "1. Open the field management menu at the top left of the screen. \n",
    "2. Click the “Add new field”  button."
   ]
  },
  {
   "attachments": {},
   "cell_type": "markdown",
   "metadata": {},
   "source": [
    "<table><tr>\n",
    "<style>\n",
    "td, th {\n",
    "   border: none!important;\n",
    "   table-layout: fixed;\n",
    "   width: 500px;\n",
    "   vertical-align: top;\n",
    "}\n",
    "</style>\n",
    "\n",
    "<td> <img src=\"images/t2fig3a.png\" alt=\"Figure 3a\"> </td>\n",
    "<td> <img src=\"images/t2fig3b.png\" alt=\"Figure 3b\"> </td>\n",
    "</tr></table>"
   ]
  },
  {
   "attachments": {},
   "cell_type": "markdown",
   "metadata": {},
   "source": [
    "*Figure 3. Adding new field*"
   ]
  },
  {
   "attachments": {},
   "cell_type": "markdown",
   "metadata": {},
   "source": [
    "Now you need to choose one of several options for setting the field boundaries:\n",
    "* Upload file. Use this option to upload already generated shapes from GeoJSON or KML files. You can find these files for the regions you are interested in or create your own shape using QGIS. \n",
    "* Detect. Use this option if you want to use a field from the detected Fields` boundaries found inside the previously selected area (see in the Area section). You should complete the following steps using this option:\n",
    "    1. Choose an area to retrieve a field from (Figure 4a).\n",
    "    2. Choose a field on the map viewer (Figure 4b).\n",
    "    3. Confirm selection."
   ]
  },
  {
   "cell_type": "markdown",
   "metadata": {},
   "source": [
    "Note: To use this option, at least one area with a completed Crop Boundary Detection report must be present.\n"
   ]
  },
  {
   "attachments": {},
   "cell_type": "markdown",
   "metadata": {},
   "source": [
    "<table>\n",
    "<style>\n",
    "td, th {\n",
    "   border: none!important;\n",
    "   table-layout: fixed;\n",
    "   width: 500px;\n",
    "   vertical-align: top;\n",
    "}\n",
    "</style>\n",
    "<tr>\n",
    "<td> <img src=\"images/t2fig4a.png\" alt=\"Figure 4a\"> </td>\n",
    "<td> <img src=\"images/t2fig4b.png\" alt=\"Figure 4b\"> </td>\n",
    "</tr><tr>\n",
    "<td> a. Selection of area to retrieve field from</td>\n",
    "<td> b. Selection of field within the area</td>\n",
    "</tr>\n",
    "</table>"
   ]
  },
  {
   "attachments": {},
   "cell_type": "markdown",
   "metadata": {},
   "source": [
    "*Figure 4. Adding a new field using “Detect” option*"
   ]
  },
  {
   "attachments": {},
   "cell_type": "markdown",
   "metadata": {},
   "source": [
    "* Rectangle selection. In this option, You can select the square area that will contain the field using the map view. Note that once a zone is selected, you can move zone nodes and add new nodes using the interface on the map (Figure 5a).\n",
    "* Polygon selection. Similar to the rectangle selection, however, here, you can immediately specify a more complex geometry of the field you want to explore. To do this, set up geometry nodes one by one, and when you're done, click again on the first node you placed. Then accept the changes and move on. You can also edit the points after accepting the changes (Figure 5b)."
   ]
  },
  {
   "attachments": {},
   "cell_type": "markdown",
   "metadata": {},
   "source": [
    "Regardless of how you specify the field, you will need to choose a unique field name after defining the geometry. Then click **Save Changes** to create the field or **Cancel** if you don't want to create it."
   ]
  },
  {
   "attachments": {},
   "cell_type": "markdown",
   "metadata": {},
   "source": [
    "<table>\n",
    "<style>\n",
    "td, th {\n",
    "   border: none!important;\n",
    "   table-layout: fixed;\n",
    "   width: 500px;\n",
    "   vertical-align: top;\n",
    "}\n",
    "</style>\n",
    "<tr>\n",
    "<td> <img src=\"images/t2fig5a.png\" alt=\"Figure 5a\"> </td>\n",
    "<td> <img src=\"images/t2fig5b.png\" alt=\"Figure 5b\"> </td>\n",
    "</tr><tr>\n",
    "<td> a. Rectangle selection</td>\n",
    "<td> b. Polygon selection</td>\n",
    "</tr>\n",
    "</table>"
   ]
  },
  {
   "attachments": {},
   "cell_type": "markdown",
   "metadata": {},
   "source": [
    "*Figure 5. Adding a new field. Rectangle and polygon selection*"
   ]
  },
  {
   "attachments": {},
   "cell_type": "markdown",
   "metadata": {},
   "source": [
    "### Edit fields"
   ]
  },
  {
   "attachments": {},
   "cell_type": "markdown",
   "metadata": {},
   "source": [
    "Once a field is created, you can edit it (Figure 6). Possible changes that are available:\n",
    "1. Edit the field's name.\n",
    "2. Edit the field's geometry. You can move geometry nodes around to do this.\n",
    "3. Upload new geometry from the file. "
   ]
  },
  {
   "attachments": {},
   "cell_type": "markdown",
   "metadata": {},
   "source": [
    "Note: The old geometry will be deleted by editing the geometry or uploading new geometry from a file."
   ]
  },
  {
   "attachments": {},
   "cell_type": "markdown",
   "metadata": {},
   "source": [
    "When you're done, click **Save Changes** to save changes or **Cancel** to undo them."
   ]
  },
  {
   "attachments": {},
   "cell_type": "markdown",
   "metadata": {},
   "source": [
    "![Figure 6](images/t2fig6.png)"
   ]
  },
  {
   "attachments": {},
   "cell_type": "markdown",
   "metadata": {},
   "source": [
    "*Figure 6. Editing a field.*"
   ]
  },
  {
   "attachments": {},
   "cell_type": "markdown",
   "metadata": {},
   "source": [
    "### Deleting fields"
   ]
  },
  {
   "attachments": {},
   "cell_type": "markdown",
   "metadata": {},
   "source": [
    "You can delete the fields you have created (Figure 7). There are two ways to do this:\n",
    "* Hover over the field name, you will see three dots on the right of the tile. When clicked, select **Delete** from the context menu. Confirm the deletion in the pop-up window if you are sure. \n",
    "* Check the checkboxes next to the names of the fields you want to remove. Then find the trash icon above and click on it. Confirm the deletion in the pop-up window. "
   ]
  },
  {
   "attachments": {},
   "cell_type": "markdown",
   "metadata": {},
   "source": [
    "Note: Remember that this action cannot be undone!"
   ]
  },
  {
   "attachments": {},
   "cell_type": "markdown",
   "metadata": {},
   "source": [
    "<table>\n",
    "<style>\n",
    "td, th {\n",
    "   border: none!important;\n",
    "   table-layout: fixed;\n",
    "   width: 500px;\n",
    "   vertical-align: top;\n",
    "}\n",
    "</style>\n",
    "<tr>\n",
    "<td> <img src=\"images/t2fig7a.png\" alt=\"Figure 7a\"> </td>\n",
    "<td> <img src=\"images/t2fig7b.png\" alt=\"Figure 7b\"> </td>\n",
    "</tr><tr>\n",
    "<td> a. Deleting via context menu</td>\n",
    "<td> b. Deleting via checkbox</td>\n",
    "</tr>\n",
    "</table>"
   ]
  },
  {
   "attachments": {},
   "cell_type": "markdown",
   "metadata": {},
   "source": [
    "*Figure 7. Deleting fields*"
   ]
  },
  {
   "attachments": {},
   "cell_type": "markdown",
   "metadata": {},
   "source": [
    "## Areas"
   ]
  },
  {
   "attachments": {},
   "cell_type": "markdown",
   "metadata": {},
   "source": [
    "### Adding new area"
   ]
  },
  {
   "attachments": {},
   "cell_type": "markdown",
   "metadata": {},
   "source": [
    "To add a new area, it's needed to do the following, as shown on figure 8:\n",
    "1. Open the area management menu at the top left of the screen. \n",
    "2. Click the “Add new area”  button."
   ]
  },
  {
   "attachments": {},
   "cell_type": "markdown",
   "metadata": {},
   "source": [
    "<table><tr>\n",
    "<style>\n",
    "td, th {\n",
    "   border: none!important;\n",
    "   table-layout: fixed;\n",
    "   width: 500px;\n",
    "   vertical-align: top;\n",
    "}\n",
    "</style>\n",
    "\n",
    "<td> <img src=\"images/t2fig8a.png\" alt=\"Figure 8a\"> </td>\n",
    "<td> <img src=\"images/t2fig8b.png\" alt=\"Figure 8b\"> </td>\n",
    "</tr></table>"
   ]
  },
  {
   "attachments": {},
   "cell_type": "markdown",
   "metadata": {},
   "source": [
    "*Figure 8. Adding new area*"
   ]
  },
  {
   "attachments": {},
   "cell_type": "markdown",
   "metadata": {},
   "source": [
    "Now you need to choose one of several options for setting the field boundaries:\n",
    "* Upload file. Use this option to upload already generated shapes from GeoJSON or KML files. You can find these files for the regions you are interested in or create your own shape using other software (QGIS etc.). \n",
    "* Rectangle selection. In this option, you can select the square area using the map view. Note that once a zone is selected, you can move zone nodes and add new nodes using the interface on the map (Figure 9a). \n",
    "* Polygon selection. Similar to the rectangle selection. However, here you can immediately specify a more complex geometry of the area you want to explore. To do this, set up geometry nodes one by one, and when you're done, click again on the first node you placed. Then accept the changes and move on. Here you can also edit the points after accepting the changes (Figure 9b).\n"
   ]
  },
  {
   "attachments": {},
   "cell_type": "markdown",
   "metadata": {},
   "source": [
    "Regardless of how you specify the area, after defining the geometry, you will need to choose a unique area name. Then click **Save Changes** to create the area or **Cancel** if you don't want to create it."
   ]
  },
  {
   "attachments": {},
   "cell_type": "markdown",
   "metadata": {},
   "source": [
    "<table>\n",
    "<style>\n",
    "td, th {\n",
    "   border: none!important;\n",
    "   table-layout: fixed;\n",
    "   width: 500px;\n",
    "   vertical-align: top;\n",
    "}\n",
    "</style>\n",
    "<tr>\n",
    "<td> <img src=\"images/t2fig9a.png\" alt=\"Figure 9a\"> </td>\n",
    "<td> <img src=\"images/t2fig9b.png\" alt=\"Figure 9b\"> </td>\n",
    "</tr><tr>\n",
    "<td> a. Rectangle selection</td>\n",
    "<td> b. Polygon selection</td>\n",
    "</tr>\n",
    "</table>"
   ]
  },
  {
   "attachments": {},
   "cell_type": "markdown",
   "metadata": {},
   "source": [
    "*Figure 9. Adding a new area. Rectangle and polygon selection*"
   ]
  },
  {
   "attachments": {},
   "cell_type": "markdown",
   "metadata": {},
   "source": [
    "### Edit areas"
   ]
  },
  {
   "attachments": {},
   "cell_type": "markdown",
   "metadata": {},
   "source": [
    "Once an area is created, you can edit it (Figure 10). Changes that are available:\n",
    "1. Edit the area’s name.\n",
    "2. Edit the area's geometry. You can move geometry nodes around to do this.\n",
    "3. Upload new geometry from the file. "
   ]
  },
  {
   "attachments": {},
   "cell_type": "markdown",
   "metadata": {},
   "source": [
    "Note: by editing the geometry or uploading new geometry from a file, the old geometry will be deleted."
   ]
  },
  {
   "attachments": {},
   "cell_type": "markdown",
   "metadata": {},
   "source": [
    "When you're done, click **Save Changes** to save changes or **Cancel** to undo them."
   ]
  },
  {
   "attachments": {},
   "cell_type": "markdown",
   "metadata": {},
   "source": [
    "![Figure 10](images/t2fig10.png)"
   ]
  },
  {
   "attachments": {},
   "cell_type": "markdown",
   "metadata": {},
   "source": [
    "*Figure 10. Editing an area.*"
   ]
  },
  {
   "attachments": {},
   "cell_type": "markdown",
   "metadata": {},
   "source": [
    "### Deleting areas"
   ]
  },
  {
   "attachments": {},
   "cell_type": "markdown",
   "metadata": {},
   "source": [
    "You can delete the fields you have created. There are two ways to do this:\n",
    "* Hover over the area name, you will see three dots on the right of the tile. When clicked, select **Delete** from the context menu. Confirm the deletion in the pop-up window if you are sure (Figure 11a).\n",
    "* Check the checkboxes next to the names of the areas you want to remove. Then find the trash icon above and click on it. Confirm the deletion in the pop-up window (Figure 11b). \n"
   ]
  },
  {
   "attachments": {},
   "cell_type": "markdown",
   "metadata": {},
   "source": [
    "Note: Remember that this action cannot be undone!"
   ]
  },
  {
   "attachments": {},
   "cell_type": "markdown",
   "metadata": {},
   "source": [
    "<table>\n",
    "<style>\n",
    "td, th {\n",
    "   border: none!important;\n",
    "   table-layout: fixed;\n",
    "   width: 500px;\n",
    "   vertical-align: top;\n",
    "}\n",
    "</style>\n",
    "<tr>\n",
    "<td> <img src=\"images/t2fig11a.png\" alt=\"Figure 11a\"> </td>\n",
    "<td> <img src=\"images/t2fig11b.png\" alt=\"Figure 11b\"> </td>\n",
    "</tr><tr>\n",
    "<td> a. Deleting via context menu</td>\n",
    "<td> b. Deleting via checkbox</td>\n",
    "</tr>\n",
    "</table>"
   ]
  },
  {
   "attachments": {},
   "cell_type": "markdown",
   "metadata": {},
   "source": [
    "*Figure 11. Deleting areas*"
   ]
  },
  {
   "attachments": {},
   "cell_type": "markdown",
   "metadata": {},
   "source": [
    "## Models"
   ]
  },
  {
   "attachments": {},
   "cell_type": "markdown",
   "metadata": {},
   "source": [
    "GeoAp service provides functionality for working with various computer vision models to analyze agricultural zones. Available models:\n",
    "1. Fields boundaries. The model predicts the boundaries of each field in the area (Figure 12a).\n",
    "2. Land cover. Model segments each zone’s point into different types of terrain - water, trees, etc.\n",
    "3. Crop type. Model segments each zone’s point into different vegetation types - corn, beans, forests, etc.\n",
    "4. Moisture content. The model ranks each point on the zone as \"no water stress\", \"low water stress\", \"high water stress\" and \"drought\".\n",
    "5. Vegetation index. The model builds a vegetation index map by assigning low to high values to each zone point.\n",
    "<br>\n",
    "For the land cover, crop type, and moisture content models, GeoAp also ** the total area of each category. You can see this in figure 12b.\n"
   ]
  },
  {
   "attachments": {},
   "cell_type": "markdown",
   "metadata": {},
   "source": [
    "<table>\n",
    "<style>\n",
    "td, th {\n",
    "   border: none!important;\n",
    "   table-layout: fixed;\n",
    "   width: 500px;\n",
    "   vertical-align: top;\n",
    "}\n",
    "</style>\n",
    "<tr>\n",
    "<td> <img src=\"images/t2fig12a.png\" alt=\"Figure 12a\"> </td>\n",
    "<td> <img src=\"images/t2fig12b.png\" alt=\"Figure 12b\"> </td>\n",
    "</tr><tr>\n",
    "<td> a. Fields boundaries</td>\n",
    "<td> b. Crop type</td>\n",
    "</tr>\n",
    "</table>"
   ]
  },
  {
   "attachments": {},
   "cell_type": "markdown",
   "metadata": {},
   "source": [
    "*Figure 12. Examples of models output*"
   ]
  },
  {
   "attachments": {},
   "cell_type": "markdown",
   "metadata": {},
   "source": [
    "### Make a request"
   ]
  },
  {
   "attachments": {},
   "cell_type": "markdown",
   "metadata": {},
   "source": [
    "To order a report with some model, you must perform the following set of actions:\n",
    "1. Go to the menu section you are interested in - areas or fields.\n",
    "2. Open the reports tab as shown on Figure 13a.\n",
    "3. At the bottom, please click on **Create new**.\n",
    "4. In the subsection that appears, you can select the area/field you will analyze and the type of analysis. See above for available analysis types.\n",
    "5. After selecting a layer, you will be able to select a period for analysis. Here you select the date range for which satellite images will be downloaded (Figure 13b).\n",
    "6. Once you are done, check all the inputs and click **Save Changes**. This will send a request to create a report. \n",
    "<br>\n",
    "You can view pending requests in the **In progress** tab in the report menu once you click on **View reports** (figure 13c).\n"
   ]
  },
  {
   "attachments": {},
   "cell_type": "markdown",
   "metadata": {},
   "source": [
    "<table>\n",
    "<style>\n",
    "td, th {\n",
    "   border: none!important;\n",
    "   table-layout: fixed;\n",
    "   width: 350px;\n",
    "   vertical-align: top;\n",
    "}\n",
    "</style>\n",
    "<tr>\n",
    "<td> <img src=\"images/t2fig13a.png\" alt=\"Figure 13a\"> </td>\n",
    "<td> <img src=\"images/t2fig13b.png\" alt=\"Figure 13b\"> </td>\n",
    "<td> <img src=\"images/t2fig13c.png\" alt=\"Figure 13c\"> </td>\n",
    "</tr><tr>\n",
    "<td> a. Opening reports tab</td>\n",
    "<td> b. Specifying options</td>\n",
    "<td> c. Pending requests</td>\n",
    "</tr>\n",
    "</table>"
   ]
  },
  {
   "attachments": {},
   "cell_type": "markdown",
   "metadata": {},
   "source": [
    "*Figure 13. How to make a request for an analysis*"
   ]
  },
  {
   "attachments": {},
   "cell_type": "markdown",
   "metadata": {},
   "source": [
    "### Observe the results\n",
    "Once your request is ready, it will move from the **In progress** tab to the **Created reports** tab. Here you can view different reports. \n",
    "You can check off the reports you want to put on the map view. Use the **Opacity** slider in the lower right corner of the map to change the transparency of the last added layer (Figure 14).\n",
    "\n",
    "Note: Each new layer is superimposed on top of the previous one, and you can change the transparency only for this layer.\n"
   ]
  },
  {
   "attachments": {},
   "cell_type": "markdown",
   "metadata": {},
   "source": [
    "![Figure 14](images/t2fig14.png)"
   ]
  },
  {
   "attachments": {},
   "cell_type": "markdown",
   "metadata": {},
   "source": [
    "*Figure 14. An example of viewing reports - field boundaries are superimposed on a translucent crop type map*"
   ]
  }
 ],
 "metadata": {
  "kernelspec": {
   "display_name": "Python 3",
   "language": "python",
   "name": "python3"
  },
  "language_info": {
   "codemirror_mode": {
    "name": "ipython",
    "version": 3
   },
   "file_extension": ".py",
   "mimetype": "text/x-python",
   "name": "python",
   "nbconvert_exporter": "python",
   "pygments_lexer": "ipython3",
   "version": "3.8.10"
  },
  "orig_nbformat": 4,
  "vscode": {
   "interpreter": {
    "hash": "31f2aee4e71d21fbe5cf8b01ff0e069b9275f58929596ceb00d14d90e3e16cd6"
   }
  }
 },
 "nbformat": 4,
 "nbformat_minor": 2
}
