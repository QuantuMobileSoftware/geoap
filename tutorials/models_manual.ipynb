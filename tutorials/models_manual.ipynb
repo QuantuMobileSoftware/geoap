{
 "cells": [
  {
   "attachments": {},
   "cell_type": "markdown",
   "metadata": {},
   "source": [
    "# Managing GeoAP models: manual"
   ]
  },
  {
   "attachments": {},
   "cell_type": "markdown",
   "metadata": {},
   "source": [
    "This document describes how to add and run computer vision models in GeoAP service, and view the results."
   ]
  },
  {
   "attachments": {},
   "cell_type": "markdown",
   "metadata": {},
   "source": [
    "## Adding a model"
   ]
  },
  {
   "attachments": {},
   "cell_type": "markdown",
   "metadata": {},
   "source": [
    "### Pre-requirements"
   ]
  },
  {
   "attachments": {},
   "cell_type": "markdown",
   "metadata": {},
   "source": [
    "To add a model to the list of components, you first need to make sure you have all containers runned and images built, as described in stages 1-3 of the `setup_on_instance.ipynb` notebook.\n",
    "\n",
    "\n",
    "So, for adding a model, you should have such containers (check it via `docker ps -a`):\n",
    "* geoap_webviewer_1\n",
    "* geoap_webserver_1\n",
    "* geoap_webapplication_1\n",
    "* geoap_db_1\n",
    "\n",
    "\n",
    "And such images (check it via `docker images -a`):\n",
    "* geoap_webapplication\n",
    "* registry.quantumobile.co/sip-web-application\n",
    "* registry.quantumobile.co/sip-web-server\n"
   ]
  },
  {
   "attachments": {},
   "cell_type": "markdown",
   "metadata": {},
   "source": [
    "### Adding a model via admin panel"
   ]
  },
  {
   "attachments": {},
   "cell_type": "markdown",
   "metadata": {},
   "source": [
    "To add the model as component, follow these steps:\n",
    "1. Build an image using \n",
    "<br>\n",
    "`docker build -t quantumobile/sip_tci_ndvi ./components/tci_ndvi/`\n",
    "<br>\n",
    "or pull it from registry using\n",
    "<br>\n",
    "`docker pull quantumobile/sip_tci_ndvi`\n",
    "2. Open Admin page: `localhost:9000/admin/`\n",
    "<br>\n",
    "Credentials:\n",
    "<br>\n",
    "username: `admin`\n",
    "<br>\n",
    "password: `AiL9uumi`\n",
    "3. In AOI block select **Components** and click on **+Add**\n",
    "4. Configure component (Figure 2):\n",
    "    1. Component name: Add your name\n",
    "    2. Image: `quantumobile/sip_tci_ndvi`\n",
    "    3. Select **Sentinel Google API key is required**, **Run validation** and **Validation succeeded**\n",
    "    4. Deselect **GPU is needed for a component to run**\n",
    "    5. Click **Save** at the bottom of the page\n",
    "    6. Reload `localhost:3000 `"
   ]
  },
  {
   "attachments": {},
   "cell_type": "markdown",
   "metadata": {},
   "source": [
    "<table>\n",
    "<style>\n",
    "td, th {\n",
    "   border: none!important;\n",
    "   table-layout: fixed;\n",
    "   width: 500px;\n",
    "   vertical-align: top;\n",
    "}\n",
    "</style>\n",
    "<tr>\n",
    "<td> <img src=\"images/t3fig1a.png\" alt=\"Figure 1a\"> </td>\n",
    "<td> <img src=\"images/t3fig1b.png\" alt=\"Figure 1b\"> </td>\n",
    "</tr>\n",
    "</table>"
   ]
  },
  {
   "attachments": {},
   "cell_type": "markdown",
   "metadata": {},
   "source": [
    "*Figure 1. Component configuration*"
   ]
  },
  {
   "attachments": {},
   "cell_type": "markdown",
   "metadata": {},
   "source": [
    "## Using the model"
   ]
  },
  {
   "attachments": {},
   "cell_type": "markdown",
   "metadata": {},
   "source": [
    "To run a model, you should make an order with GeoAP`s Graphic User Interface. To do it, you should first add  a new area:\n",
    "1. Open the area management menu at the top left of the screen. \n",
    "2. Click the “Add new area”  button.\n",
    "3. Select “Rectangle selection”.\n",
    "4. Draw a rectangle and confirm your choice.\n",
    "5. Name your area or leave it default."
   ]
  },
  {
   "attachments": {},
   "cell_type": "markdown",
   "metadata": {},
   "source": [
    "<table>\n",
    "<style>\n",
    "td, th {\n",
    "   border: none!important;\n",
    "   table-layout: fixed;\n",
    "   width: 500px;\n",
    "   vertical-align: top;\n",
    "}\n",
    "</style>\n",
    "<tr>\n",
    "<td> <img src=\"images/t3fig2a.png\" alt=\"Figure 2a\"> </td>\n",
    "<td> <img src=\"images/t3fig2b.png\" alt=\"Figure 2b\"> </td>\n",
    "</tr>\n",
    "</table>"
   ]
  },
  {
   "attachments": {},
   "cell_type": "markdown",
   "metadata": {},
   "source": [
    "Figure 2. Adding new area in GUI"
   ]
  },
  {
   "attachments": {},
   "cell_type": "markdown",
   "metadata": {},
   "source": [
    "Once you create the area, you can run a model for it. To do so, follow this steps:\n",
    "1. Open reports tab as it shown on Figure 3a.\n",
    "2. At the bottom please click on \"Create new\".\n",
    "3. Select your component.\n",
    "4. After selecting a layer, you will be able to select a period for analysis. Here you select the date range for which satellite images will be downloaded (Figure 3b).\n",
    "5. Once you are done, click \"Save Changes\". This will send a request to create a report. "
   ]
  },
  {
   "attachments": {},
   "cell_type": "markdown",
   "metadata": {},
   "source": [
    "Note: If you get an error `Sorry, we've got a server error, please try a bit later` please wait and reload the page.\n",
    "\n",
    "\n",
    "You can view pending requests in the \"In progress\" tab in the report menu if you click on \"View Reports\" (figure 4c)."
   ]
  },
  {
   "attachments": {},
   "cell_type": "markdown",
   "metadata": {},
   "source": [
    "<table>\n",
    "<style>\n",
    "td, th {\n",
    "   border: none!important;\n",
    "   table-layout: fixed;\n",
    "   width: 350px;\n",
    "   vertical-align: top;\n",
    "}\n",
    "</style>\n",
    "<tr>\n",
    "<td> <img src=\"images/t3fig3a.png\" alt=\"Figure 3a\"> </td>\n",
    "<td> <img src=\"images/t3fig3b.png\" alt=\"Figure 3b\"> </td>\n",
    "<td> <img src=\"images/t3fig3c.png\" alt=\"Figure 3c\"> </td>\n",
    "</tr><tr>\n",
    "<td> a. Opening reports tab</td>\n",
    "<td> b. Specifying options</td>\n",
    "<td> c. Pending requests</td>\n",
    "</tr>\n",
    "</table>"
   ]
  },
  {
   "attachments": {},
   "cell_type": "markdown",
   "metadata": {},
   "source": [
    "*Figure 3. How to make an order using GeoAP GUI.*"
   ]
  },
  {
   "attachments": {},
   "cell_type": "markdown",
   "metadata": {},
   "source": [
    "Once the report is complete, you will see the results in \"Created results\". There will be two results for this model - NDVI and Sentinel-2 RGB raster. First, NDVI will appear in \"Created results\", and then Sentinel-2 raster.\n",
    "\n",
    "To view detailed information about added models, follow these steps:\n",
    "1. Open Admin page: `localhost:9000/admin/`\n",
    "<br>\n",
    "Credentials:\n",
    "<br>\n",
    "username: `admin`\n",
    "<br>\n",
    "password: `AiL9uumi`\n",
    "2. Open the **Requests** menu in the **AOI** section.\n",
    "\n",
    "In the admin's requests menu, you can observe all your pending and finished requests (Figure 4). You can see the status of your request in the **notebook calculated** and **execution succeeded** columns.\n",
    "<br>\n",
    "**notebook calculated** shows if the model has finished execution, and **execution succeeded** indicates that all results are indexed, tiles are made and they can be viewed on a Web Interface.\n"
   ]
  },
  {
   "attachments": {},
   "cell_type": "markdown",
   "metadata": {},
   "source": [
    "![Figure 4](images/t3fig4.png)"
   ]
  },
  {
   "attachments": {},
   "cell_type": "markdown",
   "metadata": {},
   "source": [
    "*Figure 4. An example of viewing requests from the admin panel*"
   ]
  },
  {
   "attachments": {},
   "cell_type": "markdown",
   "metadata": {},
   "source": [
    "## Observe the model’s report"
   ]
  },
  {
   "attachments": {},
   "cell_type": "markdown",
   "metadata": {},
   "source": [
    "Once your request is ready, it will move from the \"In progress\" tab to the \"Created reports\" tab. On the \"Created reports\" you can view different reports. \n",
    "\n",
    "You can check off the reports that you want to put on the map view. Use the \"Opacity\" slider in the lower right corner of the map to change the transparency of the last added layer (Figure 5).\n",
    "\n",
    "Note: Each new layer is superimposed on top of the previous one, and you can change the transparency only for this layer."
   ]
  },
  {
   "attachments": {},
   "cell_type": "markdown",
   "metadata": {},
   "source": [
    "![Figure 5](images/t3fig5.png)"
   ]
  },
  {
   "cell_type": "markdown",
   "metadata": {},
   "source": [
    "\n",
    "Figure 5. An example of viewing reports.\n"
   ]
  }
 ],
 "metadata": {
  "kernelspec": {
   "display_name": "Python 3",
   "language": "python",
   "name": "python3"
  },
  "language_info": {
   "name": "python",
   "version": "3.8.10"
  },
  "orig_nbformat": 4,
  "vscode": {
   "interpreter": {
    "hash": "31f2aee4e71d21fbe5cf8b01ff0e069b9275f58929596ceb00d14d90e3e16cd6"
   }
  }
 },
 "nbformat": 4,
 "nbformat_minor": 2
}
