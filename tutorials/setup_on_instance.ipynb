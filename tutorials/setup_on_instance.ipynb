{
 "cells": [
  {
   "attachments": {},
   "cell_type": "markdown",
   "metadata": {},
   "source": [
    "# Setting up GeoAP instance: Manual"
   ]
  },
  {
   "attachments": {},
   "cell_type": "markdown",
   "metadata": {},
   "source": [
    "This notebook describes how to locally set up the GeoAP instance using the docker network, add and run the model inside GeoAP. "
   ]
  },
  {
   "attachments": {},
   "cell_type": "markdown",
   "metadata": {},
   "source": [
    "## Prerequirements"
   ]
  },
  {
   "attachments": {},
   "cell_type": "markdown",
   "metadata": {},
   "source": [
    "**Docker** and **docker-compose** are needed for running the app. \n",
    "Hardware requirements:\n",
    "* 12-24 CPUs\n",
    "* 32-64 RAM\n",
    "* 2-4 GPU at a level not lower than GeForce GTX 1080\n",
    "* 80 GB SSD"
   ]
  },
  {
   "attachments": {},
   "cell_type": "markdown",
   "metadata": {},
   "source": [
    "## Stage 1. Run GeoAP instance"
   ]
  },
  {
   "attachments": {},
   "cell_type": "markdown",
   "metadata": {},
   "source": [
    "To run GeoAP instance you need to perform the following set of actions:\n",
    "1. Clone GeoAP repository from the [link](https://github.com/QuantuMobileSoftware/geoap).\n",
    "2. Navigate to the cloned directory via `cd /geoap`\n",
    "3. Run `docker-compose up -d`\n",
    "4. Wait until the docker network goes up\n"
   ]
  },
  {
   "attachments": {},
   "cell_type": "markdown",
   "metadata": {},
   "source": [
    "As a result, you should have such containers (check it via `docker ps -a`):\n",
    "\n",
    "* geoap_webviewer_1\n",
    "* geoap_webserver_1\n",
    "* geoap_webapplication_1\n",
    "* geoap_db_"
   ]
  },
  {
   "attachments": {},
   "cell_type": "markdown",
   "metadata": {},
   "source": [
    "To check that everything is done correctly, go to `localhost:3000`. You should see the GeoAP authorization window (Figure 1)."
   ]
  },
  {
   "attachments": {},
   "cell_type": "markdown",
   "metadata": {},
   "source": [
    "Credentials:\n",
    "<br>username: `test`\n",
    "<br>password: `jooZee9i`"
   ]
  },
  {
   "attachments": {},
   "cell_type": "markdown",
   "metadata": {},
   "source": [
    "![Figure 1](images/t1fig1.png)"
   ]
  },
  {
   "attachments": {},
   "cell_type": "markdown",
   "metadata": {},
   "source": [
    "*Figure 1. GeoAP authorization*"
   ]
  },
  {
   "attachments": {},
   "cell_type": "markdown",
   "metadata": {},
   "source": [
    "## Stage 2. Adding Google API key\n"
   ]
  },
  {
   "attachments": {},
   "cell_type": "markdown",
   "metadata": {},
   "source": [
    "\n",
    "To use GeoAP, you should generate your Google API key. You can find additional info about how to generate Google API key on this [page](https://cloud.google.com/docs/authentication/api-keys).\n",
    "1. Follow this [instruction](https://cloud.google.com/resource-manager/docs/creating-managing-projects#creating_a_project) to create new Google Cloud Project\n",
    "2. In the Google Cloud console, go to Menu > IAM & Admin > Service Accounts.\n",
    "3. Create your service account using “Create Service Account”.\n",
    "4. Return to “Service Accounts” and select the recently created account.\n",
    "5. Click Keys > Add key > Create new key.\n",
    "6. Select JSON, then click Create.\n",
    "Your new public/private key pair is generated and downloaded to your machine as a new file.\n",
    "7. Click Close.\n"
   ]
  },
  {
   "attachments": {},
   "cell_type": "markdown",
   "metadata": {},
   "source": [
    "Once you created API key, follow this steps:\n",
    "1. Navigate to `/geoap/data/.secret/`\n",
    "2. Rename your API key file as `google-api-key.json`\n",
    "3. Move `google-api-key.json` file into `/geoap/data/.secret/`"
   ]
  },
  {
   "attachments": {},
   "cell_type": "markdown",
   "metadata": {},
   "source": [
    "## Stage 3. Build images for WebApplication and WebServer\n"
   ]
  },
  {
   "attachments": {},
   "cell_type": "markdown",
   "metadata": {},
   "source": [
    "\n",
    "To build image for web application use command: \n",
    "<br>\n",
    "`docker build -t registry.quantumobile.co/sip-web-application:latest -f ./webapplication/prod.Dockerfile  ./webapplication`\n",
    "\n",
    "To build image for webserver use command:\n",
    "<br>\n",
    "`docker build -t registry.quantumobile.co/sip-web-server:latest -f ./webserver/prod.Dockerfile  ./`\n"
   ]
  },
  {
   "attachments": {},
   "cell_type": "markdown",
   "metadata": {},
   "source": [
    "## Stage 4. Add component in admin page"
   ]
  },
  {
   "attachments": {},
   "cell_type": "markdown",
   "metadata": {},
   "source": [
    "1. Build an image using \n",
    "<br>\n",
    "`docker build -t quantumobile/sip_tci_ndvi ./components/tci_ndvi/`\n",
    "<br>\n",
    "or pull it from registry using\n",
    "<br>\n",
    "`docker pull quantumobile/sip_tci_ndvi`\n",
    "2. Open Admin page: `localhost:9000/admin/`\n",
    "<br>\n",
    "Credentials:\n",
    "<br>\n",
    "username: `admin`\n",
    "<br>\n",
    "password: `AiL9uumi`\n",
    "3. In AOI block select **Components** and click on **+Add**\n",
    "4. Configure component (Figure 2):\n",
    "    1. Component name: Add your name\n",
    "    2. Image: `quantumobile/sip_tci_ndvi`\n",
    "    3. Select **Sentinel Google API key is required**, **Run validation** and **Validation succeeded**\n",
    "    4. Deselect **GPU is needed for a component to run**\n",
    "    5. Click **Save** at the bottom of the page\n",
    "    6. Reload `localhost:3000 `"
   ]
  },
  {
   "attachments": {},
   "cell_type": "markdown",
   "metadata": {},
   "source": [
    "![Figure 2a](images/t1fig2a.png) | ![Figure 2b](images/t1fig2b.png) "
   ]
  },
  {
   "attachments": {},
   "cell_type": "markdown",
   "metadata": {},
   "source": [
    "*Figure 2. Component configuration*"
   ]
  },
  {
   "attachments": {},
   "cell_type": "markdown",
   "metadata": {},
   "source": [
    "## Stage 5. Run the model"
   ]
  },
  {
   "attachments": {},
   "cell_type": "markdown",
   "metadata": {},
   "source": [
    "\n",
    "To run a model, you should make an order with GeoAP`s Graphic User Interface. To do it, you should first add  a new area:\n",
    "1. Open the area management menu at the top left of the screen. \n",
    "2. Click the “Add new area”  button.\n",
    "3. Select “Rectangle selection”.\n",
    "4. Draw a rectangle and confirm your choice.\n",
    "5. Name your area or leave it default."
   ]
  },
  {
   "attachments": {},
   "cell_type": "markdown",
   "metadata": {},
   "source": [
    "![Figure 3a](images/t1fig3a.png) | ![Figure 3b](images/t1fig3b.png) "
   ]
  },
  {
   "attachments": {},
   "cell_type": "markdown",
   "metadata": {},
   "source": [
    "*Figure 3. Adding new area in GUI*"
   ]
  },
  {
   "attachments": {},
   "cell_type": "markdown",
   "metadata": {},
   "source": [
    "Once you create the area, you can run a model for it. To do so, follow this steps:\n",
    "1. Open reports tab as it shown on Figure 4a.\n",
    "2. At the bottom please click on \"Create new\".\n",
    "3. Select your component.\n",
    "4. After selecting a layer, you will be able to select a period for analysis. Here you select the date range for which satellite images will be downloaded (Figure 4b).\n",
    "5. Once you are done, click \"Save Changes\". This will send a request to create a report. \n",
    "\n"
   ]
  },
  {
   "attachments": {},
   "cell_type": "markdown",
   "metadata": {},
   "source": [
    "\n",
    "Note: If you get an error `Sorry, we've got a server error, please try a bit later` please wait and reload the page.\n",
    "\n",
    "\n",
    "You can view pending requests in the \"In progress\" tab in the report menu if you click on \"View Reports\" (figure 4c).\n"
   ]
  },
  {
   "attachments": {},
   "cell_type": "markdown",
   "metadata": {},
   "source": [
    "![Figure 4a](images/t1fig4a.png) | ![Figure 4b](images/t1fig4b.png) | ![Figure 4c](images/t1fig4c.png) \n",
    "\n"
   ]
  },
  {
   "cell_type": "markdown",
   "metadata": {},
   "source": []
  }
 ],
 "metadata": {
  "language_info": {
   "name": "python"
  },
  "orig_nbformat": 4
 },
 "nbformat": 4,
 "nbformat_minor": 2
}
